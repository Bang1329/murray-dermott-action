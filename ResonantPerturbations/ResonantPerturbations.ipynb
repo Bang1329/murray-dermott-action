{
 "cells": [
  {
   "cell_type": "markdown",
   "metadata": {},
   "source": [
    "# Chapter 8. Resonant Perturbations#\n",
    "\n",
    "### Action by Evelyn Zagarra Piedrahita, University of Antioquia\n",
    "\n",
    "In this code it is intended to study in detail the chapter dedicated to Resonant Disturbances, so some interesting results are analyzed, mainly from the numerical part.\n",
    "\n",
    "If you want to know more about the subject, consider seeing the book:\n",
    "\n",
    "    Murray, C. D., & Dermott, S. F. (1999). Solar system dynamics. Cambridge university press."
   ]
  },
  {
   "cell_type": "markdown",
   "metadata": {},
   "source": [
    "### Section 8.2_ TheGeometryofResonance"
   ]
  },
  {
   "cell_type": "markdown",
   "metadata": {},
   "source": []
  },
  {
   "cell_type": "markdown",
   "metadata": {},
   "source": [
    "It is intended to show a graph of Jupiter's orbit around the sun and the orbit of an asteroid in 2:1 resonance with Jupiter around the sun."
   ]
  },
  {
   "cell_type": "code",
   "execution_count": 5,
   "metadata": {},
   "outputs": [
    {
     "name": "stdout",
     "output_type": "stream",
     "text": [
      "Requirement already satisfied: numpy in /home/evelyn/snap/jupyter/common/lib/python3.7/site-packages (1.21.6)\r\n"
     ]
    }
   ],
   "source": [
    "!pip install numpy"
   ]
  },
  {
   "cell_type": "code",
   "execution_count": 14,
   "metadata": {},
   "outputs": [
    {
     "name": "stdout",
     "output_type": "stream",
     "text": [
      "Collecting matplotlib\n",
      "  Using cached https://files.pythonhosted.org/packages/ad/62/7b662284352867a86acfb636761ba351723fc3a235efd8397578d903413d/matplotlib-3.5.3-cp37-cp37m-manylinux_2_5_x86_64.manylinux1_x86_64.whl\n",
      "Collecting packaging>=20.0 (from matplotlib)\n",
      "  Using cached https://files.pythonhosted.org/packages/ed/35/a31aed2993e398f6b09a790a181a7927eb14610ee8bbf02dc14d31677f1c/packaging-23.0-py3-none-any.whl\n",
      "Requirement already satisfied: python-dateutil>=2.7 in /snap/jupyter/6/lib/python3.7/site-packages (from matplotlib) (2.8.0)\n",
      "Requirement already satisfied: numpy>=1.17 in /home/evelyn/snap/jupyter/common/lib/python3.7/site-packages (from matplotlib) (1.21.6)\n",
      "Collecting pillow>=6.2.0 (from matplotlib)\n",
      "  Using cached https://files.pythonhosted.org/packages/bc/07/830784e061fb94d67649f3e438ff63cfb902dec6d48ac75aeaaac7c7c30e/Pillow-9.4.0.tar.gz\n",
      "Requirement already satisfied: cycler>=0.10 in /home/evelyn/snap/jupyter/common/lib/python3.7/site-packages (from matplotlib) (0.11.0)\n",
      "Requirement already satisfied: fonttools>=4.22.0 in /home/evelyn/snap/jupyter/common/lib/python3.7/site-packages (from matplotlib) (4.38.0)\n",
      "Requirement already satisfied: kiwisolver>=1.0.1 in /home/evelyn/snap/jupyter/common/lib/python3.7/site-packages (from matplotlib) (1.4.4)\n",
      "Requirement already satisfied: pyparsing>=2.2.1 in /home/evelyn/snap/jupyter/common/lib/python3.7/site-packages (from matplotlib) (3.0.9)\n",
      "Requirement already satisfied: six>=1.5 in /snap/jupyter/6/lib/python3.7/site-packages (from python-dateutil>=2.7->matplotlib) (1.12.0)\n",
      "Requirement already satisfied: typing-extensions; python_version < \"3.8\" in /home/evelyn/snap/jupyter/common/lib/python3.7/site-packages (from kiwisolver>=1.0.1->matplotlib) (4.5.0)\n",
      "Building wheels for collected packages: pillow\n",
      "  Building wheel for pillow (setup.py) ... \u001b[?25lerror\n",
      "\u001b[31m  ERROR: Complete output from command /snap/jupyter/6/bin/python -u -c 'import setuptools, tokenize;__file__='\"'\"'/tmp/pip-install-rra9ww6t/pillow/setup.py'\"'\"';f=getattr(tokenize, '\"'\"'open'\"'\"', open)(__file__);code=f.read().replace('\"'\"'\\r\\n'\"'\"', '\"'\"'\\n'\"'\"');f.close();exec(compile(code, __file__, '\"'\"'exec'\"'\"'))' bdist_wheel -d /tmp/pip-wheel-mrll68b_ --python-tag cp37:\u001b[0m\n",
      "\u001b[31m  ERROR: running bdist_wheel\n",
      "  running build\n",
      "  running build_py\n",
      "  creating build\n",
      "  creating build/lib.linux-x86_64-3.7\n",
      "  creating build/lib.linux-x86_64-3.7/PIL\n",
      "  copying src/PIL/GdImageFile.py -> build/lib.linux-x86_64-3.7/PIL\n",
      "  copying src/PIL/MicImagePlugin.py -> build/lib.linux-x86_64-3.7/PIL\n",
      "  copying src/PIL/MpoImagePlugin.py -> build/lib.linux-x86_64-3.7/PIL\n",
      "  copying src/PIL/PngImagePlugin.py -> build/lib.linux-x86_64-3.7/PIL\n",
      "  copying src/PIL/GifImagePlugin.py -> build/lib.linux-x86_64-3.7/PIL\n",
      "  copying src/PIL/_version.py -> build/lib.linux-x86_64-3.7/PIL\n",
      "  copying src/PIL/_util.py -> build/lib.linux-x86_64-3.7/PIL\n",
      "  copying src/PIL/DcxImagePlugin.py -> build/lib.linux-x86_64-3.7/PIL\n",
      "  copying src/PIL/FliImagePlugin.py -> build/lib.linux-x86_64-3.7/PIL\n",
      "  copying src/PIL/GbrImagePlugin.py -> build/lib.linux-x86_64-3.7/PIL\n",
      "  copying src/PIL/ImageTk.py -> build/lib.linux-x86_64-3.7/PIL\n",
      "  copying src/PIL/BufrStubImagePlugin.py -> build/lib.linux-x86_64-3.7/PIL\n",
      "  copying src/PIL/PcdImagePlugin.py -> build/lib.linux-x86_64-3.7/PIL\n",
      "  copying src/PIL/ImageStat.py -> build/lib.linux-x86_64-3.7/PIL\n",
      "  copying src/PIL/FitsStubImagePlugin.py -> build/lib.linux-x86_64-3.7/PIL\n",
      "  copying src/PIL/PcxImagePlugin.py -> build/lib.linux-x86_64-3.7/PIL\n",
      "  copying src/PIL/PixarImagePlugin.py -> build/lib.linux-x86_64-3.7/PIL\n",
      "  copying src/PIL/XbmImagePlugin.py -> build/lib.linux-x86_64-3.7/PIL\n",
      "  copying src/PIL/TiffTags.py -> build/lib.linux-x86_64-3.7/PIL\n",
      "  copying src/PIL/ImageSequence.py -> build/lib.linux-x86_64-3.7/PIL\n",
      "  copying src/PIL/MspImagePlugin.py -> build/lib.linux-x86_64-3.7/PIL\n",
      "  copying src/PIL/TarIO.py -> build/lib.linux-x86_64-3.7/PIL\n",
      "  copying src/PIL/__init__.py -> build/lib.linux-x86_64-3.7/PIL\n",
      "  copying src/PIL/XpmImagePlugin.py -> build/lib.linux-x86_64-3.7/PIL\n",
      "  copying src/PIL/ImageGrab.py -> build/lib.linux-x86_64-3.7/PIL\n",
      "  copying src/PIL/BlpImagePlugin.py -> build/lib.linux-x86_64-3.7/PIL\n",
      "  copying src/PIL/PdfImagePlugin.py -> build/lib.linux-x86_64-3.7/PIL\n",
      "  copying src/PIL/ImtImagePlugin.py -> build/lib.linux-x86_64-3.7/PIL\n",
      "  copying src/PIL/ImageShow.py -> build/lib.linux-x86_64-3.7/PIL\n",
      "  copying src/PIL/IcoImagePlugin.py -> build/lib.linux-x86_64-3.7/PIL\n",
      "  copying src/PIL/PalmImagePlugin.py -> build/lib.linux-x86_64-3.7/PIL\n",
      "  copying src/PIL/ImageMath.py -> build/lib.linux-x86_64-3.7/PIL\n",
      "  copying src/PIL/Hdf5StubImagePlugin.py -> build/lib.linux-x86_64-3.7/PIL\n",
      "  copying src/PIL/ContainerIO.py -> build/lib.linux-x86_64-3.7/PIL\n",
      "  copying src/PIL/ExifTags.py -> build/lib.linux-x86_64-3.7/PIL\n",
      "  copying src/PIL/PdfParser.py -> build/lib.linux-x86_64-3.7/PIL\n",
      "  copying src/PIL/IptcImagePlugin.py -> build/lib.linux-x86_64-3.7/PIL\n",
      "  copying src/PIL/WmfImagePlugin.py -> build/lib.linux-x86_64-3.7/PIL\n",
      "  copying src/PIL/ImagePalette.py -> build/lib.linux-x86_64-3.7/PIL\n",
      "  copying src/PIL/GimpGradientFile.py -> build/lib.linux-x86_64-3.7/PIL\n",
      "  copying src/PIL/ImageFont.py -> build/lib.linux-x86_64-3.7/PIL\n",
      "  copying src/PIL/SunImagePlugin.py -> build/lib.linux-x86_64-3.7/PIL\n",
      "  copying src/PIL/JpegPresets.py -> build/lib.linux-x86_64-3.7/PIL\n",
      "  copying src/PIL/PpmImagePlugin.py -> build/lib.linux-x86_64-3.7/PIL\n",
      "  copying src/PIL/ImageColor.py -> build/lib.linux-x86_64-3.7/PIL\n",
      "  copying src/PIL/_binary.py -> build/lib.linux-x86_64-3.7/PIL\n",
      "  copying src/PIL/CurImagePlugin.py -> build/lib.linux-x86_64-3.7/PIL\n",
      "  copying src/PIL/ImageWin.py -> build/lib.linux-x86_64-3.7/PIL\n",
      "  copying src/PIL/ImageQt.py -> build/lib.linux-x86_64-3.7/PIL\n",
      "  copying src/PIL/ImageDraw2.py -> build/lib.linux-x86_64-3.7/PIL\n",
      "  copying src/PIL/BdfFontFile.py -> build/lib.linux-x86_64-3.7/PIL\n",
      "  copying src/PIL/PSDraw.py -> build/lib.linux-x86_64-3.7/PIL\n",
      "  copying src/PIL/PyAccess.py -> build/lib.linux-x86_64-3.7/PIL\n",
      "  copying src/PIL/TgaImagePlugin.py -> build/lib.linux-x86_64-3.7/PIL\n",
      "  copying src/PIL/Image.py -> build/lib.linux-x86_64-3.7/PIL\n",
      "  copying src/PIL/ImageCms.py -> build/lib.linux-x86_64-3.7/PIL\n",
      "  copying src/PIL/MpegImagePlugin.py -> build/lib.linux-x86_64-3.7/PIL\n",
      "  copying src/PIL/features.py -> build/lib.linux-x86_64-3.7/PIL\n",
      "  copying src/PIL/ImImagePlugin.py -> build/lib.linux-x86_64-3.7/PIL\n",
      "  copying src/PIL/XVThumbImagePlugin.py -> build/lib.linux-x86_64-3.7/PIL\n",
      "  copying src/PIL/PaletteFile.py -> build/lib.linux-x86_64-3.7/PIL\n",
      "  copying src/PIL/ImageMorph.py -> build/lib.linux-x86_64-3.7/PIL\n",
      "  copying src/PIL/ImageOps.py -> build/lib.linux-x86_64-3.7/PIL\n",
      "  copying src/PIL/GimpPaletteFile.py -> build/lib.linux-x86_64-3.7/PIL\n",
      "  copying src/PIL/_deprecate.py -> build/lib.linux-x86_64-3.7/PIL\n",
      "  copying src/PIL/PcfFontFile.py -> build/lib.linux-x86_64-3.7/PIL\n",
      "  copying src/PIL/_tkinter_finder.py -> build/lib.linux-x86_64-3.7/PIL\n",
      "  copying src/PIL/SgiImagePlugin.py -> build/lib.linux-x86_64-3.7/PIL\n",
      "  copying src/PIL/Jpeg2KImagePlugin.py -> build/lib.linux-x86_64-3.7/PIL\n",
      "  copying src/PIL/ImageTransform.py -> build/lib.linux-x86_64-3.7/PIL\n",
      "  copying src/PIL/GribStubImagePlugin.py -> build/lib.linux-x86_64-3.7/PIL\n",
      "  copying src/PIL/ImageMode.py -> build/lib.linux-x86_64-3.7/PIL\n",
      "  copying src/PIL/WebPImagePlugin.py -> build/lib.linux-x86_64-3.7/PIL\n",
      "  copying src/PIL/ImageChops.py -> build/lib.linux-x86_64-3.7/PIL\n",
      "  copying src/PIL/FtexImagePlugin.py -> build/lib.linux-x86_64-3.7/PIL\n",
      "  copying src/PIL/ImageEnhance.py -> build/lib.linux-x86_64-3.7/PIL\n",
      "  copying src/PIL/FpxImagePlugin.py -> build/lib.linux-x86_64-3.7/PIL\n",
      "  copying src/PIL/McIdasImagePlugin.py -> build/lib.linux-x86_64-3.7/PIL\n",
      "  copying src/PIL/ImagePath.py -> build/lib.linux-x86_64-3.7/PIL\n",
      "  copying src/PIL/EpsImagePlugin.py -> build/lib.linux-x86_64-3.7/PIL\n",
      "  copying src/PIL/TiffImagePlugin.py -> build/lib.linux-x86_64-3.7/PIL\n",
      "  copying src/PIL/ImageFile.py -> build/lib.linux-x86_64-3.7/PIL\n",
      "  copying src/PIL/PsdImagePlugin.py -> build/lib.linux-x86_64-3.7/PIL\n",
      "  copying src/PIL/ImageFilter.py -> build/lib.linux-x86_64-3.7/PIL\n",
      "  copying src/PIL/__main__.py -> build/lib.linux-x86_64-3.7/PIL\n",
      "  copying src/PIL/FontFile.py -> build/lib.linux-x86_64-3.7/PIL\n",
      "  copying src/PIL/JpegImagePlugin.py -> build/lib.linux-x86_64-3.7/PIL\n",
      "  copying src/PIL/WalImageFile.py -> build/lib.linux-x86_64-3.7/PIL\n",
      "  copying src/PIL/IcnsImagePlugin.py -> build/lib.linux-x86_64-3.7/PIL\n",
      "  copying src/PIL/DdsImagePlugin.py -> build/lib.linux-x86_64-3.7/PIL\n",
      "  copying src/PIL/BmpImagePlugin.py -> build/lib.linux-x86_64-3.7/PIL\n",
      "  copying src/PIL/ImageDraw.py -> build/lib.linux-x86_64-3.7/PIL\n",
      "  copying src/PIL/FitsImagePlugin.py -> build/lib.linux-x86_64-3.7/PIL\n",
      "  copying src/PIL/SpiderImagePlugin.py -> build/lib.linux-x86_64-3.7/PIL\n",
      "  running egg_info\n",
      "  writing src/Pillow.egg-info/PKG-INFO\n",
      "  writing dependency_links to src/Pillow.egg-info/dependency_links.txt\n",
      "  writing requirements to src/Pillow.egg-info/requires.txt\n",
      "  writing top-level names to src/Pillow.egg-info/top_level.txt\n",
      "  reading manifest file 'src/Pillow.egg-info/SOURCES.txt'\n",
      "  reading manifest template 'MANIFEST.in'\n",
      "  warning: no files found matching '*.c'\n",
      "  warning: no files found matching '*.h'\n",
      "  warning: no files found matching '*.sh'\n",
      "  warning: no previously-included files found matching '.appveyor.yml'\n",
      "  warning: no previously-included files found matching '.clang-format'\n",
      "  warning: no previously-included files found matching '.coveragerc'\n",
      "  warning: no previously-included files found matching '.editorconfig'\n",
      "  warning: no previously-included files found matching '.readthedocs.yml'\n",
      "  warning: no previously-included files found matching 'codecov.yml'\n",
      "  warning: no previously-included files found matching 'renovate.json'\n",
      "  warning: no previously-included files matching '.git*' found anywhere in distribution\n",
      "  warning: no previously-included files matching '*.pyc' found anywhere in distribution\n",
      "  warning: no previously-included files matching '*.so' found anywhere in distribution\n",
      "  no previously-included directories found matching '.ci'\n",
      "  writing manifest file 'src/Pillow.egg-info/SOURCES.txt'\n",
      "  running build_ext\n",
      "  \n",
      "  \n",
      "  The headers or library files could not be found for jpeg,\n",
      "  a required dependency when compiling Pillow from source.\n",
      "  \n",
      "  Please see the install instructions at:\n",
      "     https://pillow.readthedocs.io/en/latest/installation.html\n",
      "  \n",
      "  Traceback (most recent call last):\n",
      "    File \"/tmp/pip-install-rra9ww6t/pillow/setup.py\", line 997, in <module>\n",
      "      zip_safe=not (debug_build() or PLATFORM_MINGW),\n",
      "    File \"/snap/jupyter/6/lib/python3.7/site-packages/setuptools/__init__.py\", line 145, in setup\n",
      "      return distutils.core.setup(**attrs)\n",
      "    File \"/snap/jupyter/6/lib/python3.7/distutils/core.py\", line 148, in setup\n",
      "      dist.run_commands()\n",
      "    File \"/snap/jupyter/6/lib/python3.7/distutils/dist.py\", line 966, in run_commands\n",
      "      self.run_command(cmd)\n",
      "    File \"/snap/jupyter/6/lib/python3.7/distutils/dist.py\", line 985, in run_command\n",
      "      cmd_obj.run()\n",
      "    File \"/snap/jupyter/6/lib/python3.7/site-packages/wheel/bdist_wheel.py\", line 192, in run\n",
      "      self.run_command('build')\n",
      "    File \"/snap/jupyter/6/lib/python3.7/distutils/cmd.py\", line 313, in run_command\n",
      "      self.distribution.run_command(command)\n",
      "    File \"/snap/jupyter/6/lib/python3.7/distutils/dist.py\", line 985, in run_command\n",
      "      cmd_obj.run()\n",
      "    File \"/snap/jupyter/6/lib/python3.7/distutils/command/build.py\", line 135, in run\n",
      "      self.run_command(cmd_name)\n",
      "    File \"/snap/jupyter/6/lib/python3.7/distutils/cmd.py\", line 313, in run_command\n",
      "      self.distribution.run_command(command)\n",
      "    File \"/snap/jupyter/6/lib/python3.7/distutils/dist.py\", line 985, in run_command\n",
      "      cmd_obj.run()\n",
      "    File \"/snap/jupyter/6/lib/python3.7/site-packages/setuptools/command/build_ext.py\", line 78, in run\n",
      "      _build_ext.run(self)\n",
      "    File \"/snap/jupyter/6/lib/python3.7/distutils/command/build_ext.py\", line 340, in run\n",
      "      self.build_extensions()\n",
      "    File \"/tmp/pip-install-rra9ww6t/pillow/setup.py\", line 808, in build_extensions\n",
      "      raise RequiredDependencyException(f)\n",
      "  __main__.RequiredDependencyException: jpeg\n",
      "  \n",
      "  During handling of the above exception, another exception occurred:\n",
      "  \n",
      "  Traceback (most recent call last):\n",
      "    File \"<string>\", line 1, in <module>\n",
      "    File \"/tmp/pip-install-rra9ww6t/pillow/setup.py\", line 1010, in <module>\n",
      "      raise RequiredDependencyException(msg)\n",
      "  __main__.RequiredDependencyException:\n",
      "  \n",
      "  The headers or library files could not be found for jpeg,\n",
      "  a required dependency when compiling Pillow from source.\n",
      "  \n",
      "  Please see the install instructions at:\n",
      "     https://pillow.readthedocs.io/en/latest/installation.html\n",
      "  \n",
      "  \n",
      "  ----------------------------------------\u001b[0m\n",
      "\u001b[31m  ERROR: Failed building wheel for pillow\u001b[0m\n",
      "\u001b[?25h  Running setup.py clean for pillow\n"
     ]
    },
    {
     "name": "stdout",
     "output_type": "stream",
     "text": [
      "Failed to build pillow\n",
      "Installing collected packages: packaging, pillow, matplotlib\n",
      "  Running setup.py install for pillow ... \u001b[?25lerror\n",
      "\u001b[31m    ERROR: Complete output from command /snap/jupyter/6/bin/python -u -c 'import setuptools, tokenize;__file__='\"'\"'/tmp/pip-install-rra9ww6t/pillow/setup.py'\"'\"';f=getattr(tokenize, '\"'\"'open'\"'\"', open)(__file__);code=f.read().replace('\"'\"'\\r\\n'\"'\"', '\"'\"'\\n'\"'\"');f.close();exec(compile(code, __file__, '\"'\"'exec'\"'\"'))' install --record /tmp/pip-record-cbyr79sh/install-record.txt --single-version-externally-managed --compile --user --prefix=:\u001b[0m\n",
      "\u001b[31m    ERROR: running install\n",
      "    running build\n",
      "    running build_py\n",
      "    creating build\n",
      "    creating build/lib.linux-x86_64-3.7\n",
      "    creating build/lib.linux-x86_64-3.7/PIL\n",
      "    copying src/PIL/GdImageFile.py -> build/lib.linux-x86_64-3.7/PIL\n",
      "    copying src/PIL/MicImagePlugin.py -> build/lib.linux-x86_64-3.7/PIL\n",
      "    copying src/PIL/MpoImagePlugin.py -> build/lib.linux-x86_64-3.7/PIL\n",
      "    copying src/PIL/PngImagePlugin.py -> build/lib.linux-x86_64-3.7/PIL\n",
      "    copying src/PIL/GifImagePlugin.py -> build/lib.linux-x86_64-3.7/PIL\n",
      "    copying src/PIL/_version.py -> build/lib.linux-x86_64-3.7/PIL\n",
      "    copying src/PIL/_util.py -> build/lib.linux-x86_64-3.7/PIL\n",
      "    copying src/PIL/DcxImagePlugin.py -> build/lib.linux-x86_64-3.7/PIL\n",
      "    copying src/PIL/FliImagePlugin.py -> build/lib.linux-x86_64-3.7/PIL\n",
      "    copying src/PIL/GbrImagePlugin.py -> build/lib.linux-x86_64-3.7/PIL\n",
      "    copying src/PIL/ImageTk.py -> build/lib.linux-x86_64-3.7/PIL\n",
      "    copying src/PIL/BufrStubImagePlugin.py -> build/lib.linux-x86_64-3.7/PIL\n",
      "    copying src/PIL/PcdImagePlugin.py -> build/lib.linux-x86_64-3.7/PIL\n",
      "    copying src/PIL/ImageStat.py -> build/lib.linux-x86_64-3.7/PIL\n",
      "    copying src/PIL/FitsStubImagePlugin.py -> build/lib.linux-x86_64-3.7/PIL\n",
      "    copying src/PIL/PcxImagePlugin.py -> build/lib.linux-x86_64-3.7/PIL\n",
      "    copying src/PIL/PixarImagePlugin.py -> build/lib.linux-x86_64-3.7/PIL\n",
      "    copying src/PIL/XbmImagePlugin.py -> build/lib.linux-x86_64-3.7/PIL\n",
      "    copying src/PIL/TiffTags.py -> build/lib.linux-x86_64-3.7/PIL\n",
      "    copying src/PIL/ImageSequence.py -> build/lib.linux-x86_64-3.7/PIL\n",
      "    copying src/PIL/MspImagePlugin.py -> build/lib.linux-x86_64-3.7/PIL\n",
      "    copying src/PIL/TarIO.py -> build/lib.linux-x86_64-3.7/PIL\n",
      "    copying src/PIL/__init__.py -> build/lib.linux-x86_64-3.7/PIL\n",
      "    copying src/PIL/XpmImagePlugin.py -> build/lib.linux-x86_64-3.7/PIL\n",
      "    copying src/PIL/ImageGrab.py -> build/lib.linux-x86_64-3.7/PIL\n",
      "    copying src/PIL/BlpImagePlugin.py -> build/lib.linux-x86_64-3.7/PIL\n",
      "    copying src/PIL/PdfImagePlugin.py -> build/lib.linux-x86_64-3.7/PIL\n",
      "    copying src/PIL/ImtImagePlugin.py -> build/lib.linux-x86_64-3.7/PIL\n",
      "    copying src/PIL/ImageShow.py -> build/lib.linux-x86_64-3.7/PIL\n",
      "    copying src/PIL/IcoImagePlugin.py -> build/lib.linux-x86_64-3.7/PIL\n",
      "    copying src/PIL/PalmImagePlugin.py -> build/lib.linux-x86_64-3.7/PIL\n",
      "    copying src/PIL/ImageMath.py -> build/lib.linux-x86_64-3.7/PIL\n",
      "    copying src/PIL/Hdf5StubImagePlugin.py -> build/lib.linux-x86_64-3.7/PIL\n",
      "    copying src/PIL/ContainerIO.py -> build/lib.linux-x86_64-3.7/PIL\n",
      "    copying src/PIL/ExifTags.py -> build/lib.linux-x86_64-3.7/PIL\n",
      "    copying src/PIL/PdfParser.py -> build/lib.linux-x86_64-3.7/PIL\n",
      "    copying src/PIL/IptcImagePlugin.py -> build/lib.linux-x86_64-3.7/PIL\n",
      "    copying src/PIL/WmfImagePlugin.py -> build/lib.linux-x86_64-3.7/PIL\n",
      "    copying src/PIL/ImagePalette.py -> build/lib.linux-x86_64-3.7/PIL\n",
      "    copying src/PIL/GimpGradientFile.py -> build/lib.linux-x86_64-3.7/PIL\n",
      "    copying src/PIL/ImageFont.py -> build/lib.linux-x86_64-3.7/PIL\n",
      "    copying src/PIL/SunImagePlugin.py -> build/lib.linux-x86_64-3.7/PIL\n",
      "    copying src/PIL/JpegPresets.py -> build/lib.linux-x86_64-3.7/PIL\n",
      "    copying src/PIL/PpmImagePlugin.py -> build/lib.linux-x86_64-3.7/PIL\n",
      "    copying src/PIL/ImageColor.py -> build/lib.linux-x86_64-3.7/PIL\n",
      "    copying src/PIL/_binary.py -> build/lib.linux-x86_64-3.7/PIL\n",
      "    copying src/PIL/CurImagePlugin.py -> build/lib.linux-x86_64-3.7/PIL\n",
      "    copying src/PIL/ImageWin.py -> build/lib.linux-x86_64-3.7/PIL\n",
      "    copying src/PIL/ImageQt.py -> build/lib.linux-x86_64-3.7/PIL\n",
      "    copying src/PIL/ImageDraw2.py -> build/lib.linux-x86_64-3.7/PIL\n",
      "    copying src/PIL/BdfFontFile.py -> build/lib.linux-x86_64-3.7/PIL\n",
      "    copying src/PIL/PSDraw.py -> build/lib.linux-x86_64-3.7/PIL\n",
      "    copying src/PIL/PyAccess.py -> build/lib.linux-x86_64-3.7/PIL\n",
      "    copying src/PIL/TgaImagePlugin.py -> build/lib.linux-x86_64-3.7/PIL\n",
      "    copying src/PIL/Image.py -> build/lib.linux-x86_64-3.7/PIL\n",
      "    copying src/PIL/ImageCms.py -> build/lib.linux-x86_64-3.7/PIL\n",
      "    copying src/PIL/MpegImagePlugin.py -> build/lib.linux-x86_64-3.7/PIL\n",
      "    copying src/PIL/features.py -> build/lib.linux-x86_64-3.7/PIL\n",
      "    copying src/PIL/ImImagePlugin.py -> build/lib.linux-x86_64-3.7/PIL\n",
      "    copying src/PIL/XVThumbImagePlugin.py -> build/lib.linux-x86_64-3.7/PIL\n",
      "    copying src/PIL/PaletteFile.py -> build/lib.linux-x86_64-3.7/PIL\n",
      "    copying src/PIL/ImageMorph.py -> build/lib.linux-x86_64-3.7/PIL\n",
      "    copying src/PIL/ImageOps.py -> build/lib.linux-x86_64-3.7/PIL\n",
      "    copying src/PIL/GimpPaletteFile.py -> build/lib.linux-x86_64-3.7/PIL\n",
      "    copying src/PIL/_deprecate.py -> build/lib.linux-x86_64-3.7/PIL\n",
      "    copying src/PIL/PcfFontFile.py -> build/lib.linux-x86_64-3.7/PIL\n",
      "    copying src/PIL/_tkinter_finder.py -> build/lib.linux-x86_64-3.7/PIL\n",
      "    copying src/PIL/SgiImagePlugin.py -> build/lib.linux-x86_64-3.7/PIL\n",
      "    copying src/PIL/Jpeg2KImagePlugin.py -> build/lib.linux-x86_64-3.7/PIL\n",
      "    copying src/PIL/ImageTransform.py -> build/lib.linux-x86_64-3.7/PIL\n",
      "    copying src/PIL/GribStubImagePlugin.py -> build/lib.linux-x86_64-3.7/PIL\n",
      "    copying src/PIL/ImageMode.py -> build/lib.linux-x86_64-3.7/PIL\n",
      "    copying src/PIL/WebPImagePlugin.py -> build/lib.linux-x86_64-3.7/PIL\n",
      "    copying src/PIL/ImageChops.py -> build/lib.linux-x86_64-3.7/PIL\n",
      "    copying src/PIL/FtexImagePlugin.py -> build/lib.linux-x86_64-3.7/PIL\n",
      "    copying src/PIL/ImageEnhance.py -> build/lib.linux-x86_64-3.7/PIL\n",
      "    copying src/PIL/FpxImagePlugin.py -> build/lib.linux-x86_64-3.7/PIL\n",
      "    copying src/PIL/McIdasImagePlugin.py -> build/lib.linux-x86_64-3.7/PIL\n",
      "    copying src/PIL/ImagePath.py -> build/lib.linux-x86_64-3.7/PIL\n",
      "    copying src/PIL/EpsImagePlugin.py -> build/lib.linux-x86_64-3.7/PIL\n",
      "    copying src/PIL/TiffImagePlugin.py -> build/lib.linux-x86_64-3.7/PIL\n",
      "    copying src/PIL/ImageFile.py -> build/lib.linux-x86_64-3.7/PIL\n",
      "    copying src/PIL/PsdImagePlugin.py -> build/lib.linux-x86_64-3.7/PIL\n",
      "    copying src/PIL/ImageFilter.py -> build/lib.linux-x86_64-3.7/PIL\n",
      "    copying src/PIL/__main__.py -> build/lib.linux-x86_64-3.7/PIL\n",
      "    copying src/PIL/FontFile.py -> build/lib.linux-x86_64-3.7/PIL\n",
      "    copying src/PIL/JpegImagePlugin.py -> build/lib.linux-x86_64-3.7/PIL\n",
      "    copying src/PIL/WalImageFile.py -> build/lib.linux-x86_64-3.7/PIL\n",
      "    copying src/PIL/IcnsImagePlugin.py -> build/lib.linux-x86_64-3.7/PIL\n",
      "    copying src/PIL/DdsImagePlugin.py -> build/lib.linux-x86_64-3.7/PIL\n",
      "    copying src/PIL/BmpImagePlugin.py -> build/lib.linux-x86_64-3.7/PIL\n",
      "    copying src/PIL/ImageDraw.py -> build/lib.linux-x86_64-3.7/PIL\n",
      "    copying src/PIL/FitsImagePlugin.py -> build/lib.linux-x86_64-3.7/PIL\n",
      "    copying src/PIL/SpiderImagePlugin.py -> build/lib.linux-x86_64-3.7/PIL\n",
      "    running egg_info\n",
      "    writing src/Pillow.egg-info/PKG-INFO\n",
      "    writing dependency_links to src/Pillow.egg-info/dependency_links.txt\n",
      "    writing requirements to src/Pillow.egg-info/requires.txt\n",
      "    writing top-level names to src/Pillow.egg-info/top_level.txt\n",
      "    reading manifest file 'src/Pillow.egg-info/SOURCES.txt'\n",
      "    reading manifest template 'MANIFEST.in'\n",
      "    warning: no files found matching '*.c'\n",
      "    warning: no files found matching '*.h'\n",
      "    warning: no files found matching '*.sh'\n",
      "    warning: no previously-included files found matching '.appveyor.yml'\n",
      "    warning: no previously-included files found matching '.clang-format'\n",
      "    warning: no previously-included files found matching '.coveragerc'\n",
      "    warning: no previously-included files found matching '.editorconfig'\n",
      "    warning: no previously-included files found matching '.readthedocs.yml'\n",
      "    warning: no previously-included files found matching 'codecov.yml'\n",
      "    warning: no previously-included files found matching 'renovate.json'\n",
      "    warning: no previously-included files matching '.git*' found anywhere in distribution\n",
      "    warning: no previously-included files matching '*.pyc' found anywhere in distribution\n",
      "    warning: no previously-included files matching '*.so' found anywhere in distribution\n",
      "    no previously-included directories found matching '.ci'\n",
      "    writing manifest file 'src/Pillow.egg-info/SOURCES.txt'\n",
      "    running build_ext\n",
      "    \n",
      "    \n",
      "    The headers or library files could not be found for jpeg,\n",
      "    a required dependency when compiling Pillow from source.\n",
      "    \n",
      "    Please see the install instructions at:\n",
      "       https://pillow.readthedocs.io/en/latest/installation.html\n",
      "    \n",
      "    Traceback (most recent call last):\n",
      "      File \"/tmp/pip-install-rra9ww6t/pillow/setup.py\", line 997, in <module>\n",
      "        zip_safe=not (debug_build() or PLATFORM_MINGW),\n",
      "      File \"/snap/jupyter/6/lib/python3.7/site-packages/setuptools/__init__.py\", line 145, in setup\n",
      "        return distutils.core.setup(**attrs)\n",
      "      File \"/snap/jupyter/6/lib/python3.7/distutils/core.py\", line 148, in setup\n",
      "        dist.run_commands()\n",
      "      File \"/snap/jupyter/6/lib/python3.7/distutils/dist.py\", line 966, in run_commands\n",
      "        self.run_command(cmd)\n",
      "      File \"/snap/jupyter/6/lib/python3.7/distutils/dist.py\", line 985, in run_command\n",
      "        cmd_obj.run()\n",
      "      File \"/snap/jupyter/6/lib/python3.7/site-packages/setuptools/command/install.py\", line 61, in run\n",
      "        return orig.install.run(self)\n",
      "      File \"/snap/jupyter/6/lib/python3.7/distutils/command/install.py\", line 545, in run\n",
      "        self.run_command('build')\n",
      "      File \"/snap/jupyter/6/lib/python3.7/distutils/cmd.py\", line 313, in run_command\n",
      "        self.distribution.run_command(command)\n",
      "      File \"/snap/jupyter/6/lib/python3.7/distutils/dist.py\", line 985, in run_command\n",
      "        cmd_obj.run()\n",
      "      File \"/snap/jupyter/6/lib/python3.7/distutils/command/build.py\", line 135, in run\n",
      "        self.run_command(cmd_name)\n",
      "      File \"/snap/jupyter/6/lib/python3.7/distutils/cmd.py\", line 313, in run_command\n",
      "        self.distribution.run_command(command)\n",
      "      File \"/snap/jupyter/6/lib/python3.7/distutils/dist.py\", line 985, in run_command\n",
      "        cmd_obj.run()\n",
      "      File \"/snap/jupyter/6/lib/python3.7/site-packages/setuptools/command/build_ext.py\", line 78, in run\n",
      "        _build_ext.run(self)\n",
      "      File \"/snap/jupyter/6/lib/python3.7/distutils/command/build_ext.py\", line 340, in run\n",
      "        self.build_extensions()\n",
      "      File \"/tmp/pip-install-rra9ww6t/pillow/setup.py\", line 808, in build_extensions\n",
      "        raise RequiredDependencyException(f)\n",
      "    __main__.RequiredDependencyException: jpeg\n",
      "    \n",
      "    During handling of the above exception, another exception occurred:\n",
      "    \n",
      "    Traceback (most recent call last):\n",
      "      File \"<string>\", line 1, in <module>\n",
      "      File \"/tmp/pip-install-rra9ww6t/pillow/setup.py\", line 1010, in <module>\n",
      "        raise RequiredDependencyException(msg)\n",
      "    __main__.RequiredDependencyException:\n",
      "    \n",
      "    The headers or library files could not be found for jpeg,\n",
      "    a required dependency when compiling Pillow from source.\n",
      "    \n",
      "    Please see the install instructions at:\n",
      "       https://pillow.readthedocs.io/en/latest/installation.html\n",
      "    \n",
      "    \n",
      "    ----------------------------------------\u001b[0m\n"
     ]
    },
    {
     "name": "stdout",
     "output_type": "stream",
     "text": [
      "\u001b[31mERROR: Command \"/snap/jupyter/6/bin/python -u -c 'import setuptools, tokenize;__file__='\"'\"'/tmp/pip-install-rra9ww6t/pillow/setup.py'\"'\"';f=getattr(tokenize, '\"'\"'open'\"'\"', open)(__file__);code=f.read().replace('\"'\"'\\r\\n'\"'\"', '\"'\"'\\n'\"'\"');f.close();exec(compile(code, __file__, '\"'\"'exec'\"'\"'))' install --record /tmp/pip-record-cbyr79sh/install-record.txt --single-version-externally-managed --compile --user --prefix=\" failed with error code 1 in /tmp/pip-install-rra9ww6t/pillow/\u001b[0m\n",
      "\u001b[?25h"
     ]
    }
   ],
   "source": [
    "!pip install matplotlib"
   ]
  },
  {
   "cell_type": "code",
   "execution_count": 12,
   "metadata": {},
   "outputs": [
    {
     "ename": "ModuleNotFoundError",
     "evalue": "No module named 'matplotlib'",
     "output_type": "error",
     "traceback": [
      "\u001b[0;31m---------------------------------------------------------------------------\u001b[0m",
      "\u001b[0;31mModuleNotFoundError\u001b[0m                       Traceback (most recent call last)",
      "\u001b[0;32m<ipython-input-12-1230c00b7fec>\u001b[0m in \u001b[0;36m<module>\u001b[0;34m\u001b[0m\n\u001b[1;32m      1\u001b[0m \u001b[0;32mimport\u001b[0m \u001b[0mnumpy\u001b[0m \u001b[0;32mas\u001b[0m \u001b[0mnp\u001b[0m\u001b[0;34m\u001b[0m\u001b[0;34m\u001b[0m\u001b[0m\n\u001b[0;32m----> 2\u001b[0;31m \u001b[0;32mfrom\u001b[0m \u001b[0mmatplotlib\u001b[0m \u001b[0;32mimport\u001b[0m \u001b[0mpyplot\u001b[0m \u001b[0;32mas\u001b[0m \u001b[0mplt\u001b[0m\u001b[0;34m\u001b[0m\u001b[0;34m\u001b[0m\u001b[0m\n\u001b[0m",
      "\u001b[0;31mModuleNotFoundError\u001b[0m: No module named 'matplotlib'"
     ]
    }
   ],
   "source": [
    "import numpy as np\n",
    "from matplotlib import pyplot as plt"
   ]
  },
  {
   "cell_type": "code",
   "execution_count": null,
   "metadata": {},
   "outputs": [],
   "source": [
    "x = 0\n",
    "y = 0\n",
    "x1 = -4.150\n",
    "y1 = 0\n",
    "x2 = 0\n",
    "y2 = -5.170\n",
    "# Jupiter's orbit parameters\n",
    "a_jup = 5.20\n",
    "e_jup = 0.048\n",
    "t_jup = np.linspace(0, 2*np.pi, 1000)\n",
    "\n",
    "# Asteroid's orbit parameters\n",
    "a_ast = 3.27\n",
    "e_ast = 0.262\n",
    "t_ast = np.linspace(0, 2*np.pi, 1000)\n",
    "\n",
    "# Calculate positions\n",
    "x_jup = a_jup * (np.cos(t_jup) - e_jup)\n",
    "y_jup = a_jup * np.sqrt(1 - e_jup**2) * np.sin(t_jup)\n",
    "\n",
    "x_ast = a_ast * (np.cos(t_ast) - e_ast)\n",
    "y_ast = a_ast * np.sqrt(1 - e_ast**2) * np.sin(t_ast)\n",
    "\n",
    "# Plot orbits\n",
    "plt.plot(x, y, 'y*')\n",
    "plt.plot(x_jup, y_jup, 'c', label='Jupiter')\n",
    "plt.plot(x_ast, y_ast, 'r',  label='Asteroid')\n",
    "plt.plot(x1, y1, 'ro')\n",
    "plt.plot(x2, y2, 'co')\n",
    "\n",
    "# Add labels and legend\n",
    "plt.xlabel('Distance (AU)')\n",
    "plt.ylabel('Distance (AU)')\n",
    "plt.title('Jupiter and Asteroid Orbits')\n",
    "plt.legend(loc = 'upper right')\n",
    "\n",
    "# Display plot\n",
    "plt.show()"
   ]
  },
  {
   "cell_type": "markdown",
   "metadata": {},
   "source": [
    "### Section 8.3_ThephysicsofResonance"
   ]
  },
  {
   "cell_type": "markdown",
   "metadata": {},
   "source": [
    "### Section 8.4_VariationofOrbitalElements"
   ]
  },
  {
   "cell_type": "markdown",
   "metadata": {},
   "source": [
    "### Section 8.5_ResonanceintheCircularRestrictedThree-BodyProblem"
   ]
  },
  {
   "cell_type": "markdown",
   "metadata": {},
   "source": [
    "### Section 8.6_ThePendulumModel"
   ]
  },
  {
   "cell_type": "markdown",
   "metadata": {},
   "source": [
    "### Section 8.7_LibrationWidth"
   ]
  },
  {
   "cell_type": "markdown",
   "metadata": {},
   "source": [
    "### Section 8.8_TheHamiltonianApproach"
   ]
  },
  {
   "cell_type": "markdown",
   "metadata": {},
   "source": [
    "### Section 8.9_The_2:1_Resonance"
   ]
  },
  {
   "cell_type": "markdown",
   "metadata": {},
   "source": [
    "### Section 8.10_The_3:1_and_7:4_Resonance"
   ]
  },
  {
   "cell_type": "markdown",
   "metadata": {},
   "source": [
    "### Section 8.11_AdditionalResonancesandResonanceSplitting"
   ]
  },
  {
   "cell_type": "markdown",
   "metadata": {},
   "source": [
    "### Section 8.12_ResonantEncounters"
   ]
  },
  {
   "cell_type": "markdown",
   "metadata": {},
   "source": [
    "### Section 8.13_TheDynamicsofCaptureandEvolutioninResonance"
   ]
  },
  {
   "cell_type": "markdown",
   "metadata": {},
   "source": [
    "### Section 8.14_Two-BodyResonancesintheSolarSystem"
   ]
  },
  {
   "cell_type": "markdown",
   "metadata": {},
   "source": [
    "### Section 8.15_ResonantEncountersinSatelliteSystems"
   ]
  },
  {
   "cell_type": "markdown",
   "metadata": {},
   "source": [
    "### Section 8.16_Three-bodyResonance"
   ]
  },
  {
   "cell_type": "markdown",
   "metadata": {},
   "source": [
    "### Section 8.17_TheLaplaceResonance"
   ]
  },
  {
   "cell_type": "markdown",
   "metadata": {},
   "source": [
    "### Section 8.18_SecularandResonantMotion"
   ]
  },
  {
   "cell_type": "code",
   "execution_count": null,
   "metadata": {},
   "outputs": [],
   "source": []
  }
 ],
 "metadata": {
  "kernelspec": {
   "display_name": "Python 3 (ipykernel)",
   "language": "python",
   "name": "python3"
  },
  "language_info": {
   "codemirror_mode": {
    "name": "ipython",
    "version": 3
   },
   "file_extension": ".py",
   "mimetype": "text/x-python",
   "name": "python",
   "nbconvert_exporter": "python",
   "pygments_lexer": "ipython3",
   "version": "3.9.12"
  }
 },
 "nbformat": 4,
 "nbformat_minor": 2
}
