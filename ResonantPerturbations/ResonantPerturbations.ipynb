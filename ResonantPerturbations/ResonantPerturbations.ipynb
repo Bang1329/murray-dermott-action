{
 "cells": [
  {
   "cell_type": "markdown",
   "metadata": {},
   "source": [
    "# Chapter 8. Resonant Perturbations#\n",
    "\n",
    "### Action by Evelyn Zagarra Piedrahita, University of Antioquia\n",
    "\n",
    "In this code it is intended to study in detail the chapter dedicated to Resonant Disturbances, so some interesting results are analyzed, mainly from the numerical part.\n",
    "\n",
    "If you want to know more about the subject, consider seeing the book:\n",
    "\n",
    "    Murray, C. D., & Dermott, S. F. (1999). Solar system dynamics. Cambridge university press."
   ]
  },
  {
   "cell_type": "markdown",
   "metadata": {},
   "source": []
  },
  {
   "cell_type": "code",
   "execution_count": null,
   "metadata": {},
   "outputs": [],
   "source": []
  }
 ],
 "metadata": {
  "kernelspec": {
   "display_name": "Python 3",
   "language": "python",
   "name": "python3"
  },
  "language_info": {
   "codemirror_mode": {
    "name": "ipython",
    "version": 3
   },
   "file_extension": ".py",
   "mimetype": "text/x-python",
   "name": "python",
   "nbconvert_exporter": "python",
   "pygments_lexer": "ipython3",
   "version": "3.7.3"
  }
 },
 "nbformat": 4,
 "nbformat_minor": 2
}
