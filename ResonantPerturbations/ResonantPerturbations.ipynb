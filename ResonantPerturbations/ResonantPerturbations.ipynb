{
 "cells": [
  {
   "cell_type": "markdown",
   "metadata": {},
   "source": [
    "# Chapter 8. Resonant Perturbations#\n",
    "\n",
    "### Action by Evelyn Zagarra Piedrahita, University of Antioquia\n",
    "\n",
    "In this code it is intended to study in detail the chapter dedicated to Resonant Disturbances, so some interesting results are analyzed, mainly from the numerical part.\n",
    "\n",
    "If you want to know more about the subject, consider seeing the book:\n",
    "\n",
    "    Murray, C. D., & Dermott, S. F. (1999). Solar system dynamics. Cambridge university press."
   ]
  },
  {
   "cell_type": "markdown",
   "metadata": {},
   "source": [
    "### Section 8.2_ TheGeometryofResonance"
   ]
  },
  {
   "cell_type": "markdown",
   "metadata": {},
   "source": []
  },
  {
   "cell_type": "markdown",
   "metadata": {},
   "source": [
    "It is intended to show a graph of Jupiter's orbit around the sun and the orbit of an asteroid in 2:1 resonance with Jupiter around the sun."
   ]
  },
  {
   "cell_type": "code",
   "execution_count": 1,
   "metadata": {},
   "outputs": [
    {
     "name": "stdout",
     "output_type": "stream",
     "text": [
      "Requirement already satisfied: numpy in /home/usuario/anaconda3/lib/python3.9/site-packages (1.21.5)\r\n"
     ]
    }
   ],
   "source": [
    "!pip install numpy"
   ]
  },
  {
   "cell_type": "code",
   "execution_count": 2,
   "metadata": {},
   "outputs": [
    {
     "name": "stdout",
     "output_type": "stream",
     "text": [
      "Requirement already satisfied: matplotlib in /home/usuario/anaconda3/lib/python3.9/site-packages (3.5.1)\n",
      "Requirement already satisfied: numpy>=1.17 in /home/usuario/anaconda3/lib/python3.9/site-packages (from matplotlib) (1.21.5)\n",
      "Requirement already satisfied: fonttools>=4.22.0 in /home/usuario/anaconda3/lib/python3.9/site-packages (from matplotlib) (4.25.0)\n",
      "Requirement already satisfied: pillow>=6.2.0 in /home/usuario/anaconda3/lib/python3.9/site-packages (from matplotlib) (9.0.1)\n",
      "Requirement already satisfied: pyparsing>=2.2.1 in /home/usuario/anaconda3/lib/python3.9/site-packages (from matplotlib) (3.0.4)\n",
      "Requirement already satisfied: python-dateutil>=2.7 in /home/usuario/anaconda3/lib/python3.9/site-packages (from matplotlib) (2.8.2)\n",
      "Requirement already satisfied: kiwisolver>=1.0.1 in /home/usuario/anaconda3/lib/python3.9/site-packages (from matplotlib) (1.3.2)\n",
      "Requirement already satisfied: cycler>=0.10 in /home/usuario/anaconda3/lib/python3.9/site-packages (from matplotlib) (0.11.0)\n",
      "Requirement already satisfied: packaging>=20.0 in /home/usuario/anaconda3/lib/python3.9/site-packages (from matplotlib) (21.3)\n",
      "Requirement already satisfied: six>=1.5 in /home/usuario/anaconda3/lib/python3.9/site-packages (from python-dateutil>=2.7->matplotlib) (1.16.0)\n"
     ]
    }
   ],
   "source": [
    "!pip install matplotlib"
   ]
  },
  {
   "cell_type": "code",
   "execution_count": 3,
   "metadata": {},
   "outputs": [],
   "source": [
    "import numpy as np\n",
    "from matplotlib import pyplot as plt"
   ]
  },
  {
   "cell_type": "code",
   "execution_count": 4,
   "metadata": {},
   "outputs": [
    {
     "data": {
      "image/png": "[encoded data removed]",
      "text/plain": [
       "<Figure size 432x288 with 1 Axes>"
      ]
     },
     "metadata": {
      "needs_background": "light"
     },
     "output_type": "display_data"
    }
   ],
   "source": [
    "x = 0\n",
    "y = 0\n",
    "x1 = -4.150\n",
    "y1 = 0\n",
    "x2 = 0\n",
    "y2 = -5.170\n",
    "# Jupiter's orbit parameters\n",
    "a_jup = 5.20\n",
    "e_jup = 0.048\n",
    "t_jup = np.linspace(0, 2*np.pi, 1000)\n",
    "\n",
    "# Asteroid's orbit parameters\n",
    "a_ast = 3.27\n",
    "e_ast = 0.262\n",
    "t_ast = np.linspace(0, 2*np.pi, 1000)\n",
    "\n",
    "# Calculate positions\n",
    "x_jup = a_jup * (np.cos(t_jup) - e_jup)\n",
    "y_jup = a_jup * np.sqrt(1 - e_jup**2) * np.sin(t_jup)\n",
    "\n",
    "x_ast = a_ast * (np.cos(t_ast) - e_ast)\n",
    "y_ast = a_ast * np.sqrt(1 - e_ast**2) * np.sin(t_ast)\n",
    "\n",
    "# Plot orbits\n",
    "plt.plot(x, y, 'y*')\n",
    "plt.plot(x_jup, y_jup, 'c', label='Jupiter')\n",
    "plt.plot(x_ast, y_ast, 'r',  label='Asteroid')\n",
    "plt.plot(x1, y1, 'ro')\n",
    "plt.plot(x2, y2, 'co')\n",
    "\n",
    "# Add labels and legend\n",
    "plt.xlabel('Distance (AU)')\n",
    "plt.ylabel('Distance (AU)')\n",
    "plt.title('Jupiter and Asteroid Orbits')\n",
    "plt.legend(loc = 'upper right')\n",
    "\n",
    "# Display plot\n",
    "plt.show()"
   ]
  },
  {
   "cell_type": "markdown",
   "metadata": {},
   "source": [
    "### Section 8.3_ThephysicsofResonance"
   ]
  },
  {
   "cell_type": "markdown",
   "metadata": {},
   "source": [
    "### Section 8.4_VariationofOrbitalElements"
   ]
  },
  {
   "cell_type": "markdown",
   "metadata": {},
   "source": [
    "### Section 8.5_ResonanceintheCircularRestrictedThree-BodyProblem"
   ]
  },
  {
   "cell_type": "markdown",
   "metadata": {},
   "source": [
    "### Section 8.6_ThePendulumModel"
   ]
  },
  {
   "cell_type": "markdown",
   "metadata": {},
   "source": [
    "### Section 8.7_LibrationWidth"
   ]
  },
  {
   "cell_type": "markdown",
   "metadata": {},
   "source": [
    "### Section 8.8_TheHamiltonianApproach"
   ]
  },
  {
   "cell_type": "markdown",
   "metadata": {},
   "source": [
    "### Section 8.9_The_2:1_Resonance"
   ]
  },
  {
   "cell_type": "markdown",
   "metadata": {},
   "source": [
    "### Section 8.10_The_3:1_and_7:4_Resonance"
   ]
  },
  {
   "cell_type": "markdown",
   "metadata": {},
   "source": [
    "### Section 8.11_AdditionalResonancesandResonanceSplitting"
   ]
  },
  {
   "cell_type": "markdown",
   "metadata": {},
   "source": [
    "### Section 8.12_ResonantEncounters"
   ]
  },
  {
   "cell_type": "markdown",
   "metadata": {},
   "source": [
    "### Section 8.13_TheDynamicsofCaptureandEvolutioninResonance"
   ]
  },
  {
   "cell_type": "markdown",
   "metadata": {},
   "source": [
    "### Section 8.14_Two-BodyResonancesintheSolarSystem"
   ]
  },
  {
   "cell_type": "markdown",
   "metadata": {},
   "source": [
    "### Section 8.15_ResonantEncountersinSatelliteSystems"
   ]
  },
  {
   "cell_type": "markdown",
   "metadata": {},
   "source": [
    "### Section 8.16_Three-bodyResonance"
   ]
  },
  {
   "cell_type": "markdown",
   "metadata": {},
   "source": [
    "### Section 8.17_TheLaplaceResonance"
   ]
  },
  {
   "cell_type": "markdown",
   "metadata": {},
   "source": [
    "### Section 8.18_SecularandResonantMotion"
   ]
  },
  {
   "cell_type": "code",
   "execution_count": null,
   "metadata": {},
   "outputs": [],
   "source": []
  }
 ],
 "metadata": {
  "kernelspec": {
   "display_name": "Python 3 (ipykernel)",
   "language": "python",
   "name": "python3"
  },
  "language_info": {
   "codemirror_mode": {
    "name": "ipython",
    "version": 3
   },
   "file_extension": ".py",
   "mimetype": "text/x-python",
   "name": "python",
   "nbconvert_exporter": "python",
   "pygments_lexer": "ipython3",
   "version": "3.9.12"
  }
 },
 "nbformat": 4,
 "nbformat_minor": 2
}
