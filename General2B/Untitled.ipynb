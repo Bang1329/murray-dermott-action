{
 "cells": [
  {
   "cell_type": "code",
   "execution_count": 2,
   "id": "3f470215",
   "metadata": {},
   "outputs": [
    {
     "ename": "ModuleNotFoundError",
     "evalue": "No module named 'Tkinter'",
     "output_type": "error",
     "traceback": [
      "\u001b[0;31m---------------------------------------------------------------------------\u001b[0m",
      "\u001b[0;31mModuleNotFoundError\u001b[0m                       Traceback (most recent call last)",
      "Cell \u001b[0;32mIn[2], line 1\u001b[0m\n\u001b[0;32m----> 1\u001b[0m \u001b[38;5;28;01mimport\u001b[39;00m \u001b[38;5;21;01mTkinter\u001b[39;00m \u001b[38;5;28;01mas\u001b[39;00m \u001b[38;5;21;01mtk\u001b[39;00m\n\u001b[1;32m      2\u001b[0m \u001b[38;5;28;01mfrom\u001b[39;00m \u001b[38;5;21;01mmath\u001b[39;00m \u001b[38;5;28;01mimport\u001b[39;00m sin, pi\n\u001b[1;32m      5\u001b[0m \u001b[38;5;28;01mclass\u001b[39;00m \u001b[38;5;21;01mPlotterApp\u001b[39;00m(tk\u001b[38;5;241m.\u001b[39mTk):\n",
      "\u001b[0;31mModuleNotFoundError\u001b[0m: No module named 'Tkinter'"
     ]
    }
   ],
   "source": [
    "import tkinter as tk\n",
    "from math import sin, pi\n",
    "\n",
    "\n",
    "class PlotterApp(tk.Tk):\n",
    "    def __init__(self):\n",
    "        super().__init__()\n",
    "        self.title(\"Plotter\")\n",
    "        self.geometry(\"400x400\")\n",
    "        self.w_label = tk.Label(self, text=\"w:\")\n",
    "        self.w_label.pack()\n",
    "        self.w_entry = tk.Entry(self)\n",
    "        self.w_entry.pack()\n",
    "        self.plot_button = tk.Button(self, text=\"Plot\", command=self.plot_function)\n",
    "        self.plot_button.pack()\n",
    "        self.canvas = tk.Canvas(self, width=400, height=300, bg=\"white\")\n",
    "        self.canvas.pack()\n",
    "    \n",
    "    def plot_function(self):\n",
    "        w = float(self.w_entry.get())\n",
    "        self.canvas.delete(\"all\")\n",
    "        x_points = [i for i in range(0, 628, 5)]\n",
    "        y_points = [sin(w * x / 100) for x in x_points]\n",
    "        scaled_x_points = [x + 20 for x in x_points]\n",
    "        scaled_y_points = [y + 150 for y in y_points]\n",
    "        for i in range(len(scaled_x_points) - 1):\n",
    "            x0, y0 = scaled_x_points[i], scaled_y_points[i]\n",
    "            x1, y1 = scaled_x_points[i+1], scaled_y_points[i+1]\n",
    "            self.canvas.create_line(x0, y0, x1, y1, fill=\"blue\")\n",
    "        \n",
    "\n",
    "if __name__ == \"__main__\":\n",
    "    app = PlotterApp()\n",
    "    app.mainloop()"
   ]
  },
  {
   "cell_type": "code",
   "execution_count": 3,
   "id": "a1061866",
   "metadata": {},
   "outputs": [
    {
     "name": "stdout",
     "output_type": "stream",
     "text": [
      "\u001b[31mERROR: Could not find a version that satisfies the requirement tkinter (from versions: none)\u001b[0m\u001b[31m\r\n",
      "\u001b[0m\u001b[31mERROR: No matching distribution found for tkinter\u001b[0m\u001b[31m\r\n",
      "\u001b[0m"
     ]
    }
   ],
   "source": [
    "!pip install -q tkinter"
   ]
  },
  {
   "cell_type": "code",
   "execution_count": null,
   "id": "451d0432",
   "metadata": {},
   "outputs": [],
   "source": []
  }
 ],
 "metadata": {
  "kernelspec": {
   "display_name": "Python 3 (ipykernel)",
   "language": "python",
   "name": "python3"
  },
  "language_info": {
   "codemirror_mode": {
    "name": "ipython",
    "version": 3
   },
   "file_extension": ".py",
   "mimetype": "text/x-python",
   "name": "python",
   "nbconvert_exporter": "python",
   "pygments_lexer": "ipython3",
   "version": "3.10.6"
  }
 },
 "nbformat": 4,
 "nbformat_minor": 5
}
