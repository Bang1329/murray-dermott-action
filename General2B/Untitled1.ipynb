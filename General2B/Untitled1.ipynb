{
 "cells": [
  {
   "cell_type": "code",
   "execution_count": 25,
   "id": "c72bc615",
   "metadata": {},
   "outputs": [],
   "source": [
    "from scipy.integrate import quad\n"
   ]
  },
  {
   "cell_type": "code",
   "execution_count": 26,
   "id": "cec83895",
   "metadata": {},
   "outputs": [],
   "source": [
    "def integral(f,a,b):\n",
    "\n",
    "    integral,error=quad(f,a,b)\n",
    "    return integral\n"
   ]
  },
  {
   "cell_type": "code",
   "execution_count": 22,
   "id": "245b9ace",
   "metadata": {},
   "outputs": [],
   "source": [
    "import numpy as np"
   ]
  },
  {
   "cell_type": "code",
   "execution_count": 9,
   "id": "cac0ce8b",
   "metadata": {},
   "outputs": [],
   "source": [
    "mo=.3\n",
    "mr=.01\n",
    "mk=.05\n",
    "my=1-mo-mr-mk\n",
    "i=np.linspace(0,3,100)\n",
    "valores=[]"
   ]
  },
  {
   "cell_type": "code",
   "execution_count": 19,
   "id": "b8ca261c",
   "metadata": {},
   "outputs": [
    {
     "data": {
      "text/plain": [
       "<module 'myintegracion' from '/home/emanuel/.local/lib/python3.10/site-packages/myintegracion/__init__.py'>"
      ]
     },
     "execution_count": 19,
     "metadata": {},
     "output_type": "execute_result"
    }
   ],
   "source": [
    "myintegracion"
   ]
  },
  {
   "cell_type": "code",
   "execution_count": 33,
   "id": "559bc15a",
   "metadata": {},
   "outputs": [
    {
     "name": "stderr",
     "output_type": "stream",
     "text": [
      "/tmp/ipykernel_4358/355369287.py:2: RuntimeWarning: invalid value encountered in double_scalars\n",
      "  f=1/((1+z)*(mo*(1+z)**3+mr*(1+z)**4+mk*(1+z)**2-my)**0.5)\n"
     ]
    },
    {
     "ename": "NameError",
     "evalue": "name 'none' is not defined",
     "output_type": "error",
     "traceback": [
      "\u001b[0;31m---------------------------------------------------------------------------\u001b[0m",
      "\u001b[0;31mNameError\u001b[0m                                 Traceback (most recent call last)",
      "Cell \u001b[0;32mIn[33], line 3\u001b[0m\n\u001b[1;32m      1\u001b[0m \u001b[38;5;28;01mfor\u001b[39;00m z \u001b[38;5;129;01min\u001b[39;00m i:\n\u001b[1;32m      2\u001b[0m     f\u001b[38;5;241m=\u001b[39m\u001b[38;5;241m1\u001b[39m\u001b[38;5;241m/\u001b[39m((\u001b[38;5;241m1\u001b[39m\u001b[38;5;241m+\u001b[39mz)\u001b[38;5;241m*\u001b[39m(mo\u001b[38;5;241m*\u001b[39m(\u001b[38;5;241m1\u001b[39m\u001b[38;5;241m+\u001b[39mz)\u001b[38;5;241m*\u001b[39m\u001b[38;5;241m*\u001b[39m\u001b[38;5;241m3\u001b[39m\u001b[38;5;241m+\u001b[39mmr\u001b[38;5;241m*\u001b[39m(\u001b[38;5;241m1\u001b[39m\u001b[38;5;241m+\u001b[39mz)\u001b[38;5;241m*\u001b[39m\u001b[38;5;241m*\u001b[39m\u001b[38;5;241m4\u001b[39m\u001b[38;5;241m+\u001b[39mmk\u001b[38;5;241m*\u001b[39m(\u001b[38;5;241m1\u001b[39m\u001b[38;5;241m+\u001b[39mz)\u001b[38;5;241m*\u001b[39m\u001b[38;5;241m*\u001b[39m\u001b[38;5;241m2\u001b[39m\u001b[38;5;241m-\u001b[39mmy)\u001b[38;5;241m*\u001b[39m\u001b[38;5;241m*\u001b[39m\u001b[38;5;241m0.5\u001b[39m)\n\u001b[0;32m----> 3\u001b[0m     valor,error\u001b[38;5;241m=\u001b[39mquad(f,a,z,\u001b[43mnone\u001b[49m)\n\u001b[1;32m      4\u001b[0m     valores\u001b[38;5;241m.\u001b[39mappend(valor)\n",
      "\u001b[0;31mNameError\u001b[0m: name 'none' is not defined"
     ]
    }
   ],
   "source": [
    "for z in i:\n",
    "    f=1/((1+z)*(mo*(1+z)**3+mr*(1+z)**4+mk*(1+z)**2-my)**0.5)\n",
    "    valor,error=quad(f,a,z)\n",
    "    valores.append(valor)"
   ]
  },
  {
   "cell_type": "code",
   "execution_count": 3,
   "id": "4f6a5e07",
   "metadata": {},
   "outputs": [
    {
     "ename": "NameError",
     "evalue": "name 'z' is not defined",
     "output_type": "error",
     "traceback": [
      "\u001b[0;31m---------------------------------------------------------------------------\u001b[0m",
      "\u001b[0;31mNameError\u001b[0m                                 Traceback (most recent call last)",
      "Cell \u001b[0;32mIn[3], line 1\u001b[0m\n\u001b[0;32m----> 1\u001b[0m f\u001b[38;5;241m=\u001b[39m\u001b[38;5;241m1\u001b[39m\u001b[38;5;241m/\u001b[39m((\u001b[38;5;241m1\u001b[39m\u001b[38;5;241m+\u001b[39m\u001b[43mz\u001b[49m)\u001b[38;5;241m*\u001b[39m(mo\u001b[38;5;241m*\u001b[39m(\u001b[38;5;241m1\u001b[39m\u001b[38;5;241m+\u001b[39mz)\u001b[38;5;241m*\u001b[39m\u001b[38;5;241m*\u001b[39m\u001b[38;5;241m3\u001b[39m\u001b[38;5;241m+\u001b[39mmr\u001b[38;5;241m*\u001b[39m(\u001b[38;5;241m1\u001b[39m\u001b[38;5;241m+\u001b[39mz)\u001b[38;5;241m*\u001b[39m\u001b[38;5;241m*\u001b[39m\u001b[38;5;241m4\u001b[39m\u001b[38;5;241m+\u001b[39mmk\u001b[38;5;241m*\u001b[39m(\u001b[38;5;241m1\u001b[39m\u001b[38;5;241m+\u001b[39mz)\u001b[38;5;241m*\u001b[39m\u001b[38;5;241m*\u001b[39m\u001b[38;5;241m2\u001b[39m\u001b[38;5;241m-\u001b[39mmy)\u001b[38;5;241m*\u001b[39m\u001b[38;5;241m*\u001b[39m\u001b[38;5;241m0.5\u001b[39m)\n",
      "\u001b[0;31mNameError\u001b[0m: name 'z' is not defined"
     ]
    }
   ],
   "source": [
    "f=1/((1+z)*(mo*(1+z)**3+mr*(1+z)**4+mk*(1+z)**2-my)**0.5)"
   ]
  },
  {
   "cell_type": "code",
   "execution_count": 29,
   "id": "708ed5ff",
   "metadata": {},
   "outputs": [],
   "source": [
    "a=0\n",
    "b=1"
   ]
  },
  {
   "cell_type": "code",
   "execution_count": null,
   "id": "bed3a42d",
   "metadata": {},
   "outputs": [],
   "source": [
    "print(myintegracion.integracion(f,a,b))\n"
   ]
  }
 ],
 "metadata": {
  "kernelspec": {
   "display_name": "Python 3 (ipykernel)",
   "language": "python",
   "name": "python3"
  },
  "language_info": {
   "codemirror_mode": {
    "name": "ipython",
    "version": 3
   },
   "file_extension": ".py",
   "mimetype": "text/x-python",
   "name": "python",
   "nbconvert_exporter": "python",
   "pygments_lexer": "ipython3",
   "version": "3.10.6"
  }
 },
 "nbformat": 4,
 "nbformat_minor": 5
}
