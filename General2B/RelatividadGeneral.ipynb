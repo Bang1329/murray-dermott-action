{
 "cells": [
  {
   "cell_type": "markdown",
   "id": "ce1c3b15",
   "metadata": {},
   "source": [
    "## Chapter 11.\n",
    "El problema de los dos cuerpos en relatividad general.\n",
    "The two body problem in relativity general. \n",
    "\n",
    "Action by Emanuel Noreña, University of Antioquia\n",
    "\n",
    "En este cuaderno presentaremos parte del trasfondo teórico del capítulo dedicado al Problema de los dos cuerpos y algunos resultados matemáticos y numéricos de interés para la teoría.\n"
   ]
  },
  {
   "cell_type": "markdown",
   "id": "de9207ea",
   "metadata": {},
   "source": [
    "El problema de los dos cuerpos en relatividad general estratado por el tema de movimiento geodesico para la metrica de Schwarzschild. Antes de introducirse en la lectura busque tener claros los siguientes temas:\n",
    "- geometrica plana y definicion de metricas para geometricas curvas\n",
    "- geodesicas \n",
    "- principio lagranjino"
   ]
  },
  {
   "cell_type": "code",
   "execution_count": null,
   "id": "50d41e53",
   "metadata": {},
   "outputs": [],
   "source": []
  }
 ],
 "metadata": {
  "kernelspec": {
   "display_name": "Python 3 (ipykernel)",
   "language": "python",
   "name": "python3"
  },
  "language_info": {
   "codemirror_mode": {
    "name": "ipython",
    "version": 3
   },
   "file_extension": ".py",
   "mimetype": "text/x-python",
   "name": "python",
   "nbconvert_exporter": "python",
   "pygments_lexer": "ipython3",
   "version": "3.10.6"
  }
 },
 "nbformat": 4,
 "nbformat_minor": 5
}
