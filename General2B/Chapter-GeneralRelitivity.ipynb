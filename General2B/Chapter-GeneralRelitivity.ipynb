{
 "cells": [
  {
   "cell_type": "markdown",
   "metadata": {},
   "source": [
    "##\n",
    "Chapter 11. The two body problem in relativity general\n",
    "Action by Emanuel Noreña, University of Antioquia\n",
    "\n",
    "In this notebook we will present part of the theoretical background of the chapter devoted to the Two body problem and some mathematical and numerical results which are interested for the theory.\n",
    "\n",
    "For details on the theory please refer directly to the book:\n",
    "\n",
    "    elementos de relatividad de lorenzo de la torre\n",
    "\n"
   ]
  },
  {
   "cell_type": "code",
   "execution_count": 1,
   "metadata": {},
   "outputs": [],
   "source": [
    "!pip install numpy -q\n",
    "!pip install sympy -q\n",
    "!pip install git+https://github.com/einsteinpy/einsteinpy.git -q\n",
    "!pip install einsteinpy  -q\n",
    "!pip install -q rebound\n",
    "!pip install -q astropy\n",
    "!pip install -q spiceypy\n",
    "!pip install -q scipy\n",
    "!pip install -q astroquery"
   ]
  },
  {
   "cell_type": "code",
   "execution_count": 2,
   "metadata": {},
   "outputs": [],
   "source": [
    "import numpy as np\n",
    "import sympy as sp\n",
    "import rebound as rb\n",
    "from einsteinpy.symbolic import *\n",
    "from scipy.constants import G,c\n",
    "import matplotlib.pyplot as plt\n",
    "from mpl_toolkits.mplot3d import Axes3D"
   ]
  },
  {
   "cell_type": "markdown",
   "metadata": {},
   "source": [
    "# Ecuacion de la geodesica"
   ]
  },
  {
   "cell_type": "markdown",
   "metadata": {},
   "source": [
    "$\\frac{\\mathrm{d}^2 x^\\mu}{\\mathrm{d} \\lambda^2}+\\sum_{\\nu, \\rho} \\Gamma_{\\nu \\rho}^\\mu \\frac{\\mathrm{d} x^\\nu}{\\mathrm{d} \\lambda} \\frac{\\mathrm{d} x^\\rho}{\\mathrm{d} \\lambda}=0$"
   ]
  },
  {
   "cell_type": "markdown",
   "metadata": {},
   "source": [
    "Esta ecuacion tiene muchas formas de ser deducida, aunque la mas directa puede ser usando la expresion $ds^2=g_{uv}dx^udx^v$ y reemplazarla en el lagranjiano. Esto define una trayectoria de minima accion.\n",
    "Esta ecuacion determina 4 ecuaciones, ya que, los indices recorren las 4 coordenadas espacio temporales\n"
   ]
  },
  {
   "cell_type": "markdown",
   "metadata": {},
   "source": [
    "# Ecuaciones de movimiento"
   ]
  },
  {
   "cell_type": "markdown",
   "metadata": {},
   "source": [
    "Veremos las ecuaciones que rigen el movimiento geodesico de una particula en espacios tetradimensionales para una metrica de shwarzchild, estas ecuaciones son:"
   ]
  },
  {
   "cell_type": "markdown",
   "metadata": {},
   "source": [
    "$\\begin{aligned}\n",
    "& \\frac{\\mathrm{d}^2 t}{\\mathrm{~d} \\lambda^2}+\\frac{2 G M}{c^2 r^2\\left(1-\\frac{2 G M}{c^2 r}\\right)} \\frac{\\mathrm{d} r}{\\mathrm{~d} \\lambda} \\frac{\\mathrm{d} t}{\\mathrm{~d} \\lambda}=0 \\\\\n",
    "& \\frac{\\mathrm{d}^2 r}{\\mathrm{~d} \\lambda^2}+\\frac{G M}{r^2}\\left(1-\\frac{2 G M}{c^2 r}\\right)\\left(\\frac{\\mathrm{d} t}{\\mathrm{~d} \\lambda}\\right)^2-\\frac{G M}{c^2 r^2\\left(1-\\frac{2 G M}{c^2 r}\\right)}\\left(\\frac{\\mathrm{d} r}{\\mathrm{~d} \\lambda}\\right)^2 \\\\\n",
    "& \\quad-r\\left(1-\\frac{2 G M}{c^2 r}\\right)\\left[\\left(\\frac{\\mathrm{d} \\theta}{\\mathrm{d} \\lambda}\\right)^2+\\sin ^2 \\theta\\left(\\frac{\\mathrm{d} \\phi}{\\mathrm{d} \\lambda}\\right)^2\\right]=0 \\\\\n",
    "& \\frac{\\mathrm{d}^2 \\theta}{\\mathrm{d} \\lambda^2}+\\frac{2}{r} \\frac{\\mathrm{d} r}{\\mathrm{~d} \\lambda} \\frac{\\mathrm{d} \\theta}{\\mathrm{d} \\lambda}-\\sin \\theta \\cos \\theta\\left(\\frac{\\mathrm{d} \\phi}{\\mathrm{d} \\lambda}\\right)^2=0 \\\\\n",
    "& \\frac{\\mathrm{d}^2 \\phi}{\\mathrm{d} \\lambda^2}+\\frac{2}{r} \\frac{\\mathrm{d} r}{\\mathrm{~d} \\lambda} \\frac{\\mathrm{d} \\phi}{\\mathrm{d} \\lambda}+2 \\frac{\\cos \\theta}{\\sin \\theta} \\frac{\\mathrm{d} \\theta}{\\mathrm{d} \\lambda} \\frac{\\mathrm{d} \\phi}{\\mathrm{d} \\lambda}=0\n",
    "\\end{aligned}$"
   ]
  },
  {
   "cell_type": "markdown",
   "metadata": {},
   "source": [
    "Las cuales se obtienen reemplazando en la ecuación de la geodesica general, el valor de la metrica de shwarzchild y sus repectivas coordenadas , las soluciones a estas ecuaciones determinan la trayectoria definida por los parametros (t,r,𝜃,𝜙)."
   ]
  },
  {
   "cell_type": "markdown",
   "metadata": {},
   "source": [
    "# Metrica"
   ]
  },
  {
   "cell_type": "markdown",
   "metadata": {},
   "source": [
    "La metrica es la encargada de definir la forma en como se miden distancias en un espacio , la metrica que siempre hemos usado y con la cual estamos mas familiarizados es la geometria euclidea la cual se define como: \n",
    "$ds^2=dx^2+dy^2+dz^2$.\n",
    "\n",
    "suponiendo que estamos en $R^4$ la metrica debe aumentar la dimension como:\n",
    "\n",
    "$ds^2=dx^2+dy^2+dz^2+dw^2$\n",
    "\n",
    "para el espacio tiempo, un espacio pseudo-euclideano cuadridimensional, la metrica será:\n",
    "\n",
    "$ds^2=-dx^2-dy^2-dz^2+c^2dt^2$ para 3 coordenadas espaciales y una temporal, donde esta siendo multiplicada por c2 para tener las mismas dimensiones espaciales. Esta metrica se da por construccion y cumple los requisitos que un espacio pseudo euclideo determina.\n",
    "\n",
    "Ahora para la construccion de la metrica de schwarzscild los requisitos necesarios son :\n",
    "\n",
    "1-El espacio-tiempo lejos del cuerpo esféricamente simétrico es plano. Esto es descrito diciendo que la métrica es asintóticamente plana y es consistente con la idea de que los efectos gravitatorios se vuelven más débiles a medida que la distancia desde su fuente aumenta.\n",
    "\n",
    "2-Los coeficientes métricos no dependen del tiempo. Esto se describe diciendo que la métrica es estacionaria y es consistente con la idea de que nada se mueve de un lugar a otro.\n",
    "\n",
    "3-El elemento de línea no cambia si t se reemplaza por −t. Esto se describe diciendo que la métrica es estática y es coherente con la idea de que nada gira.\n",
    "\n",
    "El producto final es la expresion:"
   ]
  },
  {
   "cell_type": "markdown",
   "metadata": {},
   "source": [
    "$$\n",
    "\\begin{aligned}\n",
    "(\\mathrm{d} s)^2= & \\left(1-\\frac{2 G M}{c^2 r}\\right) c^2(\\mathrm{~d} t)^2-\\frac{(\\mathrm{d} r)^2}{1-\\frac{2 G M}{c^2 r}} \\\\\n",
    "& -r^2(\\mathrm{~d} \\theta)^2-r^2 \\sin ^2 \\theta(\\mathrm{d} \\phi)^2\n",
    "\\end{aligned}\n",
    "$$\n",
    "de forma matricial:\n",
    "\n",
    "$$\n",
    "\\left[g_{\\mu \\nu}\\right]=\\left(\\begin{array}{cccc}\n",
    "1-\\frac{2 G M}{c^2 r} & 0 & 0 & 0 \\\\\n",
    "0 & -\\frac{1}{1-\\frac{2 G M}{c^2 r}} & 0 & 0 \\\\\n",
    "0 & 0 & -r^2 & 0 \\\\\n",
    "0 & 0 & 0 & -r^2 \\sin ^2 \\theta\n",
    "\\end{array}\\right)\n",
    "$$"
   ]
  },
  {
   "cell_type": "markdown",
   "metadata": {},
   "source": [
    "El radio de Schwarzschild\n",
    "$s=\\frac{2 G M}{c^2 }$\n",
    "\n",
    "Que define el radio que tendría una masa que colapsa en una singularidad"
   ]
  },
  {
   "cell_type": "markdown",
   "metadata": {},
   "source": [
    "$$\n",
    "\\begin{aligned}\n",
    "(\\mathrm{d} s)^2= & \\left(1-\\frac{s}{r}\\right) c^2(\\mathrm{~d} t)^2-\\frac{(\\mathrm{d} r)^2}{1-\\frac{s}{ r}} \\\\\n",
    "& -r^2(\\mathrm{~d} \\theta)^2-r^2 \\sin ^2 \\theta(\\mathrm{d} \\phi)^2\n",
    "\\end{aligned}\n",
    "$$"
   ]
  },
  {
   "cell_type": "markdown",
   "metadata": {},
   "source": [
    "# Símbolos de Christoffel"
   ]
  },
  {
   "cell_type": "markdown",
   "metadata": {},
   "source": [
    "Los símbolos de Christoffel se pueden interpretar como coeficientes ponderados que permiten hallar las derivadas de los vectorer base \n",
    "\n",
    "$\\Gamma \\stackrel{k}{i}=e^k \\cdot \\frac{\\partial e_i}{\\partial x^j} \\quad$\n",
    "\n",
    "la derivada es necesaria porque esta determina el cambio de los vectores base en desplazamientos.\n",
    "\n",
    "la deduccion formal de los indices da como resultado para un espacio sin torsiones: \n",
    "\n",
    "$\\Gamma_{k l}^i=\\frac{1}{2} g^{i m}\\left(\\frac{\\partial g_{m k}}{\\partial x^b}+\\frac{\\partial g_{m l}}{\\partial x^k}-\\frac{\\partial g_{k l}}{\\partial x^m}\\right)=\\frac{1}{2} g^{i m} \\frac{\\partial g_{m k}}{\\partial x^l}+\\frac{1}{2} g^{i m} \\frac{\\partial g_{m l}}{\\partial x^k}-\\frac{1}{2} g^{i m} \\frac{\\partial g_{k l}}{\\partial x^m}$"
   ]
  },
  {
   "cell_type": "markdown",
   "metadata": {},
   "source": [
    "\n",
    "<div class=\"container\">\n",
    "      <div class=\"image\"> <img src=\"transporteparalelo.png\" alt=\"This is my image.\" height=\"200px\"/> </div> \n",
    "      <div class=\"image\"> <img src=\"transporte.png\" alt=\"This is my second image.\" height=\"200px\"/> </div>\n",
    "    <div class=\"image\"> <img src=\"plano.jpeg\" alt=\"This is my second image.\" height=\"200px\"/> </div>\n",
    "    "
   ]
  },
  {
   "cell_type": "markdown",
   "metadata": {},
   "source": [
    "Ejemplo de un vector transportado paralelamente para ejemplificar la rotacion de los vectores base en la superficie de una esfera y sobra un circulo en el plano, la tercera imagen muestra el transporte paralelo en coorndenadas porales."
   ]
  },
  {
   "cell_type": "code",
   "execution_count": 3,
   "metadata": {},
   "outputs": [
    {
     "data": {
      "text/latex": [
       "$\\displaystyle \\left[\\begin{matrix}1 - \\frac{s}{r} & 0 & 0 & 0\\\\0 & - \\frac{1}{1 - \\frac{s}{r}} & 0 & 0\\\\0 & 0 & - r^{2} & 0\\\\0 & 0 & 0 & - r^{2} \\sin^{2}{\\left(\\theta \\right)}\\end{matrix}\\right]$"
      ],
      "text/plain": [
       "[[1 - s/r, 0, 0, 0], [0, -1/(1 - s/r), 0, 0], [0, 0, -r**2, 0], [0, 0, 0, -r**2*sin(theta)**2]]"
      ]
     },
     "execution_count": 3,
     "metadata": {},
     "output_type": "execute_result"
    }
   ],
   "source": [
    "import sympy as sp\n",
    "from einsteinpy.symbolic import *\n",
    "s = sp.symbols('s')\n",
    "S= sp.symbols('t, r, theta, phi')\n",
    "t, r, q, f = S\n",
    "t_, r_, q_, f_ = 0, 1, 2, 3\n",
    "gcomp = sp.diag(1-s/r, -1/(1-s/r), -r**2,-r**2*sp.sin(q)**2).tolist()\n",
    "\n",
    "g = MetricTensor(gcomp,S)\n",
    "\n",
    "gij = g.tensor()\n",
    "gij"
   ]
  },
  {
   "cell_type": "code",
   "execution_count": 4,
   "metadata": {},
   "outputs": [
    {
     "data": {
      "text/latex": [
       "$\\displaystyle \\left[\\begin{matrix}\\left[\\begin{matrix}0 & \\frac{s}{2 r^{2} \\cdot \\left(1 - \\frac{s}{r}\\right)} & 0 & 0\\\\\\frac{s}{2 r^{2} \\cdot \\left(1 - \\frac{s}{r}\\right)} & 0 & 0 & 0\\\\0 & 0 & 0 & 0\\\\0 & 0 & 0 & 0\\end{matrix}\\right] & \\left[\\begin{matrix}- \\frac{s \\left(- \\frac{1}{2} + \\frac{s}{2 r}\\right)}{r^{2}} & 0 & 0 & 0\\\\0 & \\frac{s \\left(- \\frac{1}{2} + \\frac{s}{2 r}\\right)}{r^{2} \\left(1 - \\frac{s}{r}\\right)^{2}} & 0 & 0\\\\0 & 0 & 2 r \\left(- \\frac{1}{2} + \\frac{s}{2 r}\\right) & 0\\\\0 & 0 & 0 & 2 r \\left(- \\frac{1}{2} + \\frac{s}{2 r}\\right) \\sin^{2}{\\left(\\theta \\right)}\\end{matrix}\\right] & \\left[\\begin{matrix}0 & 0 & 0 & 0\\\\0 & 0 & \\frac{1}{r} & 0\\\\0 & \\frac{1}{r} & 0 & 0\\\\0 & 0 & 0 & - \\sin{\\left(\\theta \\right)} \\cos{\\left(\\theta \\right)}\\end{matrix}\\right] & \\left[\\begin{matrix}0 & 0 & 0 & 0\\\\0 & 0 & 0 & \\frac{1}{r}\\\\0 & 0 & 0 & \\frac{\\cos{\\left(\\theta \\right)}}{\\sin{\\left(\\theta \\right)}}\\\\0 & \\frac{1}{r} & \\frac{\\cos{\\left(\\theta \\right)}}{\\sin{\\left(\\theta \\right)}} & 0\\end{matrix}\\right]\\end{matrix}\\right]$"
      ],
      "text/plain": [
       "[[[0, s/(2*r**2*(1 - s/r)), 0, 0], [s/(2*r**2*(1 - s/r)), 0, 0, 0], [0, 0, 0, 0], [0, 0, 0, 0]], [[-s*(-1/2 + s/(2*r))/r**2, 0, 0, 0], [0, s*(-1/2 + s/(2*r))/(r**2*(1 - s/r)**2), 0, 0], [0, 0, 2*r*(-1/2 + s/(2*r)), 0], [0, 0, 0, 2*r*(-1/2 + s/(2*r))*sin(theta)**2]], [[0, 0, 0, 0], [0, 0, 1/r, 0], [0, 1/r, 0, 0], [0, 0, 0, -sin(theta)*cos(theta)]], [[0, 0, 0, 0], [0, 0, 0, 1/r], [0, 0, 0, cos(theta)/sin(theta)], [0, 1/r, cos(theta)/sin(theta), 0]]]"
      ]
     },
     "execution_count": 4,
     "metadata": {},
     "output_type": "execute_result"
    }
   ],
   "source": [
    "G=ChristoffelSymbols.from_metric(g)\n",
    "Gijk=G.tensor()\n",
    "Gijk"
   ]
  },
  {
   "cell_type": "markdown",
   "metadata": {},
   "source": [
    "explicar porque esta es la forma de la representacion matricial de los simbolos"
   ]
  },
  {
   "cell_type": "code",
   "execution_count": 5,
   "metadata": {},
   "outputs": [
    {
     "name": "stdout",
     "output_type": "stream",
     "text": [
      "indice :G{i,j,k}\n",
      "indice : (0, 0, 1): s/(2*r**2*(1 - s/r))\n",
      "indice : (0, 1, 0): s/(2*r**2*(1 - s/r))\n",
      "indice : (1, 0, 0): -s*(-1/2 + s/(2*r))/r**2\n",
      "indice : (1, 1, 1): s*(-1/2 + s/(2*r))/(r**2*(1 - s/r)**2)\n",
      "indice : (1, 2, 2): 2*r*(-1/2 + s/(2*r))\n",
      "indice : (1, 3, 3): 2*r*(-1/2 + s/(2*r))*sin(theta)**2\n",
      "indice : (2, 1, 2): 1/r\n",
      "indice : (2, 2, 1): 1/r\n",
      "indice : (2, 3, 3): -sin(theta)*cos(theta)\n",
      "indice : (3, 1, 3): 1/r\n",
      "indice : (3, 2, 3): cos(theta)/sin(theta)\n",
      "indice : (3, 3, 1): 1/r\n",
      "indice : (3, 3, 2): cos(theta)/sin(theta)\n"
     ]
    }
   ],
   "source": [
    "print(\"indice :G{i,j,k}\")\n",
    "for i in range(0,4):\n",
    "    for j in range(0,4):\n",
    "        for k in range(0,4):\n",
    "            if Gijk[i,j,k]!=0:\n",
    "                print(f\"indice : {i,j,k}: {Gijk[i,j,k]}\")"
   ]
  },
  {
   "cell_type": "markdown",
   "metadata": {},
   "source": [
    "# ecuaciones geodesicas en metrica de swharchild"
   ]
  },
  {
   "cell_type": "markdown",
   "metadata": {},
   "source": [
    "$\\frac{\\mathrm{d}^2 x^\\mu}{\\mathrm{d} \\lambda^2}+\\sum_{\\nu, \\rho} \\Gamma_{\\nu \\rho}^\\mu \\frac{\\mathrm{d} x^\\nu}{\\mathrm{d} \\lambda} \\frac{\\mathrm{d} x^\\rho}{\\mathrm{d} \\lambda}=0$"
   ]
  },
  {
   "cell_type": "markdown",
   "metadata": {},
   "source": [
    "empezando con la componente 0:\n",
    "\n",
    "$$\n",
    "\\begin{aligned}\n",
    "\\frac{\\mathrm{d}^2 x^0}{\\mathrm{d} \\lambda^2}+ &\\\\\n",
    "& \\Gamma_{0 0}^0 \\frac{\\mathrm{d} x^0}{\\mathrm{d} \\lambda} \\frac{\\mathrm{d} x^0}{\\mathrm{d} \\lambda} + \\Gamma_{0 1}^0 \\frac{\\mathrm{d} x^0}{\\mathrm{d} \\lambda} \\frac{\\mathrm{d} x^1}{\\mathrm{d} \\lambda}+ \\Gamma_{0 2}^0 \\frac{\\mathrm{d} x^0}{\\mathrm{d} \\lambda} \\frac{\\mathrm{d} x^2}{\\mathrm{d} \\lambda}+ \\Gamma_{0 3}^0 \\frac{\\mathrm{d} x^0}{\\mathrm{d} \\lambda} \\frac{\\mathrm{d} x^3}{\\mathrm{d} \\lambda}+\\\\\n",
    "&\\Gamma_{1 0}^0 \\frac{\\mathrm{d} x^1}{\\mathrm{d} \\lambda} \\frac{\\mathrm{d} x^0}{\\mathrm{d} \\lambda} + \\Gamma_{1 1}^0 \\frac{\\mathrm{d} x^1}{\\mathrm{d} \\lambda} \\frac{\\mathrm{d} x^1}{\\mathrm{d} \\lambda}+ \\Gamma_{1 2}^0 \\frac{\\mathrm{d} x^1}{\\mathrm{d} \\lambda} \\frac{\\mathrm{d} x^2}{\\mathrm{d} \\lambda}+ \\Gamma_{1 3}^0 \\frac{\\mathrm{d} x^1}{\\mathrm{d} \\lambda} \\frac{\\mathrm{d} x^3}{\\mathrm{d} \\lambda}+\\\\\n",
    "&\\Gamma_{2 0}^0 \\frac{\\mathrm{d} x^2}{\\mathrm{d} \\lambda} \\frac{\\mathrm{d} x^0}{\\mathrm{d} \\lambda} + \\Gamma_{ 2 1}^0 \\frac{\\mathrm{d} x^2}{\\mathrm{d} \\lambda} \\frac{\\mathrm{d} x^1}{\\mathrm{d} \\lambda}+ \\Gamma_{2 2}^0 \\frac{\\mathrm{d} x^2}{\\mathrm{d} \\lambda} \\frac{\\mathrm{d} x^2}{\\mathrm{d} \\lambda}+ \\Gamma_{2 3}^0 \\frac{\\mathrm{d} x^2}{\\mathrm{d} \\lambda} \\frac{\\mathrm{d} x^3}{\\mathrm{d} \\lambda}+\\\\\n",
    "&\\Gamma_{3 0}^0 \\frac{\\mathrm{d} x^3}{\\mathrm{d} \\lambda} \\frac{\\mathrm{d} x^0}{\\mathrm{d} \\lambda} + \\Gamma_{3 1}^0 \\frac{\\mathrm{d} x^3}{\\mathrm{d} \\lambda} \\frac{\\mathrm{d} x^1}{\\mathrm{d} \\lambda}+ \\Gamma_{3 2}^0 \\frac{\\mathrm{d} x^3}{\\mathrm{d} \\lambda} \\frac{\\mathrm{d} x^2}{\\mathrm{d} \\lambda}+ \\Gamma_{3 3}^0 \\frac{\\mathrm{d} x^3}{\\mathrm{d} \\lambda} \\frac{\\mathrm{d} x^3}{\\mathrm{d} \\lambda}+\\\\\n",
    "&=0\n",
    "\\end{aligned}\n",
    "$$"
   ]
  },
  {
   "cell_type": "markdown",
   "metadata": {},
   "source": [
    "aplicando las simetrias"
   ]
  },
  {
   "cell_type": "markdown",
   "metadata": {},
   "source": [
    "$$\n",
    "\\begin{aligned}\n",
    "\\frac{\\mathrm{d}^2 x^0}{\\mathrm{d} \\lambda^2}+ &\\\\\n",
    "& \\Gamma_{0 0}^0 \\frac{\\mathrm{d} x^0}{\\mathrm{d} \\lambda} \\frac{\\mathrm{d} x^0}{\\mathrm{d} \\lambda} + 2\\Gamma_{0 1}^0 \\frac{\\mathrm{d} x^0}{\\mathrm{d} \\lambda} \\frac{\\mathrm{d} x^1}{\\mathrm{d} \\lambda}+ 2\\Gamma_{0 2}^0 \\frac{\\mathrm{d} x^0}{\\mathrm{d} \\lambda} \\frac{\\mathrm{d} x^2}{\\mathrm{d} \\lambda}+ 2\\Gamma_{0 3}^0 \\frac{\\mathrm{d} x^0}{\\mathrm{d} \\lambda} \\frac{\\mathrm{d} x^3}{\\mathrm{d} \\lambda}+\\\\\n",
    "& \\Gamma_{1 1}^0 \\frac{\\mathrm{d} x^1}{\\mathrm{d} \\lambda} \\frac{\\mathrm{d} x^1}{\\mathrm{d} \\lambda}+ 2\\Gamma_{1 2}^0 \\frac{\\mathrm{d} x^1}{\\mathrm{d} \\lambda} \\frac{\\mathrm{d} x^2}{\\mathrm{d} \\lambda}+ 2\\Gamma_{1 3}^0 \\frac{\\mathrm{d} x^1}{\\mathrm{d} \\lambda} \\frac{\\mathrm{d} x^3}{\\mathrm{d} \\lambda}+\\\\\n",
    "& \\Gamma_{2 2}^0 \\frac{\\mathrm{d} x^2}{\\mathrm{d} \\lambda} \\frac{\\mathrm{d} x^2}{\\mathrm{d} \\lambda}+2 \\Gamma_{2 3}^0 \\frac{\\mathrm{d} x^2}{\\mathrm{d} \\lambda} \\frac{\\mathrm{d} x^3}{\\mathrm{d} \\lambda}+\\\\\n",
    "& \\Gamma_{3 3}^0 \\frac{\\mathrm{d} x^3}{\\mathrm{d} \\lambda} \\frac{\\mathrm{d} x^3}{\\mathrm{d} \\lambda}\\\\\n",
    "&=0\n",
    "\\end{aligned}\n",
    "$$"
   ]
  },
  {
   "cell_type": "markdown",
   "metadata": {},
   "source": [
    "escogiendo solo los que son diferentes de 0:"
   ]
  },
  {
   "cell_type": "markdown",
   "metadata": {},
   "source": [
    "$$\n",
    "\\begin{aligned}\n",
    "\\frac{\\mathrm{d}^2 x^0}{\\mathrm{d} \\lambda^2}+ &\\\\\n",
    "& 2\\Gamma_{0 1}^0 \\frac{\\mathrm{d} x^0}{\\mathrm{d} \\lambda} \\frac{\\mathrm{d} x^1}{\\mathrm{d} \\lambda}\n",
    "&=0\n",
    "\\end{aligned}\n",
    "$$"
   ]
  },
  {
   "cell_type": "markdown",
   "metadata": {},
   "source": [
    "reemplazando el valor de las coordenadas y el simbolo de chistoffel:"
   ]
  },
  {
   "cell_type": "markdown",
   "metadata": {},
   "source": [
    "$$\n",
    "\\begin{aligned}\n",
    "\\frac{\\mathrm{d}^2 ct}{\\mathrm{d} \\lambda^2}+ &\\\\\n",
    "& \\frac{s}{r^2(1 - s/r)} \\frac{\\mathrm{d} ct}{\\mathrm{d} \\lambda} \\frac{\\mathrm{d} r}{\\mathrm{d} \\lambda}\n",
    "&=0\n",
    "\\end{aligned}\n",
    "$$"
   ]
  },
  {
   "cell_type": "markdown",
   "metadata": {},
   "source": [
    "$$\\frac{\\mathrm{d}^2 t}{\\mathrm{d} \\lambda^2}+\\frac{s}{r^2(1 - s/r)} \\frac{\\mathrm{d} t}{\\mathrm{d} \\lambda} \\frac{\\mathrm{d} r}{\\mathrm{d} \\lambda}\n",
    "=0$$"
   ]
  },
  {
   "cell_type": "markdown",
   "metadata": {},
   "source": [
    "comparando con el resultado esperado:\n",
    "\n",
    "$$\n",
    "\\frac{\\mathrm{d}^2 t}{\\mathrm{~d} \\lambda^2}+\\frac{2 G M}{c^2 r^2\\left(1-\\frac{2 G M}{c^2 r}\\right)} \\frac{\\mathrm{d} r}{\\mathrm{~d} \\lambda} \\frac{\\mathrm{d} t}{\\mathrm{~d} \\lambda}=0 \n",
    "$$"
   ]
  },
  {
   "cell_type": "markdown",
   "metadata": {},
   "source": [
    "a modo de ilustracion, también calculo la componente 2 que en los simbolos de Christoffel solo 2 son diferente de cero.\n",
    "\n",
    "Componente 2:"
   ]
  },
  {
   "cell_type": "markdown",
   "metadata": {},
   "source": [
    "$$\n",
    "\\begin{aligned}\n",
    "\\frac{\\mathrm{d}^2 x^2}{\\mathrm{d} \\lambda^2}+ &\\\\\n",
    "& \\Gamma_{0 0}^2 \\frac{\\mathrm{d} x^0}{\\mathrm{d} \\lambda} \\frac{\\mathrm{d} x^0}{\\mathrm{d} \\lambda} + \\Gamma_{0 1}^2 \\frac{\\mathrm{d} x^0}{\\mathrm{d} \\lambda} \\frac{\\mathrm{d} x^1}{\\mathrm{d} \\lambda}+ \\Gamma_{0 2}^2 \\frac{\\mathrm{d} x^0}{\\mathrm{d} \\lambda} \\frac{\\mathrm{d} x^2}{\\mathrm{d} \\lambda}+ \\Gamma_{0 3}^2 \\frac{\\mathrm{d} x^0}{\\mathrm{d} \\lambda} \\frac{\\mathrm{d} x^3}{\\mathrm{d} \\lambda}+\\\\\n",
    "&\\Gamma_{1 0}^2 \\frac{\\mathrm{d} x^1}{\\mathrm{d} \\lambda} \\frac{\\mathrm{d} x^0}{\\mathrm{d} \\lambda} + \\Gamma_{1 1}^2 \\frac{\\mathrm{d} x^1}{\\mathrm{d} \\lambda} \\frac{\\mathrm{d} x^1}{\\mathrm{d} \\lambda}+ \\Gamma_{1 2}^2 \\frac{\\mathrm{d} x^1}{\\mathrm{d} \\lambda} \\frac{\\mathrm{d} x^2}{\\mathrm{d} \\lambda}+ \\Gamma_{1 3}^2 \\frac{\\mathrm{d} x^1}{\\mathrm{d} \\lambda} \\frac{\\mathrm{d} x^3}{\\mathrm{d} \\lambda}+\\\\\n",
    "&\\Gamma_{2 0}^2 \\frac{\\mathrm{d} x^2}{\\mathrm{d} \\lambda} \\frac{\\mathrm{d} x^0}{\\mathrm{d} \\lambda} + \\Gamma_{ 2 1}^2 \\frac{\\mathrm{d} x^2}{\\mathrm{d} \\lambda} \\frac{\\mathrm{d} x^1}{\\mathrm{d} \\lambda}+ \\Gamma_{2 2}^2 \\frac{\\mathrm{d} x^2}{\\mathrm{d} \\lambda} \\frac{\\mathrm{d} x^2}{\\mathrm{d} \\lambda}+ \\Gamma_{2 3}^2 \\frac{\\mathrm{d} x^2}{\\mathrm{d} \\lambda} \\frac{\\mathrm{d} x^3}{\\mathrm{d} \\lambda}+\\\\\n",
    "&\\Gamma_{3 0}^2 \\frac{\\mathrm{d} x^3}{\\mathrm{d} \\lambda} \\frac{\\mathrm{d} x^0}{\\mathrm{d} \\lambda} + \\Gamma_{3 1}^2 \\frac{\\mathrm{d} x^3}{\\mathrm{d} \\lambda} \\frac{\\mathrm{d} x^1}{\\mathrm{d} \\lambda}+ \\Gamma_{3 2}^2 \\frac{\\mathrm{d} x^3}{\\mathrm{d} \\lambda} \\frac{\\mathrm{d} x^2}{\\mathrm{d} \\lambda}+ \\Gamma_{3 3}^2 \\frac{\\mathrm{d} x^3}{\\mathrm{d} \\lambda} \\frac{\\mathrm{d} x^3}{\\mathrm{d} \\lambda}+\\\\\n",
    "&=0\n",
    "\\end{aligned}\n",
    "$$"
   ]
  },
  {
   "cell_type": "markdown",
   "metadata": {},
   "source": [
    "aplicando simetrias:"
   ]
  },
  {
   "cell_type": "markdown",
   "metadata": {},
   "source": [
    "$$\n",
    "\\begin{aligned}\n",
    "\\frac{\\mathrm{d}^2 x^2}{\\mathrm{d} \\lambda^2}+ &\\\\\n",
    "& \\Gamma_{0 0}^2 \\frac{\\mathrm{d} x^0}{\\mathrm{d} \\lambda} \\frac{\\mathrm{d} x^0}{\\mathrm{d} \\lambda} + 2\\Gamma_{0 1}^2 \\frac{\\mathrm{d} x^0}{\\mathrm{d} \\lambda} \\frac{\\mathrm{d} x^1}{\\mathrm{d} \\lambda}+ 2\\Gamma_{0 2}^2 \\frac{\\mathrm{d} x^0}{\\mathrm{d} \\lambda} \\frac{\\mathrm{d} x^2}{\\mathrm{d} \\lambda}+ 2\\Gamma_{0 3}^2 \\frac{\\mathrm{d} x^0}{\\mathrm{d} \\lambda} \\frac{\\mathrm{d} x^3}{\\mathrm{d} \\lambda}+\\\\\n",
    "& \\Gamma_{1 1}^2 \\frac{\\mathrm{d} x^1}{\\mathrm{d} \\lambda} \\frac{\\mathrm{d} x^1}{\\mathrm{d} \\lambda}+ 2\\Gamma_{1 2}^2 \\frac{\\mathrm{d} x^1}{\\mathrm{d} \\lambda} \\frac{\\mathrm{d} x^2}{\\mathrm{d} \\lambda}+ 2\\Gamma_{1 3}^2 \\frac{\\mathrm{d} x^1}{\\mathrm{d} \\lambda} \\frac{\\mathrm{d} x^3}{\\mathrm{d} \\lambda}+\\\\\n",
    "& \\Gamma_{2 2}^2 \\frac{\\mathrm{d} x^2}{\\mathrm{d} \\lambda} \\frac{\\mathrm{d} x^2}{\\mathrm{d} \\lambda}+2 \\Gamma_{2 3}^2 \\frac{\\mathrm{d} x^2}{\\mathrm{d} \\lambda} \\frac{\\mathrm{d} x^3}{\\mathrm{d} \\lambda}+\\\\\n",
    "& \\Gamma_{3 3}^2 \\frac{\\mathrm{d} x^3}{\\mathrm{d} \\lambda} \\frac{\\mathrm{d} x^3}{\\mathrm{d} \\lambda}\\\\\n",
    "&=0\n",
    "\\end{aligned}\n",
    "$$"
   ]
  },
  {
   "cell_type": "markdown",
   "metadata": {},
   "source": [
    "escogiendo las que son diferentes de 0:"
   ]
  },
  {
   "cell_type": "markdown",
   "metadata": {},
   "source": [
    "$$\n",
    "\\begin{aligned}\n",
    "\\frac{\\mathrm{d}^2 x^2}{\\mathrm{d} \\lambda^2}+ &\\\\\n",
    "& 2\\Gamma_{1 2}^2 \\frac{\\mathrm{d} x^1}{\\mathrm{d} \\lambda} \\frac{\\mathrm{d} x^2}{\\mathrm{d} \\lambda}+\n",
    "& \\Gamma_{3 3}^2 \\frac{\\mathrm{d} x^3}{\\mathrm{d} \\lambda} \\frac{\\mathrm{d} x^3}{\\mathrm{d} \\lambda}\\\\\n",
    "&=0\n",
    "\\end{aligned}\n",
    "$$"
   ]
  },
  {
   "cell_type": "markdown",
   "metadata": {},
   "source": [
    "reemplazando el valor de las coordenadas y el simbolo de chistoffel:"
   ]
  },
  {
   "cell_type": "markdown",
   "metadata": {},
   "source": [
    "$$\n",
    "\\begin{aligned}\n",
    "\\frac{\\mathrm{d}^2 \\theta}{\\mathrm{d} \\lambda^2}+ &\\\\\n",
    "&  \\frac{2}{r} \\frac{\\mathrm{d} r}{\\mathrm{d} \\lambda} \\frac{\\mathrm{d} \\theta}{\\mathrm{d} \\lambda}+\n",
    "& -sin(\\theta)cos(\\theta) \\frac{\\mathrm{d} \\phi}{\\mathrm{d} \\lambda} \\frac{\\mathrm{d} \\phi}{\\mathrm{d} \\lambda}\\\\\n",
    "&=0\n",
    "\\end{aligned}\n",
    "$$"
   ]
  },
  {
   "cell_type": "markdown",
   "metadata": {},
   "source": [
    "comparando con el resultado esperado:"
   ]
  },
  {
   "cell_type": "markdown",
   "metadata": {},
   "source": [
    "$$\\frac{\\mathrm{d}^2 \\theta}{\\mathrm{d} \\lambda^2}+\\frac{2}{r} \\frac{\\mathrm{d} r}{\\mathrm{~d} \\lambda} \\frac{\\mathrm{d} \\theta}{\\mathrm{d} \\lambda}-\\sin \\theta \\cos \\theta\\left(\\frac{\\mathrm{d} \\phi}{\\mathrm{d} \\lambda}\\right)^2=0 $$"
   ]
  },
  {
   "cell_type": "markdown",
   "metadata": {},
   "source": [
    "# Solucion de las ecuaciones- Cuadraturas"
   ]
  },
  {
   "cell_type": "markdown",
   "metadata": {},
   "source": []
  },
  {
   "cell_type": "markdown",
   "metadata": {},
   "source": [
    "\n",
    "\n",
    "## Constantes "
   ]
  },
  {
   "cell_type": "markdown",
   "metadata": {},
   "source": [
    "## Constantes fisicas y astronomicas"
   ]
  },
  {
   "cell_type": "code",
   "execution_count": 6,
   "metadata": {},
   "outputs": [],
   "source": [
    "m_sol = rb.units.masses_SI['msolar']"
   ]
  },
  {
   "cell_type": "code",
   "execution_count": 7,
   "metadata": {},
   "outputs": [],
   "source": [
    "from scipy.constants import G,c"
   ]
  },
  {
   "cell_type": "markdown",
   "metadata": {},
   "source": [
    "## Unidades del programa"
   ]
  },
  {
   "cell_type": "code",
   "execution_count": 8,
   "metadata": {},
   "outputs": [
    {
     "name": "stdout",
     "output_type": "stream",
     "text": [
      "Las unidades canonicas son: UL = 1.477e+03 m, UM = 1.988e+30 kg, UT = 4.926e-06 s \n"
     ]
    }
   ],
   "source": [
    "U_m = m_sol\n",
    "U_l = G*U_m/c**2\n",
    "U_t = U_l/c\n",
    "print(f\"Las unidades canonicas son: UL = {U_l:.3e} m, UM = {U_m:.3e} kg, UT = {U_t:.3e} s \")"
   ]
  },
  {
   "cell_type": "markdown",
   "metadata": {},
   "source": [
    "## Unidades derivadas del programa"
   ]
  },
  {
   "cell_type": "code",
   "execution_count": 9,
   "metadata": {},
   "outputs": [
    {
     "name": "stdout",
     "output_type": "stream",
     "text": [
      "Las unidades derivadas son: UV = 2.998e+08 m/s, UA = 6.086e+13 m/s^2, UF = 1.210e+44 kg*m/s^2 \n"
     ]
    }
   ],
   "source": [
    "U_v = U_l/U_t\n",
    "U_a = U_l/U_t**2\n",
    "U_f = U_a*U_m\n",
    "print(f\"Las unidades derivadas son: UV = {U_v:.3e} m/s, UA = {U_a:.3e} m/s^2, UF = {U_f:.3e} kg*m/s^2 \")"
   ]
  },
  {
   "cell_type": "code",
   "execution_count": 10,
   "metadata": {},
   "outputs": [
    {
     "name": "stdout",
     "output_type": "stream",
     "text": [
      "la masa a colpasar en kilogramos es 10 veces la masa solar que es :  1.988e+31Kg\n"
     ]
    }
   ],
   "source": [
    "m = 10\n",
    "print(f\"la masa a colpasar en kilogramos es 10 veces la masa solar que es : {m*U_m: .3e}Kg\" )\n"
   ]
  },
  {
   "cell_type": "markdown",
   "metadata": {},
   "source": [
    "calcular $s$ (radio de Schwarzschild) para un agujero negro : "
   ]
  },
  {
   "cell_type": "code",
   "execution_count": 11,
   "metadata": {},
   "outputs": [
    {
     "name": "stdout",
     "output_type": "stream",
     "text": [
      "El radio de Schwarzchild calculado para la masa dada es: 20U_l= 2.000e+01m\n"
     ]
    }
   ],
   "source": [
    "s = 2*m #radio de Schwarzchild, en unidades canonicas\n",
    "print(f\"El radio de Schwarzchild calculado para la masa dada es: {s}U_l= {s:.3e}m\")"
   ]
  },
  {
   "cell_type": "code",
   "execution_count": 12,
   "metadata": {},
   "outputs": [
    {
     "data": {
      "text/plain": [
       "20"
      ]
     },
     "execution_count": 12,
     "metadata": {},
     "output_type": "execute_result"
    }
   ],
   "source": [
    "s"
   ]
  },
  {
   "cell_type": "code",
   "execution_count": 13,
   "metadata": {},
   "outputs": [
    {
     "data": {
      "text/plain": [
       "(0.9, 0.2, 0.3, 0.9695359714832659)"
      ]
     },
     "execution_count": 13,
     "metadata": {},
     "output_type": "execute_result"
    }
   ],
   "source": [
    "t = 0\n",
    "r = 5*s\n",
    "fi = 30*np.pi/180\n",
    "teta = 60*np.pi/180\n",
    "v_r = 0.9\n",
    "v_teta = 0.2\n",
    "v_fi = 0.3\n",
    "v = (v_r**2 + v_teta**2 + v_fi**2)**0.5\n",
    "v_r,v_teta,v_fi,v#mostrar valores cada calculo"
   ]
  },
  {
   "cell_type": "code",
   "execution_count": 14,
   "metadata": {},
   "outputs": [
    {
     "data": {
      "text/plain": [
       "(1.25, 1.125, 0.0025, 0.004330127018922193)"
      ]
     },
     "execution_count": 14,
     "metadata": {},
     "output_type": "execute_result"
    }
   ],
   "source": [
    "ut = 1/(1-s/r)\n",
    "ur = 1/(1-s/r)*v_r\n",
    "uq = 1/(1-s/r)*v_teta/r\n",
    "uf = 1/(1-s/r)*v_fi/(r*np.sin(teta))\n",
    "ut,ur,uq,uf"
   ]
  },
  {
   "cell_type": "markdown",
   "metadata": {},
   "source": [
    "Orbita circular"
   ]
  },
  {
   "cell_type": "code",
   "execution_count": 15,
   "metadata": {},
   "outputs": [
    {
     "data": {
      "text/plain": [
       "(0.0,\n",
       " 0,\n",
       " 0.3478505426185218,\n",
       " 0.3478505426185218,\n",
       " 1.25,\n",
       " 0.0,\n",
       " 0.0,\n",
       " 0.004348131782731523)"
      ]
     },
     "execution_count": 15,
     "metadata": {},
     "output_type": "execute_result"
    }
   ],
   "source": [
    "t = 0\n",
    "r = 5*s\n",
    "fi = 0*np.pi/180\n",
    "teta = 90*np.pi/180\n",
    "v_r = 0.0\n",
    "v_teta = 0\n",
    "v_fi = 1.1*np.sqrt(m/r)\n",
    "v = (v_r**2 + v_teta**2 + v_fi**2)**0.5\n",
    "\n",
    "ut = 1/(1-s/r)\n",
    "ur = 1/(1-s/r)*v_r\n",
    "uq = 1/(1-s/r)*v_teta/r\n",
    "uf = 1/(1-s/r)*v_fi/(r*np.sin(teta))\n",
    "\n",
    "v_r,v_teta,v_fi,v, ut,ur,uq,uf#mostrar valores cada calculo"
   ]
  },
  {
   "cell_type": "code",
   "execution_count": 16,
   "metadata": {},
   "outputs": [
    {
     "data": {
      "text/plain": [
       "1986.9176531592202"
      ]
     },
     "execution_count": 16,
     "metadata": {},
     "output_type": "execute_result"
    }
   ],
   "source": [
    "#Periodo estimado\n",
    "T=np.sqrt(4*np.pi**2/m*r**3)\n",
    "T"
   ]
  },
  {
   "cell_type": "code",
   "execution_count": 17,
   "metadata": {},
   "outputs": [],
   "source": [
    "def geo_edm(Y, lamb, s):\n",
    "    \n",
    "    t,r,q,f = Y[:4]\n",
    "    ut,ur,uq,uf = Y[4:]\n",
    "    \n",
    "    dtdl = ut\n",
    "    drdl = ur\n",
    "    dqdl = uq\n",
    "    dfdl = uf\n",
    "    \n",
    "    dutdl = -s/(r**2*(1-s/r))*ur*ut\n",
    "    \n",
    "   \n",
    "    durdl = -s/(2*r**2)*(1-s/r)*ut**2 + (s/2*r**2)*1/(1- s/r)*ur**2 + r*(1-s/r)*(uq**2 + np.sin(q)**2*uf**2)\n",
    "    \n",
    "    \n",
    "    duqdl = -2/r*ur*uq + np.sin(q)*np.cos(q)*uf**2\n",
    "    \n",
    "     \n",
    "    dufdl = -2/r*ur*uf - 2*np.cos(q)/np.sin(q)*uq*uf\n",
    "    \n",
    "    return [dtdl, drdl, dqdl, dfdl, dutdl, durdl, duqdl, dufdl]"
   ]
  },
  {
   "cell_type": "markdown",
   "metadata": {},
   "source": [
    "Condiciones iniciales:"
   ]
  },
  {
   "cell_type": "code",
   "execution_count": 18,
   "metadata": {},
   "outputs": [
    {
     "data": {
      "text/plain": [
       "[0, 100, 1.5707963267948966, 0.0, 1.25, 0.0, 0.0, 0.004348131782731523]"
      ]
     },
     "execution_count": 18,
     "metadata": {},
     "output_type": "execute_result"
    }
   ],
   "source": [
    "#condiciones iniciales\n",
    "estado = [t, r, teta, fi, ut, ur, uq, uf]\n",
    "estado"
   ]
  },
  {
   "cell_type": "code",
   "execution_count": 19,
   "metadata": {},
   "outputs": [
    {
     "data": {
      "text/plain": [
       "[1.25,\n",
       " 0.0,\n",
       " 0.0,\n",
       " 0.004348131782731523,\n",
       " -0.0,\n",
       " 0.0002625000000000008,\n",
       " 1.1576739273189829e-21,\n",
       " -0.0]"
      ]
     },
     "execution_count": 19,
     "metadata": {},
     "output_type": "execute_result"
    }
   ],
   "source": [
    "geo_edm(estado,0,s)"
   ]
  },
  {
   "cell_type": "code",
   "execution_count": 20,
   "metadata": {},
   "outputs": [],
   "source": [
    "from scipy.integrate import odeint"
   ]
  },
  {
   "cell_type": "code",
   "execution_count": 21,
   "metadata": {},
   "outputs": [],
   "source": [
    "lambs = np.linspace(0, 5*T, 100)"
   ]
  },
  {
   "cell_type": "code",
   "execution_count": 22,
   "metadata": {},
   "outputs": [
    {
     "name": "stderr",
     "output_type": "stream",
     "text": [
      "/home/emanuel/.local/lib/python3.10/site-packages/scipy/integrate/_odepack_py.py:248: ODEintWarning: Excess work done on this call (perhaps wrong Dfun type). Run with full_output = 1 to get quantitative information.\n",
      "  warnings.warn(warning_msg, ODEintWarning)\n"
     ]
    }
   ],
   "source": [
    "Ys = odeint(geo_edm, estado, lambs, args=(s,))"
   ]
  },
  {
   "cell_type": "code",
   "execution_count": 23,
   "metadata": {},
   "outputs": [],
   "source": [
    "rs = Ys[:,1]\n",
    "qs = Ys[:,2]\n",
    "fs = Ys[:,3]\n",
    "\n",
    "xs = rs*np.sin(qs)*np.cos(fs)\n",
    "ys = rs*np.sin(qs)*np.sin(fs)\n",
    "zs = rs*np.cos(qs)"
   ]
  },
  {
   "cell_type": "code",
   "execution_count": null,
   "metadata": {},
   "outputs": [],
   "source": []
  },
  {
   "cell_type": "code",
   "execution_count": 24,
   "metadata": {},
   "outputs": [],
   "source": [
    "def sphere(r):\n",
    "    u = np.linspace(0, 2 * np.pi, 100)\n",
    "    v = np.linspace(0, np.pi, 100)\n",
    "    x = r * np.outer(np.cos(u), np.sin(v))\n",
    "    y = r * np.outer(np.sin(u), np.sin(v))\n",
    "    z = r * np.outer(np.ones(np.size(u)), np.cos(v))\n",
    "    return x,y,z\n",
    "x,y,z = sphere(s)"
   ]
  },
  {
   "cell_type": "code",
   "execution_count": 25,
   "metadata": {},
   "outputs": [
    {
     "name": "stderr",
     "output_type": "stream",
     "text": [
      "/tmp/ipykernel_42816/1436750360.py:4: UserWarning: color is redundantly defined by the 'color' keyword argument and the fmt string \"k-\" (-> color='k'). The keyword argument will take precedence.\n",
      "  ax.plot(xs,ys,zs,'k-',color=\"orange\")\n"
     ]
    },
    {
     "data": {
      "image/png": "[encoded data removed]",
      "text/plain": [
       "<Figure size 640x480 with 1 Axes>"
      ]
     },
     "metadata": {},
     "output_type": "display_data"
    }
   ],
   "source": [
    "fig=plt.figure()\n",
    "ax=fig.add_subplot(111,projection='3d')\n",
    "\n",
    "ax.plot(xs,ys,zs,'k-',color=\"orange\")\n",
    "ax.plot([0], [0], [0], color='orange') \n",
    "ax.plot_surface(x, y, z, rstride=4, cstride=4, color='black')\n",
    "ax.axis(\"equal\")\n",
    "ax.set_box_aspect([1,1,1])"
   ]
  },
  {
   "cell_type": "markdown",
   "metadata": {},
   "source": [
    "# Trayectoria para la luz"
   ]
  },
  {
   "cell_type": "code",
   "execution_count": 26,
   "metadata": {},
   "outputs": [
    {
     "name": "stdout",
     "output_type": "stream",
     "text": [
      "[0, 60, 1.5707963267948966, 0.0, 1.4999999999999998, 0.0, 0.0, 0.024999999999999998]\n"
     ]
    },
    {
     "data": {
      "text/plain": [
       "[1.4999999999999998,\n",
       " 0.0,\n",
       " 0.0,\n",
       " 0.024999999999999998,\n",
       " -0.0,\n",
       " 0.020833333333333336,\n",
       " 3.827021247335478e-20,\n",
       " -0.0]"
      ]
     },
     "execution_count": 26,
     "metadata": {},
     "output_type": "execute_result"
    }
   ],
   "source": [
    "t = 0\n",
    "r = 3*s\n",
    "fi = 0*np.pi/180\n",
    "teta = 90*np.pi/180\n",
    "v_r = 0\n",
    "v_teta = 0\n",
    "v_fi = 1\n",
    "v = (v_r**2 + v_teta**2 + v_fi**2)**0.5\n",
    "\n",
    "ut = 1/(1-s/r)\n",
    "ur = 1/(1-s/r)*v_r\n",
    "uq = 1/(1-s/r)*v_teta/r\n",
    "uf = 1/(1-s/r)*v_fi/(r*np.sin(teta))\n",
    "estado = [t, r, teta, fi, ut, ur, uq, uf]\n",
    "print(estado)\n",
    "v_r,v_teta,v_fi,v, ut,ur,uq,uf#mostrar valores cada calculo\n",
    "\n",
    "geo_edm(estado,0,s)"
   ]
  },
  {
   "cell_type": "code",
   "execution_count": 27,
   "metadata": {},
   "outputs": [],
   "source": [
    "Ys = odeint(geo_edm, estado, lambs, args=(s,))\n",
    "rs = Ys[:,1]\n",
    "qs = Ys[:,2]\n",
    "fs = Ys[:,3]\n",
    "\n",
    "xs = rs*np.sin(qs)*np.cos(fs)\n",
    "ys = rs*np.sin(qs)*np.sin(fs)\n",
    "zs = rs*np.cos(qs)"
   ]
  },
  {
   "cell_type": "code",
   "execution_count": 28,
   "metadata": {},
   "outputs": [
    {
     "name": "stderr",
     "output_type": "stream",
     "text": [
      "/tmp/ipykernel_42816/1436750360.py:4: UserWarning: color is redundantly defined by the 'color' keyword argument and the fmt string \"k-\" (-> color='k'). The keyword argument will take precedence.\n",
      "  ax.plot(xs,ys,zs,'k-',color=\"orange\")\n"
     ]
    },
    {
     "data": {
      "image/png": "[encoded data removed]",
      "text/plain": [
       "<Figure size 640x480 with 1 Axes>"
      ]
     },
     "metadata": {},
     "output_type": "display_data"
    }
   ],
   "source": [
    "fig=plt.figure()\n",
    "ax=fig.add_subplot(111,projection='3d')\n",
    "\n",
    "ax.plot(xs,ys,zs,'k-',color=\"orange\")\n",
    "ax.plot([0], [0], [0], color='orange') \n",
    "ax.plot_surface(x, y, z, rstride=4, cstride=4, color='black')\n",
    "ax.axis(\"equal\")\n",
    "ax.set_box_aspect([1,1,1])"
   ]
  },
  {
   "cell_type": "markdown",
   "metadata": {},
   "source": [
    "https://www.youtube.com/watch?v=xEhgxJcH5hk&ab_channel=SciCat"
   ]
  },
  {
   "cell_type": "code",
   "execution_count": 29,
   "metadata": {},
   "outputs": [
    {
     "ename": "NameError",
     "evalue": "name 'dfi_dlamda' is not defined",
     "output_type": "error",
     "traceback": [
      "\u001b[0;31m---------------------------------------------------------------------------\u001b[0m",
      "\u001b[0;31mNameError\u001b[0m                                 Traceback (most recent call last)",
      "Cell \u001b[0;32mIn[29], line 1\u001b[0m\n\u001b[0;32m----> 1\u001b[0m J \u001b[38;5;241m=\u001b[39m r\u001b[38;5;241m*\u001b[39m\u001b[38;5;241m*\u001b[39m\u001b[38;5;241m2\u001b[39m\u001b[38;5;241m*\u001b[39mnp\u001b[38;5;241m.\u001b[39msin(teta)\u001b[38;5;241m*\u001b[39m\u001b[38;5;241m*\u001b[39m\u001b[38;5;241m2\u001b[39m\u001b[38;5;241m*\u001b[39m\u001b[43mdfi_dlamda\u001b[49m\n\u001b[1;32m      2\u001b[0m J \u001b[38;5;66;03m#metros\u001b[39;00m\n",
      "\u001b[0;31mNameError\u001b[0m: name 'dfi_dlamda' is not defined"
     ]
    }
   ],
   "source": [
    "J = r**2*np.sin(teta)**2*dfi_dlamda\n",
    "J #metros\n"
   ]
  },
  {
   "cell_type": "code",
   "execution_count": null,
   "metadata": {},
   "outputs": [],
   "source": []
  },
  {
   "cell_type": "markdown",
   "metadata": {},
   "source": [
    "## Grafico 3d mostrando el movimiento en en plano\n"
   ]
  },
  {
   "cell_type": "code",
   "execution_count": null,
   "metadata": {},
   "outputs": [],
   "source": [
    "plt.figure(figsize=(16,16))\n",
    "ax=plt.axes(projection=\"3d\")\n",
    "ax.plot([0], [0], [0],\"*\",markersize=10,label=\"Agujero Negro\",color=\"negro\")\n",
    "ax.set_xlim(-20,20)\n",
    "ax.set_ylim(-20,20)\n",
    "ax.set_zlim(-4,4)\n",
    "ax.plot(r,teta,fi,)\n",
    "\n",
    "ax.set_xlabel(\"Au\")\n",
    "ax.set_ylabel(\"Au\")\n",
    "ax.set_zlabel(\"Au\")\n",
    "ax.set_title(\"Movimiento ecuatorial\",fontsize=30)\n",
    "ax.legend()"
   ]
  },
  {
   "cell_type": "markdown",
   "metadata": {},
   "source": [
    "# Espacio tiempo de Schwarzschild\n"
   ]
  },
  {
   "cell_type": "code",
   "execution_count": null,
   "metadata": {},
   "outputs": [],
   "source": [
    "#introducir el espacio tiempo en coordenadas esfericas"
   ]
  },
  {
   "cell_type": "markdown",
   "metadata": {},
   "source": [
    "# metrica de Schwarzchild en el espacio tiempo"
   ]
  },
  {
   "cell_type": "code",
   "execution_count": null,
   "metadata": {},
   "outputs": [],
   "source": [
    "#desarroolar la geodesica con la metrica de shwarzchild\n",
    "#desarrollar las constantes de movimiento\n",
    "#simulacion de la caida vertical\n",
    "#grafica del potencial efectivo\n",
    "#grafica deflexion de la luz\n",
    "#desarrollo de la precesion anomala del perihelio de mercurio"
   ]
  },
  {
   "cell_type": "markdown",
   "metadata": {},
   "source": []
  },
  {
   "cell_type": "code",
   "execution_count": null,
   "metadata": {},
   "outputs": [],
   "source": [
    "!pip install -q plotly\n",
    "!pip install -q pandas"
   ]
  },
  {
   "cell_type": "code",
   "execution_count": null,
   "metadata": {},
   "outputs": [],
   "source": [
    "import pandas as pd\n",
    "\n",
    "import plotly.express as px\n",
    "\n",
    "import plotly.graph_objects as go"
   ]
  },
  {
   "cell_type": "code",
   "execution_count": null,
   "metadata": {},
   "outputs": [],
   "source": []
  },
  {
   "cell_type": "code",
   "execution_count": null,
   "metadata": {},
   "outputs": [],
   "source": [
    "fig = go.Figure(data=go.Scatter(x=x, y=y, mode=\"markers\"))\n",
    "fig.update_layout(title=\"GDP per capita over time\", xaxis_title=\"movimiento en x\", yaxis_title=\"movimiento en y\")\n",
    "fig.show()\n",
    "\n",
    "\n"
   ]
  },
  {
   "cell_type": "markdown",
   "metadata": {},
   "source": [
    "\n",
    "# concepto de htlm, agregar parrafos de texto"
   ]
  },
  {
   "cell_type": "markdown",
   "metadata": {},
   "source": [
    "<p>\n",
    "Esto\n",
    "es un\n",
    "párrafo\n",
    "</p>"
   ]
  },
  {
   "cell_type": "markdown",
   "metadata": {},
   "source": [
    "<!DOCTYPE html>\n",
    "<html>\n",
    "<head>\n",
    "\t<title>Mi página web</title>\n",
    "\t<meta charset=\"UTF-8\">\n",
    "\t<style>\n",
    "\t\tbody {\n",
    "\t\t\tfont-family: Arial, sans-serif;\n",
    "\t\t\tbackground-color: #f0f0f0;\n",
    "\t\t}\n",
    "\n",
    "\t\th1 {\n",
    "\t\t\tcolor: #333;\n",
    "\t\t\ttext-align: center;\n",
    "\t\t}\n",
    "\n",
    "\t\tp {\n",
    "\t\t\tcolor: #666;\n",
    "\t\t\tline-height: 1.5;\n",
    "\t\t\tmargin-bottom: 20px;\n",
    "\t\t}\n",
    "\n",
    "\t\tul {\n",
    "\t\t\tcolor: #999;\n",
    "\t\t\tmargin-left: 20px;\n",
    "\t\t}\n",
    "\n",
    "\t\tli {\n",
    "\t\t\tlist-style-type: circle;\n",
    "\t\t\tmargin-bottom: 10px;\n",
    "\t\t}\n",
    "\t</style>\n",
    "</head>\n",
    "<body>\n",
    "\t<header>\n",
    "\t\t<h1>Bienvenidos a mi página web</h1>\n",
    "\t</header>\n",
    "\t<main>\n",
    "\t\t<p>En esta página encontrarás información sobre diferentes temas como relatividad general:</p>\n",
    "\t\t<ul>\n",
    "\t\t\t<li>HTML</li>\n",
    "\t\t\t<li>CSS</li>\n",
    "\t\t\t<li>JavaScript</li>\n",
    "\t\t</ul>\n",
    "\t\t\n",
    "\t</main>\n",
    "\n",
    "</body>\n",
    "</html>"
   ]
  },
  {
   "cell_type": "markdown",
   "metadata": {},
   "source": [
    "\n",
    "<!DOCTYPE html>\n",
    "<html>\n",
    "<head>\n",
    "\t<title>Mi página web</title>\n",
    "\t<meta charset=\"UTF-8\">\n",
    "\t<style>\n",
    "\t\tbody {\n",
    "\t\t\tfont-family: Arial, sans-serif;\n",
    "\t\t\tbackground-color: #f0f0f0;\n",
    "\t\t}\n",
    "\n",
    "\t\th1 {\n",
    "\t\t\tcolor: #333;\n",
    "\t\t\ttext-align: center;\n",
    "\t\t}\n",
    "\n",
    "\t\tp {\n",
    "\t\t\tcolor: #666;\n",
    "\t\t\tline-height: 1.5;\n",
    "\t\t\tmargin-bottom: 20px;\n",
    "\t\t}\n",
    "\n",
    "\t\tul {\n",
    "\t\t\tcolor: #999;\n",
    "\t\t\tmargin-left: 20px;\n",
    "\t\t}\n",
    "\n",
    "\t\tli {\n",
    "\t\t\tlist-style-type: circle;\n",
    "\t\t\tmargin-bottom: 10px;\n",
    "\t\t}\n",
    "\t</style>\n",
    "</head>\n",
    "<body>\n",
    "\t<header>\n",
    "\t\t<h1>Bienvenidos a mi página web</h1>\n",
    "\t</header>\n",
    "\t<main>\n",
    "\t\t<p>En esta página encontrarás información sobre relativida general:</p>\n",
    "\t\t<ul>\n",
    "\t\t\t<li>HTML</li>\n",
    "\t\t\t<li>CSS</li>\n",
    "\t\t\t<li>JavaScript</li>\n",
    "\t\t</ul>\n",
    "\t\t<p>¡Espero que te sea útil!</p>\n",
    "\t</main>\n",
    "\n",
    "</body>\n",
    "</html>\n"
   ]
  },
  {
   "cell_type": "code",
   "execution_count": null,
   "metadata": {},
   "outputs": [],
   "source": []
  },
  {
   "cell_type": "code",
   "execution_count": null,
   "metadata": {},
   "outputs": [],
   "source": []
  }
 ],
 "metadata": {
  "kernelspec": {
   "display_name": "Python 3 (ipykernel)",
   "language": "python",
   "name": "python3"
  },
  "language_info": {
   "codemirror_mode": {
    "name": "ipython",
    "version": 3
   },
   "file_extension": ".py",
   "mimetype": "text/x-python",
   "name": "python",
   "nbconvert_exporter": "python",
   "pygments_lexer": "ipython3",
   "version": "3.10.6"
  }
 },
 "nbformat": 4,
 "nbformat_minor": 2
}
