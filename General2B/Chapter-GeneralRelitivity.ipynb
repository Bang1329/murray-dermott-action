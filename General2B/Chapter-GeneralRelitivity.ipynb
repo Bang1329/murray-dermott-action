{
 "cells": [
  {
   "cell_type": "markdown",
   "metadata": {},
   "source": [
    "##\n",
    "Chapter 11. The two body problem in relativity general\n",
    "Action by Emanuel Noreña, University of Antioquia\n",
    "\n",
    "In this notebook we will present part of the theoretical background of the chapter devoted to the Two body problem and some mathematical and numerical results which are interested for the theory.\n",
    "\n",
    "For details on the theory please refer directly to the book:\n",
    "\n",
    "    elementos de relatividad de lorenzo de la torre\n",
    "\n"
   ]
  },
  {
   "cell_type": "code",
   "execution_count": 1,
   "metadata": {},
   "outputs": [],
   "source": [
    "!pip install numpy -q\n",
    "!pip install sympy -q\n",
    "!pip install git+https://github.com/einsteinpy/einsteinpy.git -q\n",
    "!pip install einsteinpy  -q\n",
    "!pip install -q rebound\n",
    "!pip install -q astropy\n",
    "!pip install -q spiceypy\n",
    "!pip install -q scipy\n",
    "!pip install -q astroquery"
   ]
  },
  {
   "cell_type": "code",
   "execution_count": 18,
   "metadata": {},
   "outputs": [],
   "source": [
    "import numpy as np\n",
    "import sympy as sp\n",
    "import rebound as rb\n",
    "from einsteinpy.symbolic import *\n",
    "from scipy.constants import G,c"
   ]
  },
  {
   "cell_type": "markdown",
   "metadata": {},
   "source": [
    "# Ecuacion de la geodesica"
   ]
  },
  {
   "cell_type": "markdown",
   "metadata": {},
   "source": [
    "$\\frac{\\mathrm{d}^2 x^\\mu}{\\mathrm{d} \\lambda^2}+\\sum_{\\nu, \\rho} \\Gamma_{\\nu \\rho}^\\mu \\frac{\\mathrm{d} x^\\nu}{\\mathrm{d} \\lambda} \\frac{\\mathrm{d} x^\\rho}{\\mathrm{d} \\lambda}=0$"
   ]
  },
  {
   "cell_type": "markdown",
   "metadata": {},
   "source": [
    "Esta ecuacion tiene muchas formas de ser deducida, aunque la mas directa puede ser usando la expresion $ds^2=g_{uv}dx^udx^v$ y reemplazarla en el lagranjiano. Esto define una trayectoria de minima accion.\n",
    "Esta ecuacion determina 4 ecuaciones, ya que, los indices recorren las 4 coordenadas espacio temporales\n"
   ]
  },
  {
   "cell_type": "markdown",
   "metadata": {},
   "source": [
    "# Ecuaciones de movimiento"
   ]
  },
  {
   "cell_type": "markdown",
   "metadata": {},
   "source": [
    "Veremos las ecuaciones que rigen el movimiento geodesico de una particula en espacios tetradimensionales para una metrica de shwarzchild, estas ecuaciones son:"
   ]
  },
  {
   "cell_type": "markdown",
   "metadata": {},
   "source": [
    "$\\begin{aligned}\n",
    "& \\frac{\\mathrm{d}^2 t}{\\mathrm{~d} \\lambda^2}+\\frac{2 G M}{c^2 r^2\\left(1-\\frac{2 G M}{c^2 r}\\right)} \\frac{\\mathrm{d} r}{\\mathrm{~d} \\lambda} \\frac{\\mathrm{d} t}{\\mathrm{~d} \\lambda}=0 \\\\\n",
    "& \\frac{\\mathrm{d}^2 r}{\\mathrm{~d} \\lambda^2}+\\frac{G M}{r^2}\\left(1-\\frac{2 G M}{c^2 r}\\right)\\left(\\frac{\\mathrm{d} t}{\\mathrm{~d} \\lambda}\\right)^2-\\frac{G M}{c^2 r^2\\left(1-\\frac{2 G M}{c^2 r}\\right)}\\left(\\frac{\\mathrm{d} r}{\\mathrm{~d} \\lambda}\\right)^2 \\\\\n",
    "& \\quad-r\\left(1-\\frac{2 G M}{c^2 r}\\right)\\left[\\left(\\frac{\\mathrm{d} \\theta}{\\mathrm{d} \\lambda}\\right)^2+\\sin ^2 \\theta\\left(\\frac{\\mathrm{d} \\phi}{\\mathrm{d} \\lambda}\\right)^2\\right]=0 \\\\\n",
    "& \\frac{\\mathrm{d}^2 \\theta}{\\mathrm{d} \\lambda^2}+\\frac{2}{r} \\frac{\\mathrm{d} r}{\\mathrm{~d} \\lambda} \\frac{\\mathrm{d} \\theta}{\\mathrm{d} \\lambda}-\\sin \\theta \\cos \\theta\\left(\\frac{\\mathrm{d} \\phi}{\\mathrm{d} \\lambda}\\right)^2=0 \\\\\n",
    "& \\frac{\\mathrm{d}^2 \\phi}{\\mathrm{d} \\lambda^2}+\\frac{2}{r} \\frac{\\mathrm{d} r}{\\mathrm{~d} \\lambda} \\frac{\\mathrm{d} \\phi}{\\mathrm{d} \\lambda}+2 \\frac{\\cos \\theta}{\\sin \\theta} \\frac{\\mathrm{d} \\theta}{\\mathrm{d} \\lambda} \\frac{\\mathrm{d} \\phi}{\\mathrm{d} \\lambda}=0\n",
    "\\end{aligned}$"
   ]
  },
  {
   "cell_type": "markdown",
   "metadata": {},
   "source": [
    "Las cuales se obtienen reemplazando en la ecuación de la geodesica general, el valor de la metrica de shwarzchild y sus repectivas coordenadas , las soluciones a estas ecuaciones determinan la trayectoria definida por los parametros (t,r,𝜃,𝜙)."
   ]
  },
  {
   "cell_type": "markdown",
   "metadata": {},
   "source": [
    "# Metrica"
   ]
  },
  {
   "cell_type": "markdown",
   "metadata": {},
   "source": [
    "La metrica es la encargada de definir la forma en como se miden distancias en un espacio , la metrica que siempre hemos usado y con la cual estamos mas familiarizados es la geometria euclidea la cual se define como: \n",
    "$ds^2=dx^2+dy^2+dz^2$.\n",
    "\n",
    "suponiendo que estamos en $R^4$ la metrica debe aumentar la dimension como:\n",
    "\n",
    "$ds^2=dx^2+dy^2+dz^2+dw^2$\n",
    "\n",
    "para el espacio tiempo, un espacio pseudo-euclideano cuadridimensional, la metrica será:\n",
    "\n",
    "$ds^2=-dx^2-dy^2-dz^2+c^2dt^2$ para 3 coordenadas espaciales y una temporal, donde esta siendo multiplicada por c2 para tener las mismas dimensiones espaciales. Esta metrica se da por construccion y cumple los requisitos que un espacio pseudo euclideo determina.\n",
    "\n",
    "Ahora para la construccion de la metrica de schwarzscild los requisitos necesarios son :\n",
    "\n",
    "1-El espacio-tiempo lejos del cuerpo esféricamente simétrico es plano. Esto es descrito diciendo que la métrica es asintóticamente plana y es consistente con la idea de que los efectos gravitatorios se vuelven más débiles a medida que la distancia desde su fuente aumenta.\n",
    "\n",
    "2-Los coeficientes métricos no dependen del tiempo. Esto se describe diciendo que la métrica es estacionaria y es consistente con la idea de que nada se mueve de un lugar a otro.\n",
    "\n",
    "3-El elemento de línea no cambia si t se reemplaza por −t. Esto se describe diciendo que la métrica es estática y es coherente con la idea de que nada gira.\n",
    "\n",
    "El producto final es la expresion:"
   ]
  },
  {
   "cell_type": "markdown",
   "metadata": {},
   "source": [
    "$$\n",
    "\\begin{aligned}\n",
    "(\\mathrm{d} s)^2= & \\left(1-\\frac{2 G M}{c^2 r}\\right) c^2(\\mathrm{~d} t)^2-\\frac{(\\mathrm{d} r)^2}{1-\\frac{2 G M}{c^2 r}} \\\\\n",
    "& -r^2(\\mathrm{~d} \\theta)^2-r^2 \\sin ^2 \\theta(\\mathrm{d} \\phi)^2\n",
    "\\end{aligned}\n",
    "$$\n",
    "de forma matricial:\n",
    "\n",
    "$$\n",
    "\\left[g_{\\mu \\nu}\\right]=\\left(\\begin{array}{cccc}\n",
    "1-\\frac{2 G M}{c^2 r} & 0 & 0 & 0 \\\\\n",
    "0 & -\\frac{1}{1-\\frac{2 G M}{c^2 r}} & 0 & 0 \\\\\n",
    "0 & 0 & -r^2 & 0 \\\\\n",
    "0 & 0 & 0 & -r^2 \\sin ^2 \\theta\n",
    "\\end{array}\\right)\n",
    "$$"
   ]
  },
  {
   "cell_type": "markdown",
   "metadata": {},
   "source": [
    "El radio de Schwarzschild\n",
    "$s=\\frac{2 G M}{c^2 }$\n",
    "\n",
    "Que define el radio que tendría una masa que colapsa en una singularidad"
   ]
  },
  {
   "cell_type": "markdown",
   "metadata": {},
   "source": [
    "$$\n",
    "\\begin{aligned}\n",
    "(\\mathrm{d} s)^2= & \\left(1-\\frac{s}{r}\\right) c^2(\\mathrm{~d} t)^2-\\frac{(\\mathrm{d} r)^2}{1-\\frac{s}{ r}} \\\\\n",
    "& -r^2(\\mathrm{~d} \\theta)^2-r^2 \\sin ^2 \\theta(\\mathrm{d} \\phi)^2\n",
    "\\end{aligned}\n",
    "$$"
   ]
  },
  {
   "cell_type": "markdown",
   "metadata": {},
   "source": [
    "# Símbolos de Christoffel"
   ]
  },
  {
   "cell_type": "markdown",
   "metadata": {},
   "source": [
    "Los símbolos de Christoffel se pueden interpretar como coeficientes ponderados que permiten hallar las derivadas de los vectorer base \n",
    "\n",
    "$\\Gamma \\stackrel{k}{i}=e^k \\cdot \\frac{\\partial e_i}{\\partial x^j} \\quad$\n",
    "\n",
    "la derivada es necesaria porque esta determina el cambio de los vectores base en desplazamientos.\n",
    "\n",
    "la deduccion formal de los indices da como resultado para un espacio sin torsiones: \n",
    "\n",
    "$\\Gamma_{k l}^i=\\frac{1}{2} g^{i m}\\left(\\frac{\\partial g_{m k}}{\\partial x^b}+\\frac{\\partial g_{m l}}{\\partial x^k}-\\frac{\\partial g_{k l}}{\\partial x^m}\\right)=\\frac{1}{2} g^{i m} \\frac{\\partial g_{m k}}{\\partial x^l}+\\frac{1}{2} g^{i m} \\frac{\\partial g_{m l}}{\\partial x^k}-\\frac{1}{2} g^{i m} \\frac{\\partial g_{k l}}{\\partial x^m}$"
   ]
  },
  {
   "cell_type": "markdown",
   "metadata": {},
   "source": [
    "\n",
    "<div class=\"container\">\n",
    "      <div class=\"image\"> <img src=\"transporteparalelo.png\" alt=\"This is my image.\" height=\"200px\"/> </div> \n",
    "      <div class=\"image\"> <img src=\"transporte.png\" alt=\"This is my second image.\" height=\"200px\"/> </div>\n",
    "    <div class=\"image\"> <img src=\"plano.jpeg\" alt=\"This is my second image.\" height=\"200px\"/> </div>\n",
    "    "
   ]
  },
  {
   "cell_type": "markdown",
   "metadata": {},
   "source": [
    "Ejemplo de un vector transportado paralelamente para ejemplificar la rotacion de los vectores base en la superficie de una esfera y sobra un circulo en el plano, la tercera imagen muestra el transporte paralelo en coorndenadas porales."
   ]
  },
  {
   "cell_type": "code",
   "execution_count": 3,
   "metadata": {},
   "outputs": [
    {
     "data": {
      "text/latex": [
       "$\\displaystyle \\left[\\begin{matrix}1 - \\frac{s}{r} & 0 & 0 & 0\\\\0 & - \\frac{1}{1 - \\frac{s}{r}} & 0 & 0\\\\0 & 0 & - r^{2} & 0\\\\0 & 0 & 0 & - r^{2} \\sin^{2}{\\left(\\theta \\right)}\\end{matrix}\\right]$"
      ],
      "text/plain": [
       "[[1 - s/r, 0, 0, 0], [0, -1/(1 - s/r), 0, 0], [0, 0, -r**2, 0], [0, 0, 0, -r**2*sin(theta)**2]]"
      ]
     },
     "execution_count": 3,
     "metadata": {},
     "output_type": "execute_result"
    }
   ],
   "source": [
    "import sympy as sp\n",
    "from einsteinpy.symbolic import *\n",
    "s = sp.symbols('s')\n",
    "S= sp.symbols('t, r, theta, phi')\n",
    "t, r, q, f = S\n",
    "t_, r_, q_, f_ = 0, 1, 2, 3\n",
    "gcomp = sp.diag(1-s/r, -1/(1-s/r), -r**2,-r**2*sp.sin(q)**2).tolist()\n",
    "\n",
    "g = MetricTensor(gcomp,S)\n",
    "\n",
    "gij = g.tensor()\n",
    "gij"
   ]
  },
  {
   "cell_type": "code",
   "execution_count": 4,
   "metadata": {},
   "outputs": [
    {
     "data": {
      "text/latex": [
       "$\\displaystyle \\left[\\begin{matrix}\\left[\\begin{matrix}0 & \\frac{s}{2 r^{2} \\cdot \\left(1 - \\frac{s}{r}\\right)} & 0 & 0\\\\\\frac{s}{2 r^{2} \\cdot \\left(1 - \\frac{s}{r}\\right)} & 0 & 0 & 0\\\\0 & 0 & 0 & 0\\\\0 & 0 & 0 & 0\\end{matrix}\\right] & \\left[\\begin{matrix}- \\frac{s \\left(- \\frac{1}{2} + \\frac{s}{2 r}\\right)}{r^{2}} & 0 & 0 & 0\\\\0 & \\frac{s \\left(- \\frac{1}{2} + \\frac{s}{2 r}\\right)}{r^{2} \\left(1 - \\frac{s}{r}\\right)^{2}} & 0 & 0\\\\0 & 0 & 2 r \\left(- \\frac{1}{2} + \\frac{s}{2 r}\\right) & 0\\\\0 & 0 & 0 & 2 r \\left(- \\frac{1}{2} + \\frac{s}{2 r}\\right) \\sin^{2}{\\left(\\theta \\right)}\\end{matrix}\\right] & \\left[\\begin{matrix}0 & 0 & 0 & 0\\\\0 & 0 & \\frac{1}{r} & 0\\\\0 & \\frac{1}{r} & 0 & 0\\\\0 & 0 & 0 & - \\sin{\\left(\\theta \\right)} \\cos{\\left(\\theta \\right)}\\end{matrix}\\right] & \\left[\\begin{matrix}0 & 0 & 0 & 0\\\\0 & 0 & 0 & \\frac{1}{r}\\\\0 & 0 & 0 & \\frac{\\cos{\\left(\\theta \\right)}}{\\sin{\\left(\\theta \\right)}}\\\\0 & \\frac{1}{r} & \\frac{\\cos{\\left(\\theta \\right)}}{\\sin{\\left(\\theta \\right)}} & 0\\end{matrix}\\right]\\end{matrix}\\right]$"
      ],
      "text/plain": [
       "[[[0, s/(2*r**2*(1 - s/r)), 0, 0], [s/(2*r**2*(1 - s/r)), 0, 0, 0], [0, 0, 0, 0], [0, 0, 0, 0]], [[-s*(-1/2 + s/(2*r))/r**2, 0, 0, 0], [0, s*(-1/2 + s/(2*r))/(r**2*(1 - s/r)**2), 0, 0], [0, 0, 2*r*(-1/2 + s/(2*r)), 0], [0, 0, 0, 2*r*(-1/2 + s/(2*r))*sin(theta)**2]], [[0, 0, 0, 0], [0, 0, 1/r, 0], [0, 1/r, 0, 0], [0, 0, 0, -sin(theta)*cos(theta)]], [[0, 0, 0, 0], [0, 0, 0, 1/r], [0, 0, 0, cos(theta)/sin(theta)], [0, 1/r, cos(theta)/sin(theta), 0]]]"
      ]
     },
     "execution_count": 4,
     "metadata": {},
     "output_type": "execute_result"
    }
   ],
   "source": [
    "G=ChristoffelSymbols.from_metric(g)\n",
    "Gijk=G.tensor()\n",
    "Gijk"
   ]
  },
  {
   "cell_type": "markdown",
   "metadata": {},
   "source": [
    "explicar porque esta es la forma de la representacion matricial de los simbolos"
   ]
  },
  {
   "cell_type": "code",
   "execution_count": 5,
   "metadata": {},
   "outputs": [
    {
     "name": "stdout",
     "output_type": "stream",
     "text": [
      "indice :G{i,j,k}\n",
      "indice : (0, 0, 1): s/(2*r**2*(1 - s/r))\n",
      "indice : (0, 1, 0): s/(2*r**2*(1 - s/r))\n",
      "indice : (1, 0, 0): -s*(-1/2 + s/(2*r))/r**2\n",
      "indice : (1, 1, 1): s*(-1/2 + s/(2*r))/(r**2*(1 - s/r)**2)\n",
      "indice : (1, 2, 2): 2*r*(-1/2 + s/(2*r))\n",
      "indice : (1, 3, 3): 2*r*(-1/2 + s/(2*r))*sin(theta)**2\n",
      "indice : (2, 1, 2): 1/r\n",
      "indice : (2, 2, 1): 1/r\n",
      "indice : (2, 3, 3): -sin(theta)*cos(theta)\n",
      "indice : (3, 1, 3): 1/r\n",
      "indice : (3, 2, 3): cos(theta)/sin(theta)\n",
      "indice : (3, 3, 1): 1/r\n",
      "indice : (3, 3, 2): cos(theta)/sin(theta)\n"
     ]
    }
   ],
   "source": [
    "print(\"indice :G{i,j,k}\")\n",
    "for i in range(0,4):\n",
    "    for j in range(0,4):\n",
    "        for k in range(0,4):\n",
    "            if Gijk[i,j,k]!=0:\n",
    "                print(f\"indice : {i,j,k}: {Gijk[i,j,k]}\")"
   ]
  },
  {
   "cell_type": "markdown",
   "metadata": {},
   "source": [
    "# ecuaciones geodesicas en metrica de swharchild"
   ]
  },
  {
   "cell_type": "markdown",
   "metadata": {},
   "source": [
    "$\\frac{\\mathrm{d}^2 x^\\mu}{\\mathrm{d} \\lambda^2}+\\sum_{\\nu, \\rho} \\Gamma_{\\nu \\rho}^\\mu \\frac{\\mathrm{d} x^\\nu}{\\mathrm{d} \\lambda} \\frac{\\mathrm{d} x^\\rho}{\\mathrm{d} \\lambda}=0$"
   ]
  },
  {
   "cell_type": "markdown",
   "metadata": {},
   "source": [
    "empezando con la componente 0:\n",
    "\n",
    "$$\n",
    "\\begin{aligned}\n",
    "\\frac{\\mathrm{d}^2 x^0}{\\mathrm{d} \\lambda^2}+ &\\\\\n",
    "& \\Gamma_{0 0}^0 \\frac{\\mathrm{d} x^0}{\\mathrm{d} \\lambda} \\frac{\\mathrm{d} x^0}{\\mathrm{d} \\lambda} + \\Gamma_{0 1}^0 \\frac{\\mathrm{d} x^0}{\\mathrm{d} \\lambda} \\frac{\\mathrm{d} x^1}{\\mathrm{d} \\lambda}+ \\Gamma_{0 2}^0 \\frac{\\mathrm{d} x^0}{\\mathrm{d} \\lambda} \\frac{\\mathrm{d} x^2}{\\mathrm{d} \\lambda}+ \\Gamma_{0 3}^0 \\frac{\\mathrm{d} x^0}{\\mathrm{d} \\lambda} \\frac{\\mathrm{d} x^3}{\\mathrm{d} \\lambda}+\\\\\n",
    "&\\Gamma_{1 0}^0 \\frac{\\mathrm{d} x^1}{\\mathrm{d} \\lambda} \\frac{\\mathrm{d} x^0}{\\mathrm{d} \\lambda} + \\Gamma_{1 1}^0 \\frac{\\mathrm{d} x^1}{\\mathrm{d} \\lambda} \\frac{\\mathrm{d} x^1}{\\mathrm{d} \\lambda}+ \\Gamma_{1 2}^0 \\frac{\\mathrm{d} x^1}{\\mathrm{d} \\lambda} \\frac{\\mathrm{d} x^2}{\\mathrm{d} \\lambda}+ \\Gamma_{1 3}^0 \\frac{\\mathrm{d} x^1}{\\mathrm{d} \\lambda} \\frac{\\mathrm{d} x^3}{\\mathrm{d} \\lambda}+\\\\\n",
    "&\\Gamma_{2 0}^0 \\frac{\\mathrm{d} x^2}{\\mathrm{d} \\lambda} \\frac{\\mathrm{d} x^0}{\\mathrm{d} \\lambda} + \\Gamma_{ 2 1}^0 \\frac{\\mathrm{d} x^2}{\\mathrm{d} \\lambda} \\frac{\\mathrm{d} x^1}{\\mathrm{d} \\lambda}+ \\Gamma_{2 2}^0 \\frac{\\mathrm{d} x^2}{\\mathrm{d} \\lambda} \\frac{\\mathrm{d} x^2}{\\mathrm{d} \\lambda}+ \\Gamma_{2 3}^0 \\frac{\\mathrm{d} x^2}{\\mathrm{d} \\lambda} \\frac{\\mathrm{d} x^3}{\\mathrm{d} \\lambda}+\\\\\n",
    "&\\Gamma_{3 0}^0 \\frac{\\mathrm{d} x^3}{\\mathrm{d} \\lambda} \\frac{\\mathrm{d} x^0}{\\mathrm{d} \\lambda} + \\Gamma_{3 1}^0 \\frac{\\mathrm{d} x^3}{\\mathrm{d} \\lambda} \\frac{\\mathrm{d} x^1}{\\mathrm{d} \\lambda}+ \\Gamma_{3 2}^0 \\frac{\\mathrm{d} x^3}{\\mathrm{d} \\lambda} \\frac{\\mathrm{d} x^2}{\\mathrm{d} \\lambda}+ \\Gamma_{3 3}^0 \\frac{\\mathrm{d} x^3}{\\mathrm{d} \\lambda} \\frac{\\mathrm{d} x^3}{\\mathrm{d} \\lambda}+\\\\\n",
    "&=0\n",
    "\\end{aligned}\n",
    "$$"
   ]
  },
  {
   "cell_type": "markdown",
   "metadata": {},
   "source": [
    "aplicando las simetrias"
   ]
  },
  {
   "cell_type": "markdown",
   "metadata": {},
   "source": [
    "$$\n",
    "\\begin{aligned}\n",
    "\\frac{\\mathrm{d}^2 x^0}{\\mathrm{d} \\lambda^2}+ &\\\\\n",
    "& \\Gamma_{0 0}^0 \\frac{\\mathrm{d} x^0}{\\mathrm{d} \\lambda} \\frac{\\mathrm{d} x^0}{\\mathrm{d} \\lambda} + 2\\Gamma_{0 1}^0 \\frac{\\mathrm{d} x^0}{\\mathrm{d} \\lambda} \\frac{\\mathrm{d} x^1}{\\mathrm{d} \\lambda}+ 2\\Gamma_{0 2}^0 \\frac{\\mathrm{d} x^0}{\\mathrm{d} \\lambda} \\frac{\\mathrm{d} x^2}{\\mathrm{d} \\lambda}+ 2\\Gamma_{0 3}^0 \\frac{\\mathrm{d} x^0}{\\mathrm{d} \\lambda} \\frac{\\mathrm{d} x^3}{\\mathrm{d} \\lambda}+\\\\\n",
    "& \\Gamma_{1 1}^0 \\frac{\\mathrm{d} x^1}{\\mathrm{d} \\lambda} \\frac{\\mathrm{d} x^1}{\\mathrm{d} \\lambda}+ 2\\Gamma_{1 2}^0 \\frac{\\mathrm{d} x^1}{\\mathrm{d} \\lambda} \\frac{\\mathrm{d} x^2}{\\mathrm{d} \\lambda}+ 2\\Gamma_{1 3}^0 \\frac{\\mathrm{d} x^1}{\\mathrm{d} \\lambda} \\frac{\\mathrm{d} x^3}{\\mathrm{d} \\lambda}+\\\\\n",
    "& \\Gamma_{2 2}^0 \\frac{\\mathrm{d} x^2}{\\mathrm{d} \\lambda} \\frac{\\mathrm{d} x^2}{\\mathrm{d} \\lambda}+2 \\Gamma_{2 3}^0 \\frac{\\mathrm{d} x^2}{\\mathrm{d} \\lambda} \\frac{\\mathrm{d} x^3}{\\mathrm{d} \\lambda}+\\\\\n",
    "& \\Gamma_{3 3}^0 \\frac{\\mathrm{d} x^3}{\\mathrm{d} \\lambda} \\frac{\\mathrm{d} x^3}{\\mathrm{d} \\lambda}\\\\\n",
    "&=0\n",
    "\\end{aligned}\n",
    "$$"
   ]
  },
  {
   "cell_type": "markdown",
   "metadata": {},
   "source": [
    "escogiendo solo los que son diferentes de 0:"
   ]
  },
  {
   "cell_type": "markdown",
   "metadata": {},
   "source": [
    "$$\n",
    "\\begin{aligned}\n",
    "\\frac{\\mathrm{d}^2 x^0}{\\mathrm{d} \\lambda^2}+ &\\\\\n",
    "& 2\\Gamma_{0 1}^0 \\frac{\\mathrm{d} x^0}{\\mathrm{d} \\lambda} \\frac{\\mathrm{d} x^1}{\\mathrm{d} \\lambda}\n",
    "&=0\n",
    "\\end{aligned}\n",
    "$$"
   ]
  },
  {
   "cell_type": "markdown",
   "metadata": {},
   "source": [
    "reemplazando el valor de las coordenadas y el simbolo de chistoffel:"
   ]
  },
  {
   "cell_type": "markdown",
   "metadata": {},
   "source": [
    "$$\n",
    "\\begin{aligned}\n",
    "\\frac{\\mathrm{d}^2 ct}{\\mathrm{d} \\lambda^2}+ &\\\\\n",
    "& \\frac{s}{r^2(1 - s/r)} \\frac{\\mathrm{d} ct}{\\mathrm{d} \\lambda} \\frac{\\mathrm{d} r}{\\mathrm{d} \\lambda}\n",
    "&=0\n",
    "\\end{aligned}\n",
    "$$"
   ]
  },
  {
   "cell_type": "markdown",
   "metadata": {},
   "source": [
    "$$\\frac{\\mathrm{d}^2 t}{\\mathrm{d} \\lambda^2}+\\frac{s}{r^2(1 - s/r)} \\frac{\\mathrm{d} t}{\\mathrm{d} \\lambda} \\frac{\\mathrm{d} r}{\\mathrm{d} \\lambda}\n",
    "=0$$"
   ]
  },
  {
   "cell_type": "markdown",
   "metadata": {},
   "source": [
    "comparando con el resultado esperado:\n",
    "\n",
    "$$\n",
    "\\frac{\\mathrm{d}^2 t}{\\mathrm{~d} \\lambda^2}+\\frac{2 G M}{c^2 r^2\\left(1-\\frac{2 G M}{c^2 r}\\right)} \\frac{\\mathrm{d} r}{\\mathrm{~d} \\lambda} \\frac{\\mathrm{d} t}{\\mathrm{~d} \\lambda}=0 \n",
    "$$"
   ]
  },
  {
   "cell_type": "markdown",
   "metadata": {},
   "source": [
    "a modo de ilustracion, también calculo la componente 2 que en los simbolos de Christoffel solo 2 son diferente de cero.\n",
    "\n",
    "Componente 2:"
   ]
  },
  {
   "cell_type": "markdown",
   "metadata": {},
   "source": [
    "$$\n",
    "\\begin{aligned}\n",
    "\\frac{\\mathrm{d}^2 x^2}{\\mathrm{d} \\lambda^2}+ &\\\\\n",
    "& \\Gamma_{0 0}^2 \\frac{\\mathrm{d} x^0}{\\mathrm{d} \\lambda} \\frac{\\mathrm{d} x^0}{\\mathrm{d} \\lambda} + \\Gamma_{0 1}^2 \\frac{\\mathrm{d} x^0}{\\mathrm{d} \\lambda} \\frac{\\mathrm{d} x^1}{\\mathrm{d} \\lambda}+ \\Gamma_{0 2}^2 \\frac{\\mathrm{d} x^0}{\\mathrm{d} \\lambda} \\frac{\\mathrm{d} x^2}{\\mathrm{d} \\lambda}+ \\Gamma_{0 3}^2 \\frac{\\mathrm{d} x^0}{\\mathrm{d} \\lambda} \\frac{\\mathrm{d} x^3}{\\mathrm{d} \\lambda}+\\\\\n",
    "&\\Gamma_{1 0}^2 \\frac{\\mathrm{d} x^1}{\\mathrm{d} \\lambda} \\frac{\\mathrm{d} x^0}{\\mathrm{d} \\lambda} + \\Gamma_{1 1}^2 \\frac{\\mathrm{d} x^1}{\\mathrm{d} \\lambda} \\frac{\\mathrm{d} x^1}{\\mathrm{d} \\lambda}+ \\Gamma_{1 2}^2 \\frac{\\mathrm{d} x^1}{\\mathrm{d} \\lambda} \\frac{\\mathrm{d} x^2}{\\mathrm{d} \\lambda}+ \\Gamma_{1 3}^2 \\frac{\\mathrm{d} x^1}{\\mathrm{d} \\lambda} \\frac{\\mathrm{d} x^3}{\\mathrm{d} \\lambda}+\\\\\n",
    "&\\Gamma_{2 0}^2 \\frac{\\mathrm{d} x^2}{\\mathrm{d} \\lambda} \\frac{\\mathrm{d} x^0}{\\mathrm{d} \\lambda} + \\Gamma_{ 2 1}^2 \\frac{\\mathrm{d} x^2}{\\mathrm{d} \\lambda} \\frac{\\mathrm{d} x^1}{\\mathrm{d} \\lambda}+ \\Gamma_{2 2}^2 \\frac{\\mathrm{d} x^2}{\\mathrm{d} \\lambda} \\frac{\\mathrm{d} x^2}{\\mathrm{d} \\lambda}+ \\Gamma_{2 3}^2 \\frac{\\mathrm{d} x^2}{\\mathrm{d} \\lambda} \\frac{\\mathrm{d} x^3}{\\mathrm{d} \\lambda}+\\\\\n",
    "&\\Gamma_{3 0}^2 \\frac{\\mathrm{d} x^3}{\\mathrm{d} \\lambda} \\frac{\\mathrm{d} x^0}{\\mathrm{d} \\lambda} + \\Gamma_{3 1}^2 \\frac{\\mathrm{d} x^3}{\\mathrm{d} \\lambda} \\frac{\\mathrm{d} x^1}{\\mathrm{d} \\lambda}+ \\Gamma_{3 2}^2 \\frac{\\mathrm{d} x^3}{\\mathrm{d} \\lambda} \\frac{\\mathrm{d} x^2}{\\mathrm{d} \\lambda}+ \\Gamma_{3 3}^2 \\frac{\\mathrm{d} x^3}{\\mathrm{d} \\lambda} \\frac{\\mathrm{d} x^3}{\\mathrm{d} \\lambda}+\\\\\n",
    "&=0\n",
    "\\end{aligned}\n",
    "$$"
   ]
  },
  {
   "cell_type": "markdown",
   "metadata": {},
   "source": [
    "aplicando simetrias:"
   ]
  },
  {
   "cell_type": "markdown",
   "metadata": {},
   "source": [
    "$$\n",
    "\\begin{aligned}\n",
    "\\frac{\\mathrm{d}^2 x^2}{\\mathrm{d} \\lambda^2}+ &\\\\\n",
    "& \\Gamma_{0 0}^2 \\frac{\\mathrm{d} x^0}{\\mathrm{d} \\lambda} \\frac{\\mathrm{d} x^0}{\\mathrm{d} \\lambda} + 2\\Gamma_{0 1}^2 \\frac{\\mathrm{d} x^0}{\\mathrm{d} \\lambda} \\frac{\\mathrm{d} x^1}{\\mathrm{d} \\lambda}+ 2\\Gamma_{0 2}^2 \\frac{\\mathrm{d} x^0}{\\mathrm{d} \\lambda} \\frac{\\mathrm{d} x^2}{\\mathrm{d} \\lambda}+ 2\\Gamma_{0 3}^2 \\frac{\\mathrm{d} x^0}{\\mathrm{d} \\lambda} \\frac{\\mathrm{d} x^3}{\\mathrm{d} \\lambda}+\\\\\n",
    "& \\Gamma_{1 1}^2 \\frac{\\mathrm{d} x^1}{\\mathrm{d} \\lambda} \\frac{\\mathrm{d} x^1}{\\mathrm{d} \\lambda}+ 2\\Gamma_{1 2}^2 \\frac{\\mathrm{d} x^1}{\\mathrm{d} \\lambda} \\frac{\\mathrm{d} x^2}{\\mathrm{d} \\lambda}+ 2\\Gamma_{1 3}^2 \\frac{\\mathrm{d} x^1}{\\mathrm{d} \\lambda} \\frac{\\mathrm{d} x^3}{\\mathrm{d} \\lambda}+\\\\\n",
    "& \\Gamma_{2 2}^2 \\frac{\\mathrm{d} x^2}{\\mathrm{d} \\lambda} \\frac{\\mathrm{d} x^2}{\\mathrm{d} \\lambda}+2 \\Gamma_{2 3}^2 \\frac{\\mathrm{d} x^2}{\\mathrm{d} \\lambda} \\frac{\\mathrm{d} x^3}{\\mathrm{d} \\lambda}+\\\\\n",
    "& \\Gamma_{3 3}^2 \\frac{\\mathrm{d} x^3}{\\mathrm{d} \\lambda} \\frac{\\mathrm{d} x^3}{\\mathrm{d} \\lambda}\\\\\n",
    "&=0\n",
    "\\end{aligned}\n",
    "$$"
   ]
  },
  {
   "cell_type": "markdown",
   "metadata": {},
   "source": [
    "escogiendo las que son diferentes de 0:"
   ]
  },
  {
   "cell_type": "markdown",
   "metadata": {},
   "source": [
    "$$\n",
    "\\begin{aligned}\n",
    "\\frac{\\mathrm{d}^2 x^2}{\\mathrm{d} \\lambda^2}+ &\\\\\n",
    "& 2\\Gamma_{1 2}^2 \\frac{\\mathrm{d} x^1}{\\mathrm{d} \\lambda} \\frac{\\mathrm{d} x^2}{\\mathrm{d} \\lambda}+\n",
    "& \\Gamma_{3 3}^2 \\frac{\\mathrm{d} x^3}{\\mathrm{d} \\lambda} \\frac{\\mathrm{d} x^3}{\\mathrm{d} \\lambda}\\\\\n",
    "&=0\n",
    "\\end{aligned}\n",
    "$$"
   ]
  },
  {
   "cell_type": "markdown",
   "metadata": {},
   "source": [
    "reemplazando el valor de las coordenadas y el simbolo de chistoffel:"
   ]
  },
  {
   "cell_type": "markdown",
   "metadata": {},
   "source": [
    "$$\n",
    "\\begin{aligned}\n",
    "\\frac{\\mathrm{d}^2 \\theta}{\\mathrm{d} \\lambda^2}+ &\\\\\n",
    "&  \\frac{2}{r} \\frac{\\mathrm{d} r}{\\mathrm{d} \\lambda} \\frac{\\mathrm{d} \\theta}{\\mathrm{d} \\lambda}+\n",
    "& -sin(\\theta)cos(\\theta) \\frac{\\mathrm{d} \\phi}{\\mathrm{d} \\lambda} \\frac{\\mathrm{d} \\phi}{\\mathrm{d} \\lambda}\\\\\n",
    "&=0\n",
    "\\end{aligned}\n",
    "$$"
   ]
  },
  {
   "cell_type": "markdown",
   "metadata": {},
   "source": [
    "comparando con el resultado esperado:"
   ]
  },
  {
   "cell_type": "markdown",
   "metadata": {},
   "source": [
    "$$\\frac{\\mathrm{d}^2 \\theta}{\\mathrm{d} \\lambda^2}+\\frac{2}{r} \\frac{\\mathrm{d} r}{\\mathrm{~d} \\lambda} \\frac{\\mathrm{d} \\theta}{\\mathrm{d} \\lambda}-\\sin \\theta \\cos \\theta\\left(\\frac{\\mathrm{d} \\phi}{\\mathrm{d} \\lambda}\\right)^2=0 $$"
   ]
  },
  {
   "cell_type": "markdown",
   "metadata": {},
   "source": [
    "# Solucion de las ecuaciones- Cuadraturas"
   ]
  },
  {
   "cell_type": "markdown",
   "metadata": {},
   "source": []
  },
  {
   "cell_type": "markdown",
   "metadata": {},
   "source": [
    "\n",
    "\n",
    "## Constantes "
   ]
  },
  {
   "cell_type": "markdown",
   "metadata": {},
   "source": [
    "## Constantes fisicas y astronomicas"
   ]
  },
  {
   "cell_type": "code",
   "execution_count": 52,
   "metadata": {},
   "outputs": [],
   "source": [
    "m_sol = rb.units.masses_SI['msolar']"
   ]
  },
  {
   "cell_type": "markdown",
   "metadata": {},
   "source": [
    "## Unidades del programa"
   ]
  },
  {
   "cell_type": "code",
   "execution_count": 53,
   "metadata": {},
   "outputs": [
    {
     "name": "stdout",
     "output_type": "stream",
     "text": [
      "Las unidades canonicas son: UL = 1.477e+03 m, UM = 1.988e+30 kg, UT = 4.926e-06 s \n"
     ]
    }
   ],
   "source": [
    "U_m = m_sol\n",
    "U_l = G*U_m/c**2\n",
    "U_t = U_l/c\n",
    "print(f\"Las unidades canonicas son: UL = {U_l:.3e} m, UM = {U_m:.3e} kg, UT = {U_t:.3e} s \")"
   ]
  },
  {
   "cell_type": "markdown",
   "metadata": {},
   "source": [
    "## Unidades derivadas del programa"
   ]
  },
  {
   "cell_type": "code",
   "execution_count": 54,
   "metadata": {},
   "outputs": [
    {
     "name": "stdout",
     "output_type": "stream",
     "text": [
      "Las unidades derivadas son: UV = 2.998e+08 m/s, UA = 6.086e+13 m/s^2, UF = 1.210e+44 kg*m/s^2 \n"
     ]
    }
   ],
   "source": [
    "U_v = U_l/U_t\n",
    "U_a = U_l/U_t**2\n",
    "U_f = U_a*U_m\n",
    "print(f\"Las unidades derivadas son: UV = {U_v:.3e} m/s, UA = {U_a:.3e} m/s^2, UF = {U_f:.3e} kg*m/s^2 \")"
   ]
  },
  {
   "cell_type": "code",
   "execution_count": 55,
   "metadata": {},
   "outputs": [
    {
     "name": "stdout",
     "output_type": "stream",
     "text": [
      "la masa a colpasar en kilogramos es 10 veces la masa solar que es :  1.988e+31Kg\n"
     ]
    }
   ],
   "source": [
    "m = 10\n",
    "print(f\"la masa a colpasar en kilogramos es 10 veces la masa solar que es : {m*U_m: .3e}Kg\" )\n"
   ]
  },
  {
   "cell_type": "markdown",
   "metadata": {},
   "source": [
    "calcular $s$ (radio de Schwarzschild) para un agujero negro : "
   ]
  },
  {
   "cell_type": "code",
   "execution_count": 56,
   "metadata": {},
   "outputs": [
    {
     "name": "stdout",
     "output_type": "stream",
     "text": [
      "El radio de Schwarzchild calculado para la masa dada es: 20U_l= 2.000e+01m\n"
     ]
    }
   ],
   "source": [
    "s = 2*m #radio de Schwarzchild, en unidades canonicas\n",
    "print(f\"El radio de Schwarzchild calculado para la masa dada es: {s}U_l= {s:.3e}m\")"
   ]
  },
  {
   "cell_type": "code",
   "execution_count": 77,
   "metadata": {},
   "outputs": [
    {
     "data": {
      "text/plain": [
       "20"
      ]
     },
     "execution_count": 77,
     "metadata": {},
     "output_type": "execute_result"
    }
   ],
   "source": [
    "s"
   ]
  },
  {
   "cell_type": "code",
   "execution_count": 65,
   "metadata": {},
   "outputs": [
    {
     "data": {
      "text/plain": [
       "(0.9, 0.2, 0.3, 0.9695359714832659)"
      ]
     },
     "execution_count": 65,
     "metadata": {},
     "output_type": "execute_result"
    }
   ],
   "source": [
    "t = 0\n",
    "r = 5*s\n",
    "fi = 30*np.pi/180\n",
    "teta = 60*np.pi/180\n",
    "v_r = 0.9\n",
    "v_teta = 0.2\n",
    "v_fi = 0.3\n",
    "v = (v_r**2 + v_teta**2 + v_fi**2)**0.5\n",
    "v_r,v_teta,v_fi,v#mostrar valores cada calculo"
   ]
  },
  {
   "cell_type": "code",
   "execution_count": 58,
   "metadata": {},
   "outputs": [
    {
     "data": {
      "text/plain": [
       "(1.25, 1.125, 0.0025, 0.004330127018922193)"
      ]
     },
     "execution_count": 58,
     "metadata": {},
     "output_type": "execute_result"
    }
   ],
   "source": [
    "ut = 1/(1-s/r)\n",
    "ur = 1/(1-s/r)*v_r\n",
    "uq = 1/(1-s/r)*v_teta/r\n",
    "uf = 1/(1-s/r)*v_fi/(r*np.sin(teta))\n",
    "ut,ur,uq,uf"
   ]
  },
  {
   "cell_type": "code",
   "execution_count": 70,
   "metadata": {},
   "outputs": [],
   "source": [
    "def geo_edm(Y, lamb, s):\n",
    "    \n",
    "    t,r,q,f = Y[:4]\n",
    "    ut,ur,uq,uf = Y[4:]\n",
    "    \n",
    "    dtdl = ut\n",
    "    drdl = ur\n",
    "    dqdl = uq\n",
    "    dfdl = uf\n",
    "    \n",
    "    dutdl = -s/(r**2*(1-s/r))*ur*ut\n",
    "    \n",
    "   \n",
    "    durdl = -s/(2*r**2)*(1-s/r)*ut**2 + s/2*1/(1- s/r)*ur**2 + r*(1-s/r)*(uq**2 + np.sin(q)**2*uf**2)\n",
    "    \n",
    "    \n",
    "    duqdl = -2/r*ur*uq + np.sin(q)*np.cos(q)*uf**2\n",
    "    \n",
    "     \n",
    "    dufdl = -2/r*ur*uf - 2*np.cos(q)/np.sin(q)*uq*uf\n",
    "    \n",
    "    return [dtdl, drdl, dqdl, dfdl, dutdl, durdl, duqdl, dufdl]"
   ]
  },
  {
   "cell_type": "markdown",
   "metadata": {},
   "source": []
  },
  {
   "cell_type": "code",
   "execution_count": 71,
   "metadata": {},
   "outputs": [
    {
     "data": {
      "text/plain": [
       "[0,\n",
       " 100,\n",
       " 1.0471975511965976,\n",
       " 0.5235987755982988,\n",
       " 1.25,\n",
       " 1.125,\n",
       " 0.0025,\n",
       " 0.004330127018922193]"
      ]
     },
     "execution_count": 71,
     "metadata": {},
     "output_type": "execute_result"
    }
   ],
   "source": [
    "#condiciones iniciales\n",
    "estado = [t, r, teta, fi, ut, ur, uq, uf]\n",
    "estado"
   ]
  },
  {
   "cell_type": "code",
   "execution_count": 72,
   "metadata": {},
   "outputs": [
    {
     "data": {
      "text/plain": [
       "[1.25,\n",
       " 1.125,\n",
       " 0.0025,\n",
       " 0.004330127018922193,\n",
       " -0.0035156249999999997,\n",
       " 15.8206875,\n",
       " -4.8131011839520884e-05,\n",
       " -0.00010992785792574936]"
      ]
     },
     "execution_count": 72,
     "metadata": {},
     "output_type": "execute_result"
    }
   ],
   "source": [
    "geo_edm(estado,0,s)"
   ]
  },
  {
   "cell_type": "code",
   "execution_count": 40,
   "metadata": {},
   "outputs": [],
   "source": [
    "from scipy.integrate import odeint"
   ]
  },
  {
   "cell_type": "code",
   "execution_count": 74,
   "metadata": {},
   "outputs": [],
   "source": [
    "lambs = np.linspace(0, 1, 100)"
   ]
  },
  {
   "cell_type": "code",
   "execution_count": 75,
   "metadata": {},
   "outputs": [
    {
     "name": "stderr",
     "output_type": "stream",
     "text": [
      "/home/emanuel/.local/lib/python3.10/site-packages/scipy/integrate/_odepack_py.py:248: ODEintWarning: Excess work done on this call (perhaps wrong Dfun type). Run with full_output = 1 to get quantitative information.\n",
      "  warnings.warn(warning_msg, ODEintWarning)\n"
     ]
    }
   ],
   "source": [
    "Ys = odeint(geo_edm, estado, lambs, args=(s,))"
   ]
  },
  {
   "cell_type": "code",
   "execution_count": 76,
   "metadata": {},
   "outputs": [
    {
     "data": {
      "text/plain": [
       "array([[0.00000000e+000, 1.00000000e+002, 1.04719755e+000,\n",
       "        5.23598776e-001, 1.25000000e+000, 1.12500000e+000,\n",
       "        2.50000000e-003, 4.33012702e-003],\n",
       "       [1.26260741e-002, 1.00012256e+002, 1.04722280e+000,\n",
       "        5.23642508e-001, 1.24996170e+000, 1.31125952e+000,\n",
       "        2.49946927e-003, 4.32893957e-003],\n",
       "       [2.52517284e-002, 1.00026736e+002, 1.04724805e+000,\n",
       "        5.23686228e-001, 1.24991648e+000, 1.57141996e+000,\n",
       "        2.49882760e-003, 4.32756022e-003],\n",
       "       [3.78768786e-002, 1.00044429e+002, 1.04727328e+000,\n",
       "        5.23729933e-001, 1.24986124e+000, 1.96034477e+000,\n",
       "        2.49802572e-003, 4.32590367e-003],\n",
       "       [5.05013980e-002, 1.00067179e+002, 1.04729851e+000,\n",
       "        5.23773619e-001, 1.24979024e+000, 2.60505970e+000,\n",
       "        2.49697180e-003, 4.32381101e-003],\n",
       "       [6.31250725e-002, 1.00099087e+002, 1.04732372e+000,\n",
       "        5.23817280e-001, 1.24969074e+000, 3.88151764e+000,\n",
       "        2.49546184e-003, 4.32092911e-003],\n",
       "       [7.57474579e-002, 1.00152962e+002, 1.04734892e+000,\n",
       "        5.23860904e-001, 1.24952291e+000, 7.60993584e+000,\n",
       "        2.49285932e-003, 4.31615612e-003],\n",
       "       [8.83667230e-002, 1.00411293e+002, 1.04737407e+000,\n",
       "        5.23904441e-001, 1.24872128e+000, 1.91774846e+002,\n",
       "        2.48012986e-003, 4.29385148e-003],\n",
       "       [8.88881677e-002, 1.02103148e+002, 1.04737510e+000,\n",
       "        5.23906231e-001, 1.24359602e+000, 2.74776863e+011,\n",
       "        2.39862224e-003, 4.15272672e-003],\n",
       "       [9.76118064e-313, 4.68260811e-310, 4.68273373e-310,\n",
       "        4.68273373e-310, 0.00000000e+000, 4.68273373e-310,\n",
       "        4.68260811e-310, 4.68273373e-310],\n",
       "       [4.94065646e-324, 9.76118064e-313, 0.00000000e+000,\n",
       "        4.68273373e-310, 0.00000000e+000, 6.94295803e-310,\n",
       "        4.68273373e-310, 4.68273373e-310],\n",
       "       [2.54639495e-313, 4.03179200e-313, 1.18575755e-322,\n",
       "        6.94302490e-310, 4.94065646e-324, 3.32012114e-321,\n",
       "        2.54639495e-313, 4.03179200e-313],\n",
       "       [4.68260811e-310, 4.68273373e-310, 2.47032823e-323,\n",
       "        4.68273373e-310, 6.94295803e-310, 4.68273373e-310,\n",
       "        2.47032823e-323, 4.68273373e-310],\n",
       "       [6.94295803e-310, 4.68273373e-310, 2.47032823e-323,\n",
       "        4.68273373e-310, 5.51377261e-321, 4.68273373e-310,\n",
       "        2.47032823e-323, 4.68273373e-310],\n",
       "       [6.94295803e-310, 4.68273373e-310, 6.94295803e-310,\n",
       "        4.68273373e-310, 5.44954407e-321, 4.68273373e-310,\n",
       "        6.94295803e-310, 4.68273373e-310],\n",
       "       [1.18575755e-322, 6.94302490e-310, 4.94065646e-324,\n",
       "        6.94301541e-310, 2.54639495e-313, 4.03179200e-313,\n",
       "        6.94295803e-310, 6.94302464e-310],\n",
       "       [6.94295803e-310, 6.94301514e-310, 4.45619116e-313,\n",
       "        5.72938864e-313, 6.94295803e-310, 4.68273373e-310,\n",
       "        3.45845952e-323, 0.00000000e+000],\n",
       "       [5.58788245e-321, 4.68273373e-310, 3.45845952e-323,\n",
       "        4.68273373e-310, 5.59282311e-321, 4.68273373e-310,\n",
       "        4.68260811e-310, 4.68273373e-310],\n",
       "       [6.94295803e-310, 4.68273373e-310, 3.45845952e-323,\n",
       "        4.68273373e-310, 6.94295803e-310, 4.68273373e-310,\n",
       "        3.45845952e-323, 4.68273373e-310],\n",
       "       [            nan, 4.68273373e-310, 6.94295803e-310,\n",
       "        4.68273373e-310, 5.62740771e-321, 4.68273373e-310,\n",
       "        4.88059032e-313, 4.68273373e-310],\n",
       "       [1.18575755e-322, 6.94302464e-310, 4.94065646e-324,\n",
       "        4.94065646e-324, 4.45619116e-313, 5.72938864e-313,\n",
       "        1.18575755e-322, 6.94302464e-310],\n",
       "       [4.94065646e-324, 4.68273373e-310, 4.45619116e-313,\n",
       "        5.72938864e-313, 5.62246705e-321, 4.68273373e-310,\n",
       "        3.45845952e-323, 4.68273373e-310],\n",
       "       [5.61258574e-321, 4.68273373e-310, 3.45845952e-323,\n",
       "        4.68273373e-310, 5.51871326e-321, 4.68273373e-310,\n",
       "        6.94295803e-310, 4.68273373e-310],\n",
       "       [5.51377261e-321, 4.68273373e-310, 4.68260811e-310,\n",
       "        4.68273373e-310, 5.50883195e-321, 4.68273373e-310,\n",
       "        6.94295803e-310, 4.68273373e-310],\n",
       "       [5.44954407e-321, 4.68273373e-310, 6.94295803e-310,\n",
       "        4.68273373e-310, 1.18575755e-322, 6.94301536e-310,\n",
       "        4.94065646e-324, 4.68273373e-310],\n",
       "       [6.15378779e-313, 7.21478569e-313, 5.58294180e-321,\n",
       "        4.68273373e-310, 4.44659081e-323, 0.00000000e+000,\n",
       "        5.58788245e-321, 4.68273373e-310],\n",
       "       [4.44659081e-323, 4.68273373e-310, 5.59282311e-321,\n",
       "        4.68273373e-310, 4.44659081e-323, 4.68273373e-310,\n",
       "        5.59776377e-321, 4.68273373e-310],\n",
       "       [4.44659081e-323, 4.68273373e-310, 5.60270442e-321,\n",
       "        4.68273373e-310, 4.44659081e-323, 4.68273373e-310,\n",
       "        5.51718911e-313, 4.68273373e-310],\n",
       "       [6.94295803e-310, 4.68273373e-310, 5.62740771e-321,\n",
       "        4.68273373e-310, 5.51718906e-313, 4.68273373e-310,\n",
       "        6.94295803e-310, 6.94301536e-310],\n",
       "       [6.94295803e-310, 4.68273373e-310, 6.15378779e-313,\n",
       "        7.21478569e-313, 6.94295803e-310, 6.94301536e-310,\n",
       "        6.94295803e-310, 4.68273373e-310],\n",
       "       [6.15378779e-313, 7.21478569e-313, 6.94295803e-310,\n",
       "        4.68273373e-310, 6.94295803e-310, 4.68273373e-310,\n",
       "        6.94295803e-310, 4.68273373e-310],\n",
       "       [6.94295803e-310, 4.68273373e-310, 6.94295803e-310,\n",
       "        4.68273373e-310, 6.94295803e-310, 4.68273373e-310,\n",
       "        5.51377261e-321, 4.68273373e-310],\n",
       "       [4.68260811e-310, 4.68273373e-310, 6.94295803e-310,\n",
       "        4.68273373e-310, 6.94295803e-310, 4.68273373e-310,\n",
       "        5.44954407e-321, 4.68273373e-310],\n",
       "       [4.68260811e-310, 4.68273373e-310, 4.68260811e-310,\n",
       "        6.94307197e-310, 4.68260811e-310, 4.68273373e-310,\n",
       "        7.63918485e-313, 8.48798316e-313],\n",
       "       [6.15378785e-313, 4.68273373e-310, 4.68260811e-310,\n",
       "        0.00000000e+000, 4.68260811e-310, 4.68273373e-310,\n",
       "        6.94295803e-310, 4.68273373e-310],\n",
       "       [6.94295803e-310, 4.68273373e-310, 2.12199579e-313,\n",
       "        4.68273373e-310, 6.94295803e-310, 4.68273373e-310,\n",
       "        6.94295803e-310, 4.68273373e-310],\n",
       "       [2.12199585e-313, 4.68273373e-310, 6.94295803e-310,\n",
       "        4.68273373e-310, 6.94295803e-310, 4.68273373e-310,\n",
       "        2.12199579e-313, 4.68273373e-310],\n",
       "       [4.68260811e-310, 4.68273373e-310, 4.68260811e-310,\n",
       "        4.68273373e-310, 4.68260811e-310, 6.94307197e-310,\n",
       "        4.68260811e-310, 4.94065646e-324],\n",
       "       [7.63918485e-313, 8.48798316e-313, 6.94295803e-310,\n",
       "        6.94307197e-310, 6.94295803e-310, 4.68273373e-310,\n",
       "        7.63918485e-313, 8.48798316e-313],\n",
       "       [6.94295803e-310, 4.68273373e-310, 4.68260811e-310,\n",
       "        4.68273373e-310, 5.61258574e-321, 4.68273373e-310,\n",
       "        5.43472210e-323, 4.68273373e-310],\n",
       "       [6.94295803e-310, 4.68273373e-310, 6.94295803e-310,\n",
       "        4.68273373e-310, 6.94295803e-310, 4.68273373e-310,\n",
       "        6.94295803e-310, 4.68273373e-310],\n",
       "       [6.94295803e-310, 4.68273373e-310, 6.94295803e-310,\n",
       "        4.68273373e-310, 6.94295803e-310, 4.68273373e-310,\n",
       "        6.94295803e-310, 4.68273373e-310],\n",
       "       [9.88131292e-324, 4.68273373e-310, 4.68273373e-310,\n",
       "        4.68273373e-310, 6.94295803e-310, 4.68273373e-310,\n",
       "        1.69759663e-313, 0.00000000e+000],\n",
       "       [1.48219694e-323, 4.68273373e-310, 4.68273373e-310,\n",
       "        4.68273373e-310, 4.68273373e-310, 4.03179200e-313,\n",
       "        6.94307197e-310, 4.68260811e-310],\n",
       "       [6.94307049e-310, 7.63918485e-313, 8.48798316e-313,\n",
       "        4.03179206e-313, 4.68273373e-310, 4.68260811e-310,\n",
       "        0.00000000e+000, 5.58788245e-321],\n",
       "       [4.68273373e-310, 6.36598737e-313, 4.68273373e-310,\n",
       "        6.94295803e-310, 4.68273373e-310, 6.94295803e-310,\n",
       "        4.68273373e-310, 2.12199585e-313],\n",
       "       [4.68273373e-310, 4.68260811e-310, 4.68273373e-310,\n",
       "        4.68260811e-310, 4.68273373e-310, 4.68260811e-310,\n",
       "        4.68273373e-310, 4.68260811e-310],\n",
       "       [4.68273373e-310, 4.68260811e-310, 4.68273373e-310,\n",
       "        4.68260811e-310, 4.68273373e-310, 4.68260811e-310,\n",
       "        4.68273373e-310, 4.68260811e-310],\n",
       "       [6.94307199e-310, 4.68260811e-310, 6.94295803e-310,\n",
       "        8.91238232e-313, 9.12458190e-313, 4.68260811e-310,\n",
       "        4.68273373e-310, 4.68260811e-310],\n",
       "       [0.00000000e+000, 4.68260811e-310, 4.68273373e-310,\n",
       "        4.68260811e-310, 4.68273373e-310, 4.68260811e-310,\n",
       "        4.68273373e-310, 6.91691904e-323],\n",
       "       [4.68273373e-310, 5.59776377e-321, 4.68273373e-310,\n",
       "        6.91691904e-323, 4.68273373e-310, 5.60270442e-321,\n",
       "        4.68273373e-310, 6.91691904e-323],\n",
       "       [4.68273373e-310, 5.60764508e-321, 4.68273373e-310,\n",
       "        4.68260811e-310, 4.68273373e-310, 5.62740771e-321,\n",
       "        4.68273373e-310, 6.91691904e-323],\n",
       "       [4.68273373e-310, 1.18575755e-322, 6.94307199e-310,\n",
       "        4.68260811e-310, 5.77068674e-321, 8.91238232e-313,\n",
       "        9.12458190e-313, 4.68260811e-310],\n",
       "       [6.94307199e-310, 4.94065646e-324, 6.94295803e-310,\n",
       "        8.91238232e-313, 9.12458190e-313, 5.62246705e-321,\n",
       "        4.68273373e-310, 4.68260811e-310],\n",
       "       [4.68273373e-310, 5.61258574e-321, 4.68273373e-310,\n",
       "        4.68260811e-310, 4.68273373e-310, 5.51871326e-321,\n",
       "        4.68273373e-310, 4.68260811e-310],\n",
       "       [4.68273373e-310, 5.51377261e-321, 4.68273373e-310,\n",
       "        4.68260811e-310, 4.68273373e-310, 5.50883195e-321,\n",
       "        4.68273373e-310, 4.68260811e-310],\n",
       "       [4.68273373e-310, 5.44954407e-321, 4.68273373e-310,\n",
       "        4.68260811e-310, 4.68273373e-310, 5.58294180e-321,\n",
       "        0.00000000e+000, 4.68260811e-310],\n",
       "       [0.00000000e+000, 5.58788245e-321, 0.00000000e+000,\n",
       "        4.68260811e-310, 4.68273373e-310, 5.59282311e-321,\n",
       "        0.00000000e+000, 4.68260811e-310],\n",
       "       [4.68273373e-310, 5.59776377e-321, 0.00000000e+000,\n",
       "        4.68260811e-310, 4.68273373e-310, 5.60270442e-321,\n",
       "        0.00000000e+000, 4.68260811e-310],\n",
       "       [4.68273373e-310, 5.60764508e-321, 0.00000000e+000,\n",
       "        4.68260811e-310, 4.68273373e-310, 5.62740771e-321,\n",
       "        0.00000000e+000, 4.68260811e-310],\n",
       "       [4.68273373e-310, 5.62246705e-321, 0.00000000e+000,\n",
       "        4.68260811e-310, 4.68273373e-310, 4.68260811e-310,\n",
       "        0.00000000e+000, 6.94295803e-310],\n",
       "       [4.68273373e-310, 6.94295803e-310, 0.00000000e+000,\n",
       "        7.41098469e-323, 4.68273373e-310, 4.68260811e-310,\n",
       "        0.00000000e+000, 4.68260811e-310],\n",
       "       [4.68273373e-310, 5.50883195e-321, 0.00000000e+000,\n",
       "        7.41098469e-323, 4.68273373e-310, 5.44954407e-321,\n",
       "        0.00000000e+000, 7.41098469e-323],\n",
       "       [4.68273373e-310, 4.94065646e-324, 4.68273373e-310,\n",
       "        4.68273373e-310, 1.28457068e-322, 4.68273373e-310,\n",
       "        4.94065646e-324, 0.00000000e+000],\n",
       "       [8.70018274e-313, 9.54898106e-313, 1.18575755e-322,\n",
       "        6.94307199e-310, 6.94295803e-310, 8.30449747e-318,\n",
       "        8.91238232e-313, 9.12458190e-313],\n",
       "       [4.94065646e-324, 4.68273373e-310, 4.68273373e-310,\n",
       "        1.28457068e-322, 4.68273373e-310, 4.68260811e-310,\n",
       "        4.68260811e-310, 8.70018274e-313],\n",
       "       [9.54898106e-313, 4.68260811e-310, 4.68273373e-310,\n",
       "        4.68260811e-310, 4.68273373e-310, 4.68260811e-310,\n",
       "        4.68273373e-310, 4.68260811e-310],\n",
       "       [4.68273373e-310, 4.68260811e-310, 4.68273373e-310,\n",
       "        6.94295803e-310, 4.68273373e-310, 4.68260811e-310,\n",
       "        4.68273373e-310, 1.61271680e-312],\n",
       "       [4.68273373e-310, 6.94295803e-310, 4.68273373e-310,\n",
       "        7.90505033e-323, 4.68273373e-310, 1.61271681e-312,\n",
       "        4.68273373e-310, 4.68260811e-310],\n",
       "       [4.68273373e-310, 6.94307197e-310, 4.68273373e-310,\n",
       "        7.63918485e-313, 9.54898106e-313, 4.68273373e-310,\n",
       "        6.94295803e-310, 0.00000000e+000],\n",
       "       [4.68273373e-310, 0.00000000e+000, 1.65515672e-312,\n",
       "        4.68273373e-310, 4.68260811e-310, 0.00000000e+000,\n",
       "        4.94065646e-324, 4.68273373e-310],\n",
       "       [4.68273373e-310, 1.67637667e-312, 6.94307197e-310,\n",
       "        4.68260811e-310, 4.68260811e-310, 7.63918485e-313,\n",
       "        8.48798316e-313, 6.94307197e-310],\n",
       "       [4.68273373e-310, 7.63918485e-313, 9.54898106e-313,\n",
       "        4.68273373e-310, 4.68260811e-310, 0.00000000e+000,\n",
       "        4.68273373e-310, 0.00000000e+000],\n",
       "       [4.68260811e-310, 4.68273373e-310, 4.68260811e-310,\n",
       "        4.68273373e-310, 4.94065646e-324, 4.68273373e-310,\n",
       "        4.68273373e-310, 4.94065646e-324],\n",
       "       [4.68273373e-310, 4.68273373e-310, 1.48219694e-323,\n",
       "        4.68273373e-310, 4.68273373e-310, 4.68273373e-310,\n",
       "        4.68273373e-310, 8.39911598e-323],\n",
       "       [4.68273231e-310, 4.68273373e-310, 4.68273373e-310,\n",
       "        2.54639495e-313, 9.54898106e-313, 5.72622084e-321,\n",
       "        4.68273373e-310, 1.86735630e-312],\n",
       "       [4.68273373e-310, 4.68260811e-310, 6.94302512e-310,\n",
       "        4.94065646e-324, 9.88131292e-324, 1.06099790e-313,\n",
       "        2.33419537e-313, 6.94295803e-310],\n",
       "       [6.94302512e-310, 4.94065646e-324, 0.00000000e+000,\n",
       "        1.06099790e-313, 2.33419537e-313, 6.94295803e-310,\n",
       "        6.94302512e-310, 9.88131292e-324],\n",
       "       [0.00000000e+000, 1.06099790e-313, 2.33419537e-313,\n",
       "        4.68260811e-310, 4.68273373e-310, 4.68260811e-310,\n",
       "        4.68273373e-310, 4.68260811e-310],\n",
       "       [4.68273373e-310, 4.68260811e-310, 4.68273373e-310,\n",
       "        4.94065646e-324, 4.68273373e-310, 4.68273373e-310,\n",
       "        6.13629532e-321, 4.68273373e-310],\n",
       "       [9.88131292e-324, 4.68273373e-310, 4.68260811e-310,\n",
       "        4.68273373e-310, 4.68260811e-310, 4.68273373e-310,\n",
       "        5.58788245e-321, 4.68273373e-310],\n",
       "       [9.54898106e-313, 4.68273373e-310, 4.68260811e-310,\n",
       "        4.68273373e-310, 1.88857625e-312, 4.68273373e-310,\n",
       "        4.68260811e-310, 4.68273373e-310],\n",
       "       [8.39911598e-323, 4.68273373e-310, 1.88857626e-312,\n",
       "        4.68273373e-310, 6.94295803e-310, 4.68273373e-310,\n",
       "        5.60764508e-321, 4.68273373e-310],\n",
       "       [8.27578359e-313, 4.68273373e-310, 4.68260811e-310,\n",
       "        4.68273373e-310, 4.68260811e-310, 4.68273373e-310,\n",
       "        4.68260811e-310, 6.94302512e-310],\n",
       "       [4.68260811e-310, 4.68273373e-310, 1.06099790e-313,\n",
       "        2.33419537e-313, 4.68260811e-310, 6.94302490e-310,\n",
       "        9.76118064e-313, 4.68273373e-310],\n",
       "       [2.54639495e-313, 4.03179200e-313, 8.39911598e-323,\n",
       "        4.68273373e-310, 4.68273373e-310, 4.68273373e-310,\n",
       "        1.06099790e-313, 9.76118064e-313],\n",
       "       [1.88857625e-312, 6.94302512e-310, 4.94065646e-324,\n",
       "        4.68273373e-310, 1.06099790e-313, 2.33419537e-313,\n",
       "        4.68260811e-310, 4.68273373e-310],\n",
       "       [8.39911598e-323, 4.68273373e-310, 4.68260811e-310,\n",
       "        4.68273373e-310, 4.68260811e-310, 4.68273373e-310,\n",
       "        4.68260811e-310, 4.68273373e-310],\n",
       "       [1.88857625e-312, 4.68273373e-310, 4.68260811e-310,\n",
       "        4.68273373e-310, 1.03977794e-312, 4.68273373e-310,\n",
       "        4.68260811e-310, 4.68273373e-310],\n",
       "       [4.68260811e-310, 4.68273373e-310, 1.74003655e-312,\n",
       "        4.68273373e-310, 8.39911598e-323, 4.68273373e-310,\n",
       "        1.10343782e-312, 4.68273373e-310],\n",
       "       [1.74003655e-312, 4.68273373e-310, 2.96439388e-323,\n",
       "        4.68273373e-310, 4.68273373e-310, 0.00000000e+000,\n",
       "        4.68260811e-310, 4.68273373e-310],\n",
       "       [4.68260811e-310, 4.94065646e-324, 9.76118064e-313,\n",
       "        6.94295803e-310, 4.68273373e-310, 8.39911598e-323,\n",
       "        4.68273373e-310, 4.94065646e-324],\n",
       "       [4.68273373e-310, 4.68273373e-310, 5.81021200e-321,\n",
       "        0.00000000e+000, 1.97345609e-312, 0.00000000e+000,\n",
       "        4.68260811e-310, 0.00000000e+000],\n",
       "       [1.10343781e-312, 4.68273373e-310, 4.68260811e-310,\n",
       "        0.00000000e+000, 4.68260811e-310, 4.68273373e-310,\n",
       "        4.68260811e-310, 0.00000000e+000],\n",
       "       [4.68260811e-310, 4.68273373e-310, 1.74003655e-312,\n",
       "        0.00000000e+000, 4.68260811e-310, 4.68273373e-310,\n",
       "        4.68260811e-310, 0.00000000e+000],\n",
       "       [4.68260811e-310, 4.68273373e-310, 4.68260811e-310,\n",
       "        0.00000000e+000, 4.68260811e-310, 4.68273373e-310,\n",
       "        4.68260811e-310, 0.00000000e+000],\n",
       "       [2.01589600e-312, 4.68273373e-310, 5.60764508e-321,\n",
       "        0.00000000e+000, 8.48798317e-314, 4.68273373e-310,\n",
       "        2.01589601e-312, 0.00000000e+000],\n",
       "       [8.89318163e-323, 4.68273373e-310, 5.62246705e-321,\n",
       "        0.00000000e+000, 4.68260811e-310, 4.68273373e-310,\n",
       "        5.61258574e-321, 0.00000000e+000],\n",
       "       [8.89318163e-323, 4.68273373e-310, 5.51871326e-321,\n",
       "        0.00000000e+000, 2.10077583e-312, 4.68273373e-310,\n",
       "        5.51377261e-321, 0.00000000e+000],\n",
       "       [8.89318163e-323, 4.68273373e-310, 2.10077584e-312,\n",
       "        0.00000000e+000, 4.68260811e-310, 4.68273373e-310,\n",
       "        5.44954407e-321, 0.00000000e+000]])"
      ]
     },
     "execution_count": 76,
     "metadata": {},
     "output_type": "execute_result"
    }
   ],
   "source": [
    "Ys"
   ]
  },
  {
   "cell_type": "code",
   "execution_count": null,
   "metadata": {},
   "outputs": [],
   "source": [
    "J = r**2*np.sin(teta)**2*dfi_dlamda\n",
    "J #metros\n"
   ]
  },
  {
   "cell_type": "code",
   "execution_count": null,
   "metadata": {},
   "outputs": [],
   "source": []
  },
  {
   "cell_type": "markdown",
   "metadata": {},
   "source": [
    "## Grafico 3d mostrando el movimiento en en plano\n"
   ]
  },
  {
   "cell_type": "code",
   "execution_count": null,
   "metadata": {},
   "outputs": [],
   "source": [
    "plt.figure(figsize=(16,16))\n",
    "ax=plt.axes(projection=\"3d\")\n",
    "ax.plot([0], [0], [0],\"*\",markersize=10,label=\"Agujero Negro\",color=\"negro\")\n",
    "ax.set_xlim(-20,20)\n",
    "ax.set_ylim(-20,20)\n",
    "ax.set_zlim(-4,4)\n",
    "ax.plot(r,teta,fi,)\n",
    "\n",
    "ax.set_xlabel(\"Au\")\n",
    "ax.set_ylabel(\"Au\")\n",
    "ax.set_zlabel(\"Au\")\n",
    "ax.set_title(\"Movimiento ecuatorial\",fontsize=30)\n",
    "ax.legend()"
   ]
  },
  {
   "cell_type": "markdown",
   "metadata": {},
   "source": [
    "# Espacio tiempo de Schwarzschild\n"
   ]
  },
  {
   "cell_type": "code",
   "execution_count": null,
   "metadata": {},
   "outputs": [],
   "source": [
    "#introducir el espacio tiempo en coordenadas esfericas"
   ]
  },
  {
   "cell_type": "markdown",
   "metadata": {},
   "source": [
    "# metrica de Schwarzchild en el espacio tiempo"
   ]
  },
  {
   "cell_type": "code",
   "execution_count": null,
   "metadata": {},
   "outputs": [],
   "source": [
    "#desarroolar la geodesica con la metrica de shwarzchild\n",
    "#desarrollar las constantes de movimiento\n",
    "#simulacion de la caida vertical\n",
    "#grafica del potencial efectivo\n",
    "#grafica deflexion de la luz\n",
    "#desarrollo de la precesion anomala del perihelio de mercurio"
   ]
  },
  {
   "cell_type": "markdown",
   "metadata": {},
   "source": []
  }
 ],
 "metadata": {
  "kernelspec": {
   "display_name": "Python 3 (ipykernel)",
   "language": "python",
   "name": "python3"
  },
  "language_info": {
   "codemirror_mode": {
    "name": "ipython",
    "version": 3
   },
   "file_extension": ".py",
   "mimetype": "text/x-python",
   "name": "python",
   "nbconvert_exporter": "python",
   "pygments_lexer": "ipython3",
   "version": "3.10.6"
  }
 },
 "nbformat": 4,
 "nbformat_minor": 2
}
