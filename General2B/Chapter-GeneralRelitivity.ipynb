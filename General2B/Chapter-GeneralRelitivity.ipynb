{
 "cells": [
  {
   "cell_type": "markdown",
   "metadata": {},
   "source": [
    "##\n",
    "Chapter 11. The two body problem in relativity general\n",
    "Action by Emanuel Noreña, University of Antioquia\n",
    "\n",
    "In this notebook we will present part of the theoretical background of the chapter devoted to the Two body problem and some mathematical and numerical results which are interested for the theory.\n",
    "\n",
    "For details on the theory please refer directly to the book:\n",
    "\n",
    "    elementos de relatividad de lorenzo de la torre\n",
    "\n"
   ]
  },
  {
   "cell_type": "code",
   "execution_count": 1,
   "metadata": {},
   "outputs": [],
   "source": [
    "!pip install numpy -q"
   ]
  },
  {
   "cell_type": "code",
   "execution_count": 2,
   "metadata": {},
   "outputs": [],
   "source": [
    "!pip install sympy -q"
   ]
  },
  {
   "cell_type": "code",
   "execution_count": 3,
   "metadata": {},
   "outputs": [],
   "source": [
    "!pip install git+https://github.com/einsteinpy/einsteinpy.git -q"
   ]
  },
  {
   "cell_type": "code",
   "execution_count": 4,
   "metadata": {},
   "outputs": [],
   "source": [
    "!pip install einsteinpy  -q"
   ]
  },
  {
   "cell_type": "code",
   "execution_count": 5,
   "metadata": {},
   "outputs": [],
   "source": [
    "!pip install -q rebound"
   ]
  },
  {
   "cell_type": "code",
   "execution_count": 6,
   "metadata": {},
   "outputs": [],
   "source": [
    "!pip install -q astropy"
   ]
  },
  {
   "cell_type": "code",
   "execution_count": 7,
   "metadata": {},
   "outputs": [],
   "source": [
    "!pip install -q spiceypy"
   ]
  },
  {
   "cell_type": "code",
   "execution_count": 8,
   "metadata": {},
   "outputs": [],
   "source": [
    "!pip install -q scipy"
   ]
  },
  {
   "cell_type": "code",
   "execution_count": 9,
   "metadata": {},
   "outputs": [],
   "source": [
    "import numpy as np\n",
    "import sympy as sp\n",
    "import rebound as rb\n",
    "from einsteinpy.symbolic import *\n",
    "from scipy.constants import G,c"
   ]
  },
  {
   "cell_type": "markdown",
   "metadata": {},
   "source": [
    "## Constantes fisicas y astronomicas"
   ]
  },
  {
   "cell_type": "code",
   "execution_count": 36,
   "metadata": {},
   "outputs": [
    {
     "data": {
      "text/plain": [
       "299792458.0"
      ]
     },
     "execution_count": 36,
     "metadata": {},
     "output_type": "execute_result"
    }
   ],
   "source": [
    "m_sol = rb.units.masses_SI['msolar']\n",
    "c"
   ]
  },
  {
   "cell_type": "markdown",
   "metadata": {},
   "source": [
    "## Unidades del programa"
   ]
  },
  {
   "cell_type": "markdown",
   "metadata": {},
   "source": [
    "Las siguientes son unidades que usa el programa:"
   ]
  },
  {
   "cell_type": "code",
   "execution_count": 31,
   "metadata": {},
   "outputs": [
    {
     "name": "stdout",
     "output_type": "stream",
     "text": [
      "Las unidades canonicas son: UL = 1.477e+03 m, UM = 1.988e+30 kg, UT = 4.926e-06 s \n"
     ]
    }
   ],
   "source": [
    "U_m=m_sol\n",
    "U_l=G*U_m/c**2\n",
    "U_t=U_l/c\n",
    "print(f\"Las unidades canonicas son: UL = {U_l:.3e} m, UM = {U_m:.3e} kg, UT = {U_t:.3e} s \")"
   ]
  },
  {
   "cell_type": "markdown",
   "metadata": {},
   "source": [
    "## Unidades derivadas del programa"
   ]
  },
  {
   "cell_type": "code",
   "execution_count": 35,
   "metadata": {},
   "outputs": [
    {
     "name": "stdout",
     "output_type": "stream",
     "text": [
      "Las unidades derivadas son: UV = 2.998e+08 m/s, UA = 1.988e+30 m/s^2, UF = 4.926e-06 kg*m/s^2 \n"
     ]
    }
   ],
   "source": [
    "U_v=U_l/U_t\n",
    "U_a=U_l/U_t**2\n",
    "U_f=U_a*U_m\n",
    "print(f\"Las unidades derivadas son: UV = {U_v:.3e} m/s, UA = {U_m:.3e} m/s^2, UF = {U_t:.3e} kg*m/s^2 \")"
   ]
  },
  {
   "cell_type": "markdown",
   "metadata": {},
   "source": [
    "\n",
    "\n",
    "## Constantes "
   ]
  },
  {
   "cell_type": "code",
   "execution_count": 45,
   "metadata": {},
   "outputs": [],
   "source": [
    "simbol=[\"r\", \"θ\", \"φ\", \"V_r\", \"V_θ\", \"V_φ\"]\n",
    "v_estado=(U_l, U_l, U_l, U_v, U_v, U_v)\n",
    "\n"
   ]
  },
  {
   "cell_type": "code",
   "execution_count": 54,
   "metadata": {},
   "outputs": [
    {
     "name": "stdout",
     "output_type": "stream",
     "text": [
      "la masa a colpasar en kilogramos es 10 veces la masa solar que es :  1.988e+31Kg\n"
     ]
    }
   ],
   "source": [
    "m=10*U_m\n",
    "print(f\"la masa a colpasar en kilogramos es 10 veces la masa solar que es : {m: .3e}Kg\" )"
   ]
  },
  {
   "cell_type": "markdown",
   "metadata": {},
   "source": [
    "calcular $s$ (radio de Schwarzschild) para un agujero negro : "
   ]
  },
  {
   "cell_type": "code",
   "execution_count": 52,
   "metadata": {},
   "outputs": [
    {
     "name": "stdout",
     "output_type": "stream",
     "text": [
      "El radio de Schwarzchild calculado para la masa dada es: 2.953e+04m\n"
     ]
    }
   ],
   "source": [
    "\n",
    "s = 2*G*m/c**2\n",
    "print(f\"El radio de Schwarzchild calculado para la masa dada es: {s:.3e}m\")"
   ]
  },
  {
   "cell_type": "markdown",
   "metadata": {},
   "source": [
    "Calculo de la velocidad longitudinal:\n",
    "esta velocidad es $ \\frac{dφ}{dλ}=\\frac{1}{c(1-\\frac{s}{r})}\\frac{dφ}{dt}$\n",
    "Necesito calcular $\\frac{dφ}{dt}$ para ello debo usar la era componente de la velocidad en coordenadas esfericas que viene dada por $r\\sin(θ) \\.{a}$\n",
    "\n"
   ]
  },
  {
   "cell_type": "code",
   "execution_count": 23,
   "metadata": {},
   "outputs": [],
   "source": [
    "dfi_dt =\n",
    "dfi_dlamda="
   ]
  },
  {
   "cell_type": "markdown",
   "metadata": {},
   "source": [
    "# Espacio tiempo de Schwarzschild\n"
   ]
  },
  {
   "cell_type": "code",
   "execution_count": null,
   "metadata": {},
   "outputs": [],
   "source": [
    "#introducir el espacio tiempo en coordenadas esfericas"
   ]
  },
  {
   "cell_type": "markdown",
   "metadata": {},
   "source": [
    "# metrica de Schwarzchild en el espacio tiempo"
   ]
  },
  {
   "cell_type": "code",
   "execution_count": null,
   "metadata": {},
   "outputs": [],
   "source": [
    "#desarroolar la geodesica con la metrica de shwarzchild\n",
    "#desarrollar las constantes de movimiento\n",
    "#simulacion de la caida vertical\n",
    "#grafica del potencial efectivo\n",
    "#grafica deflexion de la luz\n",
    "#desarrollo de la precesion anomala del perihelio de mercurio"
   ]
  },
  {
   "cell_type": "markdown",
   "metadata": {},
   "source": []
  }
 ],
 "metadata": {
  "kernelspec": {
   "display_name": "Python 3 (ipykernel)",
   "language": "python",
   "name": "python3"
  },
  "language_info": {
   "codemirror_mode": {
    "name": "ipython",
    "version": 3
   },
   "file_extension": ".py",
   "mimetype": "text/x-python",
   "name": "python",
   "nbconvert_exporter": "python",
   "pygments_lexer": "ipython3",
   "version": "3.10.6"
  }
 },
 "nbformat": 4,
 "nbformat_minor": 2
}
