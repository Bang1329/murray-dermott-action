{
  "nbformat": 4,
  "nbformat_minor": 0,
  "metadata": {
    "colab": {
      "provenance": []
    },
    "kernelspec": {
      "name": "python3",
      "display_name": "Python 3"
    },
    "language_info": {
      "name": "python"
    }
  },
  "cells": [
    {
      "cell_type": "markdown",
      "source": [
        "\n",
        "##Chapter 3. The Restricted Two Body Problem\n",
        "\n",
        "###Action by Diego.A Acosta, University of Antioquia\n",
        "\n",
        "In this notebook we will present part of the theoretical background of the chapter devoted to the Two body problem and some mathematical and numerical results which are interested for the theory.\n",
        "\n",
        "For details on the theory please refer directly to the book:\n",
        "\n",
        "    Murray, C. D., & Dermott, S. F. (1999). Solar system dynamics. Cambridge university press.\n",
        "\n"
      ],
      "metadata": {
        "id": "FE5zYPNENjwv"
      }
    },
    {
      "cell_type": "markdown",
      "source": [
        "##Libraries\n"
      ],
      "metadata": {
        "id": "a4wRq71dOqs6"
      }
    },
    {
      "cell_type": "code",
      "source": [
        "import numpy as np\n",
        "import matplotlib.pyplot as plt\n",
        "import seaborn as sn"
      ],
      "metadata": {
        "id": "8PW0rR2DOpmA"
      },
      "execution_count": 2,
      "outputs": []
    },
    {
      "cell_type": "code",
      "source": [
        "!pip install spiceypy -q\n",
        "!pip install celluloid -q"
      ],
      "metadata": {
        "id": "mGqDpmtgfAuM"
      },
      "execution_count": 74,
      "outputs": []
    },
    {
      "cell_type": "code",
      "source": [
        "## !pip install spiceypy (Collab)\n",
        "## !pip install celluloid (Collab)\n",
        "from spiceypy import rotate,mxv\n",
        "from scipy.integrate import odeint\n",
        "from celluloid import Camera\n",
        "from IPython.core.display import HTML"
      ],
      "metadata": {
        "id": "LW7fZxpPQQU9"
      },
      "execution_count": 84,
      "outputs": []
    },
    {
      "cell_type": "markdown",
      "source": [
        "the equations of motion in the synodic frame become\n",
        "\n",
        "$\\begin{aligned} \\ddot{x}-2 n \\dot{y}-n^2 x & =-\\left[\\mu_1 \\frac{x+\\mu_2}{r_1^3}+\\mu_2 \\frac{x-\\mu_1}{r_2^3}\\right] . \\\\ \\bar{y}+2 \\pi \\dot{x}-n^2 y & =-\\left[\\frac{\\mu_1}{r_1^3}+\\frac{\\mu_2}{r_2^3}\\right] y . \\\\ z & =-\\left[\\frac{\\mu_1}{r_1^3}+\\frac{\\mu_2}{r_2^3}\\right] z .\\end{aligned}$"
      ],
      "metadata": {
        "id": "u0aS7KlERTpp"
      }
    },
    {
      "cell_type": "markdown",
      "source": [
        "\n",
        "\n",
        "*   $x,y,z$ = Position vector\n",
        "*   $\\dot{x}, \\dot{y}, \\dot{z}$ = Velocity vector\n",
        "*   $n$ = Mean motion\n",
        "*   $r_1, r_2$ = Position of test particle respect to $m_1$ and $m_2$\n",
        "*   $\\mu_1$ = 1 - $\\mu$\n",
        "*   $\\mu2$ = $\\mu$"
      ],
      "metadata": {
        "id": "li7C6UTHigJr"
      }
    },
    {
      "cell_type": "code",
      "source": [
        "def CRTBP(Y0,t,alpha,dt = 100):\n",
        "    \"\"\"\n",
        "    Numerical solution to Circular Restriced Three Body Problem\n",
        "    Input:\n",
        "    Y: Positional vector [x,y,z,vx,vy,vz]\n",
        "    t: Time of Integration \n",
        "    alpha: Parameter m2/(m1+m2)\n",
        "    \"\"\"\n",
        "    def equation(Y,t):\n",
        "        x,y,z,vx,vy,vz = Y\n",
        "        mu1 = 1-alpha\n",
        "        mu2 = alpha\n",
        "        r1 = np.sqrt((x+mu2)**2 + y**2+z**2)\n",
        "        r2 = np.sqrt((x-mu1)**2 + y**2+z**2)\n",
        "        \n",
        "        mu_r1 = mu1/(r1**3)\n",
        "        mu_r2 = mu2/(r2**3)\n",
        "\n",
        "        ax = 2*vy+x-(x+mu2)*mu_r1-(x-mu1)*mu_r2\n",
        "        ay = -2*vx+y - (mu_r1+mu_r2)*y\n",
        "        az = -(mu_r1+mu_r2)*z\n",
        "        \n",
        "        return [vx, vy, vz, ax, ay, az]\n",
        "\n",
        "    ts = np.linspace(0,t,dt)\n",
        "\n",
        "    Yrot = odeint(equation,y0=Y0,t = ts,\n",
        "                  atol = 1e-10,rtol =1e-10,mxstep=1000)\n",
        "    return Yrot"
      ],
      "metadata": {
        "id": "oIZFlsjmexAm"
      },
      "execution_count": 8,
      "outputs": []
    },
    {
      "cell_type": "markdown",
      "source": [
        "An example of"
      ],
      "metadata": {
        "id": "ib4RIa5-kSvk"
      }
    },
    {
      "cell_type": "code",
      "source": [
        "Y0 = np.array([1.1,0,0,-0.1,0.2,0])\n",
        "t = 30\n",
        "alpha = 0.02\n",
        "dt = 1000\n",
        "Yrot = CRTBP(Y0,t,alpha,dt)"
      ],
      "metadata": {
        "id": "xCeLljJPezY3"
      },
      "execution_count": 66,
      "outputs": []
    },
    {
      "cell_type": "code",
      "source": [
        "def CRTBP_inertial(Yrot,t,dt):\n",
        "    ts = np.linspace(0,t,dt)\n",
        "    YStatic = np.zeros_like(Yrot)\n",
        "    R1 = np.zeros_like(Yrot[:,:3])\n",
        "    R2 = np.zeros_like(Yrot[:,:3])\n",
        "\n",
        "    for i in range(YStatic.shape[0]):\n",
        "    \n",
        "        RMatrix = rotate(-ts[i],3)\n",
        "        YStatic[i][:3] = mxv(RMatrix,Yrot[i][:3].T)\n",
        "        YStatic[i][3:] = mxv(RMatrix,Yrot[i][3:]+np.array([-Yrot[i][1],Yrot[i][0],0]))\n",
        "        \n",
        "        R1[i] = -alpha * np.array([np.cos(ts[i]),np.sin(ts[i]),0])\n",
        "        R2[i] = (1-alpha) * np.array([np.cos(ts[i]),np.sin(ts[i]),0])\n",
        "    return R1,R2,YStatic"
      ],
      "metadata": {
        "id": "WRieMdc5e5NP"
      },
      "execution_count": 68,
      "outputs": []
    },
    {
      "cell_type": "code",
      "source": [
        "r1, r2, YStatic = CRTBP_inertial(Yrot,t,dt)"
      ],
      "metadata": {
        "id": "fBm1nqRfe6oi"
      },
      "execution_count": 69,
      "outputs": []
    },
    {
      "cell_type": "code",
      "source": [
        "fig, (ax1, ax2) = plt.subplots(1, 2, figsize=(9, 4.5), tight_layout=True)\n",
        "camera = Camera(fig)\n",
        "plt.ioff()\n",
        "for ti in range(dt):\n",
        "    ax1.plot(YStatic[ti,0],YStatic[ti,1],'bo')\n",
        "    ax1.plot(r1[ti,0],r1[ti,1],'ro')\n",
        "    ax1.plot(r2[ti,0],r2[ti,1],'go')\n",
        "    ax2.plot(Yrot[ti,0],Yrot[ti,1],'bo')\n",
        "    ax2.plot(alpha,0,'ro')\n",
        "    ax2.plot(1-alpha,0,'go')\n",
        "    camera.snap()\n",
        "plt.close()\n",
        "plt.ion()"
      ],
      "metadata": {
        "id": "NnjRRW7alVbQ",
        "outputId": "dfc9451a-9ea2-4c3f-c14a-7d4e1f1e7271",
        "colab": {
          "base_uri": "https://localhost:8080/"
        }
      },
      "execution_count": 98,
      "outputs": [
        {
          "output_type": "execute_result",
          "data": {
            "text/plain": [
              "<matplotlib.pyplot._IonContext at 0x7fbfb8078ee0>"
            ]
          },
          "metadata": {},
          "execution_count": 98
        }
      ]
    },
    {
      "cell_type": "code",
      "source": [
        "anim = camera.animate()"
      ],
      "metadata": {
        "id": "jZdGKKVZmFKY"
      },
      "execution_count": 102,
      "outputs": []
    },
    {
      "cell_type": "code",
      "source": [
        "HTML(anim.to_html5_video())"
      ],
      "metadata": {
        "id": "afmGSAhYlxIH"
      },
      "execution_count": null,
      "outputs": []
    }
  ]
}