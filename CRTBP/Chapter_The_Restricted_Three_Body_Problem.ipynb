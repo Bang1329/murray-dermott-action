{
  "nbformat": 4,
  "nbformat_minor": 0,
  "metadata": {
    "colab": {
      "provenance": []
    },
    "kernelspec": {
      "name": "python3",
      "display_name": "Python 3"
    },
    "language_info": {
      "name": "python"
    }
  },
  "cells": [
    {
      "cell_type": "markdown",
      "source": [
        "\n",
        "##Chapter 3. The Restricted Two Body Problem\n",
        "\n",
        "###Action by Diego.A Acosta, University of Antioquia\n",
        "\n",
        "In this notebook we will present part of the theoretical background of the chapter devoted to the Two body problem and some mathematical and numerical results which are interested for the theory.\n",
        "\n",
        "For details on the theory please refer directly to the book:\n",
        "\n",
        "    Murray, C. D., & Dermott, S. F. (1999). Solar system dynamics. Cambridge university press.\n",
        "\n"
      ],
      "metadata": {
        "id": "FE5zYPNENjwv"
      }
    },
    {
      "cell_type": "markdown",
      "source": [
        "##Libraries\n"
      ],
      "metadata": {
        "id": "a4wRq71dOqs6"
      }
    },
    {
      "cell_type": "code",
      "source": [
        "import numpy as np\n",
        "import matplotlib.pyplot as plt\n",
        "import seaborn as sn"
      ],
      "metadata": {
        "id": "8PW0rR2DOpmA"
      },
      "execution_count": 10,
      "outputs": []
    },
    {
      "cell_type": "code",
      "source": [
        "## !pip install spiceypy (Collab)\n",
        "## !pip install celluloid (Collab)\n",
        "from spiceypy import rotate\n",
        "from celluloid import Camera"
      ],
      "metadata": {
        "id": "LW7fZxpPQQU9"
      },
      "execution_count": null,
      "outputs": []
    },
    {
      "cell_type": "markdown",
      "source": [
        "the equations of motion in the synodic system become\n",
        "\n",
        "$\\begin{aligned} \\ddot{x}-2 n \\dot{y}-n^2 x & =-\\left[\\mu_1 \\frac{x+\\mu_2}{r_1^3}+\\mu_2 \\frac{x-\\mu_1}{r_2^3}\\right] . \\\\ \\bar{y}+2 \\pi \\dot{x}-n^2 y & =-\\left[\\frac{\\mu_1}{r_1^3}+\\frac{\\mu_2}{r_2^3}\\right] y . \\\\ z & =-\\left[\\frac{\\mu_1}{r_1^3}+\\frac{\\mu_2}{r_2^3}\\right] z .\\end{aligned}$"
      ],
      "metadata": {
        "id": "u0aS7KlERTpp"
      }
    }
  ]
}