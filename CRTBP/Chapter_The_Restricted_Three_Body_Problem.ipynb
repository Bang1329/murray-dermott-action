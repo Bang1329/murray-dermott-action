{
  "nbformat": 4,
  "nbformat_minor": 0,
  "metadata": {
    "colab": {
      "provenance": []
    },
    "kernelspec": {
      "name": "python3",
      "display_name": "Python 3"
    },
    "language_info": {
      "name": "python"
    }
  },
  "cells": [
    {
      "cell_type": "markdown",
      "source": [
        "\n",
        "##Chapter 3. The Restricted Two Body Problem\n",
        "\n",
        "###Action by Diego.A Acosta, University of Antioquia\n",
        "\n",
        "In this notebook we will present part of the theoretical background of the chapter devoted to the Two body problem and some mathematical and numerical results which are interested for the theory.\n",
        "\n",
        "For details on the theory please refer directly to the book:\n",
        "\n",
        "    Murray, C. D., & Dermott, S. F. (1999). Solar system dynamics. Cambridge university press.\n",
        "\n"
      ],
      "metadata": {
        "id": "FE5zYPNENjwv"
      }
    },
    {
      "cell_type": "markdown",
      "source": [
        "##Libraries\n"
      ],
      "metadata": {
        "id": "a4wRq71dOqs6"
      }
    },
    {
      "cell_type": "code",
      "source": [
        "import numpy as np\n",
        "import matplotlib.pyplot as plt\n",
        "import seaborn as sn"
      ],
      "metadata": {
        "id": "8PW0rR2DOpmA"
      },
      "execution_count": 2,
      "outputs": []
    },
    {
      "cell_type": "code",
      "source": [
        "!pip install spiceypy"
      ],
      "metadata": {
        "id": "mGqDpmtgfAuM",
        "outputId": "8f5bbab0-8619-4b76-bd9b-0f60729e10a2",
        "colab": {
          "base_uri": "https://localhost:8080/"
        }
      },
      "execution_count": 3,
      "outputs": [
        {
          "output_type": "stream",
          "name": "stdout",
          "text": [
            "Looking in indexes: https://pypi.org/simple, https://us-python.pkg.dev/colab-wheels/public/simple/\n",
            "Collecting spiceypy\n",
            "  Downloading spiceypy-5.1.2-py3-none-manylinux_2_17_x86_64.manylinux2014_x86_64.whl (1.7 MB)\n",
            "\u001b[2K     \u001b[90m━━━━━━━━━━━━━━━━━━━━━━━━━━━━━━━━━━━━━━━━\u001b[0m \u001b[32m1.7/1.7 MB\u001b[0m \u001b[31m42.9 MB/s\u001b[0m eta \u001b[36m0:00:00\u001b[0m\n",
            "\u001b[?25hRequirement already satisfied: numpy>=1.17.0 in /usr/local/lib/python3.8/dist-packages (from spiceypy) (1.22.4)\n",
            "Installing collected packages: spiceypy\n",
            "Successfully installed spiceypy-5.1.2\n"
          ]
        }
      ]
    },
    {
      "cell_type": "code",
      "source": [
        "## !pip install spiceypy (Collab)\n",
        "## !pip install celluloid (Collab)\n",
        "from spiceypy import rotate,mxv\n",
        "from scipy.integrate import odeint\n",
        "## from celluloid import Camera"
      ],
      "metadata": {
        "id": "LW7fZxpPQQU9"
      },
      "execution_count": 13,
      "outputs": []
    },
    {
      "cell_type": "markdown",
      "source": [
        "the equations of motion in the synodic system become\n",
        "\n",
        "$\\begin{aligned} \\ddot{x}-2 n \\dot{y}-n^2 x & =-\\left[\\mu_1 \\frac{x+\\mu_2}{r_1^3}+\\mu_2 \\frac{x-\\mu_1}{r_2^3}\\right] . \\\\ \\bar{y}+2 \\pi \\dot{x}-n^2 y & =-\\left[\\frac{\\mu_1}{r_1^3}+\\frac{\\mu_2}{r_2^3}\\right] y . \\\\ z & =-\\left[\\frac{\\mu_1}{r_1^3}+\\frac{\\mu_2}{r_2^3}\\right] z .\\end{aligned}$"
      ],
      "metadata": {
        "id": "u0aS7KlERTpp"
      }
    },
    {
      "cell_type": "code",
      "source": [
        "def CRTBP(Y0,t,alpha,dt = 100):\n",
        "    \"\"\"\n",
        "    Numerical solution to Circular Restriced Three Body Problem\n",
        "    Input:\n",
        "    Y: Positional vector [x,y,z,vx,vy,vz]\n",
        "    t: Time of Integration \n",
        "    alpha: Parameter m2/(m1+m2)\n",
        "    \"\"\"\n",
        "    def equation(Y,t):\n",
        "        x,y,z,vx,vy,vz = Y\n",
        "        mu1 = 1-alpha\n",
        "        mu2 = alpha\n",
        "        r1 = np.sqrt((x+mu2)**2 + y**2+z**2)\n",
        "        r2 = np.sqrt((x-mu1)**2 + y**2+z**2)\n",
        "        \n",
        "        mu_r1 = mu1/(r1**3)\n",
        "        mu_r2 = mu2/(r2**3)\n",
        "\n",
        "        ax = 2*vy+x-(x+mu2)*mu_r1-(x-mu1)*mu_r2\n",
        "        ay = -2*vx+y - (mu_r1+mu_r2)*y\n",
        "        az = -(mu_r1+mu_r2)*z\n",
        "        \n",
        "        return [vx, vy, vz, ax, ay, az]\n",
        "\n",
        "    ts = np.linspace(0,t,dt)\n",
        "\n",
        "    Yrot = odeint(equation,y0=Y0,t = ts,\n",
        "                  atol = 1e-10,rtol =1e-10,mxstep=1000)\n",
        "    return Yrot"
      ],
      "metadata": {
        "id": "oIZFlsjmexAm"
      },
      "execution_count": 8,
      "outputs": []
    },
    {
      "cell_type": "code",
      "source": [
        "Y0 = np.array([.3,.2,0,-0.6,0,0])\n",
        "t = 2\n",
        "alpha = 0.005\n",
        "dt = 1000\n",
        "Yrot = CRTBP(Y0,t,alpha,dt)"
      ],
      "metadata": {
        "id": "xCeLljJPezY3"
      },
      "execution_count": 36,
      "outputs": []
    },
    {
      "cell_type": "code",
      "source": [
        "plt.plot(Yrot[:,0],Yrot[:,1])\n",
        "plt.plot(alpha,0,'bo')\n",
        "plt.plot(1-alpha,0,'ro')\n",
        "plt.show()"
      ],
      "metadata": {
        "id": "Z6sjyMoXe2Qz",
        "outputId": "3562f5f7-adaa-4983-f6fd-b5c52c8bf017",
        "colab": {
          "base_uri": "https://localhost:8080/",
          "height": 265
        }
      },
      "execution_count": 37,
      "outputs": [
        {
          "output_type": "display_data",
          "data": {
            "text/plain": [
              "<Figure size 432x288 with 1 Axes>"
            ],
            "image/png": "[encoded data removed]"
          },
          "metadata": {
            "needs_background": "light"
          }
        }
      ]
    },
    {
      "cell_type": "code",
      "source": [
        "def CRTBP_inertial(Yrot,t,dt):\n",
        "    ts = np.linspace(0,t,dt)\n",
        "    YStatic = np.zeros_like(Yrot)\n",
        "    R1 = np.zeros_like(Yrot[:,:3])\n",
        "    R2 = np.zeros_like(Yrot[:,:3])\n",
        "\n",
        "    for i in range(YStatic.shape[0]):\n",
        "    \n",
        "        RMatrix = rotate(-ts[i],3)\n",
        "        YStatic[i][:3] = mxv(RMatrix,Yrot[i][:3].T)\n",
        "        YStatic[i][3:] = mxv(RMatrix,Yrot[i][3:]+np.array([-Yrot[i][1],Yrot[i][0],0]))\n",
        "        \n",
        "        R1[i] = -alpha * np.array([np.cos(ts[i]),np.sin(ts[i]),0])\n",
        "        R2[i] = (1-alpha) * np.array([np.cos(ts[i]),np.sin(ts[i]),0])\n",
        "    return R1,R2,YStatic"
      ],
      "metadata": {
        "id": "WRieMdc5e5NP"
      },
      "execution_count": 38,
      "outputs": []
    },
    {
      "cell_type": "code",
      "source": [
        "r1, r2, YStatic = CRTBP_inertial(Yrot,t,dt)"
      ],
      "metadata": {
        "id": "fBm1nqRfe6oi"
      },
      "execution_count": 39,
      "outputs": []
    },
    {
      "cell_type": "code",
      "source": [
        "plt.plot(YStatic[:,0],YStatic[:,1])\n",
        "plt.plot(r1[:,0],r1[:,1],'-b')\n",
        "plt.plot(r2[:,0],r2[:,1],'-r')\n",
        "plt.tight_layout()\n",
        "plt.show()"
      ],
      "metadata": {
        "id": "OWFExxIze8QG",
        "outputId": "63ed4699-644c-40ce-c0a4-b38f0d0c634f",
        "colab": {
          "base_uri": "https://localhost:8080/",
          "height": 297
        }
      },
      "execution_count": 41,
      "outputs": [
        {
          "output_type": "display_data",
          "data": {
            "text/plain": [
              "<Figure size 432x288 with 1 Axes>"
            ],
            "image/png": "[encoded data removed]"
          },
          "metadata": {
            "needs_background": "light"
          }
        }
      ]
    }
  ]
}