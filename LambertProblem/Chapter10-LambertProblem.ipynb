{
 "cells": [
  {
   "attachments": {},
   "cell_type": "markdown",
   "metadata": {},
   "source": [
    "# Chapter 11. The Lambert Problem\n",
    "## Action by Juanita A. Agudelo-Quiceno, University of Antioquia"
   ]
  },
  {
   "attachments": {},
   "cell_type": "markdown",
   "metadata": {},
   "source": [
    "In this notebook we will present theory from the Lambert Problem related to mechanical orbits and some mathematical and numerical results which are interested for the theory.\n",
    "\n",
    "For details on the theory please refer directly to the book:"
   ]
  },
  {
   "attachments": {},
   "cell_type": "markdown",
   "metadata": {},
   "source": [
    "> Prussing, J. E., & Conway, B. A. (1993). Orbital Mechanics. Oxford university press."
   ]
  },
  {
   "attachments": {},
   "cell_type": "markdown",
   "metadata": {},
   "source": [
    " ## Section 11.1: Introduction\n",
    "\n",
    "The Lamber's problem tries to find an orbit from two positions and time of flight that separates them, this is a fundamental problem in astrodynamics. If we wanted a spacecraft to travel from one point in the space to another target point, for example, a planet or a space station, We would have to calculate the orbit in which the spacecraft has to move to reach its goal and the time it takes to get from one point to another. The spacecraft could intercept the target, that is, find a point where both bodies meet, without the need for the speeds of the bodies to be equal. Or we can make the spacecraft and the target meet at the same point at the same speed.\n",
    "\n",
    "\n",
    "\n",
    "\n",
    "\n",
    "links that help me: \n",
    "- https://www.spacecraftresearch.com/generalized-orbit-rendezvous\n",
    "- https://en.wikipedia.org/wiki/Space_rendezvous\n",
    "- https://www.youtube.com/watch?v=ULRXJsiFMjo\n",
    "- https://mappingignorance.org/2021/03/24/homa-a-space-orbit-simulator/\n"
   ]
  },
  {
   "cell_type": "code",
   "execution_count": 2,
   "metadata": {},
   "outputs": [],
   "source": [
    "import rebound as rb\n",
    "import matplotlib.pyplot as plt\n",
    "import numpy as np\n",
    "from IPython.core.display import HTML\n",
    "import numpy as np\n",
    "from matplotlib import animation\n"
   ]
  },
  {
   "cell_type": "code",
   "execution_count": 3,
   "metadata": {},
   "outputs": [],
   "source": [
    "sim = rb.Simulation()\n",
    "sim.units = [\"km\",\"kg\",\"s\"]\n",
    "sim.add(m=5.9e24)\n",
    "sim.add(m=0, a=6.7, e=6.13e-3)"
   ]
  },
  {
   "cell_type": "code",
   "execution_count": 4,
   "metadata": {},
   "outputs": [],
   "source": [
    "r_soyuz = np.array(sim.particles[1].xyz) + 0.001\n",
    "v_soyuz = sim.particles[1].vxyz\n",
    "\n",
    "delta_v = 20\n",
    "v_soyuz[0], v_soyuz[1] = v_soyuz[0] + delta_v, v_soyuz[1] + delta_v\n",
    "\n",
    "sim.add(m=0, x=r_soyuz[0], y=r_soyuz[1], z=r_soyuz[2], vx=v_soyuz[0], vy=v_soyuz[1], vz=v_soyuz[2])"
   ]
  },
  {
   "cell_type": "code",
   "execution_count": 5,
   "metadata": {},
   "outputs": [],
   "source": [
    "Nt = 200\n",
    "steps = np.linspace(0, 5, Nt)\n",
    "r_iss = np.zeros((Nt+1, 3))\n",
    "r_soyuz = np.zeros((Nt+1, 3))\n",
    "r_earth = np.zeros((Nt+1, 3))\n",
    "\n",
    "r_iss[0] = sim.particles[1].xyz\n",
    "r_soyuz[0] = sim.particles[2].xyz\n",
    "r_earth[0] = sim.particles[0].xyz\n",
    "\n",
    "for i, step in enumerate(steps):\n",
    "    sim.integrate(-step)\n",
    "    r_earth[i+1] = sim.particles[0].xyz\n",
    "    r_iss[i+1] = sim.particles[1].xyz\n",
    "    r_soyuz[i+1] = sim.particles[2].xyz"
   ]
  },
  {
   "cell_type": "code",
   "execution_count": 6,
   "metadata": {},
   "outputs": [
    {
     "data": {
      "text/plain": [
       "[<matplotlib.lines.Line2D at 0x7fab468a2a70>]"
      ]
     },
     "execution_count": 6,
     "metadata": {},
     "output_type": "execute_result"
    },
    {
     "data": {
      "image/png": "[encoded data removed]",
      "text/plain": [
       "<Figure size 640x480 with 1 Axes>"
      ]
     },
     "metadata": {},
     "output_type": "display_data"
    }
   ],
   "source": [
    "plt.plot(r_earth[:,0], r_earth[:,1], '.', markersize=10)\n",
    "plt.plot(r_iss[:,0], r_iss[:,1], '.', markersize=5)\n",
    "plt.plot(r_soyuz[:,0], r_soyuz[:,1], '.')\n"
   ]
  },
  {
   "cell_type": "code",
   "execution_count": 38,
   "metadata": {},
   "outputs": [],
   "source": [
    "#animacion\n",
    "fig,ax=plt.subplots()\n",
    "\n",
    "punto1,=ax.plot([],[],'r*')\n",
    "punto2,=ax.plot([],[],'bo')\n",
    "punto3,=ax.plot([],[],'go')\n",
    "\n",
    "ax.set_xlim(-10,10)\n",
    "ax.set_ylim(-10,10)\n",
    "ax.set_aspect(\"equal\")\n",
    "\n",
    "def pone_puntos(it):\n",
    "  punto1.set_data(r_earth[1:10,0][-it],r_earth[1:10,1][-it])\n",
    "  punto2.set_data(r_iss[1:10,0][-it],r_iss[1:10,1][-it])\n",
    "  punto3.set_data(r_soyuz[1:10,0][-it],r_soyuz[1:10,1][-it])\n",
    "  return punto1, punto2, punto3\n",
    "\n",
    "\n",
    "plt.close(fig)\n",
    "anim=animation.FuncAnimation(fig,pone_puntos,frames=9,interval=200)\n",
    "HTML(anim.to_html5_video())"
   ]
  },
  {
   "cell_type": "code",
   "execution_count": null,
   "metadata": {},
   "outputs": [],
   "source": []
  },
  {
   "attachments": {},
   "cell_type": "markdown",
   "metadata": {},
   "source": [
    "buscar: MC-CuadernoClase-UnidadesCanonicas.ipynb\n",
    "MC-CuadernoClase-SolucionEcuacionKepler.ipynb\n",
    "MC-CuadernoClase-AnomaliasConicas.ipynb\n",
    "MC-CuadernoClase-NcuerposAnimado.ipynb\n",
    "https://es.wikipedia.org/wiki/Soyuz_TMA-14\n",
    "https://es.wikipedia.org/wiki/Anousheh_Ansari\n",
    "https://rebound.readthedocs.io/en/latest/integrators/"
   ]
  },
  {
   "attachments": {},
   "cell_type": "markdown",
   "metadata": {},
   "source": [
    " ## Section 11.2: Transer Orbits Between Specified Points "
   ]
  },
  {
   "attachments": {},
   "cell_type": "markdown",
   "metadata": {},
   "source": [
    " ## Section 11.3: Lambert's Theorem "
   ]
  },
  {
   "attachments": {},
   "cell_type": "markdown",
   "metadata": {},
   "source": [
    " ## Section 11.4: Properties of the solutions to Lambert's Equation"
   ]
  },
  {
   "cell_type": "code",
   "execution_count": null,
   "metadata": {},
   "outputs": [],
   "source": []
  }
 ],
 "metadata": {
  "kernelspec": {
   "display_name": "Python 3",
   "language": "python",
   "name": "python3"
  },
  "language_info": {
   "codemirror_mode": {
    "name": "ipython",
    "version": 3
   },
   "file_extension": ".py",
   "mimetype": "text/x-python",
   "name": "python",
   "nbconvert_exporter": "python",
   "pygments_lexer": "ipython3",
   "version": "3.10.7"
  },
  "orig_nbformat": 4,
  "vscode": {
   "interpreter": {
    "hash": "916dbcbb3f70747c44a77c7bcd40155683ae19c65e1c03b4aa3499c5328201f1"
   }
  }
 },
 "nbformat": 4,
 "nbformat_minor": 2
}
