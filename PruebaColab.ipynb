{
  "nbformat": 4,
  "nbformat_minor": 0,
  "metadata": {
    "colab": {
      "provenance": [],
      "authorship_tag": "ABX9TyOEEWWuwJerNvjLaPG9dI0k",
      "include_colab_link": true
    },
    "kernelspec": {
      "name": "python3",
      "display_name": "Python 3"
    },
    "language_info": {
      "name": "python"
    }
  },
  "cells": [
    {
      "cell_type": "markdown",
      "metadata": {
        "id": "view-in-github",
        "colab_type": "text"
      },
      "source": [
        "<a href=\"https://colab.research.google.com/github/seap-udea/murray-dermott-action/blob/main/PruebaColab.ipynb\" target=\"_parent\"><img src=\"https://colab.research.google.com/assets/colab-badge.svg\" alt=\"Open In Colab\"/></a>"
      ]
    },
    {
      "cell_type": "code",
      "execution_count": 1,
      "metadata": {
        "colab": {
          "base_uri": "https://localhost:8080/"
        },
        "id": "2uCJYD76ecMj",
        "outputId": "78f741de-2dd2-4c1a-8e04-91186c39114d"
      },
      "outputs": [
        {
          "output_type": "stream",
          "name": "stdout",
          "text": [
            "Cloning into 'murray-dermott-action'...\n",
            "warning: redirecting to https://github.com/seap-udea/murray-dermott-action.git/\n",
            "remote: Enumerating objects: 320, done.\u001b[K\n",
            "remote: Counting objects: 100% (127/127), done.\u001b[K\n",
            "remote: Compressing objects: 100% (108/108), done.\u001b[K\n",
            "remote: Total 320 (delta 56), reused 57 (delta 18), pack-reused 193\u001b[K\n",
            "Receiving objects: 100% (320/320), 15.83 MiB | 32.35 MiB/s, done.\n",
            "Resolving deltas: 100% (146/146), done.\n"
          ]
        }
      ],
      "source": [
        "!git clone http://github.com/seap-udea/murray-dermott-action.git"
      ]
    },
    {
      "cell_type": "code",
      "source": [
        "!ls"
      ],
      "metadata": {
        "colab": {
          "base_uri": "https://localhost:8080/"
        },
        "id": "v6k0bae4ekB1",
        "outputId": "68409e3f-83da-4fbc-ef7c-190568e8cd08"
      },
      "execution_count": 2,
      "outputs": [
        {
          "output_type": "stream",
          "name": "stdout",
          "text": [
            "murray-dermott-action  sample_data\n"
          ]
        }
      ]
    },
    {
      "cell_type": "code",
      "source": [
        "!ls murray-dermott-action/"
      ],
      "metadata": {
        "colab": {
          "base_uri": "https://localhost:8080/"
        },
        "id": "gpFgSMO4enmN",
        "outputId": "24872703-06f6-40ed-a7a8-d42bb0b5ec17"
      },
      "execution_count": 3,
      "outputs": [
        {
          "output_type": "stream",
          "name": "stdout",
          "text": [
            "ChaosLongTerm\tLICENSE\t\t       resources\t     TidesShape\n",
            "CRTBP\t\tPlanetaryRings\t       SecularPerturbations\n",
            "General2B\tREADME.md\t       Special2B\n",
            "LambertProblem\tResonantPerturbations  SpinOrbit\n"
          ]
        }
      ]
    },
    {
      "cell_type": "code",
      "source": [],
      "metadata": {
        "id": "5xuOe4-9epw0"
      },
      "execution_count": null,
      "outputs": []
    }
  ]
}