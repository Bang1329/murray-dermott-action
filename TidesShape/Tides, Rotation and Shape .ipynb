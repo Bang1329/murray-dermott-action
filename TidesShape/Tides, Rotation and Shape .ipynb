{
 "cells": [
  {
   "cell_type": "markdown",
   "id": "7581e65e",
   "metadata": {},
   "source": [
    "# Chapter 4. Tides, Rotation and Shape #\n",
    "\n",
    "## Action by Sofía Arboleda-Bolívar ##\n",
    "\n",
    "This notebook is made with the intention of giving some theoretical and practical tools for the fourth chapter of Murray & Dermott Astrodynamics book."
   ]
  },
  {
   "cell_type": "code",
   "execution_count": 1,
   "id": "d1ae32ce",
   "metadata": {},
   "outputs": [],
   "source": [
    "!pip install --upgrade -q pip\n",
    "!pip install -q pymcel\n",
    "!pip install -q celluloid"
   ]
  },
  {
   "cell_type": "code",
   "execution_count": 2,
   "id": "7fc0dec6",
   "metadata": {},
   "outputs": [],
   "source": [
    "import sympy as sym\n",
    "import matplotlib.pyplot as plt\n",
    "import numpy as np"
   ]
  },
  {
   "cell_type": "markdown",
   "id": "a6f1b28b",
   "metadata": {},
   "source": [
    "### 4.1 Tidal Bulge \n",
    "\n",
    "Derivation of potentials from interaction between a planet and a satellite\n",
    "\n",
    "Given the potential on a point P on the surface of a planet due to a satellite:\n",
    "\n",
    "$V = -G \\frac{m_s}{\\triangle}$\n",
    "\n",
    "With $\\triangle = a\\left[ 1 - 2\\left(\\frac{R_p}{a}\\right)cos(\\phi) + \\right]$"
   ]
  },
  {
   "cell_type": "code",
   "execution_count": null,
   "id": "f5982533",
   "metadata": {},
   "outputs": [],
   "source": []
  }
 ],
 "metadata": {
  "kernelspec": {
   "display_name": "Python 3 (ipykernel)",
   "language": "python",
   "name": "python3"
  },
  "language_info": {
   "codemirror_mode": {
    "name": "ipython",
    "version": 3
   },
   "file_extension": ".py",
   "mimetype": "text/x-python",
   "name": "python",
   "nbconvert_exporter": "python",
   "pygments_lexer": "ipython3",
   "version": "3.9.13"
  }
 },
 "nbformat": 4,
 "nbformat_minor": 5
}
