{
 "cells": [
  {
   "cell_type": "markdown",
   "id": "7581e65e",
   "metadata": {},
   "source": [
    "# Chapter 4. Tides, Rotation and Shape #\n",
    "\n",
    "## Action by Sofía Arboleda-Bolívar ##\n",
    "\n",
    "This notebook is made with the intention of giving some theoretical and practical tools for the fourth chapter of Murray & Dermott Astrodynamics book."
   ]
  },
  {
   "cell_type": "code",
   "execution_count": 2,
   "id": "d1ae32ce",
   "metadata": {},
   "outputs": [],
   "source": [
    "!pip install --upgrade -q pip\n",
    "!pip install -q pymcel\n",
    "!pip install -q celluloid"
   ]
  },
  {
   "cell_type": "code",
   "execution_count": 3,
   "id": "7fc0dec6",
   "metadata": {},
   "outputs": [],
   "source": [
    "import sympy as sym\n",
    "import matplotlib.pyplot as plt\n",
    "import numpy as np"
   ]
  },
  {
   "cell_type": "markdown",
   "id": "a6f1b28b",
   "metadata": {},
   "source": [
    "### 4.1 Tidal Bulge \n",
    "\n",
    "Derivation of potentials from interaction between a planet and a satellite\n",
    "\n",
    "Given the potential on a point P on the surface of a planet due to a satellite:\n",
    "\n",
    "$V = -G \\frac{m_s}{\\triangle}$\n",
    "\n",
    "With $\\triangle = a\\left[ 1 - 2\\left(\\frac{R_p}{a}\\right)cos(\\Psi) + \\left(\\frac{R_p}{a}\\right)^2\\right]^{1/2}$\n",
    "\n",
    "And since $R_p/a << 1$, $\\triangle$ can be expaned binomially, let's do it using sympy:"
   ]
  },
  {
   "cell_type": "code",
   "execution_count": 22,
   "id": "f5982533",
   "metadata": {},
   "outputs": [
    {
     "name": "stdout",
     "output_type": "stream",
     "text": [
      "(x**2 - 2*x*cos(y) + 1)**0.5\n"
     ]
    },
    {
     "data": {
      "text/latex": [
       "$\\displaystyle 1 - 1.0 x \\cos{\\left(y \\right)} + x^{2} \\cdot \\left(0.5 - 0.5 \\cos^{2}{\\left(y \\right)}\\right) + x^{3} \\left(- 0.5 \\cos^{3}{\\left(y \\right)} + 0.5 \\cos{\\left(y \\right)}\\right) + O\\left(x^{4}\\right)$"
      ],
      "text/plain": [
       "1 - 1.0*x*cos(y) + x**2*(0.5 - 0.5*cos(y)**2) + x**3*(-0.5*cos(y)**3 + 0.5*cos(y)) + O(x**4)"
      ]
     },
     "metadata": {},
     "output_type": "display_data"
    }
   ],
   "source": [
    "x, a, psi = sym.symbols('x, a, y')\n",
    "\n",
    "# Define the binomial expression\n",
    "expr = (1-2*x*sym.cos(psi)+x**2)**(0.5)\n",
    "#expr = (1-a*x+x**2)**(0.5)\n",
    "\n",
    "#Perform of binomial expansion\n",
    "expanded_expr = sym.expand(expr, binomial=True)\n",
    "\n",
    "print(expanded_expr)\n",
    "\n",
    "#Perform of Taylor series expansion\n",
    "taylor_series = sym.series(expr, x, n=4)\n",
    "\n",
    "display(taylor_series)\n"
   ]
  },
  {
   "cell_type": "markdown",
   "id": "ae643164",
   "metadata": {},
   "source": [
    "### 4.2 Potential Theory "
   ]
  },
  {
   "cell_type": "markdown",
   "id": "4169b359",
   "metadata": {},
   "source": [
    "### 4.3 Tidal deformation"
   ]
  },
  {
   "cell_type": "markdown",
   "id": "8b52c79a",
   "metadata": {},
   "source": [
    "### 4.5 Rotational Deformation"
   ]
  },
  {
   "cell_type": "markdown",
   "id": "bf90a116",
   "metadata": {},
   "source": [
    "### 4.6 The Darwin-Radau Relation"
   ]
  },
  {
   "cell_type": "markdown",
   "id": "d4e84cb0",
   "metadata": {},
   "source": [
    "### 4.7 Shapes and Internal Structures of Satellites"
   ]
  },
  {
   "cell_type": "markdown",
   "id": "63fb2660",
   "metadata": {},
   "source": [
    "### 4.8 The Roche Zone "
   ]
  },
  {
   "cell_type": "markdown",
   "id": "3f53d6df",
   "metadata": {},
   "source": [
    "### 4.9 Tidal Torques"
   ]
  },
  {
   "cell_type": "markdown",
   "id": "e3177b12",
   "metadata": {},
   "source": [
    "### 4.10 Satellite Tides"
   ]
  },
  {
   "cell_type": "code",
   "execution_count": null,
   "id": "f0239d9b",
   "metadata": {},
   "outputs": [],
   "source": []
  }
 ],
 "metadata": {
  "kernelspec": {
   "display_name": "Python 3 (ipykernel)",
   "language": "python",
   "name": "python3"
  },
  "language_info": {
   "codemirror_mode": {
    "name": "ipython",
    "version": 3
   },
   "file_extension": ".py",
   "mimetype": "text/x-python",
   "name": "python",
   "nbconvert_exporter": "python",
   "pygments_lexer": "ipython3",
   "version": "3.9.13"
  }
 },
 "nbformat": 4,
 "nbformat_minor": 5
}
