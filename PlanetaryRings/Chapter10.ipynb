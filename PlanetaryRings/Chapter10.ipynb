{
 "cells": [
  {
   "cell_type": "markdown",
   "metadata": {},
   "source": [
    " # Chapter 10. Planetary Rings\n",
    " \n",
    " ## Action by Diana C. Zapata. University of Antioquia"
   ]
  },
  {
   "cell_type": "markdown",
   "metadata": {},
   "source": [
    "In this notebook we will present part of the theoretical background of the chapter devoted to the *Planetary Ring Systems* and some mathematical and numerical results which are interested for the theory."
   ]
  },
  {
   "cell_type": "code",
   "execution_count": 1,
   "metadata": {},
   "outputs": [],
   "source": [
    "import matplotlib.pyplot as plt\n",
    "import numpy as np"
   ]
  },
  {
   "cell_type": "code",
   "execution_count": 57,
   "metadata": {},
   "outputs": [],
   "source": [
    "!pip install -q astroquery spiceypy pandas rebound"
   ]
  },
  {
   "cell_type": "markdown",
   "metadata": {},
   "source": [
    "## Constants"
   ]
  },
  {
   "cell_type": "code",
   "execution_count": 54,
   "metadata": {},
   "outputs": [],
   "source": [
    "from astropy import constants as c"
   ]
  },
  {
   "cell_type": "code",
   "execution_count": 58,
   "metadata": {},
   "outputs": [
    {
     "data": {
      "text/latex": [
       "$1.4959787 \\times 10^{11} \\; \\mathrm{m}$"
      ],
      "text/plain": [
       "<<class 'astropy.constants.iau2015.IAU2015'> name='Astronomical Unit' value=149597870700.0 uncertainty=0.0 unit='m' reference='IAU 2012 Resolution B2'>"
      ]
     },
     "execution_count": 58,
     "metadata": {},
     "output_type": "execute_result"
    }
   ],
   "source": [
    "c.au"
   ]
  },
  {
   "cell_type": "markdown",
   "metadata": {},
   "source": [
    " ## Section 10.1: Introduction"
   ]
  },
  {
   "cell_type": "markdown",
   "metadata": {},
   "source": [
    " ## Section 10.2: Planetary Ring Systems"
   ]
  },
  {
   "cell_type": "markdown",
   "metadata": {},
   "source": [
    "### Data rings and moons"
   ]
  },
  {
   "cell_type": "code",
   "execution_count": 45,
   "metadata": {},
   "outputs": [],
   "source": [
    "# Saturn\n",
    "saturn_radius = 58232"
   ]
  },
  {
   "cell_type": "code",
   "execution_count": 46,
   "metadata": {},
   "outputs": [],
   "source": [
    "from astroquery.jplhorizons import Horizons"
   ]
  },
  {
   "cell_type": "code",
   "execution_count": null,
   "metadata": {},
   "outputs": [],
   "source": []
  },
  {
   "cell_type": "code",
   "execution_count": 47,
   "metadata": {},
   "outputs": [],
   "source": [
    "import spiceypy as spy"
   ]
  },
  {
   "cell_type": "code",
   "execution_count": 59,
   "metadata": {},
   "outputs": [
    {
     "data": {
      "text/latex": [
       "$1.8600192 \\times 10^{8} \\; \\mathrm{m}$"
      ],
      "text/plain": [
       "<Quantity 1.86001919e+08 m>"
      ]
     },
     "execution_count": 59,
     "metadata": {},
     "output_type": "execute_result"
    }
   ],
   "source": [
    "tabla = Horizons(id=\"601\", location=\"@699\").elements().to_pandas()\n"
   ]
  },
  {
   "cell_type": "markdown",
   "metadata": {},
   "source": [
    "       599 Jupiter\n",
    "\n",
    "        501 Io          502 Europa      503 Ganymede    504 Callisto\n",
    "        505 Amalthea    506 Himalia     507 Elara       508 Pasiphae\n",
    "        509 Sinope      510 Lysithea    511 Carme       512 Ananke\n",
    "        513 Leda        514 Thebe       515 Adrastea    516 Metis\n",
    "\n",
    "\n",
    "        699 Saturn\n",
    "\n",
    "        601 Mimas       602 Enceladus   603 Tethys      604 Dione\n",
    "        605 Rhea        606 Titan       607 Hyperion    608 Iapetus\n",
    "        609 Phoebe      610 Janus       611 Epimetheus  612 Helene\n",
    "        613 Telesto     614 Calypso     615 Atlas       616 Prometheus\n",
    "        617 Pandora     618 Pan         632 Methone     633 Pallene\n",
    "        634 Polydeuces  635 Daphnis     649 Anthe       653 Aegaeon\n",
    "\n",
    "\n",
    "        799 Uranus\n",
    "\n",
    "        701 Ariel       702 Umbriel     703 Titania     704 Oberon\n",
    "        705 Miranda     706 Cordelia    707 Ophelia     708 Bianca\n",
    "        709 Cressida    710 Desdemona   711 Juliet      712 Portia\n",
    "        713 Rosalind    714 Belinda     715 Puck\n",
    "\n",
    "\n",
    "        899 Neptune\n",
    "\n",
    "        801 Triton      802 Nereid      803 Naiad       804 Thalassa\n",
    "        805 Despina     806 Galatea     807 Larissa     808 Proteus       599 Jupiter\n",
    "\n",
    "        501 Io          502 Europa      503 Ganymede    504 Callisto\n",
    "        505 Amalthea    506 Himalia     507 Elara       508 Pasiphae\n",
    "        509 Sinope      510 Lysithea    511 Carme       512 Ananke\n",
    "        513 Leda        514 Thebe       515 Adrastea    516 Metis\n",
    "\n",
    "\n",
    "        699 Saturn\n",
    "\n",
    "        601 Mimas       602 Enceladus   603 Tethys      604 Dione\n",
    "        605 Rhea        606 Titan       607 Hyperion    608 Iapetus\n",
    "        609 Phoebe      610 Janus       611 Epimetheus  612 Helene\n",
    "        613 Telesto     614 Calypso     615 Atlas       616 Prometheus\n",
    "        617 Pandora     618 Pan         632 Methone     633 Pallene\n",
    "        634 Polydeuces  635 Daphnis     649 Anthe       653 Aegaeon\n",
    "\n",
    "\n",
    "        799 Uranus\n",
    "\n",
    "        701 Ariel       702 Umbriel     703 Titania     704 Oberon\n",
    "        705 Miranda     706 Cordelia    707 Ophelia     708 Bianca\n",
    "        709 Cressida    710 Desdemona   711 Juliet      712 Portia\n",
    "        713 Rosalind    714 Belinda     715 Puck\n",
    "\n",
    "\n",
    "        899 Neptune\n",
    "\n",
    "        801 Triton      802 Nereid      803 Naiad       804 Thalassa\n",
    "        805 Despina     806 Galatea     807 Larissa     808 Proteus"
   ]
  },
  {
   "cell_type": "code",
   "execution_count": 60,
   "metadata": {},
   "outputs": [],
   "source": [
    "spy.furnsh(\"data/pck00011.tpc\")"
   ]
  },
  {
   "cell_type": "code",
   "execution_count": 63,
   "metadata": {},
   "outputs": [],
   "source": [
    "n,radii=spy.bodvrd(\"601\",\"RADII\",3)"
   ]
  },
  {
   "cell_type": "code",
   "execution_count": 65,
   "metadata": {},
   "outputs": [
    {
     "data": {
      "text/plain": [
       "198.36666666666667"
      ]
     },
     "execution_count": 65,
     "metadata": {},
     "output_type": "execute_result"
    }
   ],
   "source": [
    "radii.mean()"
   ]
  },
  {
   "cell_type": "code",
   "execution_count": 66,
   "metadata": {},
   "outputs": [],
   "source": [
    "spy.furnsh(\"data/gm_de431.tpc\")"
   ]
  },
  {
   "cell_type": "code",
   "execution_count": 73,
   "metadata": {},
   "outputs": [
    {
     "data": {
      "text/plain": [
       "37940585.2"
      ]
     },
     "execution_count": 73,
     "metadata": {},
     "output_type": "execute_result"
    }
   ],
   "source": [
    "n,dato=spy.bodvrd(\"6\",\"GM\",1)\n",
    "gm=dato[0]\n",
    "gm # En unidades km^3/s^2"
   ]
  },
  {
   "cell_type": "code",
   "execution_count": 75,
   "metadata": {},
   "outputs": [
    {
     "data": {
      "text/plain": [
       "5.684578937117002e+26"
      ]
     },
     "execution_count": 75,
     "metadata": {},
     "output_type": "execute_result"
    }
   ],
   "source": [
    "mass_saturn=gm*(1e3)**3/c.G\n",
    "mass_saturn.value"
   ]
  },
  {
   "cell_type": "markdown",
   "metadata": {},
   "source": [
    "### Plot of the systems"
   ]
  },
  {
   "cell_type": "code",
   "execution_count": 2,
   "metadata": {},
   "outputs": [
    {
     "data": {
      "image/png": "[encoded data removed]",
      "text/plain": [
       "<Figure size 640x480 with 1 Axes>"
      ]
     },
     "metadata": {},
     "output_type": "display_data"
    }
   ],
   "source": [
    "plt.title('Jupiter and theirs satellites')\n",
    "plt.plot(0,0,'o') #Jupiter\n",
    "plt.plot(0,127979,'o', color = 'black') #Metis\n",
    "plt.text(0.002,127979,\"M\", fontsize=8, color='black')\n",
    "plt.plot(0,128980,'o', color = 'black') #Adrastea\n",
    "plt.text(-0.008,128980,\"Ad\", fontsize=8, color='black')\n",
    "plt.plot(0,181300,'o', color = 'black') #Amalthea \n",
    "plt.text(0.002,181300,\"Am\", fontsize=8, color='black')\n",
    "plt.plot(0,221900,'o', color = 'black') #Thebe \n",
    "plt.text(0.002,221900,\"T\", fontsize=8, color='black')\n",
    "plt.show()"
   ]
  },
  {
   "cell_type": "code",
   "execution_count": 35,
   "metadata": {},
   "outputs": [
    {
     "data": {
      "image/png": "[encoded data removed]",
      "text/plain": [
       "<Figure size 1000x1000 with 1 Axes>"
      ]
     },
     "metadata": {},
     "output_type": "display_data"
    }
   ],
   "source": [
    "fig = plt.figure(figsize=(10,10))\n",
    "ax = fig.add_subplot(111, polar = True)\n",
    "plt.title(\"The ring system\")\n",
    "\n",
    "\n",
    "# Plot of Jupiter\n",
    "\n",
    "theta = np.linspace(3 * np.pi/4,np.pi, 100)\n",
    "\n",
    "jupiter_radius = 69911\n",
    "ax.fill_between(theta, 0, jupiter_radius, color = 'black' )\n",
    "\n",
    "# Plot of first ring system\n",
    "halo_inner = 89400\n",
    "halo_outer = 123000\n",
    "ax.fill_between(theta, halo_inner, halo_outer, color = 'gray', alpha = 0.5)\n",
    "\n",
    "# Plot of second ring system\n",
    "main_inner = 123000\n",
    "main_outer = 128940\n",
    "ax.fill_between(theta, main_inner, main_outer, color = 'gray', alpha = 1)\n",
    "\n",
    "# Plot of third ring system\n",
    "gossamer_inner = 128940\n",
    "gossamer_outer = 242000\n",
    "ax.fill_between(theta, gossamer_inner, gossamer_outer, color = 'gray', alpha = 0.2)\n",
    "\n",
    "# Plot satellites\n",
    "metis = 127979\n",
    "ax.plot(145*np.pi/180,metis,\"o\",color=\"black\",markersize=5)\n",
    "plt.text(145*np.pi/180,137979,\"M\", fontsize=10, color='black')\n",
    "\n",
    "adrastea = 127979\n",
    "ax.plot(145*np.pi/180,metis,\"o\",color=\"black\",markersize=5)\n",
    "plt.text(145*np.pi/180,137979,\"M\", fontsize=10, color='black')\n",
    "\n",
    "\n",
    "# Plot of Saturn\n",
    "theta = np.linspace(np.pi/2, 3 * np.pi/4, 100)\n",
    "\n",
    "saturn_radius = 58232\n",
    "ax.fill_between(theta, 0, saturn_radius, color = 'black')\n",
    "\n",
    "# Plot of D ring system\n",
    "D_inner = 66900\n",
    "D_outer = 74658\n",
    "ax.fill_between(theta, D_inner, D_outer, color = 'gray', alpha = 0.3)\n",
    "\n",
    "# Plot of C ring system\n",
    "C_inner = 74658\n",
    "C_outer = 91975\n",
    "ax.fill_between(theta, C_inner, C_outer, color = 'gray', alpha = 0.5)\n",
    "\n",
    "# Plot of B ring system\n",
    "B_inner = 91975\n",
    "B_outer = 117507\n",
    "ax.fill_between(theta, B_inner, B_outer, color = 'gray', alpha = 1)\n",
    "\n",
    "# Plot of A ring system\n",
    "A_inner = 122340\n",
    "A_outer = 136780\n",
    "ax.fill_between(theta, A_inner, A_outer, color = 'gray', alpha = 0.6)\n",
    "\n",
    "\n",
    "\n",
    "# Plot of Uranus\n",
    "theta = np.linspace(np.pi/2, np.pi/4, 100)\n",
    "\n",
    "uranus_radius = 25362\n",
    "ax.fill_between(theta, 0, uranus_radius, color = 'black')\n",
    "\n",
    "\n",
    "\n",
    "# Plot of Neptune\n",
    "theta = np.linspace(0, np.pi/4, 100)\n",
    "\n",
    "uranus_radius = 24622\n",
    "ax.fill_between(theta, 0, uranus_radius, color = 'black')\n",
    "\n",
    "\n",
    "for i in [0, np.pi/4, np.pi/2, 3 * np.pi/4, np.pi]:\n",
    "        rad = i\n",
    "        ax.plot([rad,rad], [0,260000], color=\"black\", linewidth=1.5)\n",
    "               \n",
    "        \n",
    "        \n",
    "ax.set_thetamin(0)\n",
    "ax.set_thetamax(180)\n",
    "\n",
    "ax.set_xticklabels([])\n",
    "ax.set_yticklabels([])\n",
    "plt.axis('off')\n",
    "\n",
    "plt.show()"
   ]
  },
  {
   "cell_type": "markdown",
   "metadata": {},
   "source": [
    " ### Section 10.2.1: The Rings of Jupiter"
   ]
  },
  {
   "cell_type": "markdown",
   "metadata": {},
   "source": [
    " ### Section 10.2.2: The Rings of Saturn"
   ]
  },
  {
   "cell_type": "markdown",
   "metadata": {},
   "source": [
    " ### Section 10.2.3: The Rings of Uranus"
   ]
  },
  {
   "cell_type": "markdown",
   "metadata": {},
   "source": [
    " ### Section 10.2.4: The Rings of Neptune"
   ]
  },
  {
   "cell_type": "markdown",
   "metadata": {},
   "source": [
    " ### Section 10.2.5: Rings and Satellites"
   ]
  },
  {
   "cell_type": "markdown",
   "metadata": {},
   "source": [
    " ## Section 10.3: Resonances in Rings"
   ]
  },
  {
   "cell_type": "markdown",
   "metadata": {},
   "source": [
    "### Section 10.3.1: Perturbations in Semi-major Axis and Corotation Resonances"
   ]
  },
  {
   "cell_type": "markdown",
   "metadata": {},
   "source": [
    "### Section 10.3.2: Perturbations in Eccentricity and Lindblad Resonances"
   ]
  },
  {
   "cell_type": "markdown",
   "metadata": {},
   "source": [
    "### Section 10.3.3: Perturbations in Inclination and Vertical Resonances"
   ]
  },
  {
   "cell_type": "markdown",
   "metadata": {},
   "source": [
    "### Section 10.3.4: Locations of Resonances"
   ]
  },
  {
   "cell_type": "markdown",
   "metadata": {},
   "source": [
    "## Section 10.4: Density Waves and Bending Waves"
   ]
  },
  {
   "cell_type": "markdown",
   "metadata": {},
   "source": [
    "## Section 10.5: Narrow Rings and Sharp Edges"
   ]
  },
  {
   "cell_type": "markdown",
   "metadata": {},
   "source": [
    "### Section 10.5.1: Spreading Timescales"
   ]
  },
  {
   "cell_type": "code",
   "execution_count": null,
   "metadata": {},
   "outputs": [],
   "source": []
  }
 ],
 "metadata": {
  "kernelspec": {
   "display_name": "Python 3 (ipykernel)",
   "language": "python",
   "name": "python3"
  },
  "language_info": {
   "codemirror_mode": {
    "name": "ipython",
    "version": 3
   },
   "file_extension": ".py",
   "mimetype": "text/x-python",
   "name": "python",
   "nbconvert_exporter": "python",
   "pygments_lexer": "ipython3",
   "version": "3.8.10"
  }
 },
 "nbformat": 4,
 "nbformat_minor": 2
}
