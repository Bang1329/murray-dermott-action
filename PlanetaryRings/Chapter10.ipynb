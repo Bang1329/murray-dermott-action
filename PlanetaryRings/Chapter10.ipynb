{
 "cells": [
  {
   "cell_type": "markdown",
   "metadata": {},
   "source": [
    " # Chapter 10. Planetary Rings\n",
    " \n",
    " ## Action by Diana C. Zapata. University of Antioquia"
   ]
  },
  {
   "cell_type": "markdown",
   "metadata": {},
   "source": [
    "In this notebook we will present part of the theoretical background of the chapter devoted to the *Planetary Ring Systems* and some mathematical and numerical results which are interested for the theory."
   ]
  },
  {
   "cell_type": "code",
   "execution_count": 164,
   "metadata": {},
   "outputs": [],
   "source": [
    "!pip install -q tqdm"
   ]
  },
  {
   "cell_type": "code",
   "execution_count": 2,
   "metadata": {},
   "outputs": [],
   "source": [
    "!pip install -q astroquery spiceypy pandas rebound"
   ]
  },
  {
   "cell_type": "code",
   "execution_count": 165,
   "metadata": {},
   "outputs": [],
   "source": [
    "import matplotlib.pyplot as plt\n",
    "import numpy as np\n",
    "from tqdm import tqdm\n",
    "from astropy import constants as c\n",
    "import astropy.units as u\n",
    "from astroquery.jplhorizons import Horizons\n",
    "import spiceypy as spy"
   ]
  },
  {
   "cell_type": "markdown",
   "metadata": {},
   "source": [
    "## Constants"
   ]
  },
  {
   "cell_type": "code",
   "execution_count": 152,
   "metadata": {},
   "outputs": [
    {
     "data": {
      "text/latex": [
       "$1.4959787 \\times 10^{8} \\; \\mathrm{m}$"
      ],
      "text/plain": [
       "<Quantity 1.49597871e+08 m>"
      ]
     },
     "execution_count": 152,
     "metadata": {},
     "output_type": "execute_result"
    }
   ],
   "source": [
    "# Astronomical units\n",
    "au = c.au/1e3 # km\n",
    "au"
   ]
  },
  {
   "cell_type": "markdown",
   "metadata": {},
   "source": [
    "## Radii of de planets"
   ]
  },
  {
   "cell_type": "code",
   "execution_count": 50,
   "metadata": {},
   "outputs": [],
   "source": [
    "spy.furnsh(\"data/pck00011.tpc\")"
   ]
  },
  {
   "cell_type": "code",
   "execution_count": 67,
   "metadata": {},
   "outputs": [],
   "source": [
    "n, jupiter_radius = spy.bodvrd(\"599\",\"RADII\",3) \n",
    "n, saturn_radius = spy.bodvrd(\"699\",\"RADII\",3) \n",
    "n, uranus_radius = spy.bodvrd(\"799\",\"RADII\",3)\n",
    "n, neptune_radius = spy.bodvrd(\"899\",\"RADII\",3)"
   ]
  },
  {
   "cell_type": "code",
   "execution_count": 70,
   "metadata": {},
   "outputs": [],
   "source": [
    "jupiter_radius = jupiter_radius.mean()\n",
    "saturn_radius = saturn_radius.mean()\n",
    "uranus_radius = uranus_radius.mean()\n",
    "neptune_radius = neptune_radius.mean()"
   ]
  },
  {
   "cell_type": "markdown",
   "metadata": {},
   "source": [
    "## Data satellites"
   ]
  },
  {
   "cell_type": "markdown",
   "metadata": {},
   "source": [
    "        599 Jupiter\n",
    "\n",
    "        501 Io          502 Europa      503 Ganymede    504 Callisto\n",
    "        505 Amalthea    506 Himalia     507 Elara       508 Pasiphae\n",
    "        509 Sinope      510 Lysithea    511 Carme       512 Ananke\n",
    "        513 Leda        514 Thebe       515 Adrastea    516 Metis\n",
    "\n",
    "\n",
    "        699 Saturn\n",
    "\n",
    "        601 Mimas       602 Enceladus   603 Tethys      604 Dione\n",
    "        605 Rhea        606 Titan       607 Hyperion    608 Iapetus\n",
    "        609 Phoebe      610 Janus       611 Epimetheus  612 Helene\n",
    "        613 Telesto     614 Calypso     615 Atlas       616 Prometheus\n",
    "        617 Pandora     618 Pan         632 Methone     633 Pallene\n",
    "        634 Polydeuces  635 Daphnis     649 Anthe       653 Aegaeon\n",
    "\n",
    "\n",
    "        799 Uranus\n",
    "\n",
    "        701 Ariel       702 Umbriel     703 Titania     704 Oberon\n",
    "        705 Miranda     706 Cordelia    707 Ophelia     708 Bianca\n",
    "        709 Cressida    710 Desdemona   711 Juliet      712 Portia\n",
    "        713 Rosalind    714 Belinda     715 Puck\n",
    "\n",
    "\n",
    "        899 Neptune\n",
    "\n",
    "        801 Triton      802 Nereid      803 Naiad       804 Thalassa\n",
    "        805 Despina     806 Galatea     807 Larissa     808 Proteus       \n",
    "        "
   ]
  },
  {
   "cell_type": "markdown",
   "metadata": {},
   "source": [
    "Metis\n",
    "Adrastea\n",
    "Amalthea\n",
    "Thebe"
   ]
  },
  {
   "cell_type": "code",
   "execution_count": 73,
   "metadata": {},
   "outputs": [],
   "source": [
    "jupiter_satellites = [\"516\", \"515\", \"505\", \"514\"]"
   ]
  },
  {
   "cell_type": "markdown",
   "metadata": {},
   "source": [
    "Pan Atlas Prometheus Pandora Epimetheus Janus Mimas Enceladus Tethys"
   ]
  },
  {
   "cell_type": "code",
   "execution_count": 74,
   "metadata": {},
   "outputs": [],
   "source": [
    "saturn_satellites = [\"618\", \"615\", \"616\", \"617\", \"611\", \"610\", \"601\", \"602\", \"603\"]"
   ]
  },
  {
   "cell_type": "markdown",
   "metadata": {},
   "source": [
    "Cordelia\n",
    "Ophelia\n",
    "Bianca\n",
    "Cressida\n",
    "Desdemona\n",
    "Juliet\n",
    "Portia\n",
    "Rosalind\n",
    "Belinda\n",
    "Puck"
   ]
  },
  {
   "cell_type": "code",
   "execution_count": 75,
   "metadata": {},
   "outputs": [],
   "source": [
    "uranus_satellites = [\"706\", \"707\", \"708\", \"709\", \"710\", \"711\", \"712\", \"713\", \"714\", \"715\"]"
   ]
  },
  {
   "cell_type": "markdown",
   "metadata": {},
   "source": [
    "Naiad\n",
    "Thalassa\n",
    "Despina\n",
    "Galatea\n",
    "Larissa\n",
    "Proteus"
   ]
  },
  {
   "cell_type": "code",
   "execution_count": 79,
   "metadata": {},
   "outputs": [],
   "source": [
    "neptune_satellites = [\"803\", \"804\", \"805\", \"806\", \"807\", \"808\"]"
   ]
  },
  {
   "cell_type": "code",
   "execution_count": 81,
   "metadata": {},
   "outputs": [],
   "source": [
    "jupiter_axes = np.array([None]*len(jupiter_satellites))\n",
    "saturn_axes = np.array([None]*len(saturn_satellites))\n",
    "uranus_axes = np.array([None]*len(uranus_satellites))\n",
    "neptune_axes = np.array([None]*len(neptune_satellites))"
   ]
  },
  {
   "cell_type": "markdown",
   "metadata": {},
   "source": [
    " ## Section 10.1: Introduction"
   ]
  },
  {
   "cell_type": "markdown",
   "metadata": {},
   "source": [
    " ## Section 10.2: Planetary Ring Systems"
   ]
  },
  {
   "cell_type": "code",
   "execution_count": 168,
   "metadata": {},
   "outputs": [
    {
     "name": "stderr",
     "output_type": "stream",
     "text": [
      "100%|█████████████████████████████████████████████| 4/4 [00:03<00:00,  1.13it/s]\n",
      "100%|█████████████████████████████████████████████| 9/9 [00:10<00:00,  1.16s/it]\n",
      "100%|███████████████████████████████████████████| 10/10 [00:08<00:00,  1.15it/s]\n",
      "100%|█████████████████████████████████████████████| 6/6 [00:05<00:00,  1.05it/s]\n"
     ]
    }
   ],
   "source": [
    "for i in tqdm(range(len(jupiter_axes))):\n",
    "    jupiter_axes[i] = Horizons(id=jupiter_satellites[i], location=\"@599\").elements().to_pandas()\n",
    "    \n",
    "for i in tqdm(range(len(saturn_axes))):\n",
    "    saturn_axes[i] = Horizons(id=saturn_satellites[i], location=\"@699\").elements().to_pandas()\n",
    "    \n",
    "for i in tqdm(range(len(uranus_axes))):\n",
    "    uranus_axes[i] = Horizons(id=uranus_satellites[i], location=\"@799\").elements().to_pandas()\n",
    "    \n",
    "for i in tqdm(range(len(neptune_axes))):\n",
    "    neptune_axes[i] = Horizons(id=neptune_satellites[i], location=\"@899\").elements().to_pandas()"
   ]
  },
  {
   "cell_type": "code",
   "execution_count": 169,
   "metadata": {},
   "outputs": [],
   "source": [
    "for i in range(len(jupiter_axes)):\n",
    "    jupiter_axes[i] = jupiter_axes[i][\"a\"][0]*au\n",
    "    \n",
    "for i in range(len(saturn_axes)):\n",
    "    saturn_axes[i] = saturn_axes[i][\"a\"][0]*au\n",
    "    \n",
    "for i in range(len(uranus_axes)):\n",
    "    uranus_axes[i] = uranus_axes[i][\"a\"][0]*au\n",
    "    \n",
    "for i in range(len(neptune_axes)):\n",
    "    neptune_axes[i] = neptune_axes[i][\"a\"][0]*au"
   ]
  },
  {
   "cell_type": "code",
   "execution_count": 31,
   "metadata": {},
   "outputs": [
    {
     "data": {
      "text/plain": [
       "(3, array([71492., 71492., 66854.]))"
      ]
     },
     "execution_count": 31,
     "metadata": {},
     "output_type": "execute_result"
    }
   ],
   "source": [
    "spy.bodvrd(\"599\",\"RADII\",3)"
   ]
  },
  {
   "cell_type": "code",
   "execution_count": 66,
   "metadata": {},
   "outputs": [],
   "source": [
    "spy.furnsh(\"data/gm_de431.tpc\")"
   ]
  },
  {
   "cell_type": "code",
   "execution_count": 73,
   "metadata": {},
   "outputs": [
    {
     "data": {
      "text/plain": [
       "37940585.2"
      ]
     },
     "execution_count": 73,
     "metadata": {},
     "output_type": "execute_result"
    }
   ],
   "source": [
    "n,dato=spy.bodvrd(\"6\",\"GM\",1)\n",
    "gm=dato[0]\n",
    "gm # En unidades km^3/s^2"
   ]
  },
  {
   "cell_type": "code",
   "execution_count": 75,
   "metadata": {},
   "outputs": [
    {
     "data": {
      "text/plain": [
       "5.684578937117002e+26"
      ]
     },
     "execution_count": 75,
     "metadata": {},
     "output_type": "execute_result"
    }
   ],
   "source": [
    "mass_saturn=gm*(1e3)**3/c.G\n",
    "mass_saturn.value"
   ]
  },
  {
   "cell_type": "markdown",
   "metadata": {},
   "source": [
    "### Plot of the systems"
   ]
  },
  {
   "cell_type": "code",
   "execution_count": 198,
   "metadata": {},
   "outputs": [
    {
     "data": {
      "image/png": "[encoded data removed]",
      "text/plain": [
       "<Figure size 1000x1000 with 1 Axes>"
      ]
     },
     "metadata": {},
     "output_type": "display_data"
    }
   ],
   "source": [
    "fig = plt.figure(figsize=(10,10))\n",
    "ax = fig.add_subplot(111, polar = True)\n",
    "plt.title(\"The ring system\")\n",
    "\n",
    "\n",
    "# Plot of Jupiter\n",
    "\n",
    "theta = np.linspace(3 * np.pi/4,np.pi, 100)\n",
    "\n",
    "ax.fill_between(theta, 0, jupiter_radius, color = 'black' )\n",
    "\n",
    "# Plot of first ring system\n",
    "halo_inner = 89400\n",
    "halo_outer = 123000\n",
    "ax.fill_between(theta, halo_inner, halo_outer, color = 'gray', alpha = 0.5)\n",
    "\n",
    "# Plot of second ring system\n",
    "main_inner = 123000\n",
    "main_outer = 128940\n",
    "ax.fill_between(theta, main_inner, main_outer, color = 'gray', alpha = 1)\n",
    "\n",
    "# Plot of third ring system\n",
    "gossamer_inner = 128940\n",
    "gossamer_outer = 242000\n",
    "ax.fill_between(theta, gossamer_inner, gossamer_outer, color = 'gray', alpha = 0.2)\n",
    "\n",
    "# Plot satellites\n",
    "for i in range(len(jupiter_axes)):\n",
    "    ax.plot(145*np.pi/180,jupiter_axes[i],\"o\",color=\"red\",markersize=5)\n",
    "\n",
    "\n",
    "# Plot of Saturn\n",
    "theta = np.linspace(np.pi/2, 3 * np.pi/4, 100)\n",
    "\n",
    "ax.fill_between(theta, 0, saturn_radius, color = 'black')\n",
    "\n",
    "# Plot of D ring system\n",
    "D_inner = 66900\n",
    "D_outer = 74658\n",
    "ax.fill_between(theta, D_inner, D_outer, color = 'gray', alpha = 0.3)\n",
    "\n",
    "# Plot of C ring system\n",
    "C_inner = 74658\n",
    "C_outer = 91975\n",
    "ax.fill_between(theta, C_inner, C_outer, color = 'gray', alpha = 0.5)\n",
    "\n",
    "# Plot of B ring system\n",
    "B_inner = 91975\n",
    "B_outer = 117507\n",
    "ax.fill_between(theta, B_inner, B_outer, color = 'gray', alpha = 1)\n",
    "\n",
    "# Plot of A ring system\n",
    "A_inner = 122340\n",
    "A_outer = 136780\n",
    "ax.fill_between(theta, A_inner, A_outer, color = 'gray', alpha = 0.6)\n",
    "\n",
    "# Plot satellites\n",
    "for i in range(len(saturn_axes)):\n",
    "    ax.plot(113*np.pi/180,saturn_axes[i],\"o\",color=\"red\",markersize=5)\n",
    "\n",
    "\n",
    "# Plot of Uranus\n",
    "theta = np.linspace(np.pi/2, np.pi/4, 100)\n",
    "\n",
    "ax.fill_between(theta, 0, uranus_radius, color = 'black')\n",
    "\n",
    "# Plot satellites\n",
    "for i in range(len(uranus_axes)):\n",
    "    ax.plot(68*np.pi/180,uranus_axes[i],\"o\",color=\"red\",markersize=5)\n",
    "\n",
    "\n",
    "\n",
    "# Plot of Neptune\n",
    "theta = np.linspace(0, np.pi/4, 100)\n",
    "\n",
    "ax.fill_between(theta, 0, neptune_radius, color = 'black')\n",
    "\n",
    "# Plot satellites\n",
    "for i in range(len(neptune_axes)):\n",
    "    ax.plot(23*np.pi/180,neptune_axes[i],\"o\",color=\"red\",markersize=5)\n",
    "\n",
    "\n",
    "for i in [0, np.pi/4, np.pi/2, 3 * np.pi/4, np.pi]:\n",
    "        rad = i\n",
    "        ax.plot([rad,rad], [0,260000], color=\"black\", linewidth=1.5)\n",
    "               \n",
    "        \n",
    "        \n",
    "ax.set_thetamin(0)\n",
    "ax.set_thetamax(180)\n",
    "\n",
    "ax.set_xticklabels([])\n",
    "ax.set_yticklabels([])\n",
    "plt.axis('off')\n",
    "\n",
    "plt.show()"
   ]
  },
  {
   "cell_type": "markdown",
   "metadata": {},
   "source": [
    " ### Section 10.2.1: The Rings of Jupiter"
   ]
  },
  {
   "cell_type": "markdown",
   "metadata": {},
   "source": [
    " ### Section 10.2.2: The Rings of Saturn"
   ]
  },
  {
   "cell_type": "markdown",
   "metadata": {},
   "source": [
    " ### Section 10.2.3: The Rings of Uranus"
   ]
  },
  {
   "cell_type": "markdown",
   "metadata": {},
   "source": [
    " ### Section 10.2.4: The Rings of Neptune"
   ]
  },
  {
   "cell_type": "markdown",
   "metadata": {},
   "source": [
    " ### Section 10.2.5: Rings and Satellites"
   ]
  },
  {
   "cell_type": "markdown",
   "metadata": {},
   "source": [
    " ## Section 10.3: Resonances in Rings"
   ]
  },
  {
   "cell_type": "markdown",
   "metadata": {},
   "source": [
    "### Section 10.3.1: Perturbations in Semi-major Axis and Corotation Resonances"
   ]
  },
  {
   "cell_type": "markdown",
   "metadata": {},
   "source": [
    "### Section 10.3.2: Perturbations in Eccentricity and Lindblad Resonances"
   ]
  },
  {
   "cell_type": "markdown",
   "metadata": {},
   "source": [
    "### Section 10.3.3: Perturbations in Inclination and Vertical Resonances"
   ]
  },
  {
   "cell_type": "markdown",
   "metadata": {},
   "source": [
    "### Section 10.3.4: Locations of Resonances"
   ]
  },
  {
   "cell_type": "markdown",
   "metadata": {},
   "source": [
    "## Section 10.4: Density Waves and Bending Waves"
   ]
  },
  {
   "cell_type": "markdown",
   "metadata": {},
   "source": [
    "## Section 10.5: Narrow Rings and Sharp Edges"
   ]
  },
  {
   "cell_type": "markdown",
   "metadata": {},
   "source": [
    "### Section 10.5.1: Spreading Timescales"
   ]
  },
  {
   "cell_type": "code",
   "execution_count": null,
   "metadata": {},
   "outputs": [],
   "source": []
  }
 ],
 "metadata": {
  "kernelspec": {
   "display_name": "Python 3 (ipykernel)",
   "language": "python",
   "name": "python3"
  },
  "language_info": {
   "codemirror_mode": {
    "name": "ipython",
    "version": 3
   },
   "file_extension": ".py",
   "mimetype": "text/x-python",
   "name": "python",
   "nbconvert_exporter": "python",
   "pygments_lexer": "ipython3",
   "version": "3.8.10"
  }
 },
 "nbformat": 4,
 "nbformat_minor": 2
}
