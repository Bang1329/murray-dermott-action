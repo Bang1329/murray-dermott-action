{
 "cells": [
  {
   "cell_type": "markdown",
   "id": "970c1c19",
   "metadata": {},
   "source": [
    "# **Chapter 7. Secular Perturbations**"
   ]
  },
  {
   "cell_type": "markdown",
   "id": "a564a121",
   "metadata": {},
   "source": [
    "## **Action by Daniel Niño-Villegas, University of Antioquia**"
   ]
  },
  {
   "cell_type": "markdown",
   "id": "68667e91",
   "metadata": {},
   "source": [
    "In this notebook we will present part of the theoretical background of the chapter devoted to *Secular Perturbations* and some mathematical and numerical results which are interested for the theory.\n",
    "\n",
    "For details on the theory please refer directly to the book:\n",
    "\n",
    "> Murray, C. D., & Dermott, S. F. (1999). Solar system dynamics. Cambridge university press."
   ]
  },
  {
   "cell_type": "markdown",
   "id": "0cb4e18d",
   "metadata": {},
   "source": [
    "## Preliminaries"
   ]
  },
  {
   "cell_type": "code",
   "execution_count": null,
   "id": "1ed56603",
   "metadata": {},
   "outputs": [],
   "source": []
  },
  {
   "cell_type": "markdown",
   "id": "f4a1f68c",
   "metadata": {},
   "source": [
    "### Prerrequisites"
   ]
  },
  {
   "cell_type": "code",
   "execution_count": null,
   "id": "7d321b94",
   "metadata": {},
   "outputs": [],
   "source": []
  },
  {
   "cell_type": "markdown",
   "id": "ccaf91c1",
   "metadata": {},
   "source": [
    "### Other libraries"
   ]
  },
  {
   "cell_type": "code",
   "execution_count": null,
   "id": "8a9a3e44",
   "metadata": {},
   "outputs": [],
   "source": []
  },
  {
   "cell_type": "markdown",
   "id": "e6dceb1d",
   "metadata": {},
   "source": [
    "## **Section 6.9.1    Secular Terms**"
   ]
  },
  {
   "cell_type": "markdown",
   "id": "834b86a2",
   "metadata": {},
   "source": []
  }
 ],
 "metadata": {
  "kernelspec": {
   "display_name": "Python 3 (ipykernel)",
   "language": "python",
   "name": "python3"
  },
  "language_info": {
   "codemirror_mode": {
    "name": "ipython",
    "version": 3
   },
   "file_extension": ".py",
   "mimetype": "text/x-python",
   "name": "python",
   "nbconvert_exporter": "python",
   "pygments_lexer": "ipython3",
   "version": "3.9.7"
  }
 },
 "nbformat": 4,
 "nbformat_minor": 5
}
