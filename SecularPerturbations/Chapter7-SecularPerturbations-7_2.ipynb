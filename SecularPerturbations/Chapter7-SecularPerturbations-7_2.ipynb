{
 "cells": [
  {
   "cell_type": "markdown",
   "id": "609e05c6",
   "metadata": {},
   "source": [
    "# **Chapter 7. Secular Perturbations**"
   ]
  },
  {
   "cell_type": "markdown",
   "id": "3e450eaf",
   "metadata": {},
   "source": [
    "## **Action by Daniel Niño-Villegas, University of Antioquia**"
   ]
  },
  {
   "cell_type": "markdown",
   "id": "cc8fc751",
   "metadata": {},
   "source": [
    "In this notebook we will present part of the theoretical background of the chapter devoted to *Secular Perturbations* and some mathematical and numerical results which are interested for the theory.\n",
    "\n",
    "For details on the theory please refer directly to the book:\n",
    "\n",
    "> Murray, C. D., & Dermott, S. F. (1999). Solar system dynamics. Cambridge university press."
   ]
  },
  {
   "cell_type": "markdown",
   "id": "b03bd820",
   "metadata": {},
   "source": [
    "## Preliminaries"
   ]
  },
  {
   "cell_type": "markdown",
   "id": "a34273ed",
   "metadata": {},
   "source": [
    "### Prerrequisites"
   ]
  },
  {
   "cell_type": "code",
   "execution_count": null,
   "id": "cbb8df9f",
   "metadata": {},
   "outputs": [],
   "source": [
    "#!pip install -q rebound\n",
    "#!pip install -q Fraction\n",
    "#!pip install -q ipywidgets"
   ]
  },
  {
   "cell_type": "markdown",
   "id": "ccc352e6",
   "metadata": {},
   "source": [
    "### Other libraries"
   ]
  },
  {
   "cell_type": "code",
   "execution_count": null,
   "id": "c0b5be98",
   "metadata": {},
   "outputs": [],
   "source": [
    "#Global packages\n",
    "import numpy as np\n",
    "import matplotlib.pyplot as plt\n",
    "import rebound as rb\n",
    "import celluloid as cell\n",
    "\n",
    "#Specific modules and routines\n",
    "from tqdm import tqdm\n",
    "from scipy.integrate import quad\n",
    "from scipy.signal import savgol_filter\n",
    "from ipywidgets import interact, widgets, fixed\n",
    "from fractions import Fraction\n",
    "from IPython.core.display import HTML"
   ]
  },
  {
   "cell_type": "markdown",
   "id": "4cb5cf42",
   "metadata": {},
   "source": [
    "### Useful constants"
   ]
  },
  {
   "cell_type": "code",
   "execution_count": null,
   "id": "d10abe58",
   "metadata": {},
   "outputs": [],
   "source": [
    "deg = np.pi/180\n",
    "rad = 1/deg"
   ]
  },
  {
   "cell_type": "markdown",
   "id": "20ef84c1",
   "metadata": {},
   "source": [
    "### Plots aesthetics"
   ]
  },
  {
   "cell_type": "code",
   "execution_count": null,
   "id": "9e10aaa7",
   "metadata": {},
   "outputs": [],
   "source": [
    "%matplotlib nbagg\n",
    "#If you run this in Colab use\n",
    "#%matplotlib inline\n",
    "\n",
    "plt.rcParams['text.usetex'] = True\n",
    "#If you don't have installed latex\n",
    "#font for matplotlib, set this parameter\n",
    "#to false. If you run this in Colab, set\n",
    "#this parameter to false."
   ]
  },
  {
   "cell_type": "markdown",
   "id": "488b289c",
   "metadata": {},
   "source": [
    "## **Section 7.2 Secular Perturbations for Two Planets**"
   ]
  },
  {
   "cell_type": "markdown",
   "id": "1540fe51",
   "metadata": {},
   "source": [
    "### Experiment: Laplace coefficients study (7.1)"
   ]
  },
  {
   "cell_type": "markdown",
   "id": "a20115ed",
   "metadata": {},
   "source": [
    "In the previous section we introduced the computation of the Laplace coefficients and their derivatives (up to second order), who are completely essential in the development of perturbation theory. This functions are until now completely \"dark\" in a sense that we don't know how they behave or even how their derivatives behave. So, we´ll now show an interactive plot of $b_{s}^{(j)}(\\alpha)$, $D \\, b_{s}^{(j)}(\\alpha)$ and $D^2 \\, b_{s}^{(j)}(\\alpha)$ where you can modify the parameters $s$ and $j$ to see how the coefficents change:"
   ]
  },
  {
   "cell_type": "code",
   "execution_count": null,
   "id": "e480b09e",
   "metadata": {},
   "outputs": [],
   "source": [
    "def blap_plot(s,j):\n",
    "    a = np.linspace(0, 0.9, 1000)\n",
    "    b = np.array([blap(x, s, j) for x in a])\n",
    "    db = np.array([blap_dot(x, s, j) for x in a])\n",
    "    ddb = np.array([blap_ddot(x, s, j) for x in a])\n",
    "    \n",
    "    j = int(j)\n",
    "    s = str(Fraction(s).numerator) + '/' + str(Fraction(s).denominator)\n",
    "    ss = fr'$s = {s}$' + r'$\\hspace{20 pt}$' fr'$j = {j}$'\n",
    "    \n",
    "    plt.close()\n",
    "    fig, axs = plt.subplots(3, 1, figsize=(4.5,7), sharex=True, dpi=110)\n",
    "    axs[0].set_title(ss, fontsize=15)\n",
    "    axs[0].set_ylabel(r'$b_{s}^{(j)}(\\alpha)$', fontsize=17)\n",
    "    axs[0].plot(a, b, 'k-')\n",
    "    axs[1].set_xlabel(r'$\\alpha$', fontsize=15)\n",
    "    axs[1].set_ylabel(r'$D \\, b_{s}^{(j)}(\\alpha)$', fontsize=15)\n",
    "    axs[1].plot(a, db, 'k-')\n",
    "    axs[2].set_xlabel(r'$\\alpha$', fontsize=15)\n",
    "    axs[2].set_ylabel(r'$D^2 \\, b_{s}^{(j)}(\\alpha)$', fontsize=15)\n",
    "    axs[2].plot(a, ddb, 'k-')\n",
    "    fig.tight_layout()\n",
    "    plt.subplots_adjust(hspace=0)\n",
    "    plt.show()"
   ]
  },
  {
   "cell_type": "code",
   "execution_count": null,
   "id": "53d2dc7b",
   "metadata": {},
   "outputs": [],
   "source": [
    "opciones = dict(continuous_update=False)\n",
    "interact(blap_plot,\n",
    "         s = widgets.FloatSlider(min=0.5, max=5, step=0.5, value=0.5, **opciones),\n",
    "         j = widgets.FloatSlider(min=0, max=5, step=1, value=0, **opciones))"
   ]
  },
  {
   "cell_type": "markdown",
   "id": "e627eb77",
   "metadata": {},
   "source": [
    "An important result of the previous plots is that the Laplace coefficients diverge rapidly near $\\alpha = 1$, and so their derivatives. You can also check that if you increase the value of the $s$ parameter, the coefficient is virtually cero for a large number of $\\alpha$ values, and diverge much quickly near $\\alpha=1$. Be free to combine dfferent parameter values to check all of this for yourself."
   ]
  },
  {
   "cell_type": "markdown",
   "id": "cf78d705",
   "metadata": {},
   "source": [
    "### Experiment: excentricity and inclination vectors (7.2)"
   ]
  },
  {
   "cell_type": "markdown",
   "id": "2d8ae63c",
   "metadata": {},
   "source": [
    "Initial conditions:"
   ]
  },
  {
   "cell_type": "code",
   "execution_count": null,
   "id": "d5833759",
   "metadata": {},
   "outputs": [],
   "source": [
    "#Partticle #1\n",
    "a1 = 2\n",
    "e1 = 0.02\n",
    "pomega1 = 10*deg\n",
    "\n",
    "#Particle #2\n",
    "a2 = 3\n",
    "e2 = 0.08\n",
    "pomega2 = 250*deg\n",
    "\n",
    "#Smulation t=0\n",
    "sim = rb.Simulation()\n",
    "sim.units = ('au', 'msun', 'yr')\n",
    "sim.add(m=1, hash='Sun')\n",
    "sim.add(m=1e-4, a=a1, e=e1, pomega=pomega1, hash='Particle #1')\n",
    "sim.add(m=1e-4, a=a2, e=e2, pomega=pomega2, hash='Particle #2')\n",
    "#sim.save('tmp/system.bin')"
   ]
  },
  {
   "cell_type": "markdown",
   "id": "340f00f3",
   "metadata": {},
   "source": [
    "Orbit plot:"
   ]
  },
  {
   "cell_type": "code",
   "execution_count": null,
   "id": "f84a7bd2",
   "metadata": {},
   "outputs": [],
   "source": [
    "#Orbits plot\n",
    "fig, ax = rb.OrbitPlot(sim, unitlabel='[AU]', orbit_type='solid', lw=1.5, color=True)\n",
    "fig.set_dpi(100)\n",
    "fig.tight_layout()\n",
    "plt.show()"
   ]
  },
  {
   "cell_type": "markdown",
   "id": "984e10dd",
   "metadata": {},
   "source": [
    "Orbit periods:"
   ]
  },
  {
   "cell_type": "code",
   "execution_count": null,
   "id": "9f175628",
   "metadata": {},
   "outputs": [],
   "source": [
    "#Orbital periods\n",
    "P1 = sim.particles['Particle #1'].P\n",
    "n1 = 2*np.pi/P1\n",
    "P2 = sim.particles['Particle #2'].P\n",
    "n2 = 2*np.pi/P2\n",
    "\n",
    "#Gravitational constant\n",
    "G = sim.G"
   ]
  },
  {
   "cell_type": "markdown",
   "id": "1c104ed9",
   "metadata": {},
   "source": [
    "Integration parameters:"
   ]
  },
  {
   "cell_type": "code",
   "execution_count": null,
   "id": "6d0aa151",
   "metadata": {},
   "outputs": [],
   "source": [
    "#Integration parameters\n",
    "sim.dt = P1/100\n",
    "Nt = 1000\n",
    "ts = np.linspace(0, 1000*P2, Nt)"
   ]
  },
  {
   "cell_type": "markdown",
   "id": "80eec927",
   "metadata": {},
   "source": [
    "Integration:"
   ]
  },
  {
   "cell_type": "code",
   "execution_count": null,
   "id": "e08f30fa",
   "metadata": {},
   "outputs": [],
   "source": [
    "#Integration\n",
    "Es = np.zeros((Nt,4))\n",
    "for i,t in enumerate(tqdm(ts, position=0, leave=True)):\n",
    "    sim.integrate(t)\n",
    "    sim.move_to_hel()\n",
    "    orbits = sim.calculate_orbits()\n",
    "    Es[i] = [orbits[0].e,\n",
    "             np.mod(orbits[0].pomega,2*np.pi),\n",
    "             orbits[1].e,\n",
    "             np.mod(orbits[1].pomega,2*np.pi)]"
   ]
  },
  {
   "cell_type": "code",
   "execution_count": null,
   "id": "f762e738",
   "metadata": {},
   "outputs": [],
   "source": [
    "def vec_plot(e1, e2, pomega1, pomega2, i, s=1.1):\n",
    "    i = int(i)\n",
    "    \n",
    "    hvec = np.zeros(2)\n",
    "    kvec = np.zeros(2)\n",
    "    \n",
    "    hvec[0] = e1[i]*np.sin(pomega1[i])\n",
    "    hvec[1] = e2[i]*np.sin(pomega2[i])\n",
    "    \n",
    "    kvec[0] = e1[i]*np.cos(pomega1[i])\n",
    "    kvec[1] = e2[i]*np.cos(pomega2[i])\n",
    "    \n",
    "    h = np.sqrt(hvec.dot(hvec))\n",
    "    k = np.sqrt(kvec.dot(kvec))\n",
    "    L = max([h,k])\n",
    "    \n",
    "    hvec = np.array([hvec])/h\n",
    "    kvec = np.array([kvec])/k\n",
    "    \n",
    "    origin = np.array([[0,0],[0,0]])\n",
    "    \n",
    "    plt.close()\n",
    "    fig = plt.figure(dpi=110, figsize=(6,6))\n",
    "    plt.xlim(-s*L,s*L)\n",
    "    plt.ylim(-s*L,s*L)\n",
    "    plt.plot([-s*L,s*L],[0,0], 'k-')\n",
    "    plt.plot([0,0], [-s*L,s*L], 'k-')\n",
    "    plt.quiver(*origin, hvec[:,0], hvec[:,1], scale_units='x', scale=1/h, color='k', label=r'$\\vec{h}$')\n",
    "    plt.quiver(*origin, kvec[:,0], kvec[:,1], scale_units='x', scale=1/k, color='r', label=r'$\\vec{k}$')\n",
    "    plt.legend(fontsize=14, loc=1)\n",
    "    plt.show()\n",
    "    \n",
    "opciones = dict(continuous_update=False)\n",
    "interact(vec_plot,\n",
    "         e1 = fixed(Es[:,0]),\n",
    "         e2 = fixed(Es[:,2]),\n",
    "         pomega1 = fixed(Es[:,1]),\n",
    "         pomega2 = fixed(Es[:,3]),\n",
    "         i = widgets.FloatSlider(min=0, max=Nt-1, step=1, value=0, **opciones),\n",
    "         s = fixed(1.1))"
   ]
  },
  {
   "cell_type": "code",
   "execution_count": null,
   "id": "a71b6138",
   "metadata": {},
   "outputs": [],
   "source": [
    "plt.ioff()\n",
    "fig, ax = plt.subplots(dpi=110)\n",
    "camera = cell.Camera(fig)\n",
    "\n",
    "n = 2\n",
    "\n",
    "for e1, pomega1, e2, pomega2 in tqdm(zip(Es[::n,0], Es[::n,1], Es[::n,2], Es[::n,3])):\n",
    "    vec_plot(e1, e2, pomega1, pomega2)\n",
    "    camera.snap()\n",
    "    \n",
    "plt.close()\n",
    "plt.ion();"
   ]
  },
  {
   "cell_type": "code",
   "execution_count": null,
   "id": "2459e39a",
   "metadata": {},
   "outputs": [],
   "source": [
    "anim = camera.animate(interval=100)\n",
    "anim.save(\"figs/orbit-animation.mp4\")"
   ]
  }
 ],
 "metadata": {
  "kernelspec": {
   "display_name": "Python 3 (ipykernel)",
   "language": "python",
   "name": "python3"
  },
  "language_info": {
   "codemirror_mode": {
    "name": "ipython",
    "version": 3
   },
   "file_extension": ".py",
   "mimetype": "text/x-python",
   "name": "python",
   "nbconvert_exporter": "python",
   "pygments_lexer": "ipython3",
   "version": "3.9.7"
  }
 },
 "nbformat": 4,
 "nbformat_minor": 5
}
