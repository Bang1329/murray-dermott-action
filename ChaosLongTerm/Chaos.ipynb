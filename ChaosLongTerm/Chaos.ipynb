{
 "cells": [
  {
   "cell_type": "markdown",
   "metadata": {},
   "source": [
    "# Chapter 9. Chaos and Long Term Evolution\n",
    "## Action by Santiago Herrera-Guzmán, University of Antioquia"
   ]
  },
  {
   "cell_type": "markdown",
   "metadata": {},
   "source": [
    "In the following notebook we are going to study how the phenomenom called Chaos, influence complex systems as the 3 restricted body problem and see how sensible is the evolution of the system to the initial conditions. Then we will see why is important to take a look to chaotic systems because ...(aquí pondré otras cosas que aún no entiendo pero sé que son geniales sobre el Caos ajaja).\n",
    "\n",
    "We will describe each equation, replicate the graphs and see some real life examples."
   ]
  },
  {
   "cell_type": "markdown",
   "metadata": {},
   "source": [
    "For details on the theory please refer directly to the book:\n",
    "\n",
    ">Murray, C. D., & Dermott, S. F. (1999). Solar system dynamics. Cambridge university press.\n"
   ]
  }
 ],
 "metadata": {
  "kernelspec": {
   "display_name": "Python 3",
   "language": "python",
   "name": "python3"
  },
  "language_info": {
   "codemirror_mode": {
    "name": "ipython",
    "version": 3
   },
   "file_extension": ".py",
   "mimetype": "text/x-python",
   "name": "python",
   "nbconvert_exporter": "python",
   "pygments_lexer": "ipython3",
   "version": "3.7.6"
  }
 },
 "nbformat": 4,
 "nbformat_minor": 4
}
