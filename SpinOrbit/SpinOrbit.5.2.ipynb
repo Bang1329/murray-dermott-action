{
 "cells": [
  {
   "cell_type": "markdown",
   "id": "a1f5afce",
   "metadata": {},
   "source": [
    "<style>\n",
    "    /* Style for the h1 tag */\n",
    "    h1 {\n",
    "        font-size: 36px;\n",
    "        font-weight: bold;\n",
    "        text-align: center;\n",
    "    }\n",
    "\n",
    "    /* Style for the h2 tag */\n",
    "    h2 {\n",
    "        font-size: 24px;\n",
    "        font-style: italic;\n",
    "        text-align: center;\n",
    "        margin-top: 10px;\n",
    "        margin-bottom: 20px;\n",
    "    }\n",
    "\n",
    "    /* Style for the p tag */\n",
    "    p {\n",
    "        font-size: 18px;\n",
    "        line-height: 1.5;\n",
    "        text-align: justify;\n",
    "        margin: 0 auto;\n",
    "        max-width: 800px;\n",
    "    }\n",
    "\n",
    "    /* Style for the blockquote tag */\n",
    "    blockquote {\n",
    "        font-size: 16px;\n",
    "        font-style: italic;\n",
    "        text-align: center;\n",
    "        margin-top: 20px;\n",
    "    }\n",
    "</style>\n",
    "\n",
    "<h1>Spin-Orbit Coupling</h1>\n",
    "<h2>Action by Leonard A. Gómez-García</h2>\n",
    "<p>In this chapter, we start by further examining the effects of a tidal torque on a satellite’s rotation. For details on the theory please refer directly to the book</p>\n",
    "<blockquote>Murray, C. D., &amp; Dermott, S. F. (1999). Solar system dynamics. Cambridge university press.</blockquote>\n"
   ]
  },
  {
   "cell_type": "code",
   "execution_count": 11,
   "id": "0878c720",
   "metadata": {},
   "outputs": [],
   "source": [
    "!pip install -q celluloid\n",
    "!pip install -q plotly"
   ]
  },
  {
   "cell_type": "code",
   "execution_count": 12,
   "id": "43604c46",
   "metadata": {},
   "outputs": [],
   "source": [
    "#Packages\n",
    "import numpy as np\n",
    "import matplotlib.pyplot as plt\n",
    "import plotly.graph_objects as go\n",
    "\n",
    "#Constants from packages\n",
    "from scipy.constants import G\n",
    "from plotly.subplots import make_subplots\n",
    "from matplotlib import animation, rc\n",
    "from scipy.spatial.transform import Rotation as R\n",
    "from celluloid import Camera\n",
    "from IPython.display import HTML;"
   ]
  },
  {
   "cell_type": "code",
   "execution_count": 2,
   "id": "63a87a6d",
   "metadata": {},
   "outputs": [],
   "source": [
    "rc('animation', html='html5');"
   ]
  },
  {
   "cell_type": "markdown",
   "id": "256d21cb",
   "metadata": {},
   "source": [
    "<style>\n",
    "    \n",
    "    /* Style for the h2 tag */\n",
    "    h2 {\n",
    "        font-size: 24px;\n",
    "        font-style: italic;\n",
    "        text-align: center;\n",
    "        margin-top: 10px;\n",
    "        margin-bottom: 20px;\n",
    "    }\n",
    "\n",
    "        /* Style for the p tag */\n",
    "    p {\n",
    "        font-size: 18px;\n",
    "        line-height: 1.5;\n",
    "        text-align: justify;\n",
    "        margin: 0 auto;\n",
    "        max-width: 800px;\n",
    "    }\n",
    "</style>\n",
    "\n",
    "<h2>5.2 Tidal Despinning</h2>\n",
    "<p>For small values of the satellite’s eccentricity e, the angle <span>&phi;</span> (Shown in book's Figure 5.1b) is given by:</p>\n",
    "<div>\n",
    "  <p>\n",
    "    $$ \\phi \\approx 2e \\sin{nt}. $$\n",
    "  </p>\n",
    "  <img src=\"./src/gallery/sect_5.2.png\" alt=\"sect_5.2.png\" style=\"width: 35%;\">\n",
    "  <p>The tidal torque acting to change the spin of the satellite is:</p>\n",
    "  <p>\n",
    "    $$ N_{s} = -D \\left( \\frac{a}{r} \\right)^{6}sign{(\\dot{\\eta}-\\dot{\\phi})} $$\n",
    "  </p>\n",
    "  <p>where</p>\n",
    "  <p>\n",
    "    $$ D = \\frac{3}{2} \\frac{k_{2}}{Q_{s}} \\frac{n_{4}}{\\mathcal{G}} R_{s}^{5} $$\n",
    "  </p>\n",
    "  <p>and is a positive constant, and Q<sub>s</sub>, k<sub>2</sub>, and &tau; (y) are the tidal dissipation function, Love number, and radius of the satellite, respectively. A positive torque will act to increase the spin of the satellite, &dot;&eta;.</p>\n",
    "</div>\n"
   ]
  },
  {
   "cell_type": "markdown",
   "id": "3934758c",
   "metadata": {},
   "source": [
    "| Body | Type | Perturber | $k_2$ | $Q$ | $\\tau(\\mathrm{y})$ |\n",
    "| :--- | :--- | :--- | :--- | ---: | :--- |\n",
    "| Mercury | rocky | Sun | $(0.1)$ | $(100)$ | $4 \\times 10^9$ |\n",
    "| Venus | rocky | Sun | $0.25$ | $(100)$ | $6 \\times 10^{10}$ |\n",
    "| Earth | rocky | Sun | $0.299$ | $ 12 $ | $5 \\times 10^{10}$ |\n",
    "| Mars | rocky | Sun | $0.14$ | $ 86 $ | $7 \\times 10^{12}$ |\n",
    "| Earth | rocky | Moon | $0.299$ | $ 12 $ | $1 \\times 10^{10}$ |\n",
    "| Moon | rocky | Earth | $0.030$ | $ 27 $ | $2 \\times 10^7$ |\n",
    "| Phobos | rocky | Mars | $(0.0000004)$ | $(100)$ | $3 \\times 10^5$ |\n",
    "| Io | rocky | Jupiter | $(0.03)$ | $(100)$ | $2 \\times 10^3$ |\n",
    "| Europa | rocky | Jupiter | $(0.02)$ | $(100)$ | $4 \\times 10^4$ |\n",
    "| Hyperion | icy | Saturn | $(0.0003)$ | $(100)$ | $1 \\times 10^9$ |\n",
    "| Miranda | icy | Uranus | $(0.0009)$ | $(100)$ | $8 \\times 10^3$ |\n",
    "| Ariel | icy | Uranus | $(0.10)$ | $(100)$ | $1 \\times 10^4$ |\n",
    "| Triton | icy | Neptune | $(0.086)$ | $(100)$ | $4 \\times 10^4$ |\n",
    "| Charon | icy | Pluto | $(0.006)$ | $(100)$ | $6 \\times 10^5$ |\n",
    "| Pluto | icy | Charon | $(0.06)$ | $(100)$ | $1 \\times 10^7$ |"
   ]
  },
  {
   "cell_type": "markdown",
   "id": "8d894619",
   "metadata": {},
   "source": [
    "**To improve:** Instead of defining values, create a table with the parameters above including radius (maybe recall SPICE kernels or using API?) and load it in the code."
   ]
  },
  {
   "cell_type": "code",
   "execution_count": 12,
   "id": "7efb041b",
   "metadata": {
    "scrolled": true
   },
   "outputs": [
    {
     "data": {
      "image/png": "[encoded data removed]",
      "text/plain": [
       "<Figure size 864x288 with 2 Axes>"
      ]
     },
     "metadata": {
      "needs_background": "light"
     },
     "output_type": "display_data"
    }
   ],
   "source": [
    "# Time and true anomaly arrays\n",
    "t = np.linspace(0, 27.3, 200)\n",
    "f = np.linspace(0, 2*np.pi, 200)\n",
    "\n",
    "# Values (approximated)\n",
    "k2 = 0.030\n",
    "Qs = 27\n",
    "Rs = 1.7e6/6.3e6\n",
    "a = 380e6\n",
    "ecc = 0.005\n",
    "r = a*(1 - ecc**2)/(1 + ecc*np.cos(f))\n",
    "n = 2*np.pi/27.3 \n",
    "eta_dot = n\n",
    "e = 1\n",
    "phi_dot = 2*e*n*np.cos(n*t)\n",
    "sign_reversal = eta_dot - phi_dot\n",
    "\n",
    "# Computing the Tidal Torque\n",
    "D = 3/2*k2/Qs*n**4/G*Rs**5\n",
    "Ns = -D*(a/r)**6*np.sign(sign_reversal)\n",
    "delta = 0\n",
    "Mean_Ns = 2*D/np.pi*(4*ecc*np.cos(delta) - delta)\n",
    "\n",
    "# Create a figure with two subplots\n",
    "fig, ax = plt.subplots(1, 2, figsize=(12,4))\n",
    "fig.suptitle('Tidal Torque sign reversal and Tidal Torque applied to the Moon', fontsize=16)\n",
    "ax[0].plot(t, sign_reversal)\n",
    "ax[0].axhline(0.0, color='red', \n",
    "               label='Tidal Torque sign reversal')\n",
    "ax[0].set(xlabel='t [days]', \n",
    "           ylabel='$\\dot{\\eta}-\\dot{\\phi}$ [rad/day]')\n",
    "ax[0].legend()\n",
    "\n",
    "#Plot the Tidal torque function\n",
    "ax[1].plot(t, Ns)\n",
    "ax[1].set(xlabel='t [days]', \n",
    "           ylabel='$N_s$')\n",
    "ax[1].axhline(Mean_Ns, color='red', \n",
    "               label='Mean Tidal Torque')\n",
    "ax[1].legend();"
   ]
  },
  {
   "cell_type": "markdown",
   "id": "0ba3729d",
   "metadata": {},
   "source": [
    "<blockquote><b>NOTE:</b> The next code shows an interactive version of the previous plot. If you want to visualize it then you must have to run the notebook due the lack of Plotly previewing that GitHub has.</blockquote>"
   ]
  },
  {
   "cell_type": "code",
   "execution_count": 14,
   "id": "8d523c25",
   "metadata": {},
   "outputs": [
    {
     "data": {
      "application/vnd.plotly.v1+json": {
       "config": {
        "plotlyServerURL": "https://plot.ly"
       },
       "data": [
        {
         "line": {
          "color": "blue"
         },
         "name": "eta_dot - phi_dot",
         "type": "scatter",
         "x": [
          0,
          0.13718592964824122,
          0.27437185929648245,
          0.41155778894472367,
          0.5487437185929649,
          0.6859296482412061,
          0.8231155778894473,
          0.9603015075376886,
          1.0974874371859298,
          1.234673366834171,
          1.3718592964824121,
          1.5090452261306535,
          1.6462311557788947,
          1.7834170854271358,
          1.9206030150753772,
          2.0577889447236184,
          2.1949748743718596,
          2.3321608040201007,
          2.469346733668342,
          2.606532663316583,
          2.7437185929648242,
          2.880904522613066,
          3.018090452261307,
          3.155276381909548,
          3.2924623115577893,
          3.4296482412060305,
          3.5668341708542717,
          3.704020100502513,
          3.8412060301507545,
          3.9783919597989956,
          4.115577889447237,
          4.2527638190954775,
          4.389949748743719,
          4.527135678391961,
          4.6643216080402015,
          4.801507537688443,
          4.938693467336684,
          5.075879396984925,
          5.213065326633166,
          5.350251256281408,
          5.4874371859296485,
          5.62462311557789,
          5.761809045226132,
          5.898994974874372,
          6.036180904522614,
          6.173366834170855,
          6.310552763819096,
          6.447738693467337,
          6.584924623115579,
          6.72211055276382,
          6.859296482412061,
          6.996482412060303,
          7.133668341708543,
          7.270854271356785,
          7.408040201005026,
          7.545226130653267,
          7.682412060301509,
          7.81959798994975,
          7.956783919597991,
          8.093969849246232,
          8.231155778894474,
          8.368341708542715,
          8.505527638190955,
          8.642713567839197,
          8.779899497487438,
          8.91708542713568,
          9.054271356783921,
          9.191457286432161,
          9.328643216080403,
          9.465829145728645,
          9.603015075376886,
          9.740201005025126,
          9.877386934673368,
          10.01457286432161,
          10.15175879396985,
          10.288944723618092,
          10.426130653266332,
          10.563316582914574,
          10.700502512562815,
          10.837688442211057,
          10.974874371859297,
          11.112060301507539,
          11.24924623115578,
          11.386432160804022,
          11.523618090452263,
          11.660804020100503,
          11.797989949748745,
          11.935175879396986,
          12.072361809045228,
          12.20954773869347,
          12.34673366834171,
          12.483919597989951,
          12.621105527638193,
          12.758291457286434,
          12.895477386934674,
          13.032663316582916,
          13.169849246231157,
          13.307035175879399,
          13.44422110552764,
          13.58140703517588,
          13.718592964824122,
          13.855778894472364,
          13.992964824120605,
          14.130150753768845,
          14.267336683417087,
          14.404522613065328,
          14.54170854271357,
          14.678894472361812,
          14.816080402010051,
          14.953266331658293,
          15.090452261306535,
          15.227638190954776,
          15.364824120603018,
          15.502010050251258,
          15.6391959798995,
          15.776381909547741,
          15.913567839195983,
          16.050753768844224,
          16.187939698492464,
          16.325125628140704,
          16.462311557788947,
          16.599497487437187,
          16.73668341708543,
          16.87386934673367,
          17.01105527638191,
          17.148241206030153,
          17.285427135678393,
          17.422613065326637,
          17.559798994974877,
          17.696984924623116,
          17.83417085427136,
          17.9713567839196,
          18.108542713567843,
          18.245728643216083,
          18.382914572864323,
          18.520100502512566,
          18.657286432160806,
          18.79447236180905,
          18.93165829145729,
          19.06884422110553,
          19.206030150753772,
          19.343216080402012,
          19.480402010050252,
          19.617587939698495,
          19.754773869346735,
          19.89195979899498,
          20.02914572864322,
          20.16633165829146,
          20.3035175879397,
          20.44070351758794,
          20.577889447236185,
          20.715075376884425,
          20.852261306532665,
          20.989447236180908,
          21.126633165829148,
          21.26381909547739,
          21.40100502512563,
          21.53819095477387,
          21.675376884422114,
          21.812562814070354,
          21.949748743718594,
          22.086934673366837,
          22.224120603015077,
          22.36130653266332,
          22.49849246231156,
          22.6356783919598,
          22.772864321608044,
          22.910050251256283,
          23.047236180904527,
          23.184422110552767,
          23.321608040201006,
          23.45879396984925,
          23.59597989949749,
          23.733165829145733,
          23.870351758793973,
          24.007537688442213,
          24.144723618090456,
          24.281909547738696,
          24.41909547738694,
          24.55628140703518,
          24.69346733668342,
          24.830653266331662,
          24.967839195979902,
          25.105025125628142,
          25.242211055276385,
          25.379396984924625,
          25.51658291457287,
          25.65376884422111,
          25.79095477386935,
          25.92814070351759,
          26.06532663316583,
          26.202512562814075,
          26.339698492462315,
          26.476884422110555,
          26.614070351758798,
          26.751256281407038,
          26.88844221105528,
          27.02562814070352,
          27.16281407035176,
          27.3
         ],
         "xaxis": "x",
         "y": [
          -0.2301533079552962,
          -0.22992388613263226,
          -0.22923584935730246,
          -0.22808988347932774,
          -0.22648713082241728,
          -0.22442918904527576,
          -0.2219181095490218,
          -0.2189563954323075,
          -0.21554699899617463,
          -0.21169331880113723,
          -0.2073991962794221,
          -0.20266891190574599,
          -0.19750718093044523,
          -0.1919191486792114,
          -0.18591038542411925,
          -0.1794868808310578,
          -0.1726550379891017,
          -0.1654216670277724,
          -0.1577939783285528,
          -0.1497795753374227,
          -0.14138644698557817,
          -0.13262295972589105,
          -0.12349784919304713,
          -0.11402021149567532,
          -0.1041994941491487,
          -0.09404548665809576,
          -0.08356831075800952,
          -0.07277841032568111,
          -0.0616865409685165,
          -0.05030375930311298,
          -0.03864141193378351,
          -0.026711124142014486,
          -0.014524788298132363,
          -0.002094552006730699,
          0.010567194002326863,
          0.02344782822525532,
          0.03653451096573754,
          0.049814197133813354,
          0.06327364924950821,
          0.07689945063824183,
          0.09067801880486073,
          0.10459561897296499,
          0.11863837777603181,
          0.1327922970866892,
          0.1470432679703539,
          0.1613770847493237,
          0.17577945916330678,
          0.1902360346122692,
          0.20473240046740704,
          0.21925410643597387,
          0.2337866769656471,
          0.24831562567407356,
          0.2628264697892102,
          0.27730474458606624,
          0.29173601780545566,
          0.3061059040403872,
          0.32040007907575024,
          0.3346042941670051,
          0.3487043902436404,
          0.36268631202324286,
          0.3765361220221088,
          0.3902400144484304,
          0.40378432896420935,
          0.4171555643021796,
          0.4303403917241634,
          0.44332566830744713,
          0.45609845004593336,
          0.4686460047530072,
          0.4809558247532569,
          0.49301563935039644,
          0.5048134270589627,
          0.5163374275875936,
          0.5275761535619421,
          0.5385184019755413,
          0.5491532653572044,
          0.5594701426438289,
          0.5694587497477678,
          0.5791091298082311,
          0.5884116631165015,
          0.5973570767050691,
          0.6059364535911268,
          0.6141412416652137,
          0.6219632622161422,
          0.6293947180837167,
          0.636428201431112,
          0.6430567011291652,
          0.6492736097452234,
          0.6550727301295747,
          0.6604482815929027,
          0.6653949056686033,
          0.66990767145422,
          0.6739820805266761,
          0.6776140714263991,
          0.6808000237058729,
          0.6835367615385783,
          0.6858215568847263,
          0.6876521322106266,
          0.6890266627589838,
          0.6899437783678545,
          0.6904025648364545,
          0.6904025648364545,
          0.6899437783678544,
          0.6890266627589838,
          0.6876521322106266,
          0.6858215568847263,
          0.6835367615385783,
          0.6808000237058729,
          0.677614071426399,
          0.6739820805266761,
          0.66990767145422,
          0.665394905668603,
          0.6604482815929025,
          0.6550727301295746,
          0.6492736097452234,
          0.6430567011291652,
          0.6364282014311118,
          0.6293947180837167,
          0.621963262216142,
          0.6141412416652134,
          0.6059364535911269,
          0.5973570767050689,
          0.5884116631165015,
          0.5791091298082307,
          0.5694587497477676,
          0.5594701426438287,
          0.549153265357204,
          0.5385184019755413,
          0.5275761535619419,
          0.5163374275875932,
          0.5048134270589624,
          0.49301563935039605,
          0.4809558247532568,
          0.468646004753007,
          0.4560984500459329,
          0.44332566830744685,
          0.43034039172416294,
          0.41715556430217954,
          0.40378432896420907,
          0.3902400144484298,
          0.3765361220221085,
          0.3626863120232425,
          0.3487043902436402,
          0.33460429416700477,
          0.32040007907574974,
          0.30610590404038684,
          0.29173601780545527,
          0.2773047445860661,
          0.26282646978920987,
          0.24831562567407306,
          0.23378667696564678,
          0.21925410643597337,
          0.20473240046740684,
          0.1902360346122689,
          0.17577945916330628,
          0.1613770847493235,
          0.14704326797035344,
          0.132792297086689,
          0.11863837777603144,
          0.10459561897296449,
          0.09067801880486054,
          0.07689945063824183,
          0.06327364924950804,
          0.04981419713381299,
          0.036534510965737094,
          0.02344782822525507,
          0.010567194002326863,
          -0.0020945520067308654,
          -0.014524788298132668,
          -0.02671112414201493,
          -0.03864141193378373,
          -0.05030375930311304,
          -0.06168654096851667,
          -0.07277841032568139,
          -0.08356831075800991,
          -0.09404548665809598,
          -0.1041994941491487,
          -0.11402021149567576,
          -0.12349784919304735,
          -0.1326229597258914,
          -0.14138644698557834,
          -0.14977957533742275,
          -0.15779397832855308,
          -0.16542166702777256,
          -0.1726550379891018,
          -0.17948688083105796,
          -0.18591038542411925,
          -0.19191914867921162,
          -0.19750718093044528,
          -0.20266891190574599,
          -0.20739919627942216,
          -0.21169331880113723,
          -0.2155469989961748,
          -0.2189563954323076,
          -0.2219181095490218,
          -0.2244291890452758,
          -0.22648713082241734,
          -0.2280898834793278,
          -0.22923584935730246,
          -0.22992388613263226,
          -0.2301533079552962
         ],
         "yaxis": "y"
        },
        {
         "line": {
          "color": "blue"
         },
         "name": "Ns",
         "type": "scatter",
         "x": [
          0,
          0.13718592964824122,
          0.27437185929648245,
          0.41155778894472367,
          0.5487437185929649,
          0.6859296482412061,
          0.8231155778894473,
          0.9603015075376886,
          1.0974874371859298,
          1.234673366834171,
          1.3718592964824121,
          1.5090452261306535,
          1.6462311557788947,
          1.7834170854271358,
          1.9206030150753772,
          2.0577889447236184,
          2.1949748743718596,
          2.3321608040201007,
          2.469346733668342,
          2.606532663316583,
          2.7437185929648242,
          2.880904522613066,
          3.018090452261307,
          3.155276381909548,
          3.2924623115577893,
          3.4296482412060305,
          3.5668341708542717,
          3.704020100502513,
          3.8412060301507545,
          3.9783919597989956,
          4.115577889447237,
          4.2527638190954775,
          4.389949748743719,
          4.527135678391961,
          4.6643216080402015,
          4.801507537688443,
          4.938693467336684,
          5.075879396984925,
          5.213065326633166,
          5.350251256281408,
          5.4874371859296485,
          5.62462311557789,
          5.761809045226132,
          5.898994974874372,
          6.036180904522614,
          6.173366834170855,
          6.310552763819096,
          6.447738693467337,
          6.584924623115579,
          6.72211055276382,
          6.859296482412061,
          6.996482412060303,
          7.133668341708543,
          7.270854271356785,
          7.408040201005026,
          7.545226130653267,
          7.682412060301509,
          7.81959798994975,
          7.956783919597991,
          8.093969849246232,
          8.231155778894474,
          8.368341708542715,
          8.505527638190955,
          8.642713567839197,
          8.779899497487438,
          8.91708542713568,
          9.054271356783921,
          9.191457286432161,
          9.328643216080403,
          9.465829145728645,
          9.603015075376886,
          9.740201005025126,
          9.877386934673368,
          10.01457286432161,
          10.15175879396985,
          10.288944723618092,
          10.426130653266332,
          10.563316582914574,
          10.700502512562815,
          10.837688442211057,
          10.974874371859297,
          11.112060301507539,
          11.24924623115578,
          11.386432160804022,
          11.523618090452263,
          11.660804020100503,
          11.797989949748745,
          11.935175879396986,
          12.072361809045228,
          12.20954773869347,
          12.34673366834171,
          12.483919597989951,
          12.621105527638193,
          12.758291457286434,
          12.895477386934674,
          13.032663316582916,
          13.169849246231157,
          13.307035175879399,
          13.44422110552764,
          13.58140703517588,
          13.718592964824122,
          13.855778894472364,
          13.992964824120605,
          14.130150753768845,
          14.267336683417087,
          14.404522613065328,
          14.54170854271357,
          14.678894472361812,
          14.816080402010051,
          14.953266331658293,
          15.090452261306535,
          15.227638190954776,
          15.364824120603018,
          15.502010050251258,
          15.6391959798995,
          15.776381909547741,
          15.913567839195983,
          16.050753768844224,
          16.187939698492464,
          16.325125628140704,
          16.462311557788947,
          16.599497487437187,
          16.73668341708543,
          16.87386934673367,
          17.01105527638191,
          17.148241206030153,
          17.285427135678393,
          17.422613065326637,
          17.559798994974877,
          17.696984924623116,
          17.83417085427136,
          17.9713567839196,
          18.108542713567843,
          18.245728643216083,
          18.382914572864323,
          18.520100502512566,
          18.657286432160806,
          18.79447236180905,
          18.93165829145729,
          19.06884422110553,
          19.206030150753772,
          19.343216080402012,
          19.480402010050252,
          19.617587939698495,
          19.754773869346735,
          19.89195979899498,
          20.02914572864322,
          20.16633165829146,
          20.3035175879397,
          20.44070351758794,
          20.577889447236185,
          20.715075376884425,
          20.852261306532665,
          20.989447236180908,
          21.126633165829148,
          21.26381909547739,
          21.40100502512563,
          21.53819095477387,
          21.675376884422114,
          21.812562814070354,
          21.949748743718594,
          22.086934673366837,
          22.224120603015077,
          22.36130653266332,
          22.49849246231156,
          22.6356783919598,
          22.772864321608044,
          22.910050251256283,
          23.047236180904527,
          23.184422110552767,
          23.321608040201006,
          23.45879396984925,
          23.59597989949749,
          23.733165829145733,
          23.870351758793973,
          24.007537688442213,
          24.144723618090456,
          24.281909547738696,
          24.41909547738694,
          24.55628140703518,
          24.69346733668342,
          24.830653266331662,
          24.967839195979902,
          25.105025125628142,
          25.242211055276385,
          25.379396984924625,
          25.51658291457287,
          25.65376884422111,
          25.79095477386935,
          25.92814070351759,
          26.06532663316583,
          26.202512562814075,
          26.339698492462315,
          26.476884422110555,
          26.614070351758798,
          26.751256281407038,
          26.88844221105528,
          27.02562814070352,
          27.16281407035176,
          27.3
         ],
         "xaxis": "x2",
         "y": [
          103.30355955804232,
          103.30202262376731,
          103.29741346725655,
          103.28973702534337,
          103.27900151906239,
          103.26521844312883,
          103.24840255124103,
          103.22857183723063,
          103.2057475120986,
          103.17995397698053,
          103.15121879209181,
          103.11957264171427,
          103.08504929528912,
          103.04768556468879,
          103.00752125775196,
          102.96459912816421,
          102.91896482178163,
          102.87066681949533,
          102.8197563767426,
          102.76628745977564,
          102.71031667880308,
          102.65190321812725,
          102.59110876340142,
          102.52799742613406,
          102.46263566557722,
          102.39509220813345,
          102.32543796441955,
          102.25374594413073,
          102.18009116884923,
          102.10455058294112,
          102.0272029626908,
          101.94812882381973,
          101.86741032753972,
          101.78513118528747,
          -101.70137656229103,
          -101.61623298011497,
          -101.52978821833238,
          -101.44213121547108,
          -101.35335196937477,
          -101.26354143712511,
          -101.172791434665,
          -101.08119453625761,
          -100.98884397392119,
          -100.89583353696752,
          -100.80225747177435,
          -100.70821038191833,
          -100.61378712878681,
          -100.51908273278991,
          -100.42419227528266,
          -100.32921080130906,
          -100.2342332232709,
          -100.13935422562399,
          -100.04466817069483,
          -99.95026900571,
          -99.85625017112524,
          -99.76270451033355,
          -99.6697241808318,
          -99.57740056691406,
          -99.48582419396257,
          -99.39508464439457,
          -99.30527047532618,
          -99.21646913800369,
          -99.1287668990505,
          -99.04224876357517,
          -98.95699840017824,
          -98.87309806789357,
          -98.79062854509434,
          -98.70966906039226,
          -98.63029722555099,
          -98.55258897043421,
          -98.47661848000435,
          -98.40245813338406,
          -98.33017844498967,
          -98.25984800774296,
          -98.19153343836558,
          -98.12529932475663,
          -98.06120817545145,
          -97.99932037116018,
          -97.93969411837733,
          -97.88238540505944,
          -97.82744795835812,
          -97.77493320440112,
          -97.72489023010914,
          -97.67736574703626,
          -97.63240405722189,
          -97.59004702103962,
          -97.5503340270306,
          -97.51330196370654,
          -97.47898519330879,
          -97.44741552750902,
          -97.41862220503953,
          -97.3926318712386,
          -97.36946855949837,
          -97.3491536746052,
          -97.33170597795977,
          -97.3171415746674,
          -97.30547390249068,
          -97.29671372265464,
          -97.29086911249985,
          -97.2879454599765,
          -97.2879454599765,
          -97.29086911249985,
          -97.29671372265464,
          -97.30547390249068,
          -97.3171415746674,
          -97.33170597795977,
          -97.3491536746052,
          -97.36946855949837,
          -97.3926318712386,
          -97.41862220503953,
          -97.44741552750902,
          -97.47898519330879,
          -97.51330196370654,
          -97.5503340270306,
          -97.59004702103962,
          -97.63240405722189,
          -97.67736574703626,
          -97.72489023010914,
          -97.77493320440112,
          -97.82744795835812,
          -97.88238540505944,
          -97.93969411837733,
          -97.99932037116018,
          -98.06120817545145,
          -98.12529932475663,
          -98.19153343836558,
          -98.25984800774296,
          -98.33017844498967,
          -98.40245813338406,
          -98.47661848000435,
          -98.55258897043421,
          -98.63029722555099,
          -98.70966906039226,
          -98.79062854509434,
          -98.87309806789357,
          -98.95699840017824,
          -99.04224876357517,
          -99.1287668990505,
          -99.21646913800369,
          -99.30527047532618,
          -99.39508464439457,
          -99.48582419396257,
          -99.57740056691406,
          -99.6697241808318,
          -99.76270451033355,
          -99.85625017112524,
          -99.95026900571,
          -100.04466817069483,
          -100.13935422562399,
          -100.2342332232709,
          -100.32921080130906,
          -100.42419227528266,
          -100.51908273278991,
          -100.61378712878681,
          -100.70821038191833,
          -100.80225747177435,
          -100.89583353696752,
          -100.98884397392119,
          -101.08119453625761,
          -101.172791434665,
          -101.26354143712511,
          -101.35335196937477,
          -101.44213121547108,
          -101.52978821833238,
          -101.61623298011497,
          -101.70137656229103,
          101.78513118528747,
          101.86741032753972,
          101.94812882381973,
          102.0272029626908,
          102.10455058294112,
          102.18009116884923,
          102.25374594413073,
          102.32543796441955,
          102.39509220813345,
          102.46263566557722,
          102.52799742613406,
          102.59110876340142,
          102.65190321812725,
          102.71031667880308,
          102.76628745977564,
          102.8197563767426,
          102.87066681949533,
          102.91896482178163,
          102.96459912816421,
          103.00752125775196,
          103.04768556468879,
          103.08504929528912,
          103.11957264171427,
          103.15121879209181,
          103.17995397698053,
          103.2057475120986,
          103.22857183723063,
          103.24840255124103,
          103.26521844312883,
          103.27900151906239,
          103.28973702534337,
          103.29741346725655,
          103.30202262376731,
          103.30355955804232
         ],
         "yaxis": "y2"
        }
       ],
       "layout": {
        "annotations": [
         {
          "font": {
           "size": 16
          },
          "showarrow": false,
          "text": "Tidal Torque sign reversal",
          "x": 0.225,
          "xanchor": "center",
          "xref": "paper",
          "y": 1,
          "yanchor": "bottom",
          "yref": "paper"
         },
         {
          "font": {
           "size": 16
          },
          "showarrow": false,
          "text": "Tidal Torque applied to the Moon",
          "x": 0.775,
          "xanchor": "center",
          "xref": "paper",
          "y": 1,
          "yanchor": "bottom",
          "yref": "paper"
         }
        ],
        "height": 400,
        "shapes": [
         {
          "line": {
           "color": "red",
           "width": 2
          },
          "type": "line",
          "x0": 0,
          "x1": 27.3,
          "xref": "x",
          "y0": 0,
          "y1": 0,
          "yref": "y"
         },
         {
          "line": {
           "color": "red",
           "width": 2
          },
          "type": "line",
          "x0": 0,
          "x1": 27.3,
          "xref": "x2",
          "y0": 1.2763326804858393,
          "y1": 1.2763326804858393,
          "yref": "y2"
         }
        ],
        "template": {
         "data": {
          "bar": [
           {
            "error_x": {
             "color": "#2a3f5f"
            },
            "error_y": {
             "color": "#2a3f5f"
            },
            "marker": {
             "line": {
              "color": "#E5ECF6",
              "width": 0.5
             },
             "pattern": {
              "fillmode": "overlay",
              "size": 10,
              "solidity": 0.2
             }
            },
            "type": "bar"
           }
          ],
          "barpolar": [
           {
            "marker": {
             "line": {
              "color": "#E5ECF6",
              "width": 0.5
             },
             "pattern": {
              "fillmode": "overlay",
              "size": 10,
              "solidity": 0.2
             }
            },
            "type": "barpolar"
           }
          ],
          "carpet": [
           {
            "aaxis": {
             "endlinecolor": "#2a3f5f",
             "gridcolor": "white",
             "linecolor": "white",
             "minorgridcolor": "white",
             "startlinecolor": "#2a3f5f"
            },
            "baxis": {
             "endlinecolor": "#2a3f5f",
             "gridcolor": "white",
             "linecolor": "white",
             "minorgridcolor": "white",
             "startlinecolor": "#2a3f5f"
            },
            "type": "carpet"
           }
          ],
          "choropleth": [
           {
            "colorbar": {
             "outlinewidth": 0,
             "ticks": ""
            },
            "type": "choropleth"
           }
          ],
          "contour": [
           {
            "colorbar": {
             "outlinewidth": 0,
             "ticks": ""
            },
            "colorscale": [
             [
              0,
              "#0d0887"
             ],
             [
              0.1111111111111111,
              "#46039f"
             ],
             [
              0.2222222222222222,
              "#7201a8"
             ],
             [
              0.3333333333333333,
              "#9c179e"
             ],
             [
              0.4444444444444444,
              "#bd3786"
             ],
             [
              0.5555555555555556,
              "#d8576b"
             ],
             [
              0.6666666666666666,
              "#ed7953"
             ],
             [
              0.7777777777777778,
              "#fb9f3a"
             ],
             [
              0.8888888888888888,
              "#fdca26"
             ],
             [
              1,
              "#f0f921"
             ]
            ],
            "type": "contour"
           }
          ],
          "contourcarpet": [
           {
            "colorbar": {
             "outlinewidth": 0,
             "ticks": ""
            },
            "type": "contourcarpet"
           }
          ],
          "heatmap": [
           {
            "colorbar": {
             "outlinewidth": 0,
             "ticks": ""
            },
            "colorscale": [
             [
              0,
              "#0d0887"
             ],
             [
              0.1111111111111111,
              "#46039f"
             ],
             [
              0.2222222222222222,
              "#7201a8"
             ],
             [
              0.3333333333333333,
              "#9c179e"
             ],
             [
              0.4444444444444444,
              "#bd3786"
             ],
             [
              0.5555555555555556,
              "#d8576b"
             ],
             [
              0.6666666666666666,
              "#ed7953"
             ],
             [
              0.7777777777777778,
              "#fb9f3a"
             ],
             [
              0.8888888888888888,
              "#fdca26"
             ],
             [
              1,
              "#f0f921"
             ]
            ],
            "type": "heatmap"
           }
          ],
          "heatmapgl": [
           {
            "colorbar": {
             "outlinewidth": 0,
             "ticks": ""
            },
            "colorscale": [
             [
              0,
              "#0d0887"
             ],
             [
              0.1111111111111111,
              "#46039f"
             ],
             [
              0.2222222222222222,
              "#7201a8"
             ],
             [
              0.3333333333333333,
              "#9c179e"
             ],
             [
              0.4444444444444444,
              "#bd3786"
             ],
             [
              0.5555555555555556,
              "#d8576b"
             ],
             [
              0.6666666666666666,
              "#ed7953"
             ],
             [
              0.7777777777777778,
              "#fb9f3a"
             ],
             [
              0.8888888888888888,
              "#fdca26"
             ],
             [
              1,
              "#f0f921"
             ]
            ],
            "type": "heatmapgl"
           }
          ],
          "histogram": [
           {
            "marker": {
             "pattern": {
              "fillmode": "overlay",
              "size": 10,
              "solidity": 0.2
             }
            },
            "type": "histogram"
           }
          ],
          "histogram2d": [
           {
            "colorbar": {
             "outlinewidth": 0,
             "ticks": ""
            },
            "colorscale": [
             [
              0,
              "#0d0887"
             ],
             [
              0.1111111111111111,
              "#46039f"
             ],
             [
              0.2222222222222222,
              "#7201a8"
             ],
             [
              0.3333333333333333,
              "#9c179e"
             ],
             [
              0.4444444444444444,
              "#bd3786"
             ],
             [
              0.5555555555555556,
              "#d8576b"
             ],
             [
              0.6666666666666666,
              "#ed7953"
             ],
             [
              0.7777777777777778,
              "#fb9f3a"
             ],
             [
              0.8888888888888888,
              "#fdca26"
             ],
             [
              1,
              "#f0f921"
             ]
            ],
            "type": "histogram2d"
           }
          ],
          "histogram2dcontour": [
           {
            "colorbar": {
             "outlinewidth": 0,
             "ticks": ""
            },
            "colorscale": [
             [
              0,
              "#0d0887"
             ],
             [
              0.1111111111111111,
              "#46039f"
             ],
             [
              0.2222222222222222,
              "#7201a8"
             ],
             [
              0.3333333333333333,
              "#9c179e"
             ],
             [
              0.4444444444444444,
              "#bd3786"
             ],
             [
              0.5555555555555556,
              "#d8576b"
             ],
             [
              0.6666666666666666,
              "#ed7953"
             ],
             [
              0.7777777777777778,
              "#fb9f3a"
             ],
             [
              0.8888888888888888,
              "#fdca26"
             ],
             [
              1,
              "#f0f921"
             ]
            ],
            "type": "histogram2dcontour"
           }
          ],
          "mesh3d": [
           {
            "colorbar": {
             "outlinewidth": 0,
             "ticks": ""
            },
            "type": "mesh3d"
           }
          ],
          "parcoords": [
           {
            "line": {
             "colorbar": {
              "outlinewidth": 0,
              "ticks": ""
             }
            },
            "type": "parcoords"
           }
          ],
          "pie": [
           {
            "automargin": true,
            "type": "pie"
           }
          ],
          "scatter": [
           {
            "fillpattern": {
             "fillmode": "overlay",
             "size": 10,
             "solidity": 0.2
            },
            "type": "scatter"
           }
          ],
          "scatter3d": [
           {
            "line": {
             "colorbar": {
              "outlinewidth": 0,
              "ticks": ""
             }
            },
            "marker": {
             "colorbar": {
              "outlinewidth": 0,
              "ticks": ""
             }
            },
            "type": "scatter3d"
           }
          ],
          "scattercarpet": [
           {
            "marker": {
             "colorbar": {
              "outlinewidth": 0,
              "ticks": ""
             }
            },
            "type": "scattercarpet"
           }
          ],
          "scattergeo": [
           {
            "marker": {
             "colorbar": {
              "outlinewidth": 0,
              "ticks": ""
             }
            },
            "type": "scattergeo"
           }
          ],
          "scattergl": [
           {
            "marker": {
             "colorbar": {
              "outlinewidth": 0,
              "ticks": ""
             }
            },
            "type": "scattergl"
           }
          ],
          "scattermapbox": [
           {
            "marker": {
             "colorbar": {
              "outlinewidth": 0,
              "ticks": ""
             }
            },
            "type": "scattermapbox"
           }
          ],
          "scatterpolar": [
           {
            "marker": {
             "colorbar": {
              "outlinewidth": 0,
              "ticks": ""
             }
            },
            "type": "scatterpolar"
           }
          ],
          "scatterpolargl": [
           {
            "marker": {
             "colorbar": {
              "outlinewidth": 0,
              "ticks": ""
             }
            },
            "type": "scatterpolargl"
           }
          ],
          "scatterternary": [
           {
            "marker": {
             "colorbar": {
              "outlinewidth": 0,
              "ticks": ""
             }
            },
            "type": "scatterternary"
           }
          ],
          "surface": [
           {
            "colorbar": {
             "outlinewidth": 0,
             "ticks": ""
            },
            "colorscale": [
             [
              0,
              "#0d0887"
             ],
             [
              0.1111111111111111,
              "#46039f"
             ],
             [
              0.2222222222222222,
              "#7201a8"
             ],
             [
              0.3333333333333333,
              "#9c179e"
             ],
             [
              0.4444444444444444,
              "#bd3786"
             ],
             [
              0.5555555555555556,
              "#d8576b"
             ],
             [
              0.6666666666666666,
              "#ed7953"
             ],
             [
              0.7777777777777778,
              "#fb9f3a"
             ],
             [
              0.8888888888888888,
              "#fdca26"
             ],
             [
              1,
              "#f0f921"
             ]
            ],
            "type": "surface"
           }
          ],
          "table": [
           {
            "cells": {
             "fill": {
              "color": "#EBF0F8"
             },
             "line": {
              "color": "white"
             }
            },
            "header": {
             "fill": {
              "color": "#C8D4E3"
             },
             "line": {
              "color": "white"
             }
            },
            "type": "table"
           }
          ]
         },
         "layout": {
          "annotationdefaults": {
           "arrowcolor": "#2a3f5f",
           "arrowhead": 0,
           "arrowwidth": 1
          },
          "autotypenumbers": "strict",
          "coloraxis": {
           "colorbar": {
            "outlinewidth": 0,
            "ticks": ""
           }
          },
          "colorscale": {
           "diverging": [
            [
             0,
             "#8e0152"
            ],
            [
             0.1,
             "#c51b7d"
            ],
            [
             0.2,
             "#de77ae"
            ],
            [
             0.3,
             "#f1b6da"
            ],
            [
             0.4,
             "#fde0ef"
            ],
            [
             0.5,
             "#f7f7f7"
            ],
            [
             0.6,
             "#e6f5d0"
            ],
            [
             0.7,
             "#b8e186"
            ],
            [
             0.8,
             "#7fbc41"
            ],
            [
             0.9,
             "#4d9221"
            ],
            [
             1,
             "#276419"
            ]
           ],
           "sequential": [
            [
             0,
             "#0d0887"
            ],
            [
             0.1111111111111111,
             "#46039f"
            ],
            [
             0.2222222222222222,
             "#7201a8"
            ],
            [
             0.3333333333333333,
             "#9c179e"
            ],
            [
             0.4444444444444444,
             "#bd3786"
            ],
            [
             0.5555555555555556,
             "#d8576b"
            ],
            [
             0.6666666666666666,
             "#ed7953"
            ],
            [
             0.7777777777777778,
             "#fb9f3a"
            ],
            [
             0.8888888888888888,
             "#fdca26"
            ],
            [
             1,
             "#f0f921"
            ]
           ],
           "sequentialminus": [
            [
             0,
             "#0d0887"
            ],
            [
             0.1111111111111111,
             "#46039f"
            ],
            [
             0.2222222222222222,
             "#7201a8"
            ],
            [
             0.3333333333333333,
             "#9c179e"
            ],
            [
             0.4444444444444444,
             "#bd3786"
            ],
            [
             0.5555555555555556,
             "#d8576b"
            ],
            [
             0.6666666666666666,
             "#ed7953"
            ],
            [
             0.7777777777777778,
             "#fb9f3a"
            ],
            [
             0.8888888888888888,
             "#fdca26"
            ],
            [
             1,
             "#f0f921"
            ]
           ]
          },
          "colorway": [
           "#636efa",
           "#EF553B",
           "#00cc96",
           "#ab63fa",
           "#FFA15A",
           "#19d3f3",
           "#FF6692",
           "#B6E880",
           "#FF97FF",
           "#FECB52"
          ],
          "font": {
           "color": "#2a3f5f"
          },
          "geo": {
           "bgcolor": "white",
           "lakecolor": "white",
           "landcolor": "#E5ECF6",
           "showlakes": true,
           "showland": true,
           "subunitcolor": "white"
          },
          "hoverlabel": {
           "align": "left"
          },
          "hovermode": "closest",
          "mapbox": {
           "style": "light"
          },
          "paper_bgcolor": "white",
          "plot_bgcolor": "#E5ECF6",
          "polar": {
           "angularaxis": {
            "gridcolor": "white",
            "linecolor": "white",
            "ticks": ""
           },
           "bgcolor": "#E5ECF6",
           "radialaxis": {
            "gridcolor": "white",
            "linecolor": "white",
            "ticks": ""
           }
          },
          "scene": {
           "xaxis": {
            "backgroundcolor": "#E5ECF6",
            "gridcolor": "white",
            "gridwidth": 2,
            "linecolor": "white",
            "showbackground": true,
            "ticks": "",
            "zerolinecolor": "white"
           },
           "yaxis": {
            "backgroundcolor": "#E5ECF6",
            "gridcolor": "white",
            "gridwidth": 2,
            "linecolor": "white",
            "showbackground": true,
            "ticks": "",
            "zerolinecolor": "white"
           },
           "zaxis": {
            "backgroundcolor": "#E5ECF6",
            "gridcolor": "white",
            "gridwidth": 2,
            "linecolor": "white",
            "showbackground": true,
            "ticks": "",
            "zerolinecolor": "white"
           }
          },
          "shapedefaults": {
           "line": {
            "color": "#2a3f5f"
           }
          },
          "ternary": {
           "aaxis": {
            "gridcolor": "white",
            "linecolor": "white",
            "ticks": ""
           },
           "baxis": {
            "gridcolor": "white",
            "linecolor": "white",
            "ticks": ""
           },
           "bgcolor": "#E5ECF6",
           "caxis": {
            "gridcolor": "white",
            "linecolor": "white",
            "ticks": ""
           }
          },
          "title": {
           "x": 0.05
          },
          "xaxis": {
           "automargin": true,
           "gridcolor": "white",
           "linecolor": "white",
           "ticks": "",
           "title": {
            "standoff": 15
           },
           "zerolinecolor": "white",
           "zerolinewidth": 2
          },
          "yaxis": {
           "automargin": true,
           "gridcolor": "white",
           "linecolor": "white",
           "ticks": "",
           "title": {
            "standoff": 15
           },
           "zerolinecolor": "white",
           "zerolinewidth": 2
          }
         }
        },
        "title": {
         "text": "Tidal Torque sign reversal and Tidal Torque applied to the Moon",
         "x": 0.5
        },
        "width": 1000,
        "xaxis": {
         "anchor": "y",
         "domain": [
          0,
          0.45
         ],
         "title": {
          "text": "t [days]"
         }
        },
        "xaxis2": {
         "anchor": "y2",
         "domain": [
          0.55,
          1
         ],
         "title": {
          "text": "t [days]"
         }
        },
        "yaxis": {
         "anchor": "x",
         "domain": [
          0,
          1
         ],
         "title": {
          "text": "$\\dot{\\eta}-\\dot{\\phi}$ [rad/day]"
         }
        },
        "yaxis2": {
         "anchor": "x2",
         "domain": [
          0,
          1
         ],
         "title": {
          "text": "$N_s$"
         }
        }
       }
      },
      "text/html": [
       "<div>                            <div id=\"006d1086-7525-49b2-9f21-e939ba792f07\" class=\"plotly-graph-div\" style=\"height:400px; width:1000px;\"></div>            <script type=\"text/javascript\">                require([\"plotly\"], function(Plotly) {                    window.PLOTLYENV=window.PLOTLYENV || {};                                    if (document.getElementById(\"006d1086-7525-49b2-9f21-e939ba792f07\")) {                    Plotly.newPlot(                        \"006d1086-7525-49b2-9f21-e939ba792f07\",                        [{\"line\":{\"color\":\"blue\"},\"name\":\"eta_dot - phi_dot\",\"x\":[0.0,0.13718592964824122,0.27437185929648245,0.41155778894472367,0.5487437185929649,0.6859296482412061,0.8231155778894473,0.9603015075376886,1.0974874371859298,1.234673366834171,1.3718592964824121,1.5090452261306535,1.6462311557788947,1.7834170854271358,1.9206030150753772,2.0577889447236184,2.1949748743718596,2.3321608040201007,2.469346733668342,2.606532663316583,2.7437185929648242,2.880904522613066,3.018090452261307,3.155276381909548,3.2924623115577893,3.4296482412060305,3.5668341708542717,3.704020100502513,3.8412060301507545,3.9783919597989956,4.115577889447237,4.2527638190954775,4.389949748743719,4.527135678391961,4.6643216080402015,4.801507537688443,4.938693467336684,5.075879396984925,5.213065326633166,5.350251256281408,5.4874371859296485,5.62462311557789,5.761809045226132,5.898994974874372,6.036180904522614,6.173366834170855,6.310552763819096,6.447738693467337,6.584924623115579,6.72211055276382,6.859296482412061,6.996482412060303,7.133668341708543,7.270854271356785,7.408040201005026,7.545226130653267,7.682412060301509,7.81959798994975,7.956783919597991,8.093969849246232,8.231155778894474,8.368341708542715,8.505527638190955,8.642713567839197,8.779899497487438,8.91708542713568,9.054271356783921,9.191457286432161,9.328643216080403,9.465829145728645,9.603015075376886,9.740201005025126,9.877386934673368,10.01457286432161,10.15175879396985,10.288944723618092,10.426130653266332,10.563316582914574,10.700502512562815,10.837688442211057,10.974874371859297,11.112060301507539,11.24924623115578,11.386432160804022,11.523618090452263,11.660804020100503,11.797989949748745,11.935175879396986,12.072361809045228,12.20954773869347,12.34673366834171,12.483919597989951,12.621105527638193,12.758291457286434,12.895477386934674,13.032663316582916,13.169849246231157,13.307035175879399,13.44422110552764,13.58140703517588,13.718592964824122,13.855778894472364,13.992964824120605,14.130150753768845,14.267336683417087,14.404522613065328,14.54170854271357,14.678894472361812,14.816080402010051,14.953266331658293,15.090452261306535,15.227638190954776,15.364824120603018,15.502010050251258,15.6391959798995,15.776381909547741,15.913567839195983,16.050753768844224,16.187939698492464,16.325125628140704,16.462311557788947,16.599497487437187,16.73668341708543,16.87386934673367,17.01105527638191,17.148241206030153,17.285427135678393,17.422613065326637,17.559798994974877,17.696984924623116,17.83417085427136,17.9713567839196,18.108542713567843,18.245728643216083,18.382914572864323,18.520100502512566,18.657286432160806,18.79447236180905,18.93165829145729,19.06884422110553,19.206030150753772,19.343216080402012,19.480402010050252,19.617587939698495,19.754773869346735,19.89195979899498,20.02914572864322,20.16633165829146,20.3035175879397,20.44070351758794,20.577889447236185,20.715075376884425,20.852261306532665,20.989447236180908,21.126633165829148,21.26381909547739,21.40100502512563,21.53819095477387,21.675376884422114,21.812562814070354,21.949748743718594,22.086934673366837,22.224120603015077,22.36130653266332,22.49849246231156,22.6356783919598,22.772864321608044,22.910050251256283,23.047236180904527,23.184422110552767,23.321608040201006,23.45879396984925,23.59597989949749,23.733165829145733,23.870351758793973,24.007537688442213,24.144723618090456,24.281909547738696,24.41909547738694,24.55628140703518,24.69346733668342,24.830653266331662,24.967839195979902,25.105025125628142,25.242211055276385,25.379396984924625,25.51658291457287,25.65376884422111,25.79095477386935,25.92814070351759,26.06532663316583,26.202512562814075,26.339698492462315,26.476884422110555,26.614070351758798,26.751256281407038,26.88844221105528,27.02562814070352,27.16281407035176,27.3],\"y\":[-0.2301533079552962,-0.22992388613263226,-0.22923584935730246,-0.22808988347932774,-0.22648713082241728,-0.22442918904527576,-0.2219181095490218,-0.2189563954323075,-0.21554699899617463,-0.21169331880113723,-0.2073991962794221,-0.20266891190574599,-0.19750718093044523,-0.1919191486792114,-0.18591038542411925,-0.1794868808310578,-0.1726550379891017,-0.1654216670277724,-0.1577939783285528,-0.1497795753374227,-0.14138644698557817,-0.13262295972589105,-0.12349784919304713,-0.11402021149567532,-0.1041994941491487,-0.09404548665809576,-0.08356831075800952,-0.07277841032568111,-0.0616865409685165,-0.05030375930311298,-0.03864141193378351,-0.026711124142014486,-0.014524788298132363,-0.002094552006730699,0.010567194002326863,0.02344782822525532,0.03653451096573754,0.049814197133813354,0.06327364924950821,0.07689945063824183,0.09067801880486073,0.10459561897296499,0.11863837777603181,0.1327922970866892,0.1470432679703539,0.1613770847493237,0.17577945916330678,0.1902360346122692,0.20473240046740704,0.21925410643597387,0.2337866769656471,0.24831562567407356,0.2628264697892102,0.27730474458606624,0.29173601780545566,0.3061059040403872,0.32040007907575024,0.3346042941670051,0.3487043902436404,0.36268631202324286,0.3765361220221088,0.3902400144484304,0.40378432896420935,0.4171555643021796,0.4303403917241634,0.44332566830744713,0.45609845004593336,0.4686460047530072,0.4809558247532569,0.49301563935039644,0.5048134270589627,0.5163374275875936,0.5275761535619421,0.5385184019755413,0.5491532653572044,0.5594701426438289,0.5694587497477678,0.5791091298082311,0.5884116631165015,0.5973570767050691,0.6059364535911268,0.6141412416652137,0.6219632622161422,0.6293947180837167,0.636428201431112,0.6430567011291652,0.6492736097452234,0.6550727301295747,0.6604482815929027,0.6653949056686033,0.66990767145422,0.6739820805266761,0.6776140714263991,0.6808000237058729,0.6835367615385783,0.6858215568847263,0.6876521322106266,0.6890266627589838,0.6899437783678545,0.6904025648364545,0.6904025648364545,0.6899437783678544,0.6890266627589838,0.6876521322106266,0.6858215568847263,0.6835367615385783,0.6808000237058729,0.677614071426399,0.6739820805266761,0.66990767145422,0.665394905668603,0.6604482815929025,0.6550727301295746,0.6492736097452234,0.6430567011291652,0.6364282014311118,0.6293947180837167,0.621963262216142,0.6141412416652134,0.6059364535911269,0.5973570767050689,0.5884116631165015,0.5791091298082307,0.5694587497477676,0.5594701426438287,0.549153265357204,0.5385184019755413,0.5275761535619419,0.5163374275875932,0.5048134270589624,0.49301563935039605,0.4809558247532568,0.468646004753007,0.4560984500459329,0.44332566830744685,0.43034039172416294,0.41715556430217954,0.40378432896420907,0.3902400144484298,0.3765361220221085,0.3626863120232425,0.3487043902436402,0.33460429416700477,0.32040007907574974,0.30610590404038684,0.29173601780545527,0.2773047445860661,0.26282646978920987,0.24831562567407306,0.23378667696564678,0.21925410643597337,0.20473240046740684,0.1902360346122689,0.17577945916330628,0.1613770847493235,0.14704326797035344,0.132792297086689,0.11863837777603144,0.10459561897296449,0.09067801880486054,0.07689945063824183,0.06327364924950804,0.04981419713381299,0.036534510965737094,0.02344782822525507,0.010567194002326863,-0.0020945520067308654,-0.014524788298132668,-0.02671112414201493,-0.03864141193378373,-0.05030375930311304,-0.06168654096851667,-0.07277841032568139,-0.08356831075800991,-0.09404548665809598,-0.1041994941491487,-0.11402021149567576,-0.12349784919304735,-0.1326229597258914,-0.14138644698557834,-0.14977957533742275,-0.15779397832855308,-0.16542166702777256,-0.1726550379891018,-0.17948688083105796,-0.18591038542411925,-0.19191914867921162,-0.19750718093044528,-0.20266891190574599,-0.20739919627942216,-0.21169331880113723,-0.2155469989961748,-0.2189563954323076,-0.2219181095490218,-0.2244291890452758,-0.22648713082241734,-0.2280898834793278,-0.22923584935730246,-0.22992388613263226,-0.2301533079552962],\"type\":\"scatter\",\"xaxis\":\"x\",\"yaxis\":\"y\"},{\"line\":{\"color\":\"blue\"},\"name\":\"Ns\",\"x\":[0.0,0.13718592964824122,0.27437185929648245,0.41155778894472367,0.5487437185929649,0.6859296482412061,0.8231155778894473,0.9603015075376886,1.0974874371859298,1.234673366834171,1.3718592964824121,1.5090452261306535,1.6462311557788947,1.7834170854271358,1.9206030150753772,2.0577889447236184,2.1949748743718596,2.3321608040201007,2.469346733668342,2.606532663316583,2.7437185929648242,2.880904522613066,3.018090452261307,3.155276381909548,3.2924623115577893,3.4296482412060305,3.5668341708542717,3.704020100502513,3.8412060301507545,3.9783919597989956,4.115577889447237,4.2527638190954775,4.389949748743719,4.527135678391961,4.6643216080402015,4.801507537688443,4.938693467336684,5.075879396984925,5.213065326633166,5.350251256281408,5.4874371859296485,5.62462311557789,5.761809045226132,5.898994974874372,6.036180904522614,6.173366834170855,6.310552763819096,6.447738693467337,6.584924623115579,6.72211055276382,6.859296482412061,6.996482412060303,7.133668341708543,7.270854271356785,7.408040201005026,7.545226130653267,7.682412060301509,7.81959798994975,7.956783919597991,8.093969849246232,8.231155778894474,8.368341708542715,8.505527638190955,8.642713567839197,8.779899497487438,8.91708542713568,9.054271356783921,9.191457286432161,9.328643216080403,9.465829145728645,9.603015075376886,9.740201005025126,9.877386934673368,10.01457286432161,10.15175879396985,10.288944723618092,10.426130653266332,10.563316582914574,10.700502512562815,10.837688442211057,10.974874371859297,11.112060301507539,11.24924623115578,11.386432160804022,11.523618090452263,11.660804020100503,11.797989949748745,11.935175879396986,12.072361809045228,12.20954773869347,12.34673366834171,12.483919597989951,12.621105527638193,12.758291457286434,12.895477386934674,13.032663316582916,13.169849246231157,13.307035175879399,13.44422110552764,13.58140703517588,13.718592964824122,13.855778894472364,13.992964824120605,14.130150753768845,14.267336683417087,14.404522613065328,14.54170854271357,14.678894472361812,14.816080402010051,14.953266331658293,15.090452261306535,15.227638190954776,15.364824120603018,15.502010050251258,15.6391959798995,15.776381909547741,15.913567839195983,16.050753768844224,16.187939698492464,16.325125628140704,16.462311557788947,16.599497487437187,16.73668341708543,16.87386934673367,17.01105527638191,17.148241206030153,17.285427135678393,17.422613065326637,17.559798994974877,17.696984924623116,17.83417085427136,17.9713567839196,18.108542713567843,18.245728643216083,18.382914572864323,18.520100502512566,18.657286432160806,18.79447236180905,18.93165829145729,19.06884422110553,19.206030150753772,19.343216080402012,19.480402010050252,19.617587939698495,19.754773869346735,19.89195979899498,20.02914572864322,20.16633165829146,20.3035175879397,20.44070351758794,20.577889447236185,20.715075376884425,20.852261306532665,20.989447236180908,21.126633165829148,21.26381909547739,21.40100502512563,21.53819095477387,21.675376884422114,21.812562814070354,21.949748743718594,22.086934673366837,22.224120603015077,22.36130653266332,22.49849246231156,22.6356783919598,22.772864321608044,22.910050251256283,23.047236180904527,23.184422110552767,23.321608040201006,23.45879396984925,23.59597989949749,23.733165829145733,23.870351758793973,24.007537688442213,24.144723618090456,24.281909547738696,24.41909547738694,24.55628140703518,24.69346733668342,24.830653266331662,24.967839195979902,25.105025125628142,25.242211055276385,25.379396984924625,25.51658291457287,25.65376884422111,25.79095477386935,25.92814070351759,26.06532663316583,26.202512562814075,26.339698492462315,26.476884422110555,26.614070351758798,26.751256281407038,26.88844221105528,27.02562814070352,27.16281407035176,27.3],\"y\":[103.30355955804232,103.30202262376731,103.29741346725655,103.28973702534337,103.27900151906239,103.26521844312883,103.24840255124103,103.22857183723063,103.2057475120986,103.17995397698053,103.15121879209181,103.11957264171427,103.08504929528912,103.04768556468879,103.00752125775196,102.96459912816421,102.91896482178163,102.87066681949533,102.8197563767426,102.76628745977564,102.71031667880308,102.65190321812725,102.59110876340142,102.52799742613406,102.46263566557722,102.39509220813345,102.32543796441955,102.25374594413073,102.18009116884923,102.10455058294112,102.0272029626908,101.94812882381973,101.86741032753972,101.78513118528747,-101.70137656229103,-101.61623298011497,-101.52978821833238,-101.44213121547108,-101.35335196937477,-101.26354143712511,-101.172791434665,-101.08119453625761,-100.98884397392119,-100.89583353696752,-100.80225747177435,-100.70821038191833,-100.61378712878681,-100.51908273278991,-100.42419227528266,-100.32921080130906,-100.2342332232709,-100.13935422562399,-100.04466817069483,-99.95026900571,-99.85625017112524,-99.76270451033355,-99.6697241808318,-99.57740056691406,-99.48582419396257,-99.39508464439457,-99.30527047532618,-99.21646913800369,-99.1287668990505,-99.04224876357517,-98.95699840017824,-98.87309806789357,-98.79062854509434,-98.70966906039226,-98.63029722555099,-98.55258897043421,-98.47661848000435,-98.40245813338406,-98.33017844498967,-98.25984800774296,-98.19153343836558,-98.12529932475663,-98.06120817545145,-97.99932037116018,-97.93969411837733,-97.88238540505944,-97.82744795835812,-97.77493320440112,-97.72489023010914,-97.67736574703626,-97.63240405722189,-97.59004702103962,-97.5503340270306,-97.51330196370654,-97.47898519330879,-97.44741552750902,-97.41862220503953,-97.3926318712386,-97.36946855949837,-97.3491536746052,-97.33170597795977,-97.3171415746674,-97.30547390249068,-97.29671372265464,-97.29086911249985,-97.2879454599765,-97.2879454599765,-97.29086911249985,-97.29671372265464,-97.30547390249068,-97.3171415746674,-97.33170597795977,-97.3491536746052,-97.36946855949837,-97.3926318712386,-97.41862220503953,-97.44741552750902,-97.47898519330879,-97.51330196370654,-97.5503340270306,-97.59004702103962,-97.63240405722189,-97.67736574703626,-97.72489023010914,-97.77493320440112,-97.82744795835812,-97.88238540505944,-97.93969411837733,-97.99932037116018,-98.06120817545145,-98.12529932475663,-98.19153343836558,-98.25984800774296,-98.33017844498967,-98.40245813338406,-98.47661848000435,-98.55258897043421,-98.63029722555099,-98.70966906039226,-98.79062854509434,-98.87309806789357,-98.95699840017824,-99.04224876357517,-99.1287668990505,-99.21646913800369,-99.30527047532618,-99.39508464439457,-99.48582419396257,-99.57740056691406,-99.6697241808318,-99.76270451033355,-99.85625017112524,-99.95026900571,-100.04466817069483,-100.13935422562399,-100.2342332232709,-100.32921080130906,-100.42419227528266,-100.51908273278991,-100.61378712878681,-100.70821038191833,-100.80225747177435,-100.89583353696752,-100.98884397392119,-101.08119453625761,-101.172791434665,-101.26354143712511,-101.35335196937477,-101.44213121547108,-101.52978821833238,-101.61623298011497,-101.70137656229103,101.78513118528747,101.86741032753972,101.94812882381973,102.0272029626908,102.10455058294112,102.18009116884923,102.25374594413073,102.32543796441955,102.39509220813345,102.46263566557722,102.52799742613406,102.59110876340142,102.65190321812725,102.71031667880308,102.76628745977564,102.8197563767426,102.87066681949533,102.91896482178163,102.96459912816421,103.00752125775196,103.04768556468879,103.08504929528912,103.11957264171427,103.15121879209181,103.17995397698053,103.2057475120986,103.22857183723063,103.24840255124103,103.26521844312883,103.27900151906239,103.28973702534337,103.29741346725655,103.30202262376731,103.30355955804232],\"type\":\"scatter\",\"xaxis\":\"x2\",\"yaxis\":\"y2\"}],                        {\"template\":{\"data\":{\"histogram2dcontour\":[{\"type\":\"histogram2dcontour\",\"colorbar\":{\"outlinewidth\":0,\"ticks\":\"\"},\"colorscale\":[[0.0,\"#0d0887\"],[0.1111111111111111,\"#46039f\"],[0.2222222222222222,\"#7201a8\"],[0.3333333333333333,\"#9c179e\"],[0.4444444444444444,\"#bd3786\"],[0.5555555555555556,\"#d8576b\"],[0.6666666666666666,\"#ed7953\"],[0.7777777777777778,\"#fb9f3a\"],[0.8888888888888888,\"#fdca26\"],[1.0,\"#f0f921\"]]}],\"choropleth\":[{\"type\":\"choropleth\",\"colorbar\":{\"outlinewidth\":0,\"ticks\":\"\"}}],\"histogram2d\":[{\"type\":\"histogram2d\",\"colorbar\":{\"outlinewidth\":0,\"ticks\":\"\"},\"colorscale\":[[0.0,\"#0d0887\"],[0.1111111111111111,\"#46039f\"],[0.2222222222222222,\"#7201a8\"],[0.3333333333333333,\"#9c179e\"],[0.4444444444444444,\"#bd3786\"],[0.5555555555555556,\"#d8576b\"],[0.6666666666666666,\"#ed7953\"],[0.7777777777777778,\"#fb9f3a\"],[0.8888888888888888,\"#fdca26\"],[1.0,\"#f0f921\"]]}],\"heatmap\":[{\"type\":\"heatmap\",\"colorbar\":{\"outlinewidth\":0,\"ticks\":\"\"},\"colorscale\":[[0.0,\"#0d0887\"],[0.1111111111111111,\"#46039f\"],[0.2222222222222222,\"#7201a8\"],[0.3333333333333333,\"#9c179e\"],[0.4444444444444444,\"#bd3786\"],[0.5555555555555556,\"#d8576b\"],[0.6666666666666666,\"#ed7953\"],[0.7777777777777778,\"#fb9f3a\"],[0.8888888888888888,\"#fdca26\"],[1.0,\"#f0f921\"]]}],\"heatmapgl\":[{\"type\":\"heatmapgl\",\"colorbar\":{\"outlinewidth\":0,\"ticks\":\"\"},\"colorscale\":[[0.0,\"#0d0887\"],[0.1111111111111111,\"#46039f\"],[0.2222222222222222,\"#7201a8\"],[0.3333333333333333,\"#9c179e\"],[0.4444444444444444,\"#bd3786\"],[0.5555555555555556,\"#d8576b\"],[0.6666666666666666,\"#ed7953\"],[0.7777777777777778,\"#fb9f3a\"],[0.8888888888888888,\"#fdca26\"],[1.0,\"#f0f921\"]]}],\"contourcarpet\":[{\"type\":\"contourcarpet\",\"colorbar\":{\"outlinewidth\":0,\"ticks\":\"\"}}],\"contour\":[{\"type\":\"contour\",\"colorbar\":{\"outlinewidth\":0,\"ticks\":\"\"},\"colorscale\":[[0.0,\"#0d0887\"],[0.1111111111111111,\"#46039f\"],[0.2222222222222222,\"#7201a8\"],[0.3333333333333333,\"#9c179e\"],[0.4444444444444444,\"#bd3786\"],[0.5555555555555556,\"#d8576b\"],[0.6666666666666666,\"#ed7953\"],[0.7777777777777778,\"#fb9f3a\"],[0.8888888888888888,\"#fdca26\"],[1.0,\"#f0f921\"]]}],\"surface\":[{\"type\":\"surface\",\"colorbar\":{\"outlinewidth\":0,\"ticks\":\"\"},\"colorscale\":[[0.0,\"#0d0887\"],[0.1111111111111111,\"#46039f\"],[0.2222222222222222,\"#7201a8\"],[0.3333333333333333,\"#9c179e\"],[0.4444444444444444,\"#bd3786\"],[0.5555555555555556,\"#d8576b\"],[0.6666666666666666,\"#ed7953\"],[0.7777777777777778,\"#fb9f3a\"],[0.8888888888888888,\"#fdca26\"],[1.0,\"#f0f921\"]]}],\"mesh3d\":[{\"type\":\"mesh3d\",\"colorbar\":{\"outlinewidth\":0,\"ticks\":\"\"}}],\"scatter\":[{\"fillpattern\":{\"fillmode\":\"overlay\",\"size\":10,\"solidity\":0.2},\"type\":\"scatter\"}],\"parcoords\":[{\"type\":\"parcoords\",\"line\":{\"colorbar\":{\"outlinewidth\":0,\"ticks\":\"\"}}}],\"scatterpolargl\":[{\"type\":\"scatterpolargl\",\"marker\":{\"colorbar\":{\"outlinewidth\":0,\"ticks\":\"\"}}}],\"bar\":[{\"error_x\":{\"color\":\"#2a3f5f\"},\"error_y\":{\"color\":\"#2a3f5f\"},\"marker\":{\"line\":{\"color\":\"#E5ECF6\",\"width\":0.5},\"pattern\":{\"fillmode\":\"overlay\",\"size\":10,\"solidity\":0.2}},\"type\":\"bar\"}],\"scattergeo\":[{\"type\":\"scattergeo\",\"marker\":{\"colorbar\":{\"outlinewidth\":0,\"ticks\":\"\"}}}],\"scatterpolar\":[{\"type\":\"scatterpolar\",\"marker\":{\"colorbar\":{\"outlinewidth\":0,\"ticks\":\"\"}}}],\"histogram\":[{\"marker\":{\"pattern\":{\"fillmode\":\"overlay\",\"size\":10,\"solidity\":0.2}},\"type\":\"histogram\"}],\"scattergl\":[{\"type\":\"scattergl\",\"marker\":{\"colorbar\":{\"outlinewidth\":0,\"ticks\":\"\"}}}],\"scatter3d\":[{\"type\":\"scatter3d\",\"line\":{\"colorbar\":{\"outlinewidth\":0,\"ticks\":\"\"}},\"marker\":{\"colorbar\":{\"outlinewidth\":0,\"ticks\":\"\"}}}],\"scattermapbox\":[{\"type\":\"scattermapbox\",\"marker\":{\"colorbar\":{\"outlinewidth\":0,\"ticks\":\"\"}}}],\"scatterternary\":[{\"type\":\"scatterternary\",\"marker\":{\"colorbar\":{\"outlinewidth\":0,\"ticks\":\"\"}}}],\"scattercarpet\":[{\"type\":\"scattercarpet\",\"marker\":{\"colorbar\":{\"outlinewidth\":0,\"ticks\":\"\"}}}],\"carpet\":[{\"aaxis\":{\"endlinecolor\":\"#2a3f5f\",\"gridcolor\":\"white\",\"linecolor\":\"white\",\"minorgridcolor\":\"white\",\"startlinecolor\":\"#2a3f5f\"},\"baxis\":{\"endlinecolor\":\"#2a3f5f\",\"gridcolor\":\"white\",\"linecolor\":\"white\",\"minorgridcolor\":\"white\",\"startlinecolor\":\"#2a3f5f\"},\"type\":\"carpet\"}],\"table\":[{\"cells\":{\"fill\":{\"color\":\"#EBF0F8\"},\"line\":{\"color\":\"white\"}},\"header\":{\"fill\":{\"color\":\"#C8D4E3\"},\"line\":{\"color\":\"white\"}},\"type\":\"table\"}],\"barpolar\":[{\"marker\":{\"line\":{\"color\":\"#E5ECF6\",\"width\":0.5},\"pattern\":{\"fillmode\":\"overlay\",\"size\":10,\"solidity\":0.2}},\"type\":\"barpolar\"}],\"pie\":[{\"automargin\":true,\"type\":\"pie\"}]},\"layout\":{\"autotypenumbers\":\"strict\",\"colorway\":[\"#636efa\",\"#EF553B\",\"#00cc96\",\"#ab63fa\",\"#FFA15A\",\"#19d3f3\",\"#FF6692\",\"#B6E880\",\"#FF97FF\",\"#FECB52\"],\"font\":{\"color\":\"#2a3f5f\"},\"hovermode\":\"closest\",\"hoverlabel\":{\"align\":\"left\"},\"paper_bgcolor\":\"white\",\"plot_bgcolor\":\"#E5ECF6\",\"polar\":{\"bgcolor\":\"#E5ECF6\",\"angularaxis\":{\"gridcolor\":\"white\",\"linecolor\":\"white\",\"ticks\":\"\"},\"radialaxis\":{\"gridcolor\":\"white\",\"linecolor\":\"white\",\"ticks\":\"\"}},\"ternary\":{\"bgcolor\":\"#E5ECF6\",\"aaxis\":{\"gridcolor\":\"white\",\"linecolor\":\"white\",\"ticks\":\"\"},\"baxis\":{\"gridcolor\":\"white\",\"linecolor\":\"white\",\"ticks\":\"\"},\"caxis\":{\"gridcolor\":\"white\",\"linecolor\":\"white\",\"ticks\":\"\"}},\"coloraxis\":{\"colorbar\":{\"outlinewidth\":0,\"ticks\":\"\"}},\"colorscale\":{\"sequential\":[[0.0,\"#0d0887\"],[0.1111111111111111,\"#46039f\"],[0.2222222222222222,\"#7201a8\"],[0.3333333333333333,\"#9c179e\"],[0.4444444444444444,\"#bd3786\"],[0.5555555555555556,\"#d8576b\"],[0.6666666666666666,\"#ed7953\"],[0.7777777777777778,\"#fb9f3a\"],[0.8888888888888888,\"#fdca26\"],[1.0,\"#f0f921\"]],\"sequentialminus\":[[0.0,\"#0d0887\"],[0.1111111111111111,\"#46039f\"],[0.2222222222222222,\"#7201a8\"],[0.3333333333333333,\"#9c179e\"],[0.4444444444444444,\"#bd3786\"],[0.5555555555555556,\"#d8576b\"],[0.6666666666666666,\"#ed7953\"],[0.7777777777777778,\"#fb9f3a\"],[0.8888888888888888,\"#fdca26\"],[1.0,\"#f0f921\"]],\"diverging\":[[0,\"#8e0152\"],[0.1,\"#c51b7d\"],[0.2,\"#de77ae\"],[0.3,\"#f1b6da\"],[0.4,\"#fde0ef\"],[0.5,\"#f7f7f7\"],[0.6,\"#e6f5d0\"],[0.7,\"#b8e186\"],[0.8,\"#7fbc41\"],[0.9,\"#4d9221\"],[1,\"#276419\"]]},\"xaxis\":{\"gridcolor\":\"white\",\"linecolor\":\"white\",\"ticks\":\"\",\"title\":{\"standoff\":15},\"zerolinecolor\":\"white\",\"automargin\":true,\"zerolinewidth\":2},\"yaxis\":{\"gridcolor\":\"white\",\"linecolor\":\"white\",\"ticks\":\"\",\"title\":{\"standoff\":15},\"zerolinecolor\":\"white\",\"automargin\":true,\"zerolinewidth\":2},\"scene\":{\"xaxis\":{\"backgroundcolor\":\"#E5ECF6\",\"gridcolor\":\"white\",\"linecolor\":\"white\",\"showbackground\":true,\"ticks\":\"\",\"zerolinecolor\":\"white\",\"gridwidth\":2},\"yaxis\":{\"backgroundcolor\":\"#E5ECF6\",\"gridcolor\":\"white\",\"linecolor\":\"white\",\"showbackground\":true,\"ticks\":\"\",\"zerolinecolor\":\"white\",\"gridwidth\":2},\"zaxis\":{\"backgroundcolor\":\"#E5ECF6\",\"gridcolor\":\"white\",\"linecolor\":\"white\",\"showbackground\":true,\"ticks\":\"\",\"zerolinecolor\":\"white\",\"gridwidth\":2}},\"shapedefaults\":{\"line\":{\"color\":\"#2a3f5f\"}},\"annotationdefaults\":{\"arrowcolor\":\"#2a3f5f\",\"arrowhead\":0,\"arrowwidth\":1},\"geo\":{\"bgcolor\":\"white\",\"landcolor\":\"#E5ECF6\",\"subunitcolor\":\"white\",\"showland\":true,\"showlakes\":true,\"lakecolor\":\"white\"},\"title\":{\"x\":0.05},\"mapbox\":{\"style\":\"light\"}}},\"xaxis\":{\"anchor\":\"y\",\"domain\":[0.0,0.45],\"title\":{\"text\":\"t [days]\"}},\"yaxis\":{\"anchor\":\"x\",\"domain\":[0.0,1.0],\"title\":{\"text\":\"$\\\\dot{\\\\eta}-\\\\dot{\\\\phi}$ [rad/day]\"}},\"xaxis2\":{\"anchor\":\"y2\",\"domain\":[0.55,1.0],\"title\":{\"text\":\"t [days]\"}},\"yaxis2\":{\"anchor\":\"x2\",\"domain\":[0.0,1.0],\"title\":{\"text\":\"$N_s$\"}},\"annotations\":[{\"font\":{\"size\":16},\"showarrow\":false,\"text\":\"Tidal Torque sign reversal\",\"x\":0.225,\"xanchor\":\"center\",\"xref\":\"paper\",\"y\":1.0,\"yanchor\":\"bottom\",\"yref\":\"paper\"},{\"font\":{\"size\":16},\"showarrow\":false,\"text\":\"Tidal Torque applied to the Moon\",\"x\":0.775,\"xanchor\":\"center\",\"xref\":\"paper\",\"y\":1.0,\"yanchor\":\"bottom\",\"yref\":\"paper\"}],\"shapes\":[{\"line\":{\"color\":\"red\",\"width\":2},\"type\":\"line\",\"x0\":0.0,\"x1\":27.3,\"xref\":\"x\",\"y0\":0,\"y1\":0,\"yref\":\"y\"},{\"line\":{\"color\":\"red\",\"width\":2},\"type\":\"line\",\"x0\":0.0,\"x1\":27.3,\"xref\":\"x2\",\"y0\":1.2763326804858393,\"y1\":1.2763326804858393,\"yref\":\"y2\"}],\"title\":{\"text\":\"Tidal Torque sign reversal and Tidal Torque applied to the Moon\",\"x\":0.5},\"height\":400,\"width\":1000},                        {\"responsive\": true}                    ).then(function(){\n",
       "                            \n",
       "var gd = document.getElementById('006d1086-7525-49b2-9f21-e939ba792f07');\n",
       "var x = new MutationObserver(function (mutations, observer) {{\n",
       "        var display = window.getComputedStyle(gd).display;\n",
       "        if (!display || display === 'none') {{\n",
       "            console.log([gd, 'removed!']);\n",
       "            Plotly.purge(gd);\n",
       "            observer.disconnect();\n",
       "        }}\n",
       "}});\n",
       "\n",
       "// Listen for the removal of the full notebook cells\n",
       "var notebookContainer = gd.closest('#notebook-container');\n",
       "if (notebookContainer) {{\n",
       "    x.observe(notebookContainer, {childList: true});\n",
       "}}\n",
       "\n",
       "// Listen for the clearing of the current output cell\n",
       "var outputEl = gd.closest('.output');\n",
       "if (outputEl) {{\n",
       "    x.observe(outputEl, {childList: true});\n",
       "}}\n",
       "\n",
       "                        })                };                });            </script>        </div>"
      ]
     },
     "metadata": {},
     "output_type": "display_data"
    }
   ],
   "source": [
    "fig = make_subplots(rows=1, cols=2, \n",
    "                    subplot_titles=('Tidal Torque sign reversal', \n",
    "                                    'Tidal Torque applied to the Moon'))\n",
    "\n",
    "# Tidal Torque sign reversal Plot\n",
    "fig.add_trace(go.Scatter(x=t, y=sign_reversal, name='eta_dot - phi_dot', line=dict(color='blue')), row=1, col=1)\n",
    "fig.add_shape(type='line', x0=t[0], y0=0, x1=t[-1], \n",
    "              y1=0, line=dict(color='red', width=2), row=1, col=1)\n",
    "\n",
    "# Tidal Torque applied to the Moon Plot\n",
    "fig.add_trace(go.Scatter(x=t, y=Ns, name='Ns', line=dict(color='blue')), row=1, col=2)\n",
    "fig.add_shape(type='line', x0=t[0], y0=Mean_Ns, x1=t[-1], \n",
    "              y1=Mean_Ns, line=dict(color='red', width=2), row=1, col=2)\n",
    "\n",
    "# Update subplot layout\n",
    "fig.update_xaxes(title_text='t [days]', row=1, col=1)\n",
    "fig.update_yaxes(title_text='$\\dot{\\eta}-\\dot{\\phi}$ [rad/day]', row=1, col=1)\n",
    "fig.update_xaxes(title_text='t [days]', row=1, col=2)\n",
    "fig.update_yaxes(title_text='$N_s$', row=1, col=2)\n",
    "\n",
    "fig.update_layout(title='Tidal Torque sign reversal and Tidal Torque applied to the Moon', \n",
    "                  title_x=0.5, height=400, width=1000)\n",
    "fig.show()"
   ]
  },
  {
   "cell_type": "markdown",
   "id": "0d6e7bdb",
   "metadata": {},
   "source": [
    "<style>\n",
    "        /* Style for the p tag */\n",
    "    p {\n",
    "        font-size: 18px;\n",
    "        line-height: 1.5;\n",
    "        text-align: justify;\n",
    "        margin: 0 auto;\n",
    "        max-width: 800px;\n",
    "    }\n",
    "</style>\n",
    "<p>As we can see, the Mean Tidal Torque for the Moon is almost 0 (could be more accurate using more accurate parameters), which means that the Moon is at an equilibrium state (because most satellites are at least partially solid and have permanent quadrupole moments, that is, permanent bulges or departures from sphericity.) Let's see an example of it:</p>"
   ]
  },
  {
   "cell_type": "code",
   "execution_count": 11,
   "id": "63a9d8ee",
   "metadata": {
    "scrolled": true
   },
   "outputs": [
    {
     "data": {
      "text/html": [
       "<video width=\"432\" height=\"288\" controls autoplay loop>\n",
       "  <source type=\"video/mp4\" src=\"data:video/mp4;base64,AAAAIGZ0eXBNNFYgAAACAE00ViBpc29taXNvMmF2YzEAAAAIZnJlZQAALs1tZGF0AAACnwYF//+b\n",
       "3EXpvebZSLeWLNgg2SPu73gyNjQgLSBjb3JlIDE2MSAtIEguMjY0L01QRUctNCBBVkMgY29kZWMg\n",
       "LSBDb3B5bGVmdCAyMDAzLTIwMjAgLSBodHRwOi8vd3d3LnZpZGVvbGFuLm9yZy94MjY0Lmh0bWwg\n",
       "LSBvcHRpb25zOiBjYWJhYz0xIHJlZj0zIGRlYmxvY2s9MTowOjAgYW5hbHlzZT0weDM6MHgxMTMg\n",
       "bWU9aGV4IHN1Ym1lPTcgcHN5PTEgcHN5X3JkPTEuMDA6MC4wMCBtaXhlZF9yZWY9MSBtZV9yYW5n\n",
       "ZT0xNiBjaHJvbWFfbWU9MSB0cmVsbGlzPTEgOHg4ZGN0PTEgY3FtPTAgZGVhZHpvbmU9MjEsMTEg\n",
       "ZmFzdF9wc2tpcD0xIGNocm9tYV9xcF9vZmZzZXQ9LTIgdGhyZWFkcz0zIGxvb2thaGVhZF90aHJl\n",
       "YWRzPTEgc2xpY2VkX3RocmVhZHM9MCBucj0wIGRlY2ltYXRlPTEgaW50ZXJsYWNlZD0wIGJsdXJh\n",
       "eV9jb21wYXQ9MCBjb25zdHJhaW5lZF9pbnRyYT0wIGJmcmFtZXM9MyBiX3B5cmFtaWQ9MiBiX2Fk\n",
       "YXB0PTEgYl9iaWFzPTAgZGlyZWN0PTEgd2VpZ2h0Yj0xIG9wZW5fZ29wPTAgd2VpZ2h0cD0yIGtl\n",
       "eWludD0yNTAga2V5aW50X21pbj01IHNjZW5lY3V0PTQwIGludHJhX3JlZnJlc2g9MCByY19sb29r\n",
       "YWhlYWQ9NDAgcmM9Y3JmIG1idHJlZT0xIGNyZj0yMy4wIHFjb21wPTAuNjAgcXBtaW49MCBxcG1h\n",
       "eD02OSBxcHN0ZXA9NCBpcF9yYXRpbz0xLjQwIGFxPTE6MS4wMACAAAAHkGWIhAAS//73rd+BTcBA\n",
       "7Wu6Vzi0y6uUND1R9pSmeLZIAAADAAOOHrNdGpJ7mtBoAAXJmgeev8/5gJoF2uE0G151GOYhIUYj\n",
       "6s6YZZYp8I2aRdWVj1Qq69t5sq6difCm0++NYKOvSVkt0noJxSlfsn1/o4WNILkcdyUg1lMCjXqw\n",
       "rCtU8qIYpKIYS0wGFcvHYLndQ8tCpVR8mlBd3ZqjrX4qp1fHnvwiKiGQV9xH0V33ecLPDqKx5JIQ\n",
       "fzgL1F4Hai1TpSDlLDZaNxNGr6dxeB7yPVE3soFoApF+2u2//+qba1l0mP8eelb0t9ZxgaTVOzGQ\n",
       "tU8AAArAUOyrZ6fJNSfC4E+HjGgsrtsLpCMdB065LR4Q/Hgx3oD2oLxHfRGUpD2r1BCNuqVPu7Iq\n",
       "F3+vU4PT13uY6icJ5I07l2ce9b/G2L7D84GXASyTucVWTn/afbswpLslGpIt0fqF8bmnWTAP6J3A\n",
       "5uTDNpRMtvXkZTDao6UDVZ8EodDrnpN9ZAduRR08eM/YxnsS4gssiA7grt3hT4f7QM1rCpmgXrCx\n",
       "J1S5K/NXKz+swb82Wk/NlYcCY8+cFl3Oe7CnsGwGPKeaT69vUzCgdWlV9IOlNxEiFMARbcHN2pBJ\n",
       "OZoo2RoqIG/l4x9gkfTB9QD6z+wOVb8IjUoIqcLeuCpq8QNgAg04k5V8pnKI2j0n2XzjaFkjpThL\n",
       "RnXnBVCsbKdUphVQsQ+nhSBp6jADd/QNDlJ5Z6lcQ6hxcP8qxpqnaxZnacCNnWnVazdnEGf5IOpi\n",
       "zoK+gA9nDB5ZYtLTZ7XZxSYpulnh/6k7dv48zFd45x+io7E8s0FDitC+4wR117C7zyl9V927CiVb\n",
       "XDsi4/yTdscktG7LJcz/GdSJLQ0jmZUc1hWyN+LWMj8DDlKXwC2Nn8oRWRJ6WmaXRvfOlbhWlrht\n",
       "lLzV7X+diSjmcmowS4jPWIpYfQRVMZuPQA0V3cwlSb3bue9S8DufJuD/OUJZNyYk9i/Hdep3KaOl\n",
       "MMT2vlJuzpcNLqqedNLoCGaqVRRi0A5He7yym5pYoUBHHu71SOZJENbUZcqY7lUr1ZHfNU5Ht0Ao\n",
       "EGLrPo141gAzwCaK8v/PcOovkTcUrGwA/pjXLGfLncnuDbfRz6WPYQ3HTyuRXeXJ/SI13x0IbsTd\n",
       "NFdAN4pvH/95a5wnji23Auwovf+ikCAWIsl9OVN+PqMDQjrpDSNmwFQulDC1O9ZK6oPwrNb6t2VH\n",
       "P3fM6ZYq3fnd1HsDPvf2p6ReN/Mxlehw/ghhym90w8X4JIxWsbRPxrOULbZ1gzrYaZqZLseVF7sH\n",
       "4R7NaIuxAKf18Bf+3j4jnoIzOoOB4msahvmxcd4IQBCxguIk7HDWoRYJg1b45SbZuxW9nd8nV2Mg\n",
       "NqMFwIJ+mPgD5RhZr1aSsTnkc4k4ogCCej8/8Kd/iNQSJk3Vs0tHIyTxfv73mU0l4b6ZXAR1+WwD\n",
       "vOYM22b6pmHpVA5aRhXrKE7NLzbXGoIZap66Htd6vl9nOe1SMixZyA2ibBKJV/GtJM8ngaXUMxg5\n",
       "agyyEl+EvsPG2O/kGLBGV3cUVpKlll8VClByanxemup6kAvZJbE9anXiG+XPXCJxgL+UoytO+taL\n",
       "qNDjREYPcfVDadjyBsxXalK9MOrM8gebZeFtjap/7EWbomtXCgYHQ+dZGv9vk2Zfc9YpLxCGFpa9\n",
       "Q1lwo0VwW7c79ls38jjDq6+ufPMTKhyt2vlTiTj39LXsrH3s3fRXXOoV7Vj7zxTuirCPJYmlcTPO\n",
       "pj/2O+zXeefk1D8Mqd+tFX9XSiH+yWhVkFvsMrQVxZsatN04OI+a1+DJhzEgpH+rrQe+KKre8Dfl\n",
       "KYjI/aUo1vwDZEj7TVW3fQdjzbks2u+244CRyPm+QdewpYSn+J2TZSLjbVYJp73PHByWEROhpMoR\n",
       "0c8V/g4haFMcEdeRn6mitXm71Gxg+Gxil51QAi97t/RzSb+164ygJYiH9hC/oHxmVo7pKBgChHgP\n",
       "naxC6KojxEqLJI9bnIqzkcO4Qfy/mFtiNyhJ/Y8nm0vz8GeIRtwtFSDK6oGxXwVp4wGUduj3P3VL\n",
       "cnEuhcvI8yAgjUzF6+Ht3AgZC2VJKO+uN6uGrJXnvgE8q0kPK1mkzapAw1iFYCJacjeum1GDkXzS\n",
       "UgKQcOK/CyRV6tODcH3d2SXKx9cerPSphcYpYkEeqEont8+OmSqvspWLggsgrtT80nPhD70hzcad\n",
       "jhfGuKIKrulyf3eOXXA0g3YQE7CPEZU4oC0eXrJP4bFTVZSs2QQZM7sXIyLwKuBa2t+xmOZ2+PDV\n",
       "QSqkEAupdJTfFuhEPTUxqZt0D5S6Eo0/KClALaYebylkgNFP+5hoxAA/hg1FmZNJSofH814DEeZR\n",
       "eITuy1KDWzFFEjyeAIEouS+QAApOWkai07sQpMHbdqnpXXV0KCP9pNtdo3SBvW+aPC514EtxooIP\n",
       "4zHNEonYg4+d+HBp6Ipu+U2VnqID1hU+P6I/MLQrUZ8Qm3yp+lNk2znkYFAD7VXwhJn4FsTPysg6\n",
       "HaOVIDTx3qg+wvMyY/6Tnr6LcDBQaaW+YJTEgXPjFtWedhXhKgp5T4EAAAEtQZohbEEv/rUqgAOk\n",
       "4s0A+lJyQeffaDBn0iv5UqsEQrwLK8fJUerIX9E64fZakKZSLp6AXuM/rTlEctZJ4rEeJ0GUMKFv\n",
       "JJJezRjJdwdsUuJNI5qQHgn4m8oqR3UUmhFVjMtDROKhd3zToaN5Yo4qk6FZiEKnnCjmOJdZR+bi\n",
       "ao3mD74DtvGjChzROirJ4z/wWxNF3VMScjimknpaE7wff8a6cSKC3KoZ7DOBeO+pKe8u97rbN00C\n",
       "yBNtFlBSVvDcNvk8GIKbHFzI6ZI7jqonhqyP+kepNulk+OfRdI1DWT+YFwBYVrPh80O3t8UvLzYK\n",
       "SENO9cojHeHdqBC/bCOLuVAGXiCeSRQG2FiBsNeXRFWWyDukMA6nWlkOCpWFMqYM1pJFwNCYxJIT\n",
       "4DELgAAAAEtBmkI8IZMphBL//rUqgACcNHAHTCoAJ3OfvMAPb4H/E9F+e69Dq3bddU5OjB1eUb/g\n",
       "qvj4DqrYJIYaj7YpCsO3nOaNM0Chz3swevMAAABiQZpjSeEPJlMCCX/+tSqAATkEmERk6oAJ3TyC\n",
       "8qbzXqjO+rLt0BAT5SIe/qgCnj9cel/tgUFtSTiRjJJFOD/tKsXlcNJ5tw3QSP3d8tQccRC8GjFG\n",
       "WH0MLB3pt6JInA4b0mwAAABMQZqESeEPJlMCCX/+tSqAAnCBvP/cPkjI0bNonVqbXqpLQRKAB1r+\n",
       "V3T2ntrUKCDflfCfREysx88cY0CSmOShKtql8S8JFw+myuYjlwAAAFVBmqVJ4Q8mUwIJf/61KoAC\n",
       "gj1hRwZrgBKrkeT30/E3qpdUkxe86YNQFBk3b38Llx92F6cyTO7cA6XjCFfFMeY2baWdg2HcWquZ\n",
       "2yEwaLz9hM9IjCthAAAAT0GaxknhDyZTAgl//rUqgAUD30T9FxmuAD8rvGJeznh9zaCpfqn1jAZ2\n",
       "VDThp/48orbRpv+Eowhi4E4zBMsn7I0gOrcnZcsfbdb/KdZIR8EAAABXQZrnSeEPJlMCCX/+tSqA\n",
       "BS46XoYM1wAsuP20W0GZus2DohfqMkIhko2P/VLzWnh6YluoYnsgVEW7+Igiu+DbUOhohmIQSDn+\n",
       "jD+dYAX6ez4ONs2kUvqhAAAAVUGbCEnhDyZTAgl//rUqgApWyPeSRo8AAdQ3rYCVE2cDbn9siFnr\n",
       "1GmmuFKDK3uP72LRHLyoG7Pw7RML4IaUXKf4fXzv+mxV1ezTaOSBZV1egHqm5VAAAABZQZsqSeEP\n",
       "JlMFETwS//61KoAU3qgod4L5kKt4CmJcN4VpENSCYgHIqCtDM/7CEwL4lpkmlPbYCpNtIUg4jXDJ\n",
       "+/+V6IH/kZH3+1l9zxX2djqz5fxzwH+YHzAAAAA+AZ9JakP/ABz5W/XOezqUpOoQbH8/kAE6ZBsR\n",
       "u0vugmdQAg513EHcmaEILACsgg9lp8h0+HbU/sB8jaIkNSEAAAB1QZtLSeEPJlMCCX/+tSqAFhgL\n",
       "NABOxvnhswn5OEEfpmZWoKpcOa2skDq4WEGJdfc6TPQBV2g3ogbtVTBwDYJKH0pzhuJ9of3GMfzh\n",
       "nzyK6fI2ANJRFPdPRHMHq+nb7bqfn81EW8PuubXMtua/b4pLDhIEgA44AAAAW0GbbEnhDyZTAgl/\n",
       "/rUqgBbICzQARCpBun5e3vzKMP6zzo/mo6RQjSFjBVGHnWrtkVQcwsxusRVdQSd0DZuRYltNpK4R\n",
       "/zyZZm7sbVa9y53mT8+x18ELbpbAUkAAAAA0QZuNSeEPJlMCCX/+tSqAFuc/Ec+R1P9yKRSkQgdo\n",
       "ALjSupZk5FzFOu4SXgTKZEchuzIDLwAAAIdBm7BJ4Q8mUwIJf/61KoAWxIxOUaz/i78DQAOOpIzB\n",
       "nsqlUPo0vGo6CXztCo0gcXvwJMZk1sZB+U/OuphXNy9VSFZxqY6n/xhyp8R/qeSwu0fnR7ZuF6V7\n",
       "xq+CCRQRdaOdW8LK97UVdaHBt00dD0nHNjsK7TYfcuDbJn22DTg71NTuCxdmAd0AAABKQZ/ORRE8\n",
       "EP8AHB66tM8JyAAIfT3foB6gnmPZtkB5AFs3uWuQuU3o6ZdX5yhQCdwX/6i2W+SltdGOQY+OSb7b\n",
       "0hZq9Te7Ht3gmYEAAAA3AZ/vakP/AD3YTYH68Kf7aQAjDwAfGlOOnW0/NXss7UOZ44HHB9iaSIMQ\n",
       "+JoOMNvpUEReeMDjgAAAAFRBm/FJqEFomUwIJf/+tSqADAZ4oe2nVABEJ2MBytL0bOFyNpq/J+Q2\n",
       "4B4A3zPzT1CM6x5hv3qKTURaVQODGO9z8jHL58KB98j6dvs3QXMIwKgA9IAAAABsQZoSSeEKUmUw\n",
       "IJf//rUqgAwXIfZxmoinhh8ktCCB974ANa4TRALP1/LYmMxx1xr9so4pHSL8AIpJV1gOXGWfW/xy\n",
       "p8Jbjus22o3H0rtMf72SB9g/eS437cux9th5tE7oLgTrj6T1RZuoapVtAAAAVUGaM0nhDomUwIJf\n",
       "/rUqgAYuX2Ad03zd5FYANbnxEeCfRwC0B/Wh4hWuvd4UblovG19P35jsM8aGGJJYFO53/esy4LVV\n",
       "1AL8Q1FOs4XXyeJ9FU+ChUcAAABZQZpUSeEPJlMCCX/+tSqABjPne/32YCkjnYOADBZN2vL4mTNq\n",
       "zKpxXGUDkujX64dLvhO28/7kRCfXZ8lcTWt8hfH2OIz2t4kWrpylLhJ4akqeV458TRToBLgAAABU\n",
       "QZp1SeEPJlMCCX/+tSqAAymdTpgp1QA6QPsPMRd8xqKQzHd/WMpbQKhcj+J4f7MuwpIfY1IrYCnl\n",
       "GjginLDO/BH2EVw8dDiWkWKl73rYziFCPhHxAAAAWkGalknhDyZTAgl//rUqgAMt86xsNyk1uKFL\n",
       "vDXHFnIcAik+Fou7SimpXgDul14JYk3tWegr+ZVnpjtXX8WPQ/OOTu2jQbJPTuSPVwCiT/MUyObl\n",
       "cUUpOordrQAAAFdBmrdJ4Q8mUwIJf/61KoABoPjWNt7NxWbzOW4FABO4lh3X9/nxJeQe2UR0dHkf\n",
       "qrPGb7xgSOZ5QX7R3fYZR52jFlweJQZjuFxm5nPK9r+TKEhArNygyg0AAABQQZrYSeEPJlMCCf/+\n",
       "tSqAANB8qQlbuCpq5/ySfdd5SOEBb0zmUt03YHY9TXEfPOypnW0BKwpBkFz4AdhOGeYDfTIvtsYn\n",
       "SZQw/Ah4PSfJNMEAAABtQZr7SeEPJlMCCX/+tSqAAGg+NY23+ZkI3Mz/F8em4ATupOJtNNdyGyYr\n",
       "4lk+eAdosIB0TOP1+zRBTKaHwqPoXuEAK7E/c1pu2toJMeiu/Fz/faeSs0K9iq6A+aOzXaR2fyFV\n",
       "M53MfxATa0eO6AAAAEJBnxlFETwQ/wAHsSp+lPaCaMlMAF1XHQEw5Wx4+6I0vVcl7RrHAXhboEtf\n",
       "Kqj5ZvIYKq7DtDStY63gYdGloZ58N+UAAAA7AZ86akP/ABFYNoJoJ0loa50i1VFFLwotoB9zF5oA\n",
       "Nqlb966GFBme3Torhh1nxOHt99nTDq585+eea14AAACEQZs9SahBaJlMFPBL//61KoAAGg+NP7If\n",
       "wKnFA1/lf5cDTAOVUkpA4HwT/cF81lqj6CknkdnCg+XMDu1d6NPnAowJ0xaB2mMahfb/8XjRy8Ne\n",
       "gJt6YBr2fjca7Y2y0rqcZd6yqbPni4HgcOtb+1AHxqLS37HueZw7cSHcPpLiHGPpBpnRAAAAQAGf\n",
       "XGpD/wARWVoCxfQciPftrpURnABbVGxykI3u3ybuID1aI+X6Ccg6bBR2uH8Pk2Ym8v+XQBv234JO\n",
       "12lqKOkAAABKQZteSeEKUmUwIJf//rUqgAAMt8bwk6BC2RuQgZaLFhHgxebDI+lZb8eIYjqt3xSR\n",
       "v6OvpEfgHA/2A3O89b6C11OuenGMxayOh9wAAABKQZt/SeEOiZTAgl/+tSqAAAxnxvf77u7LYz8E\n",
       "wtpwBMageelaWtlnLmp4wfcgGk4ExU+QXPO2u3gCc6PxDjGLvjy7PxJ94w0uQygAAABQQZuASeEP\n",
       "JlMCCX/+tSqAAAYz43hJtzbJITdgrY3vJwV1bv2xpmCX38JTDDNzMTJpg/X/XnHGJ+ZAB95zVi1j\n",
       "mbCtTBVkz7P+JNfsF/Z0eYEAAABeQZuiSeEPJlMFETwS//61KoAABgvjWV29YF2TtfalFshehABE\n",
       "He9dTSoX6ktOy63V00uDGvak6ETpdWH/m6GXz8i4FGjX1mwYhmUdSVW9CAHGuUZPzQHoYn+Itu9G\n",
       "fwAAADQBn8FqQ/8AESiQzUW4Si4f8DQISkif0UTPhzAyEF1v8Dq/9GkwAugGX/y3tmck1cDX3QCB\n",
       "AAAATkGbw0nhDyZTAgl//rUqgAAC8fRYJOgdghxqgdMr3KocNI/Mpu9NSFTaPsZ+3j3CI6prtFXv\n",
       "I/gJ/pQiPVaO+XY2zAR0p4m8KY6Cv01zjgAAAFpBm+RJ4Q8mUwIJf/61KoAAAtvb78XROzJB4oAL\n",
       "pYjqquF3ilYFDuzVkRvKOiGWF2rq6zS3zdOH3pV39vsrEDsy2PN9y2Z2GDjt8vh3Oo+JY3VokP/d\n",
       "N6NZbp0AAABfQZoFSeEPJlMCCX/+tSqAAALf9EgCf4Q/aUBCXHI/khAgzY5D0U5WMyX6CO2iqxzb\n",
       "gH50/3dFD17yjy8ACqDTefPGimD9A3o8vWKB6pzKQ4+TFGdB68f/X9HnA+76/i0AAABXQZomSeEP\n",
       "JlMCCX/+tSqAAALN9ERA8mAdUAIyvN/Bhhe/dvWTZbaNp8S+ItavcVvGpI18JTbQX56vPxvBS9On\n",
       "b/bWbntlSVahCTjq/dme6/07hwit+3Z7AAAAc0GaSEnhDyZTBRE8Ev/+tSqAAAK79EgCf43st7AC\n",
       "a1JvkwKEeRHnEMH6yiSVpbfhKSkuKlBFWO6odJRnGGXN/mLNIupst2nX9ESxYC9TbqfqZ/pDCOWI\n",
       "bZWKIn4cA935BkS+jId6W/XNpGe0c69G2GnkfG0AAAAxAZ5nakP/ABEokM1FuEoQuy/9/zftE/+Q\n",
       "/NwtACmfTcMoxMfHqGK4UnQNbbhJoFdKCAAAAE1BmmlJ4Q8mUwIJf/61KoAAAqnRvZGOli85gVYl\n",
       "VKp/ngAOvyg+UFBUosGTrdFjD3F/7Nq4NrxNJrRkFFqzLvkB+t1LR5ObYzF5HeDJRgAAAFlBmopJ\n",
       "4Q8mUwIJf/61KoAAApcGGCEUHwmyPAAHRyORUi4eCPB5j4RZ6u8VLW8COy7Ych3zeRGC8ARHXl21\n",
       "Rs3y9nTz60fw2BhhltpIru+9UlV7Tvso6dP24QAAAG1BmqtJ4Q8mUwIJf/61KoAABQR8HZSTqgAd\n",
       "E/CKgPT+xwfwTGjXIBd3M7X7hb/mLgPzZV54iMBhSV/pAZ6+e9g0uCQfWpv2dh9jecyKZd1mb/Dg\n",
       "nolAQ7Ue5dSmsnm0f3/BzS3+7j1MxKIXPVOQAAAAY0GazEnhDyZTAgl//rUqgAAFA4i9TfhbDoH9\n",
       "ygAdT2W3Kn+3kD3dUwPOmWeHJHjfs8Zt2B8AS1BAGBedSJIfj8dVxpeDG9h/8M4fMX2tdqeZdTtK\n",
       "Fw7/iX5qGh9j3yA6vTqmsAAAAG5Bmu1J4Q8mUwIJf/61KoAACce4s3pECCfVqABwPO05wqPUvXvr\n",
       "YkotKMmCJ6/zFwIJ7WAW88Ah256cFLzf3ip41iip6EjyemGNRdNZdLbg/ElfCwdpMfOFomdABztn\n",
       "hPPz+Pp+GOHukU4FO21CQQAAAGVBmw5J4Q8mUwIJf/61KoAAE5BNVT6M1wBfgdHYJST7ZVgVk9qA\n",
       "m6Q/IQX0vpPiPWSN7RoyIDojKbPpmdY6eNr17A/fQtyrfO2HipMWuso6G+dum1uSqyu2F43VI/bj\n",
       "7uxGvDuuYQAAAFdBmy9J4Q8mUwIJf/61KoAAE5nAQGAmtkAlABEIjH1AHB+ncHswxbTtWUZ4Bgnd\n",
       "iBHdJcDqlbBeh9UbLmRJUHuJ/g3GUXS4wa7JmW2v/rsBy//lufzJju0AAABZQZtQSeEPJlMCCX/+\n",
       "tSqAACcJIYNloa9wAlVuSfRmXY5YFrks4h1llzuF2qvyPsXfJyscKSf0ScCDpstts+91/88b+tW4\n",
       "D5qaRlXW5kG9qixg36l9jcfkfO0AAABlQZtxSeEPJlMCCX/+tSqAAEwQN+q7iIzs5TXnZgRRQAcG\n",
       "TOpHJ3P+J792jHAxJbL+VMz+/DfnqdmCqvyKUsfJItGEP8oF7u8k7a7c3nK69ylwMlXTg2a3vSgY\n",
       "S00fxNT6hWIsFYAAAABLQZuSSeEPJlMCCX/+tSqAAE4eoc36p+GntXo3oACEVUOqPJ1byyicKGoZ\n",
       "kTF93Gp2mTGrzklEdzJxh7J9a3Pdj2PBRaSq+Z50iNZRAAAAZUGbs0nhDyZTAgl//rUqgACc31rQ\n",
       "AzXAC0+xE/qfPbeLucMXLDg3uPFTtaHMQAvwU21DYJcp+IPyyzsx6bTAf8C3+4vL4qTJV99oN7+r\n",
       "P4bMb0YosL4JZVTfXLbxGiI6Uziu9fvgAAAAXUGb1EnhDyZTAgl//rUqgAE4Z2OPpq0vjy/CMAJ2\n",
       "Mfdx+uaCqmGgxDyT5R3cxlZISayJxg9GEizTuXrRFcC+e/kDFbYWjk+XJJBZpYAcL/z2Iquhkxeo\n",
       "IZRyUYaExgAAAD5Bm/VJ4Q8mUwIJf/61KoABOZutn7xDv4S4AL5+krQwsfptAMq2RuZMR83bBefJ\n",
       "bhO2JpNzt9MjqU1YHOcKCQAAAEtBmhZJ4Q8mUwIJf/61KoACcNA1dzrOAA5zZAr4jzwyp+3vWqex\n",
       "o+DQF09oZb4tYOtwTDurkY5NaW2CLu8qj8cguHH4Jdfyl0CYY0AAAABiQZo3SeEPJlMCCX/+tSqA\n",
       "BQur8eKuEqRn0HNbtw9P2YZQ5QFrdO78ZE2P7ki+0jmcDcxl9SJu4fSxqOIgNHwY+RKYbRAF5OLX\n",
       "w0VqJkESH1JvyudbCcnZCcedqJbUIFhzCDkAAABcQZpYSeEPJlMCCX/+tSqABQR7WA2i8RwAX2o0\n",
       "BMACg+mNKfdf43YP1ytGJFCXfGCh0sXpbbR3xax2dZI7qRPT1EICq1Z9ZDKBPHsTLKzIuy4bVy3j\n",
       "6kiTZ/6MJ8EAAABmQZp5SeEPJlMCCX/+tSqAClFFmgVKk5IOfUYwucrU4TOW73kt8phzo5TOB4Z4\n",
       "64qCX40YB0QvuiHyzHxLHa1GUCiSN/pvyPjgPEvPRCrudrMYBVJ9ARwV6os/0ZV0tITXt8FeUBsw\n",
       "AAAASkGamknhDyZTAgl//rUqgApPJWkPyctt2SnhlYAHZREfUJf+mOIvDg7HYVNeW7qClsHCqWRn\n",
       "VtkQAv0zPlY79+DYMZ/HtrZJOAz5AAAAUEGau0nhDyZTAgl//rUqgAqeTDuYaZDtey4AL6LjM28J\n",
       "0kuKw5VXgzJFoy+icECeKnShOYRJJLtc19iMuhq6/7FBuB9Hnce09g982lA7JpxMAAAAc0Ga3Enh\n",
       "DyZTAgl//rUqgBWMrr/2h23iAFuuOZaFGlFVA/Fb/YsgQK0ZngIkyYHGOhbxamOvFpdqwACp64Wk\n",
       "tCL5hhXdLLXp5CtLcnMj3xX7/++m9RUhaLQepxdaG9T+xxnwhY9x1b+UwvdrWSCazR+jVzkAAABi\n",
       "QZr9SeEPJlMCCX/+tSqAFjyuv/6v2KoANpccj+FgoU9wqN8VL6FOMSlkqA4x2K/P05OH0R+B5eXP\n",
       "x8uZctDsDvWIwPfiWZj2uHK1Y/BZSiqjvldbGmMIHO67zl81l5MQNCEAAABmQZseSeEPJlMCCX/+\n",
       "tSqAFuyuv8fisuACFVJyP5uivGUfUdu3piGTGw86bN7QKf3HkU27RPvwgHvJaWip/uuM6Ou3MElf\n",
       "uPwJS0N7VznIAufKBNqK/lFNgPyAxW8miDKDq364wCLgAAAATkGbP0nhDyZTAgl//rUqgBemPxKI\n",
       "HN5oBM73Jixl8l3QAJddm2P1bNE++fPBcpL74XThtn8NPSn4vTEN5VONMXx6ZaJy9yHFmRzPgiAY\n",
       "EAAAAGNBm0BJ4Q8mUwIJf/61KoAXrAf/9odt4gCJXFDCIwZk+3clsIfof4bNJBve2JCt6Qg59jLJ\n",
       "InCrxGfDQ7yPOW94zEauhbiOwjBU+lcb75jZ0tJz46wigSZnS0n0AwNdyzdVqRkAAABbQZthSeEP\n",
       "JlMCCX/+tSqAF4YpwufFSkuJlGYucqo2ADs5lnKuaAB5sM3iPnZB/K62vtv7R9SqvibFqk7NW4+p\n",
       "18Saa1Jd/Vxb0Rx8MePeIZAzyOQrzwyjfGRJvQAAAGRBm4JJ4Q8mUwIJf/61KoAYXRMEmvdJE94i\n",
       "MZSAAhBI72r77x1XDOVuZH3ZGdv0zycJb6cNlPjND/n8chb5xEui0V839A+0NoogWlfPDHuBkQzv\n",
       "Dq0aAY6o/LMlJ9rn5cnF0QMRAAAAX0Gbo0nhDyZTAgn//rUqgBlF2w6G/6KwxCyYoAWE4gWn6Xv6\n",
       "K2Xujr/CzLSnHBWjSVe3Nu9jysChexPoafoSZTgreBhwdQQ4S/yLvAZPJSP5gcyRgzfJVG/qOTns\n",
       "zKngAAAAfUGbxknhDyZTAgl//rUqgAwXxrK6s3Y1uRtgTM/xox9QAGjqTiiklGxq/p0jbBy4D9ui\n",
       "6LrWv2tdmIOZDsZJn61PphJP7Q/5mbLvXvKc5BV+mUohbHjM1gruQu2TadSIc2z0iGGywMRT/arB\n",
       "n8pb1iS56b9T13ANn2UksEfBAAAAO0Gf5EURPBD/AA7U+JQb8tXCYpl5ddlzurv7z5UzHZVdpl0f\n",
       "8zAAhQr0NxcX/FbmkYs08mNIWV/Wh0WBAAAAMQGeBWpD/wAQ1o0i1AxnhQzt0R+6vEC8QN8A7pmW\n",
       "gA/MrZmtMeVTaqOd/fzziO6sR4EAAACKQZoISahBaJlMFPBL//61KoADLfGsbb+y1/YRFpxANWEl\n",
       "HxFNW0Hi8QEo/q6OSLtrCOn52loa+CU2Titxo3dNF3bpf5FmDF0Bgq6FOspbsdSbEB9yg7nmwtJt\n",
       "2iQeeaTHacPZISm4ZW3LtbJFZS81IcsVZKZwIipPcPAzO3SnAuCVta41ZWiYP0KDAAAARAGeJ2pD\n",
       "/wAIq0aRtm3Bhw8DXSv8BuLaQkzn8NNABprnfAmg0dia3QxNkQCT+WfGSKj63fjUJRGju7ft/aOm\n",
       "7DkSUBswAAAAlEGaKknhClJlMFLBL/61KoABlvjWV29YF2xKHFn+V+rifgBO6jRFvzffs2jiqfKn\n",
       "1W9bohRHjhBw7eFT0Jli/9fNmQP2bRpso/oV9LqEwX/ymRDDzwMN0RywHt8qWCClwxp09A+jNrKm\n",
       "K6AFOjLJauhBaIKy982MjBQb/wFK3E2VVPFwHJcCO+AfyWWOfJ2dCjDrVlQAAABCAZ5JakP/AAbX\n",
       "kog72QV2lc68+LNWyMamZGADuxLZTK/v5p7wbnYlLQ563awUbigqTh0dtv2pWUz/+I+GPjIMWo7p\n",
       "AAAAT0GaS0nhDomUwIJf/rUqgABoPjWDf1CvfqfjAAA647UuC2PbulOTm80toY+bM3j9LgyQ5XkC\n",
       "O4uCNbLBzCo9epSpTpgqVdpDaA78mXH3I6YAAACCQZptSeEPJlMFFTwS//61KoAANB8axtvdzA6/\n",
       "8Ej5il3hrjrKtyoaP0jHgYLGuw5Li2XEYWZFsG6xWSq/ffR1rTrIFBD2nIf37zgdhfmPF4QWOlMl\n",
       "IJ7EwVFYrfK43qbOzdjAI454P2i9amo+ieE89waxejZKp42c2QFHZMDtvkWHGAAAAD8BnoxqQ/8A\n",
       "BteSgmQAD0aR2witSgVKqfVXpUtoAS1NjPq8ZLQl2WLugm80PlxjBgbZK3F7noOxk7epd/L1KWEA\n",
       "AABKQZqOSeEPJlMCCf/+tSqAAGM+UpZG3f/N4eEn4d4aCKBrig8AIuqvZ1jeSLkkZxJ4QJg4c97E\n",
       "1w5IWzEKWQtxCjtEHieuVoxLCN8AAABqQZqwSeEPJlMFETwT//61KoAADLfKl/m+9YLhJ6PPfq8F\n",
       "3fLPkCWoAf5REcxoAHgF35lFbSmBY5Sfj6vEMN9Qgatk/0q5+ntPRW0HHLPn/ooG9Ikv/f/cGmS3\n",
       "9xQ2+QmGDJAxwGIDL/X88QAAAEUBns9qQ/8ABteSggxKq6V39FavPgBag8J2zpMAH5yYOQO1rIga\n",
       "+TiktqA3h+xTrUhD4nZt17rxwSmgaXFWyLMOz/guI0AAAACGQZrTSeEPJlMCCX/+tSqAAAYz41jb\n",
       "f3hlUXFACMt4ZkFxJoa57YzR+ct1E10jwDZdaPfCDSNuf8FbCLJemc1jh2zQ2Pae9m2y8HvlPEVd\n",
       "A7csmaxq+Fq7QeegmiaASoz8InDjCK/YPtmWtwNfOmZ3ncMFLYe6Oq9yyAgMCXzpluE/RQc79kAA\n",
       "AABOQZ7xRRE8EP8AAxwT4brWOHhAybosNjXB4VACHE8LCaTszT/rw1ZoZe3nbMsxCEczVeFV84a6\n",
       "1M8zwvqMlasfM7MNtR/hU/+R/51T0XOBAAAAPwGfEmpD/wAAENaNItQ9zjLVaXUWO0L0uLMdAAIT\n",
       "XotvT+CL7sOopE4qY1KB7a9nAjJ209Pl9fqJnuMVJJenRQAAAIhBmxVJqEFomUwU8Ev//rUqgAAD\n",
       "BfGsbbjr+EPi1ABtLjkhY9AZ5vj1YyKckLlbKJY4AkD/R01nNLA4YA1Vcmh72llPmfOo4LIrBh//\n",
       "/xctxkQyqICmtg1M2Yw/f905AU2zgM6zPlrhX/qy/7Ckp5ntk7j+BUSl9S73Rcn5t0ECCvxHj1t8\n",
       "/82OAAAASgGfNGpD/wAG6DLQm7prrwVLH2uc4ANvVOyI+1Iw+cs5YmJKjONtey3jG2Y+MMLoq/gC\n",
       "d1zJ89ws1+IOlDrz2n8TnfFw5AZ9QAo3AAAASkGbNknhClJlMCCf//61KoAAAt/0wAp/iA1PUAOP\n",
       "vItnhonvNqymMpCMFRtDIQip0rnMbVU7PsL7L31FHm1S8Ti0sSWlSM/Bc0nQAAAAdUGbWUnhDomU\n",
       "wIJf/rUqgAACzfRI7zk/3FfogwAdm4f0RMf5RfsvESuxDQaLo5UPH9g1Al3jMX2X2jL5TFBYM+B8\n",
       "nV6WEWVIUxAzKRcsrQR9PVV/7JdXFAT8iLfgVIXVIXAPdc+Y3hYwegv5XZpjXf9ZEUp00QAAAEpB\n",
       "n3dFETwQ/wADI5ZuDBKpJdQrRIAQe2XfumsguioQTJ96mvGMZhLvH57o79dM+OizSoh4ckCFsvkb\n",
       "YbDAw/KDJs0lu7aILA70bQAAAEgBn5hqQ/8AAAisG4pRjWBqNoAOI+0UqsT46UQyq1LnAgdh0vLE\n",
       "htRrbigQTGYq13KlNqPVyr6HHbpGKaQ9RLUlrAXpQUHeEpYAAACNQZubSahBaJlMFPBL//61KoAA\n",
       "Aqn0WCVgMGu3X2uTaYIS0VvomxLYN6rUfI3V5y1WE83HsA7rvnOose1yYDiRMIO4Y3PxnOm6gMCc\n",
       "W3QDnlHXigYK4VQDol1NQMk9s1gvPqAkYpZHuNo4+pdlc+S/YvLjj17RjY/8BxNQyz+Uwpl4N4Tz\n",
       "lqyRbxfZeAmHAAAAOwGfumpD/wAG6DLQm7prUsCjKHf8AJaoFq2MMtEHzMr5YNsbjKjHeoxvn6Ju\n",
       "5+1JVWz+xF6qxDsEd1eAAAAAVUGbvEnhClJlMCCX//61KoAABSh8JuuM1wBeNbAgA8YxVoGzgb9k\n",
       "acfeeeS7FE1F7imCQhhLwa4TINtOxAjjff/3PLiqvpOl6pBQkLw/aIHdTrnzJKEAAABYQZvdSeEO\n",
       "iZTAgl/+tSqAAAUv6LBJ0DPvxr2CFQjLoxjaEUMKNnZ73j8p5+JTRX181Z83X1tlryOctOOVEJs4\n",
       "Ot5jDGmsGQS63zzkqzgonqk+qE/jV43cCwAAAFxBm/5J4Q8mUwIJf/61KoAACgj2irQ9M/ooN7AB\n",
       "dKgr+g0p6cZJaakFpbiN34d33VGmUwRpGwPUy9hE/leX5I3XUSQ9Z99bfsZa2olOzH77uqxX2X+P\n",
       "0aW1+XNYQAAAAFtBmh9J4Q8mUwIJf/61KoAAChdG9kZRmGgS35BQHKMX2D9ueAA7FuwEpHkC8zGw\n",
       "W6M1lwHCgG07tPa0KAY9N4IBtb4yReBE4rSOeVPDQlT9uQNPn/2LYjsTNV+uAAAAZUGaIUnhDyZT\n",
       "BRE8Ef/+tSqAACcN3/NKytUO6KeBbn/5c1gMB8W8kV//6t1TbB4fba+R531oFkHHyQJYMoCBgRGm\n",
       "XIRyaiEJOQYot1kFzayayOyCE3Sq5ZwPRxfAoVR8xWVU5tb7AAAAQQGeQGpD/wAG15KCSJdUQYmX\n",
       "dQ5zQAfgNgm74CbuxsZtDX5cdN3TX8TTEda11FKI6gtBg2kX+wtfPEn96IxX79KwAAAARUGaQknh\n",
       "DyZTAgh//qpVAABODd2YsRQAJauv+1/HqOBW/NBWGVQGvfRv9UkvWdYsklIGE9H6suLs18yihefe\n",
       "mnBbSJeDgQAAAGFBmmNJ4Q8mUwIf//6plgACYGkJtR7wA48G9nR+l3XDq5ofobTubqm1J2rr71fZ\n",
       "/mCr24/sgvlqL6QRA2lE//fCLapYeuCHtAaqu14MwuJfIkbAAT0FG93PnLUmqtB962BqAAAGGm1v\n",
       "b3YAAABsbXZoZAAAAAAAAAAAAAAAAAAAA+gAAE4gAAEAAAEAAAAAAAAAAAAAAAABAAAAAAAAAAAA\n",
       "AAAAAAAAAQAAAAAAAAAAAAAAAAAAQAAAAAAAAAAAAAAAAAAAAAAAAAAAAAAAAAAAAAAAAAIAAAVE\n",
       "dHJhawAAAFx0a2hkAAAAAwAAAAAAAAAAAAAAAQAAAAAAAE4gAAAAAAAAAAAAAAAAAAAAAAABAAAA\n",
       "AAAAAAAAAAAAAAAAAQAAAAAAAAAAAAAAAAAAQAAAAAGwAAABIAAAAAAAJGVkdHMAAAAcZWxzdAAA\n",
       "AAAAAAABAABOIAAAEAAAAQAAAAAEvG1kaWEAAAAgbWRoZAAAAAAAAAAAAAAAAAAAKAAAAyAAVcQA\n",
       "AAAAAC1oZGxyAAAAAAAAAAB2aWRlAAAAAAAAAAAAAAAAVmlkZW9IYW5kbGVyAAAABGdtaW5mAAAA\n",
       "FHZtaGQAAAABAAAAAAAAAAAAAAAkZGluZgAAABxkcmVmAAAAAAAAAAEAAAAMdXJsIAAAAAEAAAQn\n",
       "c3RibAAAALdzdHNkAAAAAAAAAAEAAACnYXZjMQAAAAAAAAABAAAAAAAAAAAAAAAAAAAAAAGwASAA\n",
       "SAAAAEgAAAAAAAAAAQAAAAAAAAAAAAAAAAAAAAAAAAAAAAAAAAAAAAAAAAAAABj//wAAADVhdmND\n",
       "AWQAFf/hABhnZAAVrNlBsJaEAAADAAQAAAMAKDxYtlgBAAZo6+PLIsD9+PgAAAAAHHV1aWRraEDy\n",
       "XyRPxbo5pRvPAyPzAAAAAAAAABhzdHRzAAAAAAAAAAEAAABkAAAIAAAAABRzdHNzAAAAAAAAAAEA\n",
       "AAABAAABaGN0dHMAAAAAAAAAKwAAAAkAABAAAAAAAQAAGAAAAAABAAAIAAAAAAMAABAAAAAAAQAA\n",
       "IAAAAAACAAAIAAAAAAgAABAAAAAAAQAAIAAAAAACAAAIAAAAAAEAABgAAAAAAQAACAAAAAADAAAQ\n",
       "AAAAAAEAABgAAAAAAQAACAAAAAAEAAAQAAAAAAEAABgAAAAAAQAACAAAAAAbAAAQAAAAAAEAACAA\n",
       "AAAAAgAACAAAAAABAAAYAAAAAAEAAAgAAAAAAQAAGAAAAAABAAAIAAAAAAEAABAAAAAAAQAAGAAA\n",
       "AAABAAAIAAAAAAEAABAAAAAAAQAAGAAAAAABAAAIAAAAAAEAACAAAAAAAgAACAAAAAABAAAYAAAA\n",
       "AAEAAAgAAAAAAQAAEAAAAAABAAAgAAAAAAIAAAgAAAAAAQAAGAAAAAABAAAIAAAAAAQAABAAAAAA\n",
       "AQAAGAAAAAABAAAIAAAAAAIAABAAAAAAHHN0c2MAAAAAAAAAAQAAAAEAAABkAAAAAQAAAaRzdHN6\n",
       "AAAAAAAAAAAAAABkAAAKNwAAATEAAABPAAAAZgAAAFAAAABZAAAAUwAAAFsAAABZAAAAXQAAAEIA\n",
       "AAB5AAAAXwAAADgAAACLAAAATgAAADsAAABYAAAAcAAAAFkAAABdAAAAWAAAAF4AAABbAAAAVAAA\n",
       "AHEAAABGAAAAPwAAAIgAAABEAAAATgAAAE4AAABUAAAAYgAAADgAAABSAAAAXgAAAGMAAABbAAAA\n",
       "dwAAADUAAABRAAAAXQAAAHEAAABnAAAAcgAAAGkAAABbAAAAXQAAAGkAAABPAAAAaQAAAGEAAABC\n",
       "AAAATwAAAGYAAABgAAAAagAAAE4AAABUAAAAdwAAAGYAAABqAAAAUgAAAGcAAABfAAAAaAAAAGMA\n",
       "AACBAAAAPwAAADUAAACOAAAASAAAAJgAAABGAAAAUwAAAIYAAABDAAAATgAAAG4AAABJAAAAigAA\n",
       "AFIAAABDAAAAjAAAAE4AAABOAAAAeQAAAE4AAABMAAAAkQAAAD8AAABZAAAAXAAAAGAAAABfAAAA\n",
       "aQAAAEUAAABJAAAAZQAAABRzdGNvAAAAAAAAAAEAAAAwAAAAYnVkdGEAAABabWV0YQAAAAAAAAAh\n",
       "aGRscgAAAAAAAAAAbWRpcmFwcGwAAAAAAAAAAAAAAAAtaWxzdAAAACWpdG9vAAAAHWRhdGEAAAAB\n",
       "AAAAAExhdmY1OC40NS4xMDA=\n",
       "\">\n",
       "  Your browser does not support the video tag.\n",
       "</video>"
      ],
      "text/plain": [
       "<IPython.core.display.HTML object>"
      ]
     },
     "execution_count": 11,
     "metadata": {},
     "output_type": "execute_result"
    }
   ],
   "source": [
    "a=0.2\n",
    "e=0.8\n",
    "b=a*np.sqrt(1-e**2)\n",
    "\n",
    "Es=np.linspace(0,2*np.pi,100)\n",
    "rs=(np.vstack((a*np.cos(Es),b*np.sin(Es),np.zeros_like(Es)))).transpose()\n",
    "\n",
    "am=2\n",
    "em=0.7\n",
    "bm=am*np.sqrt(1 - em**2)\n",
    "    \n",
    "xm = []\n",
    "ym = []\n",
    "for E in np.linspace(0, 2*2*np.pi, 100):\n",
    "    \n",
    "    M=R.from_euler('z', E, degrees=False).as_matrix()\n",
    "    rps=np.array([M.dot(r) for r in rs])\n",
    "    \n",
    "    xm.append(am*np.cos(E) + rps[:,0])\n",
    "    ym.append(am*np.sin(E) + rps[:,1])\n",
    "    #plt.fill(xm, ym+rps[:,1], color='r')\n",
    "    #plt.axis(\"equal\")\n",
    "    #camera.snap()\n",
    "#\n",
    "ym = np.array(ym)\n",
    "xm = np.array(xm)\n",
    "\n",
    "\n",
    "fig = plt.figure()\n",
    "camera = Camera(fig)\n",
    "for i in range(len(xm)):\n",
    "    plt.scatter(0, 0, c='blue', s=15**2)\n",
    "    plt.fill(xm[i], ym[i], color='#606875')\n",
    "    plt.axis('equal')\n",
    "    camera.snap()\n",
    "animation = camera.animate()\n",
    "animation.save('src/gallery/tidal_bulge.gif')\n",
    "plt.close()\n",
    "HTML(animation.to_html5_video())"
   ]
  },
  {
   "cell_type": "markdown",
   "id": "7832ba05",
   "metadata": {},
   "source": [
    "<img src=\"src/gallery/tidal_bulge.gif\" style=\"align:center; width: 40%\">"
   ]
  },
  {
   "cell_type": "markdown",
   "id": "9cf35594",
   "metadata": {},
   "source": [
    "* Replicar figura 5.1\n",
    "  - Asignar un valor a n, eta', y hacer la animación\n",
    "  "
   ]
  },
  {
   "cell_type": "code",
   "execution_count": 1,
   "id": "1a0a3b77",
   "metadata": {},
   "outputs": [],
   "source": [
    "!pip install -q pymcel"
   ]
  },
  {
   "cell_type": "code",
   "execution_count": 2,
   "id": "9e932fe6",
   "metadata": {},
   "outputs": [],
   "source": [
    "import pymcel as pc"
   ]
  },
  {
   "cell_type": "code",
   "execution_count": 4,
   "id": "f0fc4d84",
   "metadata": {},
   "outputs": [],
   "source": [
    "pc.kepler_newton?"
   ]
  },
  {
   "cell_type": "code",
   "execution_count": 42,
   "id": "873a1fb4",
   "metadata": {},
   "outputs": [
    {
     "data": {
      "text/plain": [
       "<matplotlib.collections.PathCollection at 0x7f6f670e4640>"
      ]
     },
     "execution_count": 42,
     "metadata": {},
     "output_type": "execute_result"
    },
    {
     "data": {
      "image/png": "[encoded data removed]",
      "text/plain": [
       "<Figure size 640x480 with 1 Axes>"
      ]
     },
     "metadata": {},
     "output_type": "display_data"
    }
   ],
   "source": [
    "am = 2\n",
    "em = 0.7\n",
    "bm = am*np.sqrt(1 - em**2)\n",
    "Es = np.linspace(0,2*np.pi,100)\n",
    "rs = (np.vstack((am*np.cos(Es),bm*np.sin(Es),np.zeros_like(Es)))).transpose()\n",
    "\n",
    "a = 0.2\n",
    "e = 0.8\n",
    "b = a*np.sqrt(1 - e**2)\n",
    "mu = 1\n",
    "n = (mu/a**3)**1/2\n",
    "\n",
    "rps = []\n",
    "tp = 0.01\n",
    "for t in np.linspace(0, 2*np.pi/n, 40):\n",
    "    M = n*(t - tp)\n",
    "    Rot = np.array([[np.cos(M), np.sin(M)],[-np.sin(M), np.cos(M)]])\n",
    "    E = pc.kepler_newton(M, e)[0]\n",
    "    f = 2*np.arctan(((1 + e)/(1 - e))**0.5*np.tan(E/2))\n",
    "    r = a*(1 - e**2)/(1 + e*np.cos(f))\n",
    "    rs = np.vstack((-r*np.cos(f),-r*np.sin(f))) #Planet coordinates\n",
    "    rps.append(Rot.dot(rs)) #Primed coordinates\n",
    "\n",
    "rps = np.array(rps)\n",
    "xs = rps[:,0]\n",
    "ys = rps[:,1]\n",
    "\n",
    "fig = plt.figure()\n",
    "camera = Camera(fig)\n",
    "#for i in range(len(rps)):\n",
    "    #plt.scatter(0, 0, c='blue', s=15**2)\n",
    "#    plt.plot(xs[i], ys[i], color='#606875')\n",
    "#    plt.axis('equal')\n",
    "#    camera.snap()\n",
    "\n",
    "plt.scatter(xs,ys)"
   ]
  }
 ],
 "metadata": {
  "kernelspec": {
   "display_name": "Python 3 (ipykernel)",
   "language": "python",
   "name": "python3"
  },
  "language_info": {
   "codemirror_mode": {
    "name": "ipython",
    "version": 3
   },
   "file_extension": ".py",
   "mimetype": "text/x-python",
   "name": "python",
   "nbconvert_exporter": "python",
   "pygments_lexer": "ipython3",
   "version": "3.8.15"
  }
 },
 "nbformat": 4,
 "nbformat_minor": 5
}
