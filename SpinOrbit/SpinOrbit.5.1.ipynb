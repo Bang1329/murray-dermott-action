{
 "cells": [
  {
   "cell_type": "markdown",
   "id": "9da05ea0",
   "metadata": {},
   "source": [
    "# Spin-Orbit Coupling\n",
    "## Action by Leonard A. Gómez-García\n",
    "\n",
    "In this chapter, we start by further examining the effects of a tidal torque on a satellite’s rotation.\n",
    "\n",
    "For details on the theory please refer directly to the book:\n",
    "\n",
    "> Murray, C. D., & Dermott, S. F. (1999). Solar system dynamics. Cambridge university press."
   ]
  },
  {
   "cell_type": "markdown",
   "id": "756574b6",
   "metadata": {},
   "source": [
    "## 5.1. Introduction"
   ]
  },
  {
   "cell_type": "markdown",
   "id": "31d845f7",
   "metadata": {},
   "source": []
  },
  {
   "cell_type": "markdown",
   "id": "de92164a",
   "metadata": {},
   "source": [
    "## 5.2 Tidal Despinning "
   ]
  },
  {
   "cell_type": "markdown",
   "id": "56cc8293",
   "metadata": {},
   "source": [
    "Pag 194) 'Thus, in the absence of a permanent quadrupole moment, the Moon, for example,\n",
    "would rotate about 3% faster than the observed synchronous rate, and over a\n",
    "period of about 2.6 y, we would see both sides of the satellite.'"
   ]
  },
  {
   "cell_type": "markdown",
   "id": "b60ec76b",
   "metadata": {},
   "source": [
    "## 5.3 The Permanent Quadrupole Moment"
   ]
  },
  {
   "cell_type": "markdown",
   "id": "1316b660",
   "metadata": {},
   "source": []
  },
  {
   "cell_type": "markdown",
   "id": "149b60e0",
   "metadata": {},
   "source": [
    "## 5.4 Spin-Orbit Resonance"
   ]
  },
  {
   "cell_type": "markdown",
   "id": "3d8ab452",
   "metadata": {},
   "source": []
  },
  {
   "cell_type": "markdown",
   "id": "3496067c",
   "metadata": {},
   "source": [
    "## 5.5 Capture into Resonance"
   ]
  },
  {
   "cell_type": "markdown",
   "id": "5041b2b7",
   "metadata": {},
   "source": []
  },
  {
   "cell_type": "markdown",
   "id": "34163188",
   "metadata": {},
   "source": [
    "## 5.6 Forced Librations"
   ]
  },
  {
   "cell_type": "markdown",
   "id": "853f6c45",
   "metadata": {},
   "source": []
  },
  {
   "cell_type": "markdown",
   "id": "24214c70",
   "metadata": {},
   "source": [
    "## 5.7 Surface of Section"
   ]
  },
  {
   "cell_type": "markdown",
   "id": "fa0aace9",
   "metadata": {},
   "source": []
  }
 ],
 "metadata": {
  "kernelspec": {
   "display_name": "Python 3 (ipykernel)",
   "language": "python",
   "name": "python3"
  },
  "language_info": {
   "codemirror_mode": {
    "name": "ipython",
    "version": 3
   },
   "file_extension": ".py",
   "mimetype": "text/x-python",
   "name": "python",
   "nbconvert_exporter": "python",
   "pygments_lexer": "ipython3",
   "version": "3.9.12"
  }
 },
 "nbformat": 4,
 "nbformat_minor": 5
}
