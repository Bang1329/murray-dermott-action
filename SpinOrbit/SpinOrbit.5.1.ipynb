{
 "cells": [
  {
   "cell_type": "markdown",
   "id": "22d9753d",
   "metadata": {},
   "source": [
    "# Spin-Orbit Coupling\n",
    "## Action by Leonard A. Gómez-García\n",
    "\n",
    "In this chapter, we start by further examining the effects of a tidal torque on a satellite’s rotation.\n",
    "\n",
    "For details on the theory please refer directly to the book:\n",
    "\n",
    "> Murray, C. D., & Dermott, S. F. (1999). Solar system dynamics. Cambridge university press."
   ]
  },
  {
   "cell_type": "code",
   "execution_count": 5,
   "id": "90d31f87",
   "metadata": {},
   "outputs": [],
   "source": [
    "#Packages\n",
    "import numpy as np\n",
    "import matplotlib.pyplot as plt\n",
    "\n",
    "#Routines and constants from packages\n",
    "from scipy.integrate import odeint\n",
    "from scipy.constants import G"
   ]
  },
  {
   "cell_type": "markdown",
   "id": "ef5456ab",
   "metadata": {},
   "source": [
    "## 5.1. Introduction\n",
    "\n",
    "In the previous chapter, we considered the effect of tides raised on a satellite by a planet where we assumed that the satellite was in a synchronous spin state"
   ]
  },
  {
   "cell_type": "markdown",
   "id": "b7ad4874",
   "metadata": {},
   "source": []
  },
  {
   "cell_type": "markdown",
   "id": "0f8d48a6",
   "metadata": {},
   "source": [
    "## 5.2 Tidal Despinning "
   ]
  },
  {
   "cell_type": "markdown",
   "id": "09b3d32f",
   "metadata": {},
   "source": [
    "For small values of the satellite’s eccentricity e, the angle $\\phi$ (Shown in book's Figure 5.1b) is given by:\n",
    "\n",
    "$$\n",
    "\\phi \\approx 2e \\sin{nt}.\n",
    "$$\n",
    "The tidal torque acting to change the spin of the satellite is:\n",
    "\n",
    "$$\n",
    "N_{s} = -D \\left( \\frac{a}{r} \\right)^{6}sign{(\\dot{\\eta}-\\dot{\\phi})}\n",
    "$$\n",
    "\n",
    "where\n",
    "\n",
    "$$\n",
    "D = \\frac{3}{2} \\frac{k_{2}}{Q_{s}} \\frac{n_{4}}{\\mathcal{G}} R_{s}^{5}\n",
    "$$\n",
    "\n",
    "and is a positive constant, and $Q_{s}$, $k_{2}$, and $R_{s}$ are the tidal dissipation function,\n",
    "Love number, and radius of the satellite, respectively. A positive torque will act\n",
    "to increase the spin of the satellite, $\\dot{\\eta}$."
   ]
  },
  {
   "cell_type": "markdown",
   "id": "b5f22ed9",
   "metadata": {},
   "source": [
    "**To do:** Change the $\\tau(\\mathrm{y})$ column to $R_{s}$\n",
    "\n",
    "| Body | Type | Perturber | $k_2$ | $Q$ | $\\tau(\\mathrm{y})$ |\n",
    "| :--- | :--- | :--- | :--- | ---: | :--- |\n",
    "| Mercury | rocky | Sun | $(0.1)$ | $(100)$ | $4 \\times 10^9$ |\n",
    "| Venus | rocky | Sun | $0.25$ | $(100)$ | $6 \\times 10^{10}$ |\n",
    "| Earth | rocky | Sun | $0.299$ | $ 12 $ | $5 \\times 10^{10}$ |\n",
    "| Mars | rocky | Sun | $0.14$ | $ 86 $ | $7 \\times 10^{12}$ |\n",
    "| Earth | rocky | Moon | $0.299$ | $ 12 $ | $1 \\times 10^{10}$ |\n",
    "| Moon | rocky | Earth | $0.030$ | $ 27 $ | $2 \\times 10^7$ |\n",
    "| Phobos | rocky | Mars | $(0.0000004)$ | $(100)$ | $3 \\times 10^5$ |\n",
    "| Io | rocky | Jupiter | $(0.03)$ | $(100)$ | $2 \\times 10^3$ |\n",
    "| Europa | rocky | Jupiter | $(0.02)$ | $(100)$ | $4 \\times 10^4$ |\n",
    "| Hyperion | icy | Saturn | $(0.0003)$ | $(100)$ | $1 \\times 10^9$ |\n",
    "| Miranda | icy | Uranus | $(0.0009)$ | $(100)$ | $8 \\times 10^3$ |\n",
    "| Ariel | icy | Uranus | $(0.10)$ | $(100)$ | $1 \\times 10^4$ |\n",
    "| Triton | icy | Neptune | $(0.086)$ | $(100)$ | $4 \\times 10^4$ |\n",
    "| Charon | icy | Pluto | $(0.006)$ | $(100)$ | $6 \\times 10^5$ |\n",
    "| Pluto | icy | Charon | $(0.06)$ | $(100)$ | $1 \\times 10^7$ |"
   ]
  },
  {
   "cell_type": "code",
   "execution_count": 70,
   "id": "2197e84a",
   "metadata": {
    "scrolled": true
   },
   "outputs": [
    {
     "data": {
      "image/png": "[encoded data removed]",
      "text/plain": [
       "<Figure size 864x288 with 2 Axes>"
      ]
     },
     "metadata": {
      "needs_background": "light"
     },
     "output_type": "display_data"
    }
   ],
   "source": [
    "#Calculations of the mean Tidal torque for the Earth-Moon system.\n",
    "\n",
    "#Tests\n",
    "k2 = 0.030\n",
    "Qs = 27\n",
    "Rs = 1.7e6/6.3e6\n",
    "a = 380e6\n",
    "ecc = 0.005\n",
    "f = np.linspace(0, 2*np.pi, 200)\n",
    "t = np.linspace(0, 27.3, 200)\n",
    "r = a*(1 - ecc**2)/(1 + ecc*np.cos(f))\n",
    "n = 2*np.pi/27.3 # Moon's angular velocity\n",
    "#eta_dot = n # Moon's rotation over itself\n",
    "eta_dot = 0\n",
    "e = 1\n",
    "phi_dot = 2*e*n*np.cos(n*t)\n",
    "sign_reversal = eta_dot - phi_dot\n",
    "\n",
    "#Computing the Tidal Torque\n",
    "D = 3/2*k2/Qs*n**4/G*Rs**5\n",
    "Ns = -D*(a/r)**6*np.sign(sign_reversal)\n",
    "delta = 0\n",
    "Mean_Ns = 2*D/np.pi*(4*ecc*np.cos(delta) - delta)\n",
    "\n",
    "\n",
    "fig, ax = plt.subplots(1, 2, figsize=(12,4))\n",
    "fig.suptitle('Tidal Torque sign reversal and Tidal Torque', fontsize=16)\n",
    "ax[0].plot(t, sign_reversal)\n",
    "ax[0].axhline(0.0, color='red', \n",
    "           label='Tidal Torque sign reversal')\n",
    "ax[0].set(xlabel='t [days]', \n",
    "       ylabel='$\\dot{\\eta}-\\dot{\\phi}$ [rad/day]')\n",
    "ax[0].legend()\n",
    "\n",
    "#Plot the Tidal torque function\n",
    "ax[1].plot(t, Ns)\n",
    "ax[1].set(xlabel='t [days]', \n",
    "       ylabel='$N_s$')\n",
    "ax[1].axhline(Mean_Ns, color='red', \n",
    "           label='Mean Tidal Torque')\n",
    "ax[1].legend();"
   ]
  },
  {
   "cell_type": "markdown",
   "id": "c3686ca4",
   "metadata": {},
   "source": [
    "As we can see, the Mean Tidal Torque for the Moon is almost 0, which means that the Moon is at an equilibrium state (because most satellites are at least partially solid and have permanent quadrupole moments, that is, permanent bulges or departures from sphericity.)."
   ]
  },
  {
   "cell_type": "markdown",
   "id": "621c8837",
   "metadata": {},
   "source": [
    "## 5.3 The Permanent Quadrupole Moment"
   ]
  },
  {
   "cell_type": "markdown",
   "id": "ef0350e1",
   "metadata": {},
   "source": [
    "During this section we define the principal moments of inertia:\n",
    "$$\n",
    "\\mathcal{A} = \\Sigma \\delta m (y^{2} + z^{2})\\\\\n",
    "\\mathcal{B} = \\Sigma \\delta m (z^{2} + x^{2})\\\\\n",
    "\\mathcal{C} = \\Sigma \\delta m (x^{2} + y^{2})$$\n",
    "\n",
    "The table 5.2 shows some physical and orbital quantities for Mercury and the Moon:\n",
    "\n",
    "| Quantity | Mercury | Moon |\n",
    "| :--- | :--- | :--- |\n",
    "| $k_2$ | $0.1$ | $0.03$ |\n",
    "| $Q$ | 100 | 27 |\n",
    "| $e$ | $0.206$ | $0.0549$ |\n",
    "| $\\frac{(\\mathcal{B}-\\mathcal{A})}{\\mathcal{C}}$ | $10^{-4}$ | $2.28 \\times 10^{-4}$ |\n",
    "| $H(p, e)$ | $0.65$ | $0.99$ |\n",
    "| $T_{\\text {libration }}$ | $17 \\mathrm{y}$ | $2.88 \\mathrm{y}$ |\n",
    "| $\\gamma_0$ | 2 arcsec | $9.6$ arcsec |\n",
    "| $\\frac{2 \\pi}{\\dot{\\theta}_{\\text {initial }}}$ | $9 \\mathrm{~h}$ | $9 \\mathrm{~h}$ |\n",
    "| $T_{\\text {despin }}$ | $5 \\times 10^9 \\mathrm{y}$ | $3 \\times 10^7 \\mathrm{y}$ |\n",
    "| $\\frac{\\left\\langle N_{\\mathrm{s}}\\right\\rangle \\pi}{U}$ | $10^{-4}$ | $6 \\times 10^{-4}$ |\n",
    "\n",
    "**To do:** Improve the table display\n",
    "\n",
    "And applying this definition we now derive an expression for the external gravitational field of a permanently deformed satellite in terms of its principal moments of inertia, A , B , and C defined with respect to the centre of mass, in absence of tidal torques, we arrive at the equation of motion for $\\theta$ 5.54:\n",
    "\n",
    "$$\n",
    "C\\ddot{\\theta} - \\frac{3}{2}\\left(\\mathcal{B} - \\mathcal{A}\\right) \\frac{Gm_{p}}{r^{3}}\\sin{2\\psi} = 0\\\\\n",
    "C\\ddot{\\theta} - \\frac{3}{2}\\left(2mR_{s}^{2}\\right) \\frac{Gm_{p}}{r^{3}}\\sin{2\\psi} = 0 \\tag{5.54}\\\\\n",
    "$$\n",
    "\n",
    "Let's solve this equation numerically:"
   ]
  },
  {
   "cell_type": "markdown",
   "id": "2c122573",
   "metadata": {},
   "source": [
    "**To do:** Solve and plot the equation"
   ]
  },
  {
   "cell_type": "code",
   "execution_count": null,
   "id": "1cd7a534",
   "metadata": {},
   "outputs": [],
   "source": [
    "#Defining the equation\n",
    "\n",
    "\n",
    "#System to test: Earth-Moon\n",
    "#Parameters to use: masses and radius\n",
    "\n",
    "\n",
    "#Check units"
   ]
  },
  {
   "cell_type": "markdown",
   "id": "4158c42c",
   "metadata": {},
   "source": [
    "**Ideas**\n",
    "* Calculate $\\mathcal{A}, \\mathcal{B}, \\mathcal{C}$ for an arbitrary planet.\n",
    "* Show: Thus, in the absence of a permanent quadrupole moment, the Moon, for example, would rotate about 3% faster than the observed synchronous rate, and over a period of about 2.6 y, we would see both sides of the satellite"
   ]
  },
  {
   "cell_type": "markdown",
   "id": "9f002790",
   "metadata": {},
   "source": [
    "## 5.4 Spin-Orbit Resonance"
   ]
  },
  {
   "cell_type": "markdown",
   "id": "41d67867",
   "metadata": {},
   "source": [
    "However, in those cases of interest here, in which the spin rate $\\dot{\\theta}$ is commensurate with the mean motion $n$ , we can derive an equation of motion hat, although an approximation, is both useful and integrable. Because we are interested in those cases for which $\\dot{\\theta}$ is a rational multiple of the mean motion, we introduce a new variable\n",
    "\n",
    "$$\n",
    "\\gamma = \\theta - pM\n",
    "$$\n",
    "\n",
    "Thus, we can rewrite the equation 5.54 as:\n",
    "\n",
    "$$\n",
    "\\ddot{\\gamma}+\\frac{3}{2} n^2\\left(\\frac{\\mathcal{B}-\\mathcal{A}}{\\mathcal{C}}\\right)\\left(\\frac{a}{r}\\right)^3 \\sin (2 \\gamma+2 p M-2 f)=0 \\tag{5.58}\n",
    "$$\n",
    "\n",
    "Expanding in Fourier-like Poisson series we arrive at the equation:\n",
    "\n",
    "$$\n",
    "\\ddot{\\gamma}+\\frac{3}{2} \\frac{(\\mathcal{B}-\\mathcal{A})}{\\mathcal{C}} n^2\\left(\\left[S_1+S_2\\right] \\sin 2 \\gamma+\\left[S_3-S_4\\right] \\cos 2 \\gamma\\right)=0 \\tag{5.69}\n",
    "$$\n",
    "\n",
    "We are interested to get an Spin-Orbit resonance, so we can approximate $\\dot{\\theta} \\approx pn$ and $\\dot{\\gamma} \\ll n$. Thus, by introducing this approximation, we have reduced the full equation of\n",
    "motion 5.56, to the pendulum equation, which we can write as:\n",
    "\n",
    "$$\n",
    "\\ddot{\\gamma}=-[\\operatorname{sign} H(p, e)] \\frac{1}{2} \\omega_0^2 \\sin 2 \\gamma,\n",
    "$$\n",
    "where\n",
    "$$\n",
    "\\omega_0=n\\left[3\\left(\\frac{\\mathcal{B}-\\mathcal{A}}{\\mathcal{C}}\\right)|H(p, e)|\\right]^{1 / 2}\n",
    "$$\n",
    "is the libration frequency."
   ]
  },
  {
   "cell_type": "markdown",
   "id": "66f48944",
   "metadata": {},
   "source": [
    "**Ideas**\n",
    "* Apply the equations from Section 5.4 to demonstrate the Fig. 5.9. Statement: 'In an inertial frame centred on the Sun, the planet Mercury completes p=3/2 rotations each orbital period.'\n",
    "* Test the equation for diferent values of p"
   ]
  },
  {
   "cell_type": "markdown",
   "id": "9d2658aa",
   "metadata": {},
   "source": [
    "## 5.5 Capture into Resonance"
   ]
  },
  {
   "cell_type": "markdown",
   "id": "583d0ff3",
   "metadata": {},
   "source": [
    "**To do:**\n",
    "* Check the $H(p, e)$ function.\n",
    "* Check the probability of capture\n",
    "\n"
   ]
  },
  {
   "cell_type": "markdown",
   "id": "e5b076a3",
   "metadata": {},
   "source": [
    "## 5.6 Forced Librations"
   ]
  },
  {
   "cell_type": "markdown",
   "id": "8339bf28",
   "metadata": {},
   "source": []
  },
  {
   "cell_type": "markdown",
   "id": "fa8ec5ee",
   "metadata": {},
   "source": [
    "## 5.7 Surface of Section"
   ]
  },
  {
   "cell_type": "markdown",
   "id": "72a0cacd",
   "metadata": {},
   "source": []
  }
 ],
 "metadata": {
  "kernelspec": {
   "display_name": "Python 3 (ipykernel)",
   "language": "python",
   "name": "python3"
  },
  "language_info": {
   "codemirror_mode": {
    "name": "ipython",
    "version": 3
   },
   "file_extension": ".py",
   "mimetype": "text/x-python",
   "name": "python",
   "nbconvert_exporter": "python",
   "pygments_lexer": "ipython3",
   "version": "3.9.12"
  }
 },
 "nbformat": 4,
 "nbformat_minor": 5
}
