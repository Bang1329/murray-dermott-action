{
 "cells": [
  {
   "cell_type": "markdown",
   "id": "22d9753d",
   "metadata": {},
   "source": [
    "# Spin-Orbit Coupling\n",
    "## Action by Leonard A. Gómez-García\n",
    "\n",
    "In this chapter, we start by further examining the effects of a tidal torque on a satellite’s rotation.\n",
    "\n",
    "For details on the theory please refer directly to the book:\n",
    "\n",
    "> Murray, C. D., & Dermott, S. F. (1999). Solar system dynamics. Cambridge university press."
   ]
  },
  {
   "cell_type": "code",
   "execution_count": null,
   "id": "842bfac9",
   "metadata": {},
   "outputs": [],
   "source": [
    "#Packages\n",
    "import numpy as np\n",
    "import matplotlib.pyplot as plt\n",
    "\n",
    "#Routines and constants from packages\n",
    "from scipy.integrate import odeint\n",
    "from scipy.constants import G"
   ]
  },
  {
   "cell_type": "markdown",
   "id": "621c8837",
   "metadata": {},
   "source": [
    "## 5.3 The Permanent Quadrupole Moment"
   ]
  },
  {
   "cell_type": "markdown",
   "id": "ef0350e1",
   "metadata": {},
   "source": [
    "During this section we define the principal moments of inertia:\n",
    "$$\n",
    "\\mathcal{A} = \\Sigma \\delta m (y^{2} + z^{2})\\\\\n",
    "\\mathcal{B} = \\Sigma \\delta m (z^{2} + x^{2})\\\\\n",
    "\\mathcal{C} = \\Sigma \\delta m (x^{2} + y^{2})$$\n",
    "\n",
    "The table 5.2 shows some physical and orbital quantities for Mercury and the Moon:\n",
    "\n",
    "| Quantity | Mercury | Moon |\n",
    "| :--- | :--- | :--- |\n",
    "| $k_2$ | $0.1$ | $0.03$ |\n",
    "| $Q$ | 100 | 27 |\n",
    "| $e$ | $0.206$ | $0.0549$ |\n",
    "| $\\frac{(\\mathcal{B}-\\mathcal{A})}{\\mathcal{C}}$ | $10^{-4}$ | $2.28 \\times 10^{-4}$ |\n",
    "| $H(p, e)$ | $0.65$ | $0.99$ |\n",
    "| $T_{\\text {libration }}$ | $17 \\mathrm{y}$ | $2.88 \\mathrm{y}$ |\n",
    "| $\\gamma_0$ | 2\" | $9.6$\" |\n",
    "| $\\frac{2 \\pi}{\\dot{\\theta}_{\\text {initial }}}$ | $9 \\mathrm{~h}$ | $9 \\mathrm{~h}$ |\n",
    "| $T_{\\text{despin}}$ | $5 \\times 10^9y$ | $3 \\times 10^7y$ |\n",
    "| $\\frac{\\left\\langle N_{\\mathrm{s}}\\right\\rangle \\pi}{U}$ | $10^{-4}$ | $6 \\times 10^{-4}$ |\n",
    "\n",
    "And applying this definition we now derive an expression for the external gravitational field of a permanently deformed satellite in terms of its principal moments of inertia, A , B , and C defined with respect to the centre of mass, in absence of tidal torques, we arrive at the equation of motion for $\\theta$ 5.54:\n",
    "\n",
    "$$\n",
    "C\\ddot{\\theta} - \\frac{3}{2}\\left(2mR_{s}^{2}\\right) \\frac{Gm_{p}}{r^{3}}\\sin{2\\psi} = 0 \\tag{5.54}\\\\\n",
    "\\mathcal{C}\\ddot{\\theta} - \\frac{3}{2}\\left(\\mathcal{B} - \\mathcal{A}\\right) \\frac{Gm_{p}}{r^{3}}\\sin{2\\psi} = 0\\\\\n",
    "\\ddot{\\theta} - \\frac{3}{2}\\frac{\\left(\\mathcal{B} - \\mathcal{A}\\right)}{\\mathcal{C}} \\frac{Gm_{p}}{r^{3}}\\sin{2\\psi} = 0\n",
    "$$\n",
    "\n",
    "Let's solve this equation numerically:"
   ]
  },
  {
   "cell_type": "markdown",
   "id": "2c122573",
   "metadata": {},
   "source": [
    "**To do:** Solve and plot the equation. (Remember import the values and don't write them by hand)"
   ]
  },
  {
   "cell_type": "code",
   "execution_count": null,
   "id": "1cd7a534",
   "metadata": {},
   "outputs": [],
   "source": [
    "#Defining the equation\n",
    "\n",
    "\n",
    "#Check units (maybe IS for G an mp?)"
   ]
  },
  {
   "cell_type": "markdown",
   "id": "4158c42c",
   "metadata": {},
   "source": [
    "**Ideas**\n",
    "* Calculate $\\mathcal{A}, \\mathcal{B}, \\mathcal{C}$ for an arbitrary planet.\n",
    "* Show: Thus, in the absence of a permanent quadrupole moment, the Moon, for example, would rotate about 3% faster than the observed synchronous rate, and over a period of about 2.6 y, we would see both sides of the satellite"
   ]
  }
 ],
 "metadata": {
  "kernelspec": {
   "display_name": "Python 3 (ipykernel)",
   "language": "python",
   "name": "python3"
  },
  "language_info": {
   "codemirror_mode": {
    "name": "ipython",
    "version": 3
   },
   "file_extension": ".py",
   "mimetype": "text/x-python",
   "name": "python",
   "nbconvert_exporter": "python",
   "pygments_lexer": "ipython3",
   "version": "3.9.12"
  }
 },
 "nbformat": 4,
 "nbformat_minor": 5
}
