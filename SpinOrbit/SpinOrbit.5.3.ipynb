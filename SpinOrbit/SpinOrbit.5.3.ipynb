{
 "cells": [
  {
   "cell_type": "markdown",
   "metadata": {},
   "source": [
    "# Spin-Orbit Coupling\n",
    "## Action by Leonard A. Gómez-García\n",
    "\n",
    "In this chapter, we start by further examining the effects of a tidal torque on a satellite’s rotation.\n",
    "\n",
    "For details on the theory please refer directly to the book:\n",
    "\n",
    "> Murray, C. D., & Dermott, S. F. (1999). Solar system dynamics. Cambridge university press."
   ]
  },
  {
   "cell_type": "code",
   "execution_count": 6,
   "metadata": {},
   "outputs": [],
   "source": [
    "#Packages\n",
    "import numpy as np\n",
    "import matplotlib.pyplot as plt\n",
    "\n",
    "#Routines and constants from packages\n",
    "from scipy.integrate import odeint\n",
    "from scipy.constants import G\n",
    "from ipywidgets import interact, fixed\n",
    "from functools import partial"
   ]
  },
  {
   "cell_type": "markdown",
   "metadata": {},
   "source": [
    "## 5.3 The Permanent Quadrupole Moment"
   ]
  },
  {
   "cell_type": "markdown",
   "metadata": {},
   "source": [
    "During this section we define the principal moments of inertia:\n",
    "$$\n",
    "\\mathcal{A} = \\Sigma \\delta m (y^{2} + z^{2})\\\\\n",
    "\\mathcal{B} = \\Sigma \\delta m (z^{2} + x^{2})\\\\\n",
    "\\mathcal{C} = \\Sigma \\delta m (x^{2} + y^{2})$$\n",
    "\n",
    "The table 5.2 shows some physical and orbital quantities for Mercury and the Moon:\n",
    "\n",
    "| Quantity | Mercury | Moon |\n",
    "| :--- | :--- | :--- |\n",
    "| $k_2$ | $0.1$ | $0.03$ |\n",
    "| $Q$ | 100 | 27 |\n",
    "| $e$ | $0.206$ | $0.0549$ |\n",
    "| $\\frac{(\\mathcal{B}-\\mathcal{A})}{\\mathcal{C}}$ | $10^{-4}$ | $2.28 \\times 10^{-4}$ |\n",
    "| $H(p, e)$ | $0.65$ | $0.99$ |\n",
    "| $T_{\\text {libration }}$ | $17 \\mathrm{y}$ | $2.88 \\mathrm{y}$ |\n",
    "| $\\gamma_0$ | 2\" | $9.6$\" |\n",
    "| $\\frac{2 \\pi}{\\dot{\\theta}_{\\text {initial }}}$ | $9 \\mathrm{~h}$ | $9 \\mathrm{~h}$ |\n",
    "| $T_{\\text{despin}}$ | $5 \\times 10^9y$ | $3 \\times 10^7y$ |\n",
    "| $\\frac{\\left\\langle N_{\\mathrm{s}}\\right\\rangle \\pi}{U}$ | $10^{-4}$ | $6 \\times 10^{-4}$ |\n",
    "\n",
    "And applying this definition we now derive an expression for the external gravitational field of a permanently deformed satellite in terms of its principal moments of inertia, A , B , and C defined with respect to the centre of mass, in absence of tidal torques, we arrive at the equation of motion for $\\theta$ 5.54:\n",
    "\n",
    "$$\n",
    "C\\ddot{\\theta} - \\frac{3}{2}\\left(2mR_{s}^{2}\\right) \\frac{Gm_{p}}{r^{3}}\\sin{2\\psi} = 0 \\tag{5.54}\\\\\n",
    "\\mathcal{C}\\ddot{\\theta} - \\frac{3}{2}\\left(\\mathcal{B} - \\mathcal{A}\\right) \\frac{Gm_{p}}{r^{3}}\\sin{2\\psi} = 0\\\\\n",
    "\\ddot{\\theta} - \\frac{3}{2}\\frac{\\left(\\mathcal{B} - \\mathcal{A}\\right)}{\\mathcal{C}} \\frac{Gm_{p}}{r^{3}}\\sin{2\\psi} = 0\n",
    "$$\n",
    "\n",
    "Let's solve this equation numerically:"
   ]
  },
  {
   "cell_type": "markdown",
   "metadata": {},
   "source": [
    "**To do:** Solve and plot the equation. (Remember import the values and don't write them by hand)"
   ]
  },
  {
   "cell_type": "code",
   "execution_count": 102,
   "metadata": {},
   "outputs": [
    {
     "data": {
      "image/png": "[encoded data removed]",
      "text/plain": [
       "<Figure size 432x288 with 1 Axes>"
      ]
     },
     "metadata": {
      "needs_background": "light"
     },
     "output_type": "display_data"
    }
   ],
   "source": [
    "# Define the differential equation\n",
    "def f(y, t, k_func):\n",
    "    k = k_func(t)\n",
    "    return [y[1], -k]\n",
    "\n",
    "# Define the initial conditions\n",
    "y0 = [0, 0]\n",
    "\n",
    "# Define the time range and time step\n",
    "t = np.linspace(0, 27.3, 100)\n",
    "\n",
    "# Define a function that solves the differential equation for a given function of k\n",
    "def solve_ode(k_func):\n",
    "    sol = odeint(f, y0, t, args=(k_func,))\n",
    "    return sol[:, 0]\n",
    "\n",
    "# Define a function that plots the solution for a given function of k\n",
    "def plot_solution(k_func):\n",
    "    sol = solve_ode(k_func)\n",
    "    fig, ax = plt.subplots()\n",
    "    ax.plot(t, sol, 'b', lw=2)\n",
    "    #ax.set_xlim(0, 10)\n",
    "    #ax.set_ylim(-1.5, 1.5)\n",
    "    ax.set_xlabel('t')\n",
    "    ax.set_ylabel('$\\Theta$(t)')\n",
    "    plt.show()\n",
    "\n",
    "# Create a function that defines k as a function of time\n",
    "def k(t):\n",
    "    return -3/2*2.28e-4*(G*5.972e24/380e8)*np.sin(2*t)\n",
    "\n",
    "plot_solution(k)"
   ]
  },
  {
   "cell_type": "markdown",
   "metadata": {},
   "source": [
    "Due the fact that $\\psi$ depends of $\\theta$ and $f$, those which vary with time, we decided to plot the equation with as a fixed parameter to understand how it works."
   ]
  },
  {
   "cell_type": "markdown",
   "metadata": {},
   "source": [
    "**Ideas**\n",
    "* Calculate $\\mathcal{A}, \\mathcal{B}, \\mathcal{C}$ for an arbitrary planet.\n",
    "* Show: Thus, in the absence of a permanent quadrupole moment, the Moon, for example, would rotate about 3% faster than the observed synchronous rate, and over a period of about 2.6 y, we would see both sides of the satellite"
   ]
  }
 ],
 "metadata": {
  "kernelspec": {
   "display_name": "Python 3",
   "language": "python",
   "name": "python3"
  },
  "language_info": {
   "codemirror_mode": {
    "name": "ipython",
    "version": 3
   },
   "file_extension": ".py",
   "mimetype": "text/x-python",
   "name": "python",
   "nbconvert_exporter": "python",
   "pygments_lexer": "ipython3",
   "version": "3.8.5"
  }
 },
 "nbformat": 4,
 "nbformat_minor": 5
}
