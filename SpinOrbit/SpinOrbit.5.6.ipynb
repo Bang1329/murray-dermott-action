{
 "cells": [
  {
   "cell_type": "markdown",
   "metadata": {},
   "source": [
    "# Spin-Orbit Coupling\n",
    "## Action by Leonard A. Gómez-García\n",
    "\n",
    "In this chapter, we start by further examining the effects of a tidal torque on a satellite’s rotation.\n",
    "\n",
    "For details on the theory please refer directly to the book:\n",
    "\n",
    "> Murray, C. D., & Dermott, S. F. (1999). Solar system dynamics. Cambridge university press."
   ]
  },
  {
   "cell_type": "code",
   "execution_count": null,
   "metadata": {},
   "outputs": [],
   "source": [
    "#Packages\n",
    "import numpy as np\n",
    "import matplotlib.pyplot as plt\n",
    "\n",
    "#Routines and constants from packages\n",
    "from scipy.integrate import odeint\n",
    "from scipy.constants import G"
   ]
  },
  {
   "cell_type": "markdown",
   "metadata": {},
   "source": [
    "## 5.6 Forced Librations"
   ]
  },
  {
   "cell_type": "markdown",
   "metadata": {},
   "source": [
    "For a satellite trapped in a spin–orbit resonance, for example, the synchronous,1:1 resonance, analysis of the averaged equation of motion with the drag term included shows that any libration about the equilibrium configuration is damped to zero and the satellite then rotates uniformly with its long axis pointing exactlytowards the planet on passage through pericentre. However, the full equation of motion contains short-period terms; consequently the rotational motion of the satellite has short-period librations about the equilibrium configuration. "
   ]
  },
  {
   "cell_type": "markdown",
   "metadata": {},
   "source": [
    "Consider the rotation of a satellite in a reference frame centred on the satellite and rotating with the satellite’s mean motion (see Fig. 5.16). The gravitational torque on the satellite due to the planet is determined by the angle $\\psi$, which in this case is given by\n",
    "\n",
    "![sect_5.6](src/gallery/sect_5.6.png)"
   ]
  },
  {
   "cell_type": "markdown",
   "metadata": {},
   "source": [
    "From the full equation of motion given in section 5.4 we can obtain an equation for the amplitude of the forced librations, given by: \n",
    "\n",
    "$$\\gamma = -\\frac{2\\omega_0^{2}e}{n^{2}-\\omega^{2}}\\sin nt$$\n",
    "\n",
    "Note that the variation in $r$ does not contribute to this equation. If the forcing frequency $n$ is less than the natural frequency $\\omega_0$, then the librations are in phase with the force. However, if $n > \\omega_0$, then the librations and the force are $180°$. out of phase."
   ]
  },
  {
   "cell_type": "markdown",
   "metadata": {},
   "source": [
    "**TO DO:**\n",
    "* Check: 'For the Moon, the libration period is 2.86 y while the amplitude of forced libration is- 15 arcsec and is too small to detect.'"
   ]
  }
 ],
 "metadata": {
  "kernelspec": {
   "display_name": "Python 3",
   "language": "python",
   "name": "python3"
  },
  "language_info": {
   "codemirror_mode": {
    "name": "ipython",
    "version": 3
   },
   "file_extension": ".py",
   "mimetype": "text/x-python",
   "name": "python",
   "nbconvert_exporter": "python",
   "pygments_lexer": "ipython3",
   "version": "3.8.5"
  }
 },
 "nbformat": 4,
 "nbformat_minor": 5
}
