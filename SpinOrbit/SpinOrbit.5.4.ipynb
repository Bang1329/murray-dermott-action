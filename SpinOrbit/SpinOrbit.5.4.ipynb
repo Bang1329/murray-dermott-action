{
 "cells": [
  {
   "cell_type": "markdown",
   "metadata": {},
   "source": [
    "<style>\n",
    "    /* Style for the h1 tag */\n",
    "    h1 {\n",
    "        font-size: 36px;\n",
    "        font-weight: bold;\n",
    "        text-align: center;\n",
    "    }\n",
    "\n",
    "    /* Style for the h2 tag */\n",
    "    h2 {\n",
    "        font-size: 24px;\n",
    "        font-style: italic;\n",
    "        text-align: center;\n",
    "        margin-top: 10px;\n",
    "        margin-bottom: 20px;\n",
    "    }\n",
    "\n",
    "    /* Style for the p tag */\n",
    "    p {\n",
    "        font-size: 18px;\n",
    "        line-height: 1.5;\n",
    "        text-align: justify;\n",
    "        margin: 0 auto;\n",
    "        max-width: 800px;\n",
    "    }\n",
    "\n",
    "    /* Style for the blockquote tag */\n",
    "    blockquote {\n",
    "        font-size: 16px;\n",
    "        font-style: italic;\n",
    "        text-align: center;\n",
    "        margin-top: 20px;\n",
    "    }\n",
    "</style>\n",
    "\n",
    "<h1>Spin-Orbit Coupling</h1>\n",
    "<h2>Action by Leonard A. Gómez-García</h2>\n",
    "<p>In this chapter, we start by further examining the effects of a tidal torque on a satellite’s rotation. For details on the theory please refer directly to the book</p>\n",
    "<blockquote>Murray, C. D., &amp; Dermott, S. F. (1999). Solar system dynamics. Cambridge university press.</blockquote>\n"
   ]
  },
  {
   "cell_type": "code",
   "execution_count": 2,
   "metadata": {},
   "outputs": [],
   "source": [
    "#Packages\n",
    "import numpy as np\n",
    "import matplotlib.pyplot as plt\n",
    "import plotly.graph_objects as go\n",
    "\n",
    "#Constants from packages\n",
    "from scipy.constants import G\n",
    "from plotly.subplots import make_subplots\n",
    "from matplotlib import animation, rc\n",
    "from scipy.spatial.transform import Rotation as R\n",
    "from celluloid import Camera\n",
    "from IPython.display import HTML;"
   ]
  },
  {
   "cell_type": "markdown",
   "metadata": {},
   "source": [
    "## 5.4 Spin-Orbit Resonance"
   ]
  },
  {
   "cell_type": "markdown",
   "metadata": {},
   "source": [
    "However, in those cases of interest here, in which the spin rate $\\dot{\\theta}$ is commensurate with the mean motion $n$ , we can derive an equation of motion hat, although an approximation, is both useful and integrable. Because we are interested in those cases for which $\\dot{\\theta}$ is a rational multiple of the mean motion, we introduce a new variable\n",
    "\n",
    "$$\n",
    "\\gamma = \\theta - pM\n",
    "$$\n",
    "\n",
    "Thus, we can rewrite the equation 5.54 as:\n",
    "\n",
    "$$\n",
    "\\ddot{\\gamma}+\\frac{3}{2} n^2\\left(\\frac{\\mathcal{B}-\\mathcal{A}}{\\mathcal{C}}\\right)\\left(\\frac{a}{r}\\right)^3 \\sin (2 \\gamma+2 p M-2 f)=0 \\tag{5.58}\n",
    "$$\n",
    "\n",
    "Expanding in Fourier-like Poisson series we arrive at the equation:\n",
    "\n",
    "$$\n",
    "\\ddot{\\gamma}+\\frac{3}{2} \\frac{(\\mathcal{B}-\\mathcal{A})}{\\mathcal{C}} n^2\\left(\\left[S_1+S_2\\right] \\sin 2 \\gamma+\\left[S_3-S_4\\right] \\cos 2 \\gamma\\right)=0 \\tag{5.69}\n",
    "$$\n",
    "\n",
    "We are interested to get an Spin-Orbit resonance, so we can approximate $\\dot{\\theta} \\approx pn$ and $\\dot{\\gamma} \\ll n$. Thus, by introducing this approximation, we have reduced the full equation of\n",
    "motion 5.56, to the pendulum equation, which we can write as:\n",
    "\n",
    "$$\n",
    "\\ddot{\\gamma}=-[\\operatorname{sign} H(p, e)] \\frac{1}{2} \\omega_0^2 \\sin 2 \\gamma,\n",
    "$$\n",
    "where\n",
    "$$\n",
    "\\omega_0=n\\left[3\\left(\\frac{\\mathcal{B}-\\mathcal{A}}{\\mathcal{C}}\\right)|H(p, e)|\\right]^{1 / 2}\n",
    "$$\n",
    "is the libration frequency."
   ]
  },
  {
   "cell_type": "markdown",
   "metadata": {},
   "source": [
    "<p>Using the code in the section 5.2 we're going to visualize the orbits with different values of p. So we have, for example:</p>\n",
    "\n",
    "<center>\n",
    "    <img src=\"src/gallery/1-1_res.gif\" style=\"display:inline-block; width:33%;\" />\n",
    "    <img src=\"src/gallery/3-2_res.gif\" style=\"display:inline-block; width:33%;\" />\n",
    "    <img src=\"src/gallery/5-2_res.gif\" style=\"display:inline-block; width:33%;\" />\n",
    "</center>"
   ]
  }
 ],
 "metadata": {
  "kernelspec": {
   "display_name": "Python 3",
   "language": "python",
   "name": "python3"
  },
  "language_info": {
   "codemirror_mode": {
    "name": "ipython",
    "version": 3
   },
   "file_extension": ".py",
   "mimetype": "text/x-python",
   "name": "python",
   "nbconvert_exporter": "python",
   "pygments_lexer": "ipython3",
   "version": "3.8.5"
  }
 },
 "nbformat": 4,
 "nbformat_minor": 5
}
