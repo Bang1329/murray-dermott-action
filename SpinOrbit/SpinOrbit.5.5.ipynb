{
 "cells": [
  {
   "cell_type": "markdown",
   "id": "22d9753d",
   "metadata": {},
   "source": [
    "# Spin-Orbit Coupling\n",
    "## Action by Leonard A. Gómez-García\n",
    "\n",
    "In this chapter, we start by further examining the effects of a tidal torque on a satellite’s rotation.\n",
    "\n",
    "For details on the theory please refer directly to the book:\n",
    "\n",
    "> Murray, C. D., & Dermott, S. F. (1999). Solar system dynamics. Cambridge university press."
   ]
  },
  {
   "cell_type": "code",
   "execution_count": null,
   "id": "842bfac9",
   "metadata": {},
   "outputs": [],
   "source": [
    "#Packages\n",
    "import numpy as np\n",
    "import matplotlib.pyplot as plt\n",
    "\n",
    "#Routines and constants from packages\n",
    "from scipy.integrate import odeint\n",
    "from scipy.constants import G"
   ]
  },
  {
   "cell_type": "markdown",
   "id": "9d2658aa",
   "metadata": {},
   "source": [
    "## 5.5 Capture into Resonance"
   ]
  },
  {
   "cell_type": "markdown",
   "id": "583d0ff3",
   "metadata": {},
   "source": [
    "**To do:**\n",
    "* Check the $H(p, e)$ function.\n",
    "* Check the probability of capture\n",
    "\n"
   ]
  }
 ],
 "metadata": {
  "kernelspec": {
   "display_name": "Python 3 (ipykernel)",
   "language": "python",
   "name": "python3"
  },
  "language_info": {
   "codemirror_mode": {
    "name": "ipython",
    "version": 3
   },
   "file_extension": ".py",
   "mimetype": "text/x-python",
   "name": "python",
   "nbconvert_exporter": "python",
   "pygments_lexer": "ipython3",
   "version": "3.9.12"
  }
 },
 "nbformat": 4,
 "nbformat_minor": 5
}
