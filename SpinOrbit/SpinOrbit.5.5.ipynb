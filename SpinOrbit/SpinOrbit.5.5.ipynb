{
 "cells": [
  {
   "cell_type": "markdown",
   "metadata": {},
   "source": [
    "# Spin-Orbit Coupling\n",
    "## Action by Leonard A. Gómez-García\n",
    "\n",
    "In this chapter, we start by further examining the effects of a tidal torque on a satellite’s rotation.\n",
    "\n",
    "For details on the theory please refer directly to the book:\n",
    "\n",
    "> Murray, C. D., & Dermott, S. F. (1999). Solar system dynamics. Cambridge university press."
   ]
  },
  {
   "cell_type": "code",
   "execution_count": null,
   "metadata": {},
   "outputs": [],
   "source": [
    "#Packages\n",
    "import numpy as np\n",
    "import matplotlib.pyplot as plt\n",
    "\n",
    "#Routines and constants from packages\n",
    "from scipy.integrate import odeint\n",
    "from scipy.constants import G"
   ]
  },
  {
   "cell_type": "markdown",
   "metadata": {},
   "source": [
    "## 5.5 Capture into Resonance"
   ]
  },
  {
   "cell_type": "markdown",
   "metadata": {},
   "source": [
    "The probability of capture into the *p*th resonance, as shown in the section, is given by:\n",
    "\n",
    "$$P_p = \\frac{4(\\omega_0/n)}{\\pi V + 2(\\omega_0/n)}$$\n",
    "\n",
    "Where\n",
    "\n",
    "$$V = \\frac{\\Sigma_h(p - h)[H(p,e)]^2}{\\Sigma_h[H(p,e)]^2}$$\n",
    "\n",
    "For example, the capture probabilites into the *p*th Mercury resonance with $e=0.2$ were computed in the next table (See *Goldreich & Peale (1968)*:\n",
    "\n",
    "\n",
    "| $P_p$ | $P_p\\\\(1/Q\\sim\\text{Constant})$ | $P_p\\\\(1/Q\\sim\\text{Frequency})$ |\n",
    "|:--:|:--:|:--:|\n",
    "| +5/2 | 0.03 | 0.007 |\n",
    "| +2 | 0.15 | 0.016 |\n",
    "| +3/2 | 0.73 | 0.067 |\n",
    "| +1 | 1 | 0 |"
   ]
  },
  {
   "cell_type": "markdown",
   "metadata": {},
   "source": [
    "**To do:**\n",
    "* Check the $H(p, e)$ function.\n",
    "* Check the probability of capture\n",
    "\n"
   ]
  }
 ],
 "metadata": {
  "kernelspec": {
   "display_name": "Python 3",
   "language": "python",
   "name": "python3"
  },
  "language_info": {
   "codemirror_mode": {
    "name": "ipython",
    "version": 3
   },
   "file_extension": ".py",
   "mimetype": "text/x-python",
   "name": "python",
   "nbconvert_exporter": "python",
   "pygments_lexer": "ipython3",
   "version": "3.8.5"
  }
 },
 "nbformat": 4,
 "nbformat_minor": 5
}
